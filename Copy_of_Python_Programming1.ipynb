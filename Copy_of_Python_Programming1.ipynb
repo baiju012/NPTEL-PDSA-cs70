{
  "cells": [
    {
      "cell_type": "markdown",
      "metadata": {
        "id": "view-in-github",
        "colab_type": "text"
      },
      "source": [
        "<a href=\"https://colab.research.google.com/github/baiju012/NPTEL-PDSA-cs70/blob/main/Copy_of_Python_Programming1.ipynb\" target=\"_parent\"><img src=\"https://colab.research.google.com/assets/colab-badge.svg\" alt=\"Open In Colab\"/></a>"
      ]
    },
    {
      "cell_type": "markdown",
      "id": "_irE4CQ7wXh0",
      "metadata": {
        "id": "_irE4CQ7wXh0"
      },
      "source": [
        "\n",
        "\n",
        "\n",
        "\n",
        "\n",
        "\n",
        "\n",
        "\n",
        "# Python Programming"
      ]
    },
    {
      "cell_type": "markdown",
      "id": "k6mPlWdgwXh3",
      "metadata": {
        "id": "k6mPlWdgwXh3"
      },
      "source": [
        "**Day1 **"
      ]
    },
    {
      "cell_type": "markdown",
      "id": "qxpoRLSZwXh3",
      "metadata": {
        "id": "qxpoRLSZwXh3"
      },
      "source": [
        "*Prerequiste: Installation of Anaconda* <br>\n",
        "How to print anything using python on Jupyter Notebook?<br>\n",
        "Tip-Anything can be printed using print() function.\n",
        "use shift+ Enter to run a cell<br>\n",
        "Get familer with Jupyter notebook <br>\n",
        "using https://www.dataquest.io/blog/jupyter-notebook-tips-tricks-shortcuts/ or\n",
        "https://towardsdatascience.com/jypyter-notebook-shortcuts-bf0101a98330"
      ]
    },
    {
      "cell_type": "code",
      "execution_count": null,
      "id": "T8kGj3QQwXh4",
      "metadata": {
        "colab": {
          "base_uri": "https://localhost:8080/"
        },
        "id": "T8kGj3QQwXh4",
        "outputId": "32439192-9385-4844-c592-ffbd9c48ed2b"
      },
      "outputs": [
        {
          "name": "stdout",
          "output_type": "stream",
          "text": [
            "Welcome to the word of Python Programming\n"
          ]
        }
      ],
      "source": [
        "print('Welcome to the world of Python Programming')"
      ]
    },
    {
      "cell_type": "code",
      "execution_count": null,
      "id": "-amSIzdS19K8",
      "metadata": {
        "colab": {
          "base_uri": "https://localhost:8080/"
        },
        "id": "-amSIzdS19K8",
        "outputId": "2b601e1d-4cea-4311-efdb-92f266d7c064"
      },
      "outputs": [
        {
          "name": "stdout",
          "output_type": "stream",
          "text": [
            "RAm\n"
          ]
        }
      ],
      "source": [
        "print(\"RAm\")"
      ]
    },
    {
      "cell_type": "code",
      "execution_count": null,
      "id": "6GdhoyObwXh5",
      "metadata": {
        "colab": {
          "base_uri": "https://localhost:8080/"
        },
        "id": "6GdhoyObwXh5",
        "outputId": "c5c4780b-7293-492e-94f8-fe15aa2a3d66"
      },
      "outputs": [
        {
          "name": "stdout",
          "output_type": "stream",
          "text": [
            "1\n"
          ]
        }
      ],
      "source": [
        "print(1)"
      ]
    },
    {
      "cell_type": "code",
      "execution_count": null,
      "id": "IzBNglanwXh5",
      "metadata": {
        "colab": {
          "base_uri": "https://localhost:8080/",
          "height": 141
        },
        "id": "IzBNglanwXh5",
        "outputId": "3a9d788e-1a71-4c97-e8be-b58bd851c93a"
      },
      "outputs": [
        {
          "ename": "NameError",
          "evalue": "name 'name' is not defined",
          "output_type": "error",
          "traceback": [
            "\u001b[0;31m---------------------------------------------------------------------------\u001b[0m",
            "\u001b[0;31mNameError\u001b[0m                                 Traceback (most recent call last)",
            "\u001b[0;32m<ipython-input-3-9ba126b17b03>\u001b[0m in \u001b[0;36m<cell line: 1>\u001b[0;34m()\u001b[0m\n\u001b[0;32m----> 1\u001b[0;31m \u001b[0mprint\u001b[0m\u001b[0;34m(\u001b[0m\u001b[0mname\u001b[0m\u001b[0;34m)\u001b[0m\u001b[0;34m\u001b[0m\u001b[0;34m\u001b[0m\u001b[0m\n\u001b[0m",
            "\u001b[0;31mNameError\u001b[0m: name 'name' is not defined"
          ]
        }
      ],
      "source": [
        "print(name)"
      ]
    },
    {
      "cell_type": "code",
      "execution_count": null,
      "id": "_5OstTz8wXh6",
      "metadata": {
        "colab": {
          "base_uri": "https://localhost:8080/"
        },
        "id": "_5OstTz8wXh6",
        "outputId": "30e3e678-3a90-4a1a-ace7-2ce0fc48fcdd"
      },
      "outputs": [
        {
          "name": "stdout",
          "output_type": "stream",
          "text": [
            "3\n"
          ]
        }
      ],
      "source": [
        "print(1+2)"
      ]
    },
    {
      "cell_type": "code",
      "execution_count": null,
      "id": "v94nnxNtwXh6",
      "metadata": {
        "id": "v94nnxNtwXh6",
        "outputId": "c3b26218-f2c5-41e7-a09e-cd0dffbe994e"
      },
      "outputs": [
        {
          "name": "stdout",
          "output_type": "stream",
          "text": [
            "Hi! I am a Begineer.\n"
          ]
        }
      ],
      "source": [
        "print(\"Hi! I am a Begineer.\")"
      ]
    },
    {
      "cell_type": "code",
      "execution_count": null,
      "id": "VB3Mw8hpwXh6",
      "metadata": {
        "colab": {
          "base_uri": "https://localhost:8080/"
        },
        "id": "VB3Mw8hpwXh6",
        "outputId": "ec61bc1c-c68a-4223-b3c3-4fbcd1b98427"
      },
      "outputs": [
        {
          "name": "stdout",
          "output_type": "stream",
          "text": [
            "1\n"
          ]
        }
      ],
      "source": [
        "a=1\n",
        "print(a)"
      ]
    },
    {
      "cell_type": "code",
      "execution_count": null,
      "id": "veah-XoewXh7",
      "metadata": {
        "colab": {
          "base_uri": "https://localhost:8080/"
        },
        "id": "veah-XoewXh7",
        "outputId": "3c8a599e-a56b-40bd-f4cc-771d5766f830"
      },
      "outputs": [
        {
          "data": {
            "text/plain": [
              "int"
            ]
          },
          "execution_count": 10,
          "metadata": {},
          "output_type": "execute_result"
        }
      ],
      "source": [
        "type(a)"
      ]
    },
    {
      "cell_type": "code",
      "execution_count": null,
      "id": "RxmtPAwawXh7",
      "metadata": {
        "colab": {
          "base_uri": "https://localhost:8080/"
        },
        "id": "RxmtPAwawXh7",
        "outputId": "a5a6770c-e47e-4643-9cb3-61b13de2b504"
      },
      "outputs": [
        {
          "name": "stdout",
          "output_type": "stream",
          "text": [
            "1.1\n"
          ]
        }
      ],
      "source": [
        "a = 1.1\n",
        "print(a)"
      ]
    },
    {
      "cell_type": "code",
      "execution_count": null,
      "id": "MKT2WnhxwXh7",
      "metadata": {
        "colab": {
          "base_uri": "https://localhost:8080/"
        },
        "id": "MKT2WnhxwXh7",
        "outputId": "ed7d295a-68f7-43f3-962c-64b1614caa82"
      },
      "outputs": [
        {
          "data": {
            "text/plain": [
              "float"
            ]
          },
          "execution_count": 12,
          "metadata": {},
          "output_type": "execute_result"
        }
      ],
      "source": [
        "type(a)"
      ]
    },
    {
      "cell_type": "code",
      "execution_count": null,
      "id": "l7tcVDWPwXh7",
      "metadata": {
        "id": "l7tcVDWPwXh7",
        "outputId": "f3307166-2c6d-400a-abb7-5b4f0e178e19"
      },
      "outputs": [
        {
          "name": "stdout",
          "output_type": "stream",
          "text": [
            "Python Programming\n"
          ]
        }
      ],
      "source": [
        "a = \"Python Programming\"\n",
        "print(a)"
      ]
    },
    {
      "cell_type": "code",
      "execution_count": null,
      "id": "8TGnYBXawXh7",
      "metadata": {
        "id": "8TGnYBXawXh7",
        "outputId": "ecba0604-f692-49fd-9fe0-14c98e8592b3"
      },
      "outputs": [
        {
          "data": {
            "text/plain": [
              "str"
            ]
          },
          "execution_count": 13,
          "metadata": {},
          "output_type": "execute_result"
        }
      ],
      "source": [
        "type(a)"
      ]
    },
    {
      "cell_type": "code",
      "execution_count": null,
      "id": "CBdxrQjZwXh8",
      "metadata": {
        "id": "CBdxrQjZwXh8",
        "outputId": "102005f7-d207-46e2-e476-b0e8ec9b5b0a"
      },
      "outputs": [
        {
          "name": "stdout",
          "output_type": "stream",
          "text": [
            "sum of two numbers is 5\n"
          ]
        }
      ],
      "source": [
        "a = 2\n",
        "b = 3\n",
        "print(\"sum of two numbers is\",a+b)"
      ]
    },
    {
      "cell_type": "code",
      "execution_count": null,
      "id": "CrXILoOiN_Ye",
      "metadata": {
        "colab": {
          "base_uri": "https://localhost:8080/"
        },
        "id": "CrXILoOiN_Ye",
        "outputId": "c2f27db9-aa5f-455f-afc4-34beceed2788"
      },
      "outputs": [
        {
          "name": "stdout",
          "output_type": "stream",
          "text": [
            "5\n"
          ]
        }
      ],
      "source": [
        "print(2+3)"
      ]
    },
    {
      "cell_type": "markdown",
      "id": "vdvUeBPIL1dP",
      "metadata": {
        "id": "vdvUeBPIL1dP"
      },
      "source": [
        "24-6-24"
      ]
    },
    {
      "cell_type": "markdown",
      "id": "UbHOLqjpwXh8",
      "metadata": {
        "id": "UbHOLqjpwXh8"
      },
      "source": [
        "*Day 2 *"
      ]
    },
    {
      "cell_type": "markdown",
      "id": "3kL6gMRzwXh8",
      "metadata": {
        "id": "3kL6gMRzwXh8"
      },
      "source": [
        "**Keywords** <br>\n",
        "Keywords are reserved words in python having a predefined meaning. We cannot use these words for any other purpose like variable names, function names or any other identifier, and are also case sensitive."
      ]
    },
    {
      "cell_type": "code",
      "execution_count": null,
      "id": "2vvznsZFwXh8",
      "metadata": {
        "colab": {
          "base_uri": "https://localhost:8080/"
        },
        "id": "2vvznsZFwXh8",
        "outputId": "f92484df-f4b6-4594-ea1c-f6c693d89ec4"
      },
      "outputs": [
        {
          "name": "stdout",
          "output_type": "stream",
          "text": [
            "['False', 'None', 'True', 'and', 'as', 'assert', 'async', 'await', 'break', 'class', 'continue', 'def', 'del', 'elif', 'else', 'except', 'finally', 'for', 'from', 'global', 'if', 'import', 'in', 'is', 'lambda', 'nonlocal', 'not', 'or', 'pass', 'raise', 'return', 'try', 'while', 'with', 'yield']\n",
            "Total number of keywords in Python: 35\n"
          ]
        },
        {
          "data": {
            "text/plain": [
              "list"
            ]
          },
          "execution_count": 13,
          "metadata": {},
          "output_type": "execute_result"
        }
      ],
      "source": [
        "import keyword\n",
        "print(keyword.kwlist)\n",
        "print(\"Total number of keywords in Python:\", len(keyword.kwlist))\n",
        "type(keyword.kwlist)"
      ]
    },
    {
      "cell_type": "code",
      "execution_count": null,
      "id": "pmCMx8dBwXh8",
      "metadata": {
        "id": "pmCMx8dBwXh8",
        "outputId": "4ae3ee84-75d9-4683-be25-ea12c9604b05"
      },
      "outputs": [
        {
          "name": "stdout",
          "output_type": "stream",
          "text": [
            "3.8.5 (default, Sep  3 2020, 21:29:08) [MSC v.1916 64 bit (AMD64)]\n"
          ]
        }
      ],
      "source": [
        "import sys\n",
        "print(sys.version)"
      ]
    },
    {
      "cell_type": "markdown",
      "id": "sSg_SF4_wXh8",
      "metadata": {
        "id": "sSg_SF4_wXh8"
      },
      "source": [
        "**History**<br>\n",
        "Developed by *Guido Van Rossum.*<br>\n",
        "Name was influenced from the comedy series \"Monty Python's Flying Circus\".<br>\n",
        "In December 1989 the implmentation for the python language started and first source code was released in 1991.<br>\n",
        "Latest version 3.10<br>\n",
        "**Features**<br>\n",
        "1) Easy to Learn<br>\n",
        "2) Easy to Code<br>\n",
        "3) Easy to Read<br>\n",
        "4) Object Oriented<br>\n",
        "5) High Level Language<br>\n",
        "6) Supports Multiple Paradigm<br>\n",
        "7) Free and Open Source <br>\n",
        "8) Interpreted <br>\n",
        "9) Dynamically Typed<br>\n",
        "10) Portable or Cross Platform<br>\n",
        "11) Extensible<br>\n",
        "12) Integrated <br>\n",
        "13) Interactive<br>\n",
        "14) GUI Support<br>\n",
        "15) Dynamic Memory Allocation<br>\n",
        "16) Automatic Garbage Collection<br>\n",
        "17) Large Library support<br>\n",
        "\n",
        "**Versions**<br>\n",
        "Python Version\tReleased Date<br>\n",
        "Python 1.0\tJanuary 1994<br>\n",
        "Python 1.5\tDecember 31, 1997<br>\n",
        "Python 1.6\tSeptember 5, 2000<br>\n",
        "Python 2.0\tOctober 16, 2000<br>\n",
        "Python 2.1\tApril 17, 2001<br>\n",
        "Python 2.2\tDecember 21, 2001<br>\n",
        "Python 2.3\tJuly 29, 2003<br>\n",
        "Python 2.4\tNovember 30, 2004<br>\n",
        "Python 2.5\tSeptember 19, 2006<br>\n",
        "Python 2.6\tOctober 1, 2008<br>\n",
        "Python 2.7\tJuly 3, 2010<br>\n",
        "Python 3.0\tDecember 3, 2008<br>\n",
        "Python 3.1\tJune 27, 2009<br>\n",
        "Python 3.2\tFebruary 20, 2011<br>\n",
        "Python 3.3\tSeptember 29, 2012<br>\n",
        "Python 3.4\tMarch 16, 2014<br>\n",
        "Python 3.5\tSeptember 13, 2015<br>\n",
        "Python 3.6\tDecember 23, 2016<br>\n",
        "Python 3.7\tJune 27, 2018<br>\n",
        "Python 3.8\tOctober 14, 2019<br>\n",
        "Python 3.9\tOctober 05, 2020<br>\n",
        "Python 3.10\tOctober 04, 2021<br>"
      ]
    },
    {
      "cell_type": "markdown",
      "id": "92qxABTRwXh8",
      "metadata": {
        "id": "92qxABTRwXh8"
      },
      "source": [
        "Python Programs can be run using two modes<br>\n",
        "1) Interactive Mode\n",
        "Python provides us the feature to execute the Python statement one by one at the interactive prompt. It is preferable in the case where we are concerned about the output of each line of our Python program. Use python Prompt<br>\n",
        "2) Script Mode\n",
        "The interpreter prompt is best to run the single-line statements of the code. However, we cannot write the code every-time on the terminal. It is not suitable to write multiple lines of code.\n",
        "\n",
        "Using the script mode, we can write multiple lines code into a file which can be executed later. For this purpose, we need to open an editor like notepad, create a file named and save it with .py extension, which stands for \"Python\".\n",
        "Open an Editor and write your python code. Save the file using .py extension. Open the Command Prompt and navigate to the directory holding the .py file. Now type python followed by filename.py<br>"
      ]
    },
    {
      "cell_type": "markdown",
      "id": "CD5Mo7B_wXh9",
      "metadata": {
        "id": "CD5Mo7B_wXh9"
      },
      "source": [
        "**Day 3 **"
      ]
    },
    {
      "cell_type": "markdown",
      "id": "yyHkw9RKwXh9",
      "metadata": {
        "id": "yyHkw9RKwXh9"
      },
      "source": [
        "**Identifiers**<br>\n",
        "\n",
        "An identifier is a user-defined name to represent a variable, a function, a class, a module, or any other object.\n",
        "\n",
        "**Rules for Naming Identifiers**<br>\n",
        "a. A Python identifier can be a combination of lowercase/ uppercase letters, digits, or an underscore.<br>\n",
        "b. An identifier cannot begin with a digit.<br>\n",
        "c. We cannot use special symbols in the identifier name.<br>\n",
        "d. We cannot use a keyword as an identifier.<br>\n",
        "e. Python identifier can’t contain only digits.<br>\n",
        "f. Python identifier name can start with an underscore.<br>\n",
        "g. There is no limit on the length of the identifier name.<br>\n",
        "h. Python identifier names are case-sensitive.<br>\n",
        "\n",
        "Best Practice:\n",
        "1. Class names should start with capital letters. For example Person, Employee, etc.<br>\n",
        "2. If the class name has multiple words, use Uppercase for the first character of each word. For example EmployeeData, StringUtils, etc.<br>\n",
        "3. You should use small letters for variables, functions, and module names. For example, collections, foo(), etc.<br>\n",
        "4. If variables, functions, and module names have multiple words then separate them with an underscore. For example, is_empty(), employee_object, etc.<br>\n",
        "5. For private variables, you can start their names with an underscore.<br>\n",
        "6. Avoid underscore as the first and last character in the identifier name. It’s used by python built-in types.<br>\n",
        "7. If the identifier starts and ends with two underscores, then it means that the identifier is a language-defined special name, such as __init__. So you should avoid having two underscores at the start and the end of the identifier name.<br>\n",
        "8. Keep identifier names meaningful to clarify their intent. For example, phone_number, is_uppercase, etc.<br>\n",
        "9. camel case for naming. Let’s just clear the air here by saying camel case is myVarOne<br>\n",
        "\n",
        "To check whether you have not used a keyword as an identifier. Either remeber the list of keywords provided in Keyword module or import keyword module and use is iskeyword() function.<br>\n",
        "Example : <br>\n",
        "\n",
        "import keyword<br>\n",
        "keyword.iskeyword('_$$_') it will return True or False. True for the string is present in Keyword list.<br>\n",
        "\n",
        "To check any string is a valid identifier. use isindentifier() function of the str.<br>\n",
        "\n",
        "'9lives'.isidentifier() it will return True or False<br>\n",
        "\n",
        "Note : Use of underscore is somewhat different. Go through References for better understanding<br>\n",
        "Reference:https://data-flair.training/blogs/identifiers-in-python/ <br>\n",
        "https://www.askpython.com/python/python-identifiers-rules-best-practices<br>\n",
        "https://dbader.org/blog/meaning-of-underscores-in-python <br>\n",
        "https://towardsdatascience.com/5-different-meanings-of-underscore-in-python-3fafa6cd0379  (Essential Reading)"
      ]
    },
    {
      "cell_type": "markdown",
      "id": "BgsPM57wwb4Y",
      "metadata": {
        "id": "BgsPM57wwb4Y"
      },
      "source": []
    },
    {
      "cell_type": "code",
      "execution_count": null,
      "id": "2MI5k172wXh9",
      "metadata": {
        "id": "2MI5k172wXh9",
        "outputId": "c6722693-3a45-414f-b354-8d3fd24826f8"
      },
      "outputs": [
        {
          "data": {
            "text/plain": [
              "['ArithmeticError',\n",
              " 'AssertionError',\n",
              " 'AttributeError',\n",
              " 'BaseException',\n",
              " 'BlockingIOError',\n",
              " 'BrokenPipeError',\n",
              " 'BufferError',\n",
              " 'BytesWarning',\n",
              " 'ChildProcessError',\n",
              " 'ConnectionAbortedError',\n",
              " 'ConnectionError',\n",
              " 'ConnectionRefusedError',\n",
              " 'ConnectionResetError',\n",
              " 'DeprecationWarning',\n",
              " 'EOFError',\n",
              " 'Ellipsis',\n",
              " 'EnvironmentError',\n",
              " 'Exception',\n",
              " 'False',\n",
              " 'FileExistsError',\n",
              " 'FileNotFoundError',\n",
              " 'FloatingPointError',\n",
              " 'FutureWarning',\n",
              " 'GeneratorExit',\n",
              " 'IOError',\n",
              " 'ImportError',\n",
              " 'ImportWarning',\n",
              " 'IndentationError',\n",
              " 'IndexError',\n",
              " 'InterruptedError',\n",
              " 'IsADirectoryError',\n",
              " 'KeyError',\n",
              " 'KeyboardInterrupt',\n",
              " 'LookupError',\n",
              " 'MemoryError',\n",
              " 'ModuleNotFoundError',\n",
              " 'NameError',\n",
              " 'None',\n",
              " 'NotADirectoryError',\n",
              " 'NotImplemented',\n",
              " 'NotImplementedError',\n",
              " 'OSError',\n",
              " 'OverflowError',\n",
              " 'PendingDeprecationWarning',\n",
              " 'PermissionError',\n",
              " 'ProcessLookupError',\n",
              " 'RecursionError',\n",
              " 'ReferenceError',\n",
              " 'ResourceWarning',\n",
              " 'RuntimeError',\n",
              " 'RuntimeWarning',\n",
              " 'StopAsyncIteration',\n",
              " 'StopIteration',\n",
              " 'SyntaxError',\n",
              " 'SyntaxWarning',\n",
              " 'SystemError',\n",
              " 'SystemExit',\n",
              " 'TabError',\n",
              " 'TimeoutError',\n",
              " 'True',\n",
              " 'TypeError',\n",
              " 'UnboundLocalError',\n",
              " 'UnicodeDecodeError',\n",
              " 'UnicodeEncodeError',\n",
              " 'UnicodeError',\n",
              " 'UnicodeTranslateError',\n",
              " 'UnicodeWarning',\n",
              " 'UserWarning',\n",
              " 'ValueError',\n",
              " 'Warning',\n",
              " 'WindowsError',\n",
              " 'ZeroDivisionError',\n",
              " '__IPYTHON__',\n",
              " '__build_class__',\n",
              " '__debug__',\n",
              " '__doc__',\n",
              " '__import__',\n",
              " '__loader__',\n",
              " '__name__',\n",
              " '__package__',\n",
              " '__spec__',\n",
              " 'abs',\n",
              " 'all',\n",
              " 'any',\n",
              " 'ascii',\n",
              " 'bin',\n",
              " 'bool',\n",
              " 'breakpoint',\n",
              " 'bytearray',\n",
              " 'bytes',\n",
              " 'callable',\n",
              " 'chr',\n",
              " 'classmethod',\n",
              " 'compile',\n",
              " 'complex',\n",
              " 'copyright',\n",
              " 'credits',\n",
              " 'delattr',\n",
              " 'dict',\n",
              " 'dir',\n",
              " 'display',\n",
              " 'divmod',\n",
              " 'enumerate',\n",
              " 'eval',\n",
              " 'exec',\n",
              " 'execfile',\n",
              " 'filter',\n",
              " 'float',\n",
              " 'format',\n",
              " 'frozenset',\n",
              " 'get_ipython',\n",
              " 'getattr',\n",
              " 'globals',\n",
              " 'hasattr',\n",
              " 'hash',\n",
              " 'help',\n",
              " 'hex',\n",
              " 'id',\n",
              " 'input',\n",
              " 'int',\n",
              " 'isinstance',\n",
              " 'issubclass',\n",
              " 'iter',\n",
              " 'len',\n",
              " 'license',\n",
              " 'list',\n",
              " 'locals',\n",
              " 'map',\n",
              " 'max',\n",
              " 'memoryview',\n",
              " 'min',\n",
              " 'next',\n",
              " 'object',\n",
              " 'oct',\n",
              " 'open',\n",
              " 'ord',\n",
              " 'pow',\n",
              " 'print',\n",
              " 'property',\n",
              " 'range',\n",
              " 'repr',\n",
              " 'reversed',\n",
              " 'round',\n",
              " 'runfile',\n",
              " 'set',\n",
              " 'setattr',\n",
              " 'slice',\n",
              " 'sorted',\n",
              " 'staticmethod',\n",
              " 'str',\n",
              " 'sum',\n",
              " 'super',\n",
              " 'tuple',\n",
              " 'type',\n",
              " 'vars',\n",
              " 'zip']"
            ]
          },
          "execution_count": 1,
          "metadata": {},
          "output_type": "execute_result"
        }
      ],
      "source": [
        "dir(__builtins__)"
      ]
    },
    {
      "cell_type": "markdown",
      "id": "ewKtWKIwwe1D",
      "metadata": {
        "id": "ewKtWKIwwe1D"
      },
      "source": [
        "dir() function in Python is used to list the names of the attributes and methods of an object"
      ]
    },
    {
      "cell_type": "code",
      "execution_count": null,
      "id": "nBBSvfUXwXh9",
      "metadata": {
        "colab": {
          "base_uri": "https://localhost:8080/"
        },
        "id": "nBBSvfUXwXh9",
        "outputId": "46b88931-bea7-48cf-e360-52b39a0aa6dc"
      },
      "outputs": [
        {
          "data": {
            "text/plain": [
              "False"
            ]
          },
          "execution_count": 2,
          "metadata": {},
          "output_type": "execute_result"
        }
      ],
      "source": [
        "'_' in dir(__builtins__)"
      ]
    },
    {
      "cell_type": "code",
      "execution_count": null,
      "id": "DSPZaAr4OXvG",
      "metadata": {
        "colab": {
          "base_uri": "https://localhost:8080/"
        },
        "id": "DSPZaAr4OXvG",
        "outputId": "500d283c-cf84-4565-ec1b-03baaf4168d6"
      },
      "outputs": [
        {
          "data": {
            "text/plain": [
              "True"
            ]
          },
          "execution_count": 1,
          "metadata": {},
          "output_type": "execute_result"
        }
      ],
      "source": [
        "'sum' in dir(__builtins__)"
      ]
    },
    {
      "cell_type": "code",
      "execution_count": null,
      "id": "CuuvSP6JwXh9",
      "metadata": {
        "id": "CuuvSP6JwXh9",
        "outputId": "7953a226-7487-4514-a5ec-ebb3642acfaf"
      },
      "outputs": [
        {
          "data": {
            "text/plain": [
              "2"
            ]
          },
          "execution_count": 4,
          "metadata": {},
          "output_type": "execute_result"
        }
      ],
      "source": [
        "1+1"
      ]
    },
    {
      "cell_type": "code",
      "execution_count": null,
      "id": "odd4Q9MSwXh9",
      "metadata": {
        "id": "odd4Q9MSwXh9",
        "outputId": "72e8b1a9-611b-4a0a-950f-c34036f4b9fa"
      },
      "outputs": [
        {
          "data": {
            "text/plain": [
              "False"
            ]
          },
          "execution_count": 5,
          "metadata": {},
          "output_type": "execute_result"
        }
      ],
      "source": [
        "'_' in dir(__builtins__)"
      ]
    },
    {
      "cell_type": "code",
      "execution_count": null,
      "id": "vK82zBT9wXh9",
      "metadata": {
        "id": "vK82zBT9wXh9",
        "outputId": "632d4a8d-2154-4483-8cce-1d180366c12d"
      },
      "outputs": [
        {
          "data": {
            "text/plain": [
              "False"
            ]
          },
          "execution_count": 8,
          "metadata": {},
          "output_type": "execute_result"
        }
      ],
      "source": [
        "_"
      ]
    },
    {
      "cell_type": "markdown",
      "id": "qSYxw1tjO9Gs",
      "metadata": {
        "id": "qSYxw1tjO9Gs"
      },
      "source": [
        "25-6-24"
      ]
    },
    {
      "cell_type": "markdown",
      "id": "mmwfp8jMwXh-",
      "metadata": {
        "id": "mmwfp8jMwXh-"
      },
      "source": [
        "**Day 4**"
      ]
    },
    {
      "cell_type": "markdown",
      "id": "K_KVeWzGwXh-",
      "metadata": {
        "id": "K_KVeWzGwXh-"
      },
      "source": [
        "**Variables**<br>\n",
        "Variables are containers for storing data values. or reserved memory locations to store and manipulate values.<br>\n",
        "\n",
        "A Python variable is a symbolic name that is a reference or pointer to an object. Once an object is assigned to a variable, you can refer to the object by that name. But the data itself is still contained within the object.<br>\n",
        "n = 10 <br>\n",
        "This assignment creates an integer object with the value 10 and assigns the variable n to point to that object.<br>\n",
        " m = n<br>\n",
        "What happens when it is executed? Python does not create another object. It simply creates a new symbolic name or reference, m, which points to the same object that n points to.<br>\n",
        "m = 400<br>\n",
        "n = foo<br>\n",
        "\n",
        "There is no longer any reference to the integer object 10 . It is orphaned, and there is no way to access it.<br>\n",
        "An object’s life begins when it is created, at which time at least one reference to it is created. During an object’s lifetime, additional references to it may be created, as you saw above, and references to it may be deleted as well. An object stays alive, as it were, so long as there is at least one reference to it.<br>\n",
        "\n",
        "When the number of references to an object drops to zero, it is no longer accessible. At that point, its lifetime is over. <br>Python will eventually notice that it is inaccessible and reclaim the allocated memory so it can be used for something else.  this process is referred to as garbage collection.<br>\n",
        "\n",
        "In Python, every object that is created is given a number that uniquely identifies it. It is guaranteed that no two objects will have the same identifier during any period in which their lifetimes overlap. Once an object’s reference count drops to zero and it is garbage collected, as happened to the 10 object above, then its identifying number becomes available and may be used again.<br>\n",
        "The built-in Python function id() returns an object’s integer identifier. Using the id() function, you can verify that two variables indeed point to the same object:\n",
        "<br>\n",
        "n = 300<br>\n",
        "m = n<br>\n",
        "After the assignment m = n, m and n both point to the same object, confirmed by the fact that id(m) and id(n) return the same number. <br>\n",
        "id(n)<br>\n",
        "60127840<br>\n",
        "id(m)<br>\n",
        "60127840<br>\n",
        "\n",
        "Once m is reassigned to 400, m and n point to different objects with different identities.<br>\n",
        "m = 400<br>\n",
        "id(m)<br>\n",
        "60127872<br>\n",
        "\n",
        "**Caching Small Integer Values**<br>\n",
        "try<br>\n",
        "m=1<br>\n",
        "id(m)<br>\n",
        "n=1<br>\n",
        "id(n)<br>\n",
        "Whats the result? Answer to the solution is interning<br>\n",
        "\n",
        "**Integer interning**<br>\n",
        "At startup, Python pre-loads/caches a list of integers into the memory. These are in the range -5 to +256. Any time when we try to create an integer object within this range, Python automatically refer to these objects in the memory instead of creating new integer objects.<br>\n",
        "\n",
        "**String interning**<br>\n",
        "Like integers, some of the strings also get interned. Generally, any string that satisfies the identifier naming convention will get interned. Sometimes there will be exceptions. So, don’t rely on it.<br>\n",
        "\n",
        "z = \"data\"<br>\n",
        "y = \"data\"<br>\n",
        "print(id(z))<br>\n",
        "print(id(y))<br>\n",
        "\n",
        "https://towardsdatascience.com/optimization-in-python-interning-805be5e9fd3e<br>\n",
        "https://towardsdatascience.com/python-memory-and-objects-e7bec4a2845<br>\n",
        "\n",
        "**Examples of Variables**<br>\n",
        "A =10 ( python knows it is integer)<br>\n",
        "B= 1.2 (float)<br>\n",
        "C = 1+3j (complex)<br>\n",
        "D=“Hello” or ‘Hello’ (string)<br>\n",
        "\n",
        "x = 5 <br>\n",
        "y = \"John\"<br>\n",
        "var = 23.5<br>\n",
        "<br>\n",
        "If you want to specify the data type of a variable, this can be done with casting.<br>\n",
        "<br>\n",
        "Example<br>\n",
        "x = str(3)    # x will be '3'<br>\n",
        "y = int(3)    # y will be 3<br>\n",
        "z = float(3)  # z will be 3.0<br>\n",
        "\n",
        "**Multiple Assignments**<br>\n",
        "\n",
        "Python allows you to assign a single value to several variables simultaneously. For example −<br>\n",
        "\n",
        "a = b = c = 1<br>\n",
        "Here, an integer object is created with the value 1, and all three variables are assigned to the same memory location.<br>\n",
        "\n",
        "You can also assign multiple objects to multiple variables. For example −<br>\n",
        "\n",
        "a,b,c = 1,2,\"john\"<br>\n",
        "Here, two integer objects with values 1 and 2 are assigned to variables a and b respectively, and one string object with the value \"john\" is assigned to the variable c.<br>\n",
        "\n",
        " x,y,z = \"Orange\", \"Banana\", 'Cherry'<br>\n",
        " print(x)<br>\n",
        " print(y)<br>\n",
        " print(z)<br>\n",
        "\n",
        " x = y = z = \"Mango\"<br>\n",
        " print(x)<br>\n",
        " print(y)<br>\n",
        " print(z)<br>\n",
        "\n",
        "A number in python can be represented in these forms:<br>\n",
        "\n",
        "1. Decimal form (base 10)<br>\n",
        "The allowed digits are : 0 to 9\n",
        "\n",
        "2. Binary form (base 2)<br>\n",
        "The allowed digits are : 0 & 1<br>\n",
        "Literal value should be prefixed with 0b or 0B<br>\n",
        "Eg:<br>\n",
        "a = 0B1111<br>\n",
        "a =0B123 (NOT ALLOWED)<br>\n",
        "a=b111 (NOT ALLOWED)<br>\n",
        "\n",
        "3. Octal form (base 8)<br>\n",
        "The allowed digits are : 0 to 7<br>\n",
        "Literal value should be prefixed with 0o or 0O.<br>\n",
        "Eg: a=0o123<br>\n",
        "\n",
        "4. Hexa decimal form (base 16)<br>\n",
        "The allowed digits are : 0 to 9, a-f (both lower and upper cases are allowed)<br>\n",
        "Literal value should be prefixed with 0x or 0X<br>\n",
        "Eg:<br>\n",
        " a =0XFACE<br>\n",
        "\n",
        "We can also do Base conversion by using in-built functions for base conversions<br>\n",
        "1.bin():<br>\n",
        "We can use bin() to convert from any base to binary<br>\n",
        "2. oct():<br>\n",
        "We can use oct() to convert from any base to octal<br>\n",
        "3. hex():<br>\n",
        "We can use hex() to convert from any base to hexa decimal<br>\n",
        "\n",
        "**float data type**:<br>\n",
        "We can use float data type to represent floating point values (decimal values)<br>\n",
        "Eg: <br>\n",
        "f=1.234<br>\n",
        "type(f) float<br>\n",
        "We can also represent floating point values by using exponential form (scientific notation)<br>\n",
        "Eg: <br>\n",
        "f=1.2e3<br>\n",
        "print(f) 1200.0<br>\n",
        "instead of 'e' we can use 'E'<br>\n",
        "The main advantage of exponential form is we can represent big values in less memory.<br>\n",
        "***Note:We can represent int values in decimal, binary, octal and hexa decimal forms. But we can represent float values only by using decimal form.**<br>\n",
        "\n",
        "**Complex Data Type:**<br>\n",
        "A complex number is of the form a+bj (where a is called real part and b is called imaginary part)<br>\n",
        "a and b contain intergers or floating point values<br>\n",
        " Eg:<br>\n",
        " 3+5j<br>\n",
        " 10+5.5j<br>\n",
        " 0.5+0.1j<br>\n",
        "In the real part if we use int value then we can specify that either by decimal,octal,binary or hexa decimal form.<br>\n",
        "But imaginary part should be specified only by using decimal form.<br>\n",
        "1) >>> a=0B11+5j<br>\n",
        "2) >>> a<br>\n",
        "3) (3+5j)<br>\n",
        "4) >>> a=3+0B11j<br>\n",
        "5) SyntaxError: invalid syntax<br>\n",
        "Even we can perform operations on complex type values.<br>\n",
        "1) >>> a=10+1.5j<br>\n",
        "2) >>> b=20+2.5j<br>\n",
        "3) >>> c=a+b<br>\n",
        "4) >>> print(c)<br>\n",
        "5) (30+4j)<br>\n",
        "6) >>> type(c)<br>\n",
        "7) <class 'complex'> <br>\n",
        "\n",
        "we can use builtin attributes, to extraxt the values<br>\n",
        "a=10+1.5j<br>\n",
        "a.real<br>\n",
        "a.imag<br>\n",
        "\n",
        "**bool data type:**<br>\n",
        "We can use this data type to represent boolean values.The only allowed values for this data type are:<br>\n",
        "True and False<br>\n",
        "Internally Python represents True as 1 and False as 0<br>\n",
        "b=True<br>\n",
        "type(b) =>bool<br>\n",
        "Eg:<br>\n",
        "a=10<br>\n",
        "b=20<br>\n",
        "c=a<b<br>\n",
        "print(c)==>True<br>\n",
        "True+True==>2<br>\n",
        "True-False==>1<br>\n",
        "\n",
        "**None-Type**\n",
        "There is a simple type, NoneType that has exactly one object: None. None is used to represent “null”… nothing.\n",
        "`None` is the *only* object belonging to NoneType , and is often used as a placeholder in code.<br>\n",
        "type(None)<br>\n",
        "NoneType<br>\n",
        "\n",
        "Example:<br>\n",
        "large_num = None<br>\n",
        "\n",
        "for number in [1, 2, 3, 4]:<br>\n",
        "    if number > 10:<br>\n",
        "        large_num = number<br>\n",
        "        break<br>\n",
        "\n",
        "if large_num is None:<br>\n",
        "    print(\"The list did not contain any number larger than 10\")<br>"
      ]
    },
    {
      "cell_type": "code",
      "execution_count": null,
      "id": "6SxtT6lYam9t",
      "metadata": {
        "id": "6SxtT6lYam9t"
      },
      "outputs": [],
      "source": [
        "import math\n",
        "print(math.e)"
      ]
    },
    {
      "cell_type": "code",
      "execution_count": null,
      "id": "Ec6zWJPxwXh-",
      "metadata": {
        "colab": {
          "base_uri": "https://localhost:8080/"
        },
        "id": "Ec6zWJPxwXh-",
        "outputId": "cfc9883c-e76c-49cd-b4d4-97d4ab8eae33"
      },
      "outputs": [
        {
          "name": "stdout",
          "output_type": "stream",
          "text": [
            "10\n",
            "8\n",
            "16\n",
            "2\n"
          ]
        }
      ],
      "source": [
        "a=10\n",
        "b=0o10\n",
        "c=0X10\n",
        "d=0B10\n",
        "print(a)\n",
        "print(b)\n",
        "print(c)\n",
        "print(d)"
      ]
    },
    {
      "cell_type": "markdown",
      "id": "7lVuIS8Ws3wP",
      "metadata": {
        "id": "7lVuIS8Ws3wP"
      },
      "source": [
        "18-06-2024"
      ]
    },
    {
      "cell_type": "code",
      "execution_count": null,
      "id": "txZBRrbSwXh-",
      "metadata": {
        "id": "txZBRrbSwXh-",
        "outputId": "79b5b085-33ce-47ed-b8c1-453b91b8593f"
      },
      "outputs": [
        {
          "name": "stdout",
          "output_type": "stream",
          "text": [
            "1) False\n",
            "2) True\n",
            "3) True\n",
            "4) True\n",
            "5) True\n",
            "6) False\n",
            "7) True\n",
            "8) True\n",
            "9) False\n",
            "10) True\n",
            "11) True\n",
            "12) False\n"
          ]
        }
      ],
      "source": [
        "print(\"1)\",bool(0)) #==>False\n",
        "print(\"2)\",bool(1)) #==>True\n",
        "print(\"3)\",bool(10)) #===>True\n",
        "print(\"4)\",bool(10.5)) #===>True\n",
        "print(\"5)\",bool(0.178)) #==>True\n",
        "print(\"6)\",bool(0.0)) #==>False\n",
        "print(\"7)\",bool(10-2j)) #==>True\n",
        "print(\"8)\",bool(0+1.5j)) #==>True\n",
        "print(\"9)\",bool(0+0j)) #==>False\n",
        "print(\"10)\",bool(\"True\")) #==>True # Any non-empty string is \"truthy.\n",
        "print(\"11)\",bool(\"False\")) #==>True\n",
        "print(\"12)\",bool(\"\")) #==>False  #Any empty string is considered \"falsy.\""
      ]
    },
    {
      "cell_type": "code",
      "execution_count": null,
      "id": "ltKLzjfrwXh-",
      "metadata": {
        "id": "ltKLzjfrwXh-",
        "outputId": "e28145f5-6f58-4461-99d3-e07588c68d95"
      },
      "outputs": [
        {
          "data": {
            "text/plain": [
              "2"
            ]
          },
          "execution_count": 3,
          "metadata": {},
          "output_type": "execute_result"
        }
      ],
      "source": [
        "True * 2"
      ]
    },
    {
      "cell_type": "markdown",
      "id": "VjzWw4S7wXh-",
      "metadata": {
        "id": "VjzWw4S7wXh-"
      },
      "source": [
        "**Day 5**"
      ]
    },
    {
      "cell_type": "markdown",
      "id": "MjpsyWRZwXh_",
      "metadata": {
        "id": "MjpsyWRZwXh_"
      },
      "source": [
        "**Python Statements**\n",
        "Instructions that a Python interpreter can execute are called statements.\n",
        "like a=1 , if statement, for statement etc\n",
        "\n",
        "The statements which are used to assign a value to the variable are called as assignment statements.\n",
        "\n",
        "The assignment statement gives a value to a variable:\n",
        "\n",
        "message = \"What's up, Doc?\"<br>\n",
        "n = 17<br>\n",
        "pi = 3.14159<br>\n",
        "\n",
        "This example makes three assignments. The first assigns the string value \"What's up, Doc?\" to a variable named message. The second gives the integer 17 to n, and the third assigns the floating-point number 3.14159 to a variable called pi.\n",
        "\n",
        "The assignment token, =, should not be confused with equals, which uses the token ==. The assignment statement binds a name, on the left-hand side of the operator, to a value, on the right-hand side. This is why you will get an error if you enter:\n",
        "\n",
        "17 = n <br>\n",
        "File \"<interactive input>\", line 1<br>\n",
        "SyntaxError: can't assign to literal<br>\n",
        "Tip: When reading or writing code, say to yourself “n is assigned 17” or “n gets the value 17”. Don’t say “n equals 17”.\n",
        "\n",
        "A common way to represent variables on paper is to write the name with an arrow pointing to the variable’s value. This kind of figure is called a state snapshot because it shows what state each of the variables is in at a particular instant in time. (Think of it as the variable’s state of mind).\n",
        "<br>\n",
        "\n",
        "**Expressions**\n",
        "   \n",
        "An expression is a combination of values, variables, operators, and calls to functions. If you type an expression at the Python prompt, the interpreter evaluates it and displays the result:\n",
        "\n",
        "1 + 1 <br>\n",
        "2<br>\n",
        "len(\"hello\")<br>\n",
        "5<br>\n",
        "    \n",
        "In this example len is a built-in Python function that returns the number of characters in a string. We’ve previously seen the print and the type functions, so this is our third example of a function!\n",
        "\n",
        "The evaluation of an expression produces a value, which is why expressions can appear on the right hand side of assignment statements. A value all by itself is a simple expression, and so is a variable.\n",
        "\n",
        "17 <br>\n",
        "y = 3.14<br>\n",
        "x = len(\"hello\")<br>\n",
        "print(x)<br>\n",
        "5<br>\n",
        "print(y)<br>\n",
        "3.14<br>\n",
        "    \n",
        "**Operators and operands**\n",
        "Operators are special tokens that represent computations like addition, multiplication and division. The values the operator uses are called operands.\n",
        "The tokens +, -, and *, and the use of parenthesis for grouping, mean in Python what they mean in mathematics. The asterisk (*) is the token for multiplication, and ** is the token for exponentiation.\n",
        "\n",
        "1) >>> 2 ** 3 <br>\n",
        "2) 8<br>\n",
        "3) >>> 3 ** 2<br>\n",
        "4) 9<br>\n",
        "When a variable name appears in the place of an operand, it is replaced with its value before the operation is performed.\n",
        "\n",
        "Addition, subtraction, multiplication, and exponentiation all do what you expect.\n",
        "\n",
        "Example: so let us convert 645 minutes into hours:\n",
        "\n",
        "1)>>> minutes = 645<br>\n",
        "2)>>> hours = minutes / 60<br>\n",
        "3)>>> hours<br>\n",
        "10.75<br>\n",
        "\n",
        "In Python 3, the division operator / always yields a floating point result. What we might have wanted to know was how many whole hours there are, and how many minutes remain. Python gives us two different flavors of the division operator. The second, called floor division uses the token //. Its result is always a whole number.\n",
        "\n",
        "7 / 4<br>\n",
        "1.75<br>\n",
        "7 // 4<br><br>\n",
        "1\n",
        "minutes = 645<br>\n",
        "hours = minutes // 60<br>\n",
        "hours<br>\n",
        "10<br>\n",
        "\n",
        "**Type converter functions**\n",
        "\n",
        "Here we’ll look at three more Python functions, int, float and str, which will (attempt to) convert their arguments into types int, float and str respectively. We call these type converter functions.\n",
        "\n",
        "The int function can take a floating point number or a string, and turn it into an int. For floating point numbers, it discards the decimal portion of the number — a process we call truncation towards zero on the number line. Let us see this in action.\n",
        ">>> int(3.14)<br>\n",
        "3<br>\n",
        ">>> int(3.9999)             # This doesn't round to the closest int!<br>\n",
        "3<br>\n",
        ">>> int(3.0)<br>\n",
        "3<br>\n",
        ">>> int(-3.999)             # Note that the result is closer to zero<br>\n",
        "-3<br>\n",
        ">>> int(minutes / 60)<br>\n",
        "10<br>\n",
        ">>> int(\"2345\")             # Parse a string to produce an int<br>\n",
        "2345<br>\n",
        ">>> int(17)                 # It even works if arg is already an int<br>\n",
        "17<br>\n",
        ">>> int(\"23 bottles\")<br>\n",
        "This last case doesn’t look like a number — what do we expect?<br>\n",
        "\n",
        "Traceback (most recent call last):<br>\n",
        "File \"<interactive input>\", line 1, in <module><br>\n",
        "ValueError: invalid literal for int() with base 10: '23 bottles'<br>\n",
        "\n",
        "The type converter float can turn an integer, a float, or a syntactically legal string into a float:<br>\n",
        "\n",
        ">>> float(17)<br>\n",
        "17.0<br>\n",
        ">>> float(\"123.45\")<br>\n",
        "123.45<br>\n",
        "\n",
        "The type converter str turns its argument into a string:\n",
        "\n",
        ">>> str(17)<br>\n",
        "'17'<br>\n",
        ">>> str(123.45)<br>\n",
        "'123.45'<br>\n",
        "    \n",
        "**Multi-line statement**\n",
        "\n",
        "Explicit Line Continuation is marked by backslash in last\n",
        "a = 1 + 2 + 3 + \\\n",
        "      4 + 5 + 6 + \\\n",
        "      7 + 8 + 9\n",
        "<br>Implicit line continuation is always available inside brackets.\n",
        "a = (1 + 2 + 3 +\n",
        "       4 + 5 + 6 +\n",
        "        7 + 8 + 9)\n",
        "        \n",
        "We can also put multi line statements in a single statement using ;\n",
        "A=1;b=2;c=3;\n",
        "\n",
        "**String Formatters**<br>\n",
        "X= 10; printer=\"HP\"\n",
        "X, printer = 10 , \"HP\"\n",
        "\n",
        "print(\" I just printed %s pages from the printer %s\"%(X,printer))  # % string formatter\n",
        "\n",
        "I just printed 10 pages from the printer HP\n",
        "\n",
        "print(\"I just printed {0} pages from the printer {1}\".format(X,printer)) #format\n",
        "I just printed 10 pages from the printer HP\n",
        "\n",
        "print(\"I just printed {X} pages from the printer {printer}\".format(X=11,printer=\"Epson\")) #format with assignment\n",
        "I just printed 11 pages from the printer Epson\n",
        "\n",
        "print(f\" I just printed {x} pages from the printer {printer}\")  # f-strings\n",
        " I just printed Mango pages from the printer HP"
      ]
    },
    {
      "cell_type": "code",
      "execution_count": null,
      "id": "2fPYGiRqCnbt",
      "metadata": {
        "colab": {
          "base_uri": "https://localhost:8080/",
          "height": 110
        },
        "id": "2fPYGiRqCnbt",
        "outputId": "f2994648-75cb-4e0c-b18f-9ed057254697"
      },
      "outputs": [
        {
          "ename": "SyntaxError",
          "evalue": "invalid syntax (<ipython-input-20-3af5eb62a556>, line 1)",
          "output_type": "error",
          "traceback": [
            "\u001b[0;36m  File \u001b[0;32m\"<ipython-input-20-3af5eb62a556>\"\u001b[0;36m, line \u001b[0;32m1\u001b[0m\n\u001b[0;31m    a = 1 + 2 + 3 +\u001b[0m\n\u001b[0m                   ^\u001b[0m\n\u001b[0;31mSyntaxError\u001b[0m\u001b[0;31m:\u001b[0m invalid syntax\n"
          ]
        }
      ],
      "source": [
        "\n",
        "a = 1 + 2 + 3 +\n",
        "4 + 5 + 6 +\n",
        "7 + 8 + 9"
      ]
    },
    {
      "cell_type": "code",
      "execution_count": null,
      "id": "XFqCk_RZwsxy",
      "metadata": {
        "colab": {
          "base_uri": "https://localhost:8080/"
        },
        "id": "XFqCk_RZwsxy",
        "outputId": "4e4a24b6-72c9-44ab-9949-571cf7cfde27"
      },
      "outputs": [
        {
          "data": {
            "text/plain": [
              "15"
            ]
          },
          "execution_count": 5,
          "metadata": {},
          "output_type": "execute_result"
        }
      ],
      "source": [
        "a = 1 + 2 + 3+ \\\n",
        "4 + 5\n",
        "a"
      ]
    },
    {
      "cell_type": "code",
      "execution_count": null,
      "id": "HIE01LLWDDJr",
      "metadata": {
        "colab": {
          "base_uri": "https://localhost:8080/"
        },
        "id": "HIE01LLWDDJr",
        "outputId": "31bad2bb-6d2b-4fb2-fdd0-8e535741c9e9"
      },
      "outputs": [
        {
          "data": {
            "text/plain": [
              "45"
            ]
          },
          "execution_count": 19,
          "metadata": {},
          "output_type": "execute_result"
        }
      ],
      "source": [
        "a"
      ]
    },
    {
      "cell_type": "code",
      "execution_count": null,
      "id": "tsaYs-5OC0nv",
      "metadata": {
        "id": "tsaYs-5OC0nv"
      },
      "outputs": [],
      "source": [
        " a = (1 + 2 + 3 + 4 + 5 + 6 + 7 + 8 + 9)"
      ]
    },
    {
      "cell_type": "code",
      "execution_count": null,
      "id": "dhdZHdOkC3kt",
      "metadata": {
        "colab": {
          "base_uri": "https://localhost:8080/"
        },
        "id": "dhdZHdOkC3kt",
        "outputId": "f58d6342-7b65-4767-94b6-098920059d67"
      },
      "outputs": [
        {
          "data": {
            "text/plain": [
              "45"
            ]
          },
          "execution_count": 17,
          "metadata": {},
          "output_type": "execute_result"
        }
      ],
      "source": [
        "a"
      ]
    },
    {
      "cell_type": "code",
      "execution_count": null,
      "id": "czwV25J1wXh_",
      "metadata": {
        "colab": {
          "base_uri": "https://localhost:8080/"
        },
        "collapsed": true,
        "id": "czwV25J1wXh_",
        "outputId": "c15e09df-cc57-408b-b3fc-715d97af6b1d"
      },
      "outputs": [
        {
          "name": "stdout",
          "output_type": "stream",
          "text": [
            " I just printed HP pages from the printer 10\n"
          ]
        }
      ],
      "source": [
        "X= 10; printer=\"HP\"\n",
        "# X, printer = 10 , \"HP\"\n",
        "\n",
        "print(\" I just printed %s pages from the printer %s\"%(printer,X))  # % string formatter"
      ]
    },
    {
      "cell_type": "code",
      "execution_count": null,
      "id": "neeG9j3XwXh_",
      "metadata": {
        "colab": {
          "base_uri": "https://localhost:8080/"
        },
        "collapsed": true,
        "id": "neeG9j3XwXh_",
        "outputId": "df23ebbb-c26d-4ef7-95f5-ce5346a70a2b"
      },
      "outputs": [
        {
          "name": "stdout",
          "output_type": "stream",
          "text": [
            "I just printed HP pages from the printer 10\n"
          ]
        }
      ],
      "source": [
        "print(\"I just printed {0} pages from the printer {1}\".format(X,printer)) #format"
      ]
    },
    {
      "cell_type": "code",
      "execution_count": null,
      "id": "lKZNcdagE9o6",
      "metadata": {
        "colab": {
          "base_uri": "https://localhost:8080/"
        },
        "collapsed": true,
        "id": "lKZNcdagE9o6",
        "outputId": "23543647-827d-48bd-93c9-977cecad8d47"
      },
      "outputs": [
        {
          "name": "stdout",
          "output_type": "stream",
          "text": [
            "Cetpa of Engineering & Technolgy, A computer science Engineering in .\n"
          ]
        }
      ],
      "source": [
        "print(\"{}, A computer science Engineering in .\".format(\"Cetpa of Engineering & Technolgy\"))"
      ]
    },
    {
      "cell_type": "code",
      "execution_count": null,
      "id": "2U0_jhGqwXh_",
      "metadata": {
        "colab": {
          "base_uri": "https://localhost:8080/"
        },
        "id": "2U0_jhGqwXh_",
        "outputId": "30f1c06d-26a7-4abe-b55c-52e91c7ff23a"
      },
      "outputs": [
        {
          "name": "stdout",
          "output_type": "stream",
          "text": [
            "Faculty of Engineering & Technolgy, A computer science Engineering in .\n",
            "This article is written in Python\n",
            "Hello, I am 18 years old !\n"
          ]
        }
      ],
      "source": [
        "# Python3 program to demonstrate\n",
        "# the str.format() method\n",
        "\n",
        "# using format option in a simple string\n",
        "print(\"{}, A computer science Engineering in .\".format(\"Cetpa of Engineering & Technolgy\"))\n",
        "\n",
        "# using format option for a\n",
        "# value stored in a variable\n",
        "str = \"This article is written in {}\"\n",
        "print(str.format(\"Python\"))\n",
        "\n",
        "# formatting a string using a numeric constant\n",
        "print(\"Hello, I am {} years old !\".format(18))"
      ]
    },
    {
      "cell_type": "code",
      "execution_count": null,
      "id": "a_iS7TjKwXh_",
      "metadata": {
        "colab": {
          "base_uri": "https://localhost:8080/"
        },
        "id": "a_iS7TjKwXh_",
        "outputId": "b6e733ec-dd11-4572-8ab1-c627fbacd9a1"
      },
      "outputs": [
        {
          "name": "stdout",
          "output_type": "stream",
          "text": [
            "I just printed 11 pages from the printer Epson\n"
          ]
        }
      ],
      "source": [
        "print(\"I just printed {X} pages from the printer {printer}\".format(X=11,printer=\"Epson\")) #format with assignment"
      ]
    },
    {
      "cell_type": "code",
      "execution_count": null,
      "id": "mls3e015wXiD",
      "metadata": {
        "colab": {
          "base_uri": "https://localhost:8080/",
          "height": 141
        },
        "id": "mls3e015wXiD",
        "outputId": "ef8cc8c5-e699-4989-ecec-c635fa5d53cb"
      },
      "outputs": [
        {
          "ename": "NameError",
          "evalue": "name 'X' is not defined",
          "output_type": "error",
          "traceback": [
            "\u001b[0;31m---------------------------------------------------------------------------\u001b[0m",
            "\u001b[0;31mNameError\u001b[0m                                 Traceback (most recent call last)",
            "\u001b[0;32m<ipython-input-1-1399ada23723>\u001b[0m in \u001b[0;36m<cell line: 1>\u001b[0;34m()\u001b[0m\n\u001b[0;32m----> 1\u001b[0;31m \u001b[0mprint\u001b[0m\u001b[0;34m(\u001b[0m\u001b[0;34mf\" I just printed {X} pages from the printer {printer}\"\u001b[0m\u001b[0;34m)\u001b[0m  \u001b[0;31m# f-strings\u001b[0m\u001b[0;34m\u001b[0m\u001b[0;34m\u001b[0m\u001b[0m\n\u001b[0m",
            "\u001b[0;31mNameError\u001b[0m: name 'X' is not defined"
          ]
        }
      ],
      "source": [
        "print(f\" I just printed {X} pages from the printer {printer}\")  # f-strings"
      ]
    },
    {
      "cell_type": "code",
      "execution_count": null,
      "id": "gxwm1S-IwXiD",
      "metadata": {
        "id": "gxwm1S-IwXiD",
        "outputId": "9fc12749-d829-442d-ffe3-7515f0d4091b"
      },
      "outputs": [
        {
          "name": "stdout",
          "output_type": "stream",
          "text": [
            "Hi ! My name is User and I am 19 years old\n",
            "This is one two three four\n",
            "Fetians love FET!!\n",
            "FET love Fetians!!\n",
            "Every programmer should know the use of Open Source programming and Operating Systems\n",
            "Every Operating Systems should know the use of Source Open programming and programmer\n",
            "GeeksforGeeks is a computer science portal for geeks\n"
          ]
        }
      ],
      "source": [
        "# Python program using multiple place\n",
        "# holders to demonstrate str.format() method\n",
        "\n",
        "# different datatypes can be used in formatting\n",
        "print(\"Hi ! My name is {} and I am {} years old\".format(\"User\", 19))\n",
        "\n",
        "# The values passed as parameters\n",
        "# are replaced in order of their entry\n",
        "print(\"This is {} {} {} {}\".format(\"one\", \"two\", \"three\", \"four\"))\n",
        "\n",
        "#positional arguments are placed in order\n",
        "print(\"{0} love {1}!!\".format(\"Fetians\",\"FET\"))\n",
        "\n",
        "# Reverse the index numbers with the\n",
        "# parameters of the placeholders\n",
        "print(\"{1} love {0}!!\".format(\"Fetians\",\"FET\"))\n",
        "\n",
        "print(\"Every {} should know the use of {} {} programming and {}\".format(\"programmer\", \"Open\", \"Source\",\"Operating Systems\"))\n",
        "\n",
        "# Use the index numbers of the\n",
        "# values to change the order that\n",
        "# they appear in the string\n",
        "print(\"Every {3} should know the use of {2} {1} programming and {0}\".format(\"programmer\", \"Open\", \"Source\",\"Operating Systems\"))\n",
        "\n",
        "# Keyword arguments are called\n",
        "# by their keyword name\n",
        "print(\"{gfg} is a {0} science portal for {1}\".format(\"computer\", \"geeks\", gfg=\"GeeksforGeeks\"))"
      ]
    },
    {
      "cell_type": "markdown",
      "id": "zp6OwA5Zj04q",
      "metadata": {
        "id": "zp6OwA5Zj04q"
      },
      "source": [
        "28-6"
      ]
    },
    {
      "cell_type": "markdown",
      "id": "jDjz3Fv5wXiD",
      "metadata": {
        "id": "jDjz3Fv5wXiD"
      },
      "source": [
        "**Strings**\n",
        "\n",
        "class str represents the Strings in Python.<br>\n",
        "Strings in Python can be enclosed in either single quotes (') or double quotes (\"), or three of each (''' or \"\"\").<br>\n",
        "Example <br>\n",
        "\n",
        "\"Hello\"<br>\n",
        "'Hello'<br>\n",
        "'''Hello'''<br>\n",
        "\"\"\"Hello\"\"\"<br>\n",
        "\n",
        ">>> type('This is a string.')<br>\n",
        "<class 'str'><br>\n",
        ">>> type(\"And so is this.\")<br>\n",
        "<class 'str'><br>\n",
        ">>> type(\"\"\"and this.\"\"\")<br>\n",
        "<class 'str'><br>\n",
        ">>> type('''and even this...''')<br>\n",
        "<class 'str'><br>\n",
        "\n",
        "Double quoted strings can contain single quotes inside them, as in \"Bruce's beard\", and single quoted strings can have double quotes inside them, as in 'The knights who say \"Ni!\"'.<br>\n",
        "\n",
        "Strings enclosed with three occurrences of either quote symbol are called triple quoted strings. They can contain either single or double quotes:<br>\n",
        "\n",
        ">>> print('''\"Oh no\", she exclaimed, \"Ben's bike is broken!\"''')<br>\n",
        "\"Oh no\", she exclaimed, \"Ben's bike is broken!\"<br>\n",
        "\n",
        "Triple quoted strings can even span multiple lines:<br>\n",
        "\n",
        ">>> message = \"\"\"This message will<br>\n",
        "... span several<br>\n",
        "... lines.\"\"\"<br>\n",
        ">>> print(message)<br>\n",
        "This message will<br>\n",
        "span several<br>\n",
        "lines.<br>\n",
        "\n",
        "Python doesn’t care whether you use single or double quotes or the three-of-a-kind quotes to surround your strings: once it has parsed the text of your program or command, the way it stores the value is identical in all cases, and the surrounding quotes are not part of the value.\n",
        "\n",
        "**String Slicing**\n",
        "String are just represented as Arrays and supports Slicing\n",
        "\n",
        "slice means a piece<br>\n",
        "[] operator is called slice operator,which can be used to retrieve parts of String.<br>\n",
        "In Python Strings follows zero based index.<br>\n",
        "The index can be either +ve or -ve.<br>\n",
        "+ve index means forward direction from Left to Right<br>\n",
        "-ve index means backward direction from Right to Left<br>\n",
        "\n",
        "Example<br>\n",
        "s = \"Fetians\"<br>\n",
        "indexing starts from 0 to length -1<br>\n",
        "s[0] -->'F' , s[1] -->'e',s[2] -->'t', s[3] -->'i',s[4] -->'a',s[5] -->'n',s[6] -->'s'<br>\n",
        "\n",
        "Strings are immutable (Not changeable) <br>\n",
        "\ta = “ Namit”  ---a[0] = ‘S’ ---ERROR <br>\n",
        "For shorter strings with same value, they are stored at one place and reference is shared with different variables. That’s why strings are made immutable, so changes occur and both variables can have consistent view of the string.<br>\n",
        "\n",
        "The slice s[start:end] is the elements beginning at start and extending up to but not including end. Suppose we have s = \"Hello“<br>\n",
        "s[1:4] is 'ell' -- chars starting at index 1 and extending up to but not including index 4<br>\n",
        "s[1:] is 'ello' -- omitting either index defaults to the start or end of the string<br>\n",
        "s[:] is 'Hello' -- omitting both always gives us a copy of the whole thing (this is the pythonic way to copy a sequence like a string or list)<br>\n",
        "s[1:100] is 'ello' -- an index that is too big is truncated down to the string length<br>\n",
        "\n",
        "Python also supports negative indexing<br>\n",
        "negative indexing starts with -1, which represents the last character.<br>"
      ]
    },
    {
      "cell_type": "code",
      "execution_count": null,
      "id": "6jl0oomHwXiE",
      "metadata": {
        "id": "6jl0oomHwXiE"
      },
      "outputs": [],
      "source": [
        "s= 'Cetpass'"
      ]
    },
    {
      "cell_type": "code",
      "execution_count": null,
      "id": "3OLD8lbfwXiE",
      "metadata": {
        "colab": {
          "base_uri": "https://localhost:8080/",
          "height": 297
        },
        "id": "3OLD8lbfwXiE",
        "outputId": "9b109198-2df5-415e-ffe9-51d28978a786"
      },
      "outputs": [
        {
          "name": "stdout",
          "output_type": "stream",
          "text": [
            "C\n",
            "e\n",
            "t\n",
            "p\n",
            "a\n",
            "s\n",
            "s\n"
          ]
        },
        {
          "ename": "IndexError",
          "evalue": "string index out of range",
          "output_type": "error",
          "traceback": [
            "\u001b[0;31m---------------------------------------------------------------------------\u001b[0m",
            "\u001b[0;31mIndexError\u001b[0m                                Traceback (most recent call last)",
            "\u001b[0;32m<ipython-input-68-62d533bf8584>\u001b[0m in \u001b[0;36m<cell line: 8>\u001b[0;34m()\u001b[0m\n\u001b[1;32m      6\u001b[0m \u001b[0mprint\u001b[0m\u001b[0;34m(\u001b[0m\u001b[0ms\u001b[0m\u001b[0;34m[\u001b[0m\u001b[0;36m5\u001b[0m\u001b[0;34m]\u001b[0m\u001b[0;34m)\u001b[0m  \u001b[0;31m#n\u001b[0m\u001b[0;34m\u001b[0m\u001b[0;34m\u001b[0m\u001b[0m\n\u001b[1;32m      7\u001b[0m \u001b[0mprint\u001b[0m\u001b[0;34m(\u001b[0m\u001b[0ms\u001b[0m\u001b[0;34m[\u001b[0m\u001b[0;36m6\u001b[0m\u001b[0;34m]\u001b[0m\u001b[0;34m)\u001b[0m  \u001b[0;31m#s\u001b[0m\u001b[0;34m\u001b[0m\u001b[0;34m\u001b[0m\u001b[0m\n\u001b[0;32m----> 8\u001b[0;31m \u001b[0mprint\u001b[0m\u001b[0;34m(\u001b[0m\u001b[0ms\u001b[0m\u001b[0;34m[\u001b[0m\u001b[0;36m7\u001b[0m\u001b[0;34m]\u001b[0m\u001b[0;34m)\u001b[0m  \u001b[0;31m#Error: Index out of bounds or range\u001b[0m\u001b[0;34m\u001b[0m\u001b[0;34m\u001b[0m\u001b[0m\n\u001b[0m",
            "\u001b[0;31mIndexError\u001b[0m: string index out of range"
          ]
        }
      ],
      "source": [
        "print(s[0])  #F\n",
        "print(s[1])  #e\n",
        "print(s[2])  #t\n",
        "print(s[3])  #i\n",
        "print(s[4])  #a\n",
        "print(s[5])  #n\n",
        "print(s[6])  #s\n",
        "print(s[7])  #Error: Index out of bounds or range"
      ]
    },
    {
      "cell_type": "code",
      "execution_count": null,
      "id": "pTdWOdPVwXiE",
      "metadata": {
        "colab": {
          "base_uri": "https://localhost:8080/"
        },
        "id": "pTdWOdPVwXiE",
        "outputId": "7d27ce21-0340-4c6a-eb9f-ab303046fcde"
      },
      "outputs": [
        {
          "name": "stdout",
          "output_type": "stream",
          "text": [
            "Cet\n"
          ]
        }
      ],
      "source": [
        "#Slincing[start:end] {remember end is not included}\n",
        "#slice Fet from the string Fetians\n",
        "print(s[0:3]) # 0-F,1-e,2-t"
      ]
    },
    {
      "cell_type": "code",
      "execution_count": null,
      "id": "QAt2lMQcwXiE",
      "metadata": {
        "colab": {
          "base_uri": "https://localhost:8080/"
        },
        "id": "QAt2lMQcwXiE",
        "outputId": "c8a5844d-2790-4421-ee9b-cf36f9d8d06a"
      },
      "outputs": [
        {
          "name": "stdout",
          "output_type": "stream",
          "text": [
            "etpa\n"
          ]
        }
      ],
      "source": [
        "#slice etia from the string Fetians\n",
        "print(s[1:5])"
      ]
    },
    {
      "cell_type": "code",
      "execution_count": null,
      "id": "0iVnAEYMwXiE",
      "metadata": {
        "colab": {
          "base_uri": "https://localhost:8080/"
        },
        "id": "0iVnAEYMwXiE",
        "outputId": "afbbd376-9350-43ec-c649-ab642b0151eb"
      },
      "outputs": [
        {
          "name": "stdout",
          "output_type": "stream",
          "text": [
            "ass\n",
            "ass\n"
          ]
        }
      ],
      "source": [
        "# slice ans from Fetians\n",
        "print(s[4:7])\n",
        "print(s[4:])"
      ]
    },
    {
      "cell_type": "code",
      "execution_count": null,
      "id": "da5jzwBnwXiE",
      "metadata": {
        "colab": {
          "base_uri": "https://localhost:8080/"
        },
        "id": "da5jzwBnwXiE",
        "outputId": "2090455d-12d0-4979-ff70-c89b1d0a6bd3"
      },
      "outputs": [
        {
          "name": "stdout",
          "output_type": "stream",
          "text": [
            "Cetpas\n",
            "etpas\n",
            "tpas\n",
            "as\n"
          ]
        }
      ],
      "source": [
        "# slice[start:end] -- all characters starting at start index upto end-1 (i.e excluding end)\n",
        "#What if de omit end parameter\n",
        "print(s[0:])\n",
        "print(s[1:])\n",
        "print(s[2:])\n",
        "print(s[4:])"
      ]
    },
    {
      "cell_type": "code",
      "execution_count": null,
      "id": "t6Up5SJUwXiF",
      "metadata": {
        "colab": {
          "base_uri": "https://localhost:8080/"
        },
        "id": "t6Up5SJUwXiF",
        "outputId": "49b56d65-6956-4182-9828-a2ad718a73a7"
      },
      "outputs": [
        {
          "name": "stdout",
          "output_type": "stream",
          "text": [
            "Cetpa\n",
            "Cetp\n",
            "Ce\n"
          ]
        }
      ],
      "source": [
        "# What if we omit start index from the slice\n",
        "print(s[:5])\n",
        "print(s[:4])\n",
        "print(s[:2])"
      ]
    },
    {
      "cell_type": "code",
      "execution_count": null,
      "id": "QVRjK8LFwXiF",
      "metadata": {
        "id": "QVRjK8LFwXiF"
      },
      "outputs": [],
      "source": [
        "#Negative Indexing (Remember : String is always read from left to right)\n",
        "#negative indexing starts with -1, which represents the last character.\n",
        "#s[-7] -->'F' , s[-6] -->'e',s[-5] -->'t', s[-4] -->'i',s[-3] -->'a',s[-2] -->'n',s[-1] -->'s'"
      ]
    },
    {
      "cell_type": "code",
      "execution_count": null,
      "id": "kHpTvSLkwXiF",
      "metadata": {
        "colab": {
          "base_uri": "https://localhost:8080/"
        },
        "id": "kHpTvSLkwXiF",
        "outputId": "95740a88-ed5b-48a6-8ec0-c9f25e9d4976"
      },
      "outputs": [
        {
          "name": "stdout",
          "output_type": "stream",
          "text": [
            "e\n",
            "t\n",
            "p\n",
            "a\n",
            "s\n",
            "s\n"
          ]
        }
      ],
      "source": [
        "\n",
        "print(s[-6])  #e\n",
        "print(s[-5])  #t\n",
        "print(s[-4])  #i\n",
        "print(s[-3])  #a\n",
        "print(s[-2])  #n\n",
        "print(s[-1])  #s"
      ]
    },
    {
      "cell_type": "code",
      "execution_count": null,
      "id": "L0vK7ByWwXiF",
      "metadata": {
        "colab": {
          "base_uri": "https://localhost:8080/"
        },
        "id": "L0vK7ByWwXiF",
        "outputId": "8c7db963-8440-476b-de61-0f32c06a5b23"
      },
      "outputs": [
        {
          "name": "stdout",
          "output_type": "stream",
          "text": [
            "et\n"
          ]
        }
      ],
      "source": [
        "#Slincing[start:end] {remember end is not included}\n",
        "#slice Fet from the string Fetians using negative indexing\n",
        "print(s[-6:-4]) # -7->F,-6->e,-5->t"
      ]
    },
    {
      "cell_type": "code",
      "execution_count": null,
      "id": "5M9kNTwcwXiF",
      "metadata": {
        "colab": {
          "base_uri": "https://localhost:8080/"
        },
        "id": "5M9kNTwcwXiF",
        "outputId": "b09dc8dd-fa28-4b93-c22b-3bcdfb5f8222"
      },
      "outputs": [
        {
          "name": "stdout",
          "output_type": "stream",
          "text": [
            "etpa\n"
          ]
        }
      ],
      "source": [
        "#slice etia from the string Fetians using negative indexing\n",
        "print(s[-6:-2])"
      ]
    },
    {
      "cell_type": "code",
      "execution_count": null,
      "id": "dyH8OIyGwXiF",
      "metadata": {
        "colab": {
          "base_uri": "https://localhost:8080/",
          "height": 35
        },
        "id": "dyH8OIyGwXiF",
        "outputId": "0ecc2796-5abc-48e5-b8f7-ba77f6295947"
      },
      "outputs": [
        {
          "data": {
            "application/vnd.google.colaboratory.intrinsic+json": {
              "type": "string"
            },
            "text/plain": [
              "'tpa'"
            ]
          },
          "execution_count": 76,
          "metadata": {},
          "output_type": "execute_result"
        }
      ],
      "source": [
        "#slice tia from the string Fetians using negative indexing DIY\n",
        "s[-5:-2]"
      ]
    },
    {
      "cell_type": "code",
      "execution_count": null,
      "id": "-VOrI-urwXiF",
      "metadata": {
        "colab": {
          "base_uri": "https://localhost:8080/"
        },
        "id": "-VOrI-urwXiF",
        "outputId": "becb9880-727f-49b8-e987-b76dbe30b988"
      },
      "outputs": [
        {
          "name": "stdout",
          "output_type": "stream",
          "text": [
            "Cetpas\n",
            "Cetpa\n",
            "Cetp\n",
            "Cet\n"
          ]
        }
      ],
      "source": [
        "#what will happen if we omit the start index in negative indexed slicing\n",
        "print(s[:-1])\n",
        "print(s[:-2])\n",
        "print(s[:-3])\n",
        "print(s[:-4])"
      ]
    },
    {
      "cell_type": "code",
      "execution_count": null,
      "id": "DDFZ2w3LwXiG",
      "metadata": {
        "colab": {
          "base_uri": "https://localhost:8080/"
        },
        "id": "DDFZ2w3LwXiG",
        "outputId": "81ea1c0e-8d33-4618-b191-6a3253341676"
      },
      "outputs": [
        {
          "name": "stdout",
          "output_type": "stream",
          "text": [
            "s\n",
            "ss\n",
            "ass\n",
            "pass\n"
          ]
        }
      ],
      "source": [
        "#what will happen if we omit the end index in negative indexed slicing\n",
        "print(s[-1:])\n",
        "print(s[-2:])\n",
        "print(s[-3:])\n",
        "print(s[-4:])"
      ]
    },
    {
      "cell_type": "code",
      "execution_count": null,
      "id": "tG3_aWM9wXiG",
      "metadata": {
        "colab": {
          "base_uri": "https://localhost:8080/"
        },
        "id": "tG3_aWM9wXiG",
        "outputId": "ad3e70b9-3dc2-4fcc-d249-b69e66fc123f"
      },
      "outputs": [
        {
          "name": "stdout",
          "output_type": "stream",
          "text": [
            "Cetpass\n"
          ]
        }
      ],
      "source": [
        "#What will happen if we forget both start and end index\n",
        "print(s[:])"
      ]
    },
    {
      "cell_type": "code",
      "execution_count": null,
      "id": "SslgINfxwXiG",
      "metadata": {
        "colab": {
          "base_uri": "https://localhost:8080/"
        },
        "id": "SslgINfxwXiG",
        "outputId": "2d4f6b9b-3894-4192-f857-c0e2f58bbe75"
      },
      "outputs": [
        {
          "name": "stdout",
          "output_type": "stream",
          "text": [
            "Cta\n",
            "Cetpas\n",
            "Cetpas\n",
            "Cetpass\n",
            "ssapteC\n"
          ]
        }
      ],
      "source": [
        "print(s[0:6:2]) # slicing with jump[start:end:jump]\n",
        "print(s[:6:])\n",
        "print(s[:6:1])\n",
        "print(s[::])\n",
        "print(s[::-1])"
      ]
    },
    {
      "cell_type": "markdown",
      "id": "xRerF96sS5Gj",
      "metadata": {
        "id": "xRerF96sS5Gj"
      },
      "source": []
    },
    {
      "cell_type": "markdown",
      "id": "BrVvYZHowXiG",
      "metadata": {
        "id": "BrVvYZHowXiG"
      },
      "source": [
        "**Few Useful String Functions**<br>\n",
        "a = “Hello Python”<br>\n",
        "len(a) – Gives the length of the String<br>\n",
        "a.lower() – Converts all Uppercase to Lower<br>\n",
        "a.upper() – Converts all lowercase to upper<br>\n",
        "a.find(‘Python’) -searches for the given other string (not a regular expression) within s, and returns the first index where it begins or -1 if not found.<br>\n",
        "a.strip() -- returns a string with whitespace removed from the start and end.<br>\n",
        "s.startswith('other'), s.endswith('other') -- tests if the string starts or ends with the given other string<br>\n",
        "s.split('delim') -- returns a list of substrings separated by the given delimiter. The delimiter is not a regular expression, it's just text. <br>\n",
        "'aaa,bbb,ccc'.split(',') -> ['aaa', 'bbb', 'ccc']. As a convenient special case s.split() (with no arguments) splits on all whitespace chars.\n",
        "\n",
        "a.count(‘Python’) -Python string method count() returns the number of occurrences of substring sub in the range [start, end]. Optional arguments start and end are interpreted as in slice notation.<br>\n",
        "a.index(str, beg=0, end=len(string)) - Same as find(), but raises an exception if str not found.<br>\n",
        "https://towardsdatascience.com/useful-string-methods-in-python-5047ea4d3f90\n"
      ]
    },
    {
      "cell_type": "code",
      "execution_count": null,
      "id": "VB-F53PjwXiG",
      "metadata": {
        "id": "VB-F53PjwXiG"
      },
      "outputs": [],
      "source": [
        "a= \"cetpa of engineering aND teCHnology\""
      ]
    },
    {
      "cell_type": "code",
      "execution_count": null,
      "id": "KLCjkhNfwXiG",
      "metadata": {
        "colab": {
          "base_uri": "https://localhost:8080/"
        },
        "id": "KLCjkhNfwXiG",
        "outputId": "39d541db-91da-41db-8dcd-344b24d4d592"
      },
      "outputs": [
        {
          "data": {
            "text/plain": [
              "35"
            ]
          },
          "execution_count": 6,
          "metadata": {},
          "output_type": "execute_result"
        }
      ],
      "source": [
        "len(a)"
      ]
    },
    {
      "cell_type": "code",
      "execution_count": null,
      "id": "rnlUYemzwXiH",
      "metadata": {
        "colab": {
          "base_uri": "https://localhost:8080/",
          "height": 35
        },
        "id": "rnlUYemzwXiH",
        "outputId": "b043f4b1-eaac-4040-a9b9-9784144a68db"
      },
      "outputs": [
        {
          "data": {
            "application/vnd.google.colaboratory.intrinsic+json": {
              "type": "string"
            },
            "text/plain": [
              "'CETPA OF ENGINEERING AND TECHNOLOGY'"
            ]
          },
          "execution_count": 7,
          "metadata": {},
          "output_type": "execute_result"
        }
      ],
      "source": [
        "a.upper()"
      ]
    },
    {
      "cell_type": "code",
      "execution_count": null,
      "id": "cEfVn7oswXiH",
      "metadata": {
        "colab": {
          "base_uri": "https://localhost:8080/",
          "height": 35
        },
        "id": "cEfVn7oswXiH",
        "outputId": "d8f4296e-2933-4bee-ca23-5c0587338198"
      },
      "outputs": [
        {
          "data": {
            "application/vnd.google.colaboratory.intrinsic+json": {
              "type": "string"
            },
            "text/plain": [
              "'cetpa of engineering and technology'"
            ]
          },
          "execution_count": 8,
          "metadata": {},
          "output_type": "execute_result"
        }
      ],
      "source": [
        "a.lower()"
      ]
    },
    {
      "cell_type": "code",
      "execution_count": null,
      "id": "nOdC-BwwcQUg",
      "metadata": {
        "id": "nOdC-BwwcQUg"
      },
      "outputs": [],
      "source": [
        "text = \"Stra&a\""
      ]
    },
    {
      "cell_type": "code",
      "execution_count": null,
      "id": "RIW22iAAcZix",
      "metadata": {
        "colab": {
          "base_uri": "https://localhost:8080/",
          "height": 35
        },
        "id": "RIW22iAAcZix",
        "outputId": "120507e7-c1a3-4884-9c30-ff6017c43e7c"
      },
      "outputs": [
        {
          "data": {
            "application/vnd.google.colaboratory.intrinsic+json": {
              "type": "string"
            },
            "text/plain": [
              "'stra&a'"
            ]
          },
          "execution_count": 2,
          "metadata": {},
          "output_type": "execute_result"
        }
      ],
      "source": [
        "text.lower()"
      ]
    },
    {
      "cell_type": "code",
      "execution_count": null,
      "id": "thTbAXDlcjI7",
      "metadata": {
        "colab": {
          "base_uri": "https://localhost:8080/",
          "height": 35
        },
        "id": "thTbAXDlcjI7",
        "outputId": "9376d6f0-e400-45f1-c632-fefb4e333acb"
      },
      "outputs": [
        {
          "data": {
            "application/vnd.google.colaboratory.intrinsic+json": {
              "type": "string"
            },
            "text/plain": [
              "'stra&a'"
            ]
          },
          "execution_count": 9,
          "metadata": {},
          "output_type": "execute_result"
        }
      ],
      "source": [
        "text.casefold()"
      ]
    },
    {
      "cell_type": "markdown",
      "id": "rov5heXLcy57",
      "metadata": {
        "id": "rov5heXLcy57"
      },
      "source": [
        "diff blw casefold and lower ?"
      ]
    },
    {
      "cell_type": "code",
      "execution_count": null,
      "id": "3H05iaYFdYzg",
      "metadata": {
        "id": "3H05iaYFdYzg"
      },
      "outputs": [],
      "source": [
        "text = \"Straße\"\n",
        "\n",
        "lower_text = text.lower()\n",
        "casefold_text = text.casefold()\n",
        "\n",
        "print(lower_text)  # Output: straße\n",
        "print(casefold_text)  # Output: strasse\n"
      ]
    },
    {
      "cell_type": "code",
      "execution_count": null,
      "id": "HaXapMRowXiH",
      "metadata": {
        "colab": {
          "base_uri": "https://localhost:8080/",
          "height": 35
        },
        "id": "HaXapMRowXiH",
        "outputId": "52e78b36-8404-4fd3-f7c4-f39ffdea7c31"
      },
      "outputs": [
        {
          "data": {
            "application/vnd.google.colaboratory.intrinsic+json": {
              "type": "string"
            },
            "text/plain": [
              "'Cetpa Of Engineering And Technology'"
            ]
          },
          "execution_count": 10,
          "metadata": {},
          "output_type": "execute_result"
        }
      ],
      "source": [
        "a.title()"
      ]
    },
    {
      "cell_type": "code",
      "execution_count": null,
      "id": "NgfU8HcewXiH",
      "metadata": {
        "colab": {
          "base_uri": "https://localhost:8080/",
          "height": 35
        },
        "id": "NgfU8HcewXiH",
        "outputId": "ca2a2ddb-666d-4aad-d6f4-3d20dcac9362"
      },
      "outputs": [
        {
          "data": {
            "application/vnd.google.colaboratory.intrinsic+json": {
              "type": "string"
            },
            "text/plain": [
              "'cetpa of engineering and technology'"
            ]
          },
          "execution_count": 11,
          "metadata": {},
          "output_type": "execute_result"
        }
      ],
      "source": [
        "a.casefold()"
      ]
    },
    {
      "cell_type": "code",
      "execution_count": null,
      "id": "-z_sn3vOwXiH",
      "metadata": {
        "colab": {
          "base_uri": "https://localhost:8080/"
        },
        "id": "-z_sn3vOwXiH",
        "outputId": "c41a8c37-a60d-457a-fb9c-f6ee4d4e2be3"
      },
      "outputs": [
        {
          "data": {
            "text/plain": [
              "1"
            ]
          },
          "execution_count": 82,
          "metadata": {},
          "output_type": "execute_result"
        }
      ],
      "source": [
        "a = 'Cepta of engineering and technology'\n",
        "a.count('of')"
      ]
    },
    {
      "cell_type": "code",
      "execution_count": null,
      "id": "PRdlOpmAwXiH",
      "metadata": {
        "colab": {
          "base_uri": "https://localhost:8080/"
        },
        "id": "PRdlOpmAwXiH",
        "outputId": "0fdcf24f-a0e7-4dbe-c00e-2388a183c073"
      },
      "outputs": [
        {
          "data": {
            "text/plain": [
              "3"
            ]
          },
          "execution_count": 4,
          "metadata": {},
          "output_type": "execute_result"
        }
      ],
      "source": [
        "a.count(\"o\")"
      ]
    },
    {
      "cell_type": "code",
      "execution_count": null,
      "id": "hd57MkXwwXiH",
      "metadata": {
        "colab": {
          "base_uri": "https://localhost:8080/"
        },
        "id": "hd57MkXwwXiH",
        "outputId": "ea579e83-f93c-494f-9918-edf770e7158e"
      },
      "outputs": [
        {
          "name": "stdout",
          "output_type": "stream",
          "text": [
            "###Cepta of engineering and technology###\n",
            "Cepta of engineering and technology\n"
          ]
        }
      ],
      "source": [
        "print(a.center(41,'#'))\n",
        "print(a)"
      ]
    },
    {
      "cell_type": "code",
      "execution_count": null,
      "id": "EjidXxCowXiH",
      "metadata": {
        "colab": {
          "base_uri": "https://localhost:8080/"
        },
        "id": "EjidXxCowXiH",
        "outputId": "5e18310b-991e-4699-c605-e663eda4a487"
      },
      "outputs": [
        {
          "data": {
            "text/plain": [
              "True"
            ]
          },
          "execution_count": 10,
          "metadata": {},
          "output_type": "execute_result"
        }
      ],
      "source": [
        " a.startswith('C')"
      ]
    },
    {
      "cell_type": "code",
      "execution_count": null,
      "id": "U9SrjPx9wXiI",
      "metadata": {
        "id": "U9SrjPx9wXiI",
        "outputId": "6044a272-5808-458d-b5bb-a524ebec2574"
      },
      "outputs": [
        {
          "data": {
            "text/plain": [
              "False"
            ]
          },
          "execution_count": 63,
          "metadata": {},
          "output_type": "execute_result"
        }
      ],
      "source": [
        "a.endswith('o')"
      ]
    },
    {
      "cell_type": "markdown",
      "id": "Y76NusHnnE8T",
      "metadata": {
        "id": "Y76NusHnnE8T"
      },
      "source": [
        "22/7"
      ]
    },
    {
      "cell_type": "code",
      "execution_count": null,
      "id": "3ZvpYGCSwXiI",
      "metadata": {
        "colab": {
          "base_uri": "https://localhost:8080/"
        },
        "id": "3ZvpYGCSwXiI",
        "outputId": "9700c0bd-6815-4758-f52e-b93249defadb"
      },
      "outputs": [
        {
          "name": "stdout",
          "output_type": "stream",
          "text": [
            "-1\n",
            "12\n",
            "12\n",
            "13\n",
            "46\n",
            "86\n",
            "32\n"
          ]
        }
      ],
      "source": [
        "message = 'Python is a fun programming language and uses functional programming too. Having more fun.'\n",
        "# The find() method returns the index of first occurrence of the substring (if found).\n",
        "# If not found, it returns -1.\n",
        "# check the index of 'fun'\n",
        "print(message.find('hy'))\n",
        "print(message.find('fun'))\n",
        "print(message.index('fun'))\n",
        "#print(message.index('u'))\n",
        "print(message.index('fun',13))\n",
        "print(message.index('fun',48))\n",
        "\n",
        "print(message.index('u',14))\n"
      ]
    },
    {
      "cell_type": "code",
      "execution_count": null,
      "id": "Bac0bKvLkjeG",
      "metadata": {
        "colab": {
          "base_uri": "https://localhost:8080/"
        },
        "id": "Bac0bKvLkjeG",
        "outputId": "afd3d3e3-bf37-49f2-becb-9ea954e446d4"
      },
      "outputs": [
        {
          "data": {
            "text/plain": [
              "33"
            ]
          },
          "execution_count": 1,
          "metadata": {},
          "output_type": "execute_result"
        }
      ],
      "source": [
        "x='Python is a fun programming langu'\n",
        "len(x)"
      ]
    },
    {
      "cell_type": "markdown",
      "id": "4R5Wrt1JIVLR",
      "metadata": {
        "id": "4R5Wrt1JIVLR"
      },
      "source": [
        "24-6-24"
      ]
    },
    {
      "cell_type": "code",
      "execution_count": null,
      "id": "lplq_w_twXiI",
      "metadata": {
        "colab": {
          "base_uri": "https://localhost:8080/"
        },
        "id": "lplq_w_twXiI",
        "outputId": "335a85a8-b395-4130-c7e0-133a78edf105"
      },
      "outputs": [
        {
          "name": "stdout",
          "output_type": "stream",
          "text": [
            "6\n",
            "18\n",
            "20\n",
            "olleH\n"
          ]
        }
      ],
      "source": [
        "# The index() method is similar to the find() method for strings.\n",
        "\n",
        "# The only difference is that find() method\n",
        "# returns -1 if the substring is not found, whereas index() throws an exception.\n",
        "\n",
        "sentence = 'Pythoning programming is fun.'\n",
        "\n",
        "# Substring is searched in 'gramming is fun.'\n",
        "print(sentence.find('ing'))\n",
        "print(sentence.index('ing', 10))\n",
        "\n",
        "# Substring is searched in 'gramming is '\n",
        "print(sentence.index('g is', 10))\n",
        "#print(sentence.index('g is', 10,-4))\n",
        "\n",
        "# Substring is searched in 'programming'\n",
        "#print(sentence.index('fun', 7, 18))\n",
        "\n",
        "s = \"Hello\"\n",
        "print(s[::-1])"
      ]
    },
    {
      "cell_type": "code",
      "execution_count": null,
      "id": "KI9Jqmv0wXiI",
      "metadata": {
        "id": "KI9Jqmv0wXiI",
        "outputId": "8ee6f7c8-2b5b-4900-985e-d8851d183c28"
      },
      "outputs": [
        {
          "name": "stdout",
          "output_type": "stream",
          "text": [
            "s1.join(s2): 1abc2abc3\n",
            "s2.join(s1): a123b123c\n"
          ]
        }
      ],
      "source": [
        "s1 = 'abc'\n",
        "s2 = '123'\n",
        "\n",
        "# each element of s2 is separated by s1. s1 will act like seperator.\n",
        "# '1'+ 'abc'+ '2'+ 'abc'+ '3'\n",
        "print('s1.join(s2):', s1.join(s2))\n",
        "\n",
        "# each element of s1 is separated by s2. s2 will act like seperator.\n",
        "# 'a'+ '123'+ 'b'+ '123'+ 'b'\n",
        "print('s2.join(s1):', s2.join(s1))"
      ]
    },
    {
      "cell_type": "code",
      "execution_count": null,
      "id": "q8kypVmuwXiI",
      "metadata": {
        "colab": {
          "base_uri": "https://localhost:8080/"
        },
        "id": "q8kypVmuwXiI",
        "outputId": "4acca51c-daf9-41c5-b8a2-d3dd803fbb54"
      },
      "outputs": [
        {
          "name": "stdout",
          "output_type": "stream",
          "text": [
            "['Python', 'is', 'a', 'fun', 'programming', 'language']\n"
          ]
        }
      ],
      "source": [
        "#The split() method breaks up a string at the specified separator and returns a list of strings.\n",
        "text = 'Python is a fun programming language'\n",
        "\n",
        "# split the text from space\n",
        "print(text.split(\" \"))\n",
        "\n",
        "# Output: ['Python', 'is', 'a', 'fun', 'programming', 'language']"
      ]
    },
    {
      "cell_type": "code",
      "execution_count": null,
      "id": "Hn4_d_JJwXiI",
      "metadata": {
        "id": "Hn4_d_JJwXiI"
      },
      "outputs": [],
      "source": [
        "# The syntax of split() is:\n",
        "\n",
        "# str.split(separator, maxsplit)\n",
        "# split() Parameters\n",
        "# The split() method takes a maximum of 2 parameters:\n",
        "\n",
        "# separator (optional)- Delimiter at which splits occur. If not provided, the string is splitted at whitespaces.\n",
        "# maxsplit (optional) - Maximum number of splits. If not provided, there is no limit on the number of splits."
      ]
    },
    {
      "cell_type": "code",
      "execution_count": null,
      "id": "DwhjSnpGwXiI",
      "metadata": {
        "colab": {
          "base_uri": "https://localhost:8080/"
        },
        "id": "DwhjSnpGwXiI",
        "outputId": "6fb50e44-0417-45b2-9435-e26d83ffa4db"
      },
      "outputs": [
        {
          "name": "stdout",
          "output_type": "stream",
          "text": [
            "['Love', 'thy', 'neighbor']\n",
            "['Coffee', 'Tea', 'Milk']\n",
            "['Coffee, Tea, Milk']\n"
          ]
        }
      ],
      "source": [
        "text= 'Love thy neighbor'\n",
        "\n",
        "# splits at space\n",
        "print(text.split())\n",
        "\n",
        "grocery = 'Coffee, Tea, Milk'\n",
        "\n",
        "# splits at ','\n",
        "print(grocery.split(', '))\n",
        "\n",
        "# Splits at ':' # seperator is not present in the given variable grocery, hence it returned a single element.\n",
        "print(grocery.split(':'))"
      ]
    },
    {
      "cell_type": "code",
      "execution_count": null,
      "id": "ycH4ArbPwXiI",
      "metadata": {
        "colab": {
          "base_uri": "https://localhost:8080/"
        },
        "id": "ycH4ArbPwXiI",
        "outputId": "427a841a-d35f-4389-a210-f9b721c3a598"
      },
      "outputs": [
        {
          "name": "stdout",
          "output_type": "stream",
          "text": [
            "['Milk', 'Horlicks', 'Bread, Butter']\n",
            "['Milk', 'Horlicks, Bread, Butter']\n",
            "['Milk', 'Horlicks', 'Bread', 'Butter']\n",
            "['Milk, Horlicks, Bread, Butter']\n"
          ]
        }
      ],
      "source": [
        "grocery = 'Milk, Horlicks, Bread, Butter'\n",
        "\n",
        "# maxsplit: 2\n",
        "print(grocery.split(', ', 2))\n",
        "\n",
        "# maxsplit: 1\n",
        "print(grocery.split(', ', 1))\n",
        "\n",
        "# maxsplit: 5\n",
        "print(grocery.split(', ', 5))\n",
        "\n",
        "# maxsplit: 0\n",
        "print(grocery.split(', ', 0))"
      ]
    },
    {
      "cell_type": "code",
      "execution_count": null,
      "id": "2ci18ByMwXiJ",
      "metadata": {
        "id": "2ci18ByMwXiJ",
        "outputId": "cd5ece85-fe32-4b47-8d0d-0a99353a314d"
      },
      "outputs": [
        {
          "name": "stdout",
          "output_type": "stream",
          "text": [
            "['I', 'love', 'Python', 'Programming.']\n"
          ]
        }
      ],
      "source": [
        "#The splitlines() method splits the string at line breaks and returns a list.\n",
        "# \\n is a line boundary\n",
        "sentence = 'I\\nlove\\nPython\\nProgramming.'\n",
        "\n",
        "# returns a list after spliting string at line breaks\n",
        "resulting_list = sentence.splitlines()\n",
        "\n",
        "print(resulting_list)\n",
        "\n",
        "# Output: ['I', 'love', 'Python', 'Programming.']"
      ]
    },
    {
      "cell_type": "code",
      "execution_count": null,
      "id": "Ei1b25EcwXiJ",
      "metadata": {
        "id": "Ei1b25EcwXiJ"
      },
      "outputs": [],
      "source": [
        "b = \"HELLO\""
      ]
    },
    {
      "cell_type": "markdown",
      "id": "piKRKJzSqs67",
      "metadata": {
        "id": "piKRKJzSqs67"
      },
      "source": [
        "HW"
      ]
    },
    {
      "cell_type": "code",
      "execution_count": null,
      "id": "GPE1471SwXiJ",
      "metadata": {
        "colab": {
          "base_uri": "https://localhost:8080/",
          "height": 35
        },
        "id": "GPE1471SwXiJ",
        "outputId": "fbc0ff6c-07a1-425f-a18f-7ef80ac69851"
      },
      "outputs": [
        {
          "data": {
            "application/vnd.google.colaboratory.intrinsic+json": {
              "type": "string"
            },
            "text/plain": [
              "'hello'"
            ]
          },
          "execution_count": 10,
          "metadata": {},
          "output_type": "execute_result"
        }
      ],
      "source": [
        "b.casefold()"
      ]
    },
    {
      "cell_type": "code",
      "execution_count": null,
      "id": "_hfnT9b5wXiJ",
      "metadata": {
        "id": "_hfnT9b5wXiJ",
        "outputId": "ae74cefe-020f-4e83-f6ff-9b77928626c4"
      },
      "outputs": [
        {
          "data": {
            "text/plain": [
              "'hello'"
            ]
          },
          "execution_count": 45,
          "metadata": {},
          "output_type": "execute_result"
        }
      ],
      "source": [
        "b.swapcase()"
      ]
    },
    {
      "cell_type": "code",
      "execution_count": null,
      "id": "A11n8u9uwXiJ",
      "metadata": {
        "id": "A11n8u9uwXiJ",
        "outputId": "aaa8bcd6-57ee-4780-a080-267a1f61cc32"
      },
      "outputs": [
        {
          "name": "stdout",
          "output_type": "stream",
          "text": [
            "olleH\n"
          ]
        }
      ],
      "source": [
        "# Program to reverse a string using join and reversed function\n",
        "b = \"Hello\"\n",
        "b =\"\".join(reversed(b))\n",
        "print(b)\n"
      ]
    },
    {
      "cell_type": "code",
      "execution_count": null,
      "id": "uRSQ1b-Z0-j5",
      "metadata": {
        "colab": {
          "base_uri": "https://localhost:8080/",
          "height": 176
        },
        "id": "uRSQ1b-Z0-j5",
        "outputId": "60b0fc7c-a609-487d-cddf-ed14eab8dea9"
      },
      "outputs": [
        {
          "ename": "TypeError",
          "evalue": "'int' object is not reversible",
          "output_type": "error",
          "traceback": [
            "\u001b[0;31m---------------------------------------------------------------------------\u001b[0m",
            "\u001b[0;31mTypeError\u001b[0m                                 Traceback (most recent call last)",
            "\u001b[0;32m<ipython-input-13-8ac48f3d836e>\u001b[0m in \u001b[0;36m<cell line: 2>\u001b[0;34m()\u001b[0m\n\u001b[1;32m      1\u001b[0m \u001b[0mb\u001b[0m \u001b[0;34m=\u001b[0m \u001b[0;36m123\u001b[0m\u001b[0;34m\u001b[0m\u001b[0;34m\u001b[0m\u001b[0m\n\u001b[0;32m----> 2\u001b[0;31m \u001b[0mb\u001b[0m \u001b[0;34m=\u001b[0m \u001b[0;34m\"\"\u001b[0m\u001b[0;34m.\u001b[0m\u001b[0mjoin\u001b[0m\u001b[0;34m(\u001b[0m\u001b[0mreversed\u001b[0m\u001b[0;34m(\u001b[0m\u001b[0mb\u001b[0m\u001b[0;34m)\u001b[0m\u001b[0;34m)\u001b[0m\u001b[0;34m\u001b[0m\u001b[0;34m\u001b[0m\u001b[0m\n\u001b[0m\u001b[1;32m      3\u001b[0m \u001b[0mprint\u001b[0m\u001b[0;34m(\u001b[0m\u001b[0mb\u001b[0m\u001b[0;34m)\u001b[0m\u001b[0;34m\u001b[0m\u001b[0;34m\u001b[0m\u001b[0m\n",
            "\u001b[0;31mTypeError\u001b[0m: 'int' object is not reversible"
          ]
        }
      ],
      "source": [
        "b = 123\n",
        "b = \"\".join(reversed(b))\n",
        "print(b)"
      ]
    },
    {
      "cell_type": "code",
      "execution_count": null,
      "id": "de32i-V-1Lk2",
      "metadata": {
        "colab": {
          "base_uri": "https://localhost:8080/"
        },
        "id": "de32i-V-1Lk2",
        "outputId": "d27e1f0c-a2ca-48cb-a7e2-73fdd672c6b6"
      },
      "outputs": [
        {
          "name": "stdout",
          "output_type": "stream",
          "text": [
            "321\n"
          ]
        }
      ],
      "source": [
        "b = '123'\n",
        "b = \"\".join(reversed(b))\n",
        "print(b)"
      ]
    },
    {
      "cell_type": "code",
      "execution_count": null,
      "id": "ylBVrjFh6q1B",
      "metadata": {
        "id": "ylBVrjFh6q1B"
      },
      "outputs": [],
      "source": [
        "# Example 1: Leading whitespace\n",
        "a = \"   hello\"\n",
        "print(a.strip())  # Output: \"hello\"\n",
        "\n",
        "# Example 2: Trailing whitespace\n",
        "a = \"hello   \"\n",
        "print(a.strip())  # Output: \"hello\"\n",
        "\n",
        "# Example 3: Leading and trailing whitespace\n",
        "a = \"   hello   \"\n",
        "print(a.strip())  # Output: \"hello\"\n",
        "\n",
        "# Example 4: No whitespace\n",
        "a = \"hello\"\n",
        "print(a.strip())  # Output: \"hello\"\n",
        "\n",
        "# Example 5: Empty string\n",
        "a = \"   \"\n",
        "print(a.strip())  # Output: \"\"\n"
      ]
    },
    {
      "cell_type": "markdown",
      "id": "WBZwutXlwXiJ",
      "metadata": {
        "id": "WBZwutXlwXiJ"
      },
      "source": [
        "**String Concatenation**<br>\n",
        "S = “red”<br>\n",
        "S = S + “blue” ----redblue ( new string) strings are immutable<br>\n",
        "S+= ‘ blue’ ----- redblueblue<br>\n",
        "A = “ blue”<br>\n",
        "A = A * 2 ---- blueblue ( i.e A+A)<br>\n",
        "A =A* 3 ---- blueblueblueblueblueblue (A+A+A)<br>\n",
        "What will be A = A * 1 ?<br>\n",
        "\n",
        "b = “yellow”<br>\n",
        "b = b + 3 --- error 3 is integer<br>\n",
        "Do b = b + str(3) --- yellow3<br>"
      ]
    },
    {
      "cell_type": "code",
      "execution_count": null,
      "id": "hFXDKcu6wXiJ",
      "metadata": {
        "id": "hFXDKcu6wXiJ",
        "outputId": "b63e2a8f-0803-4669-d30c-aaa138c270e4"
      },
      "outputs": [
        {
          "name": "stdout",
          "output_type": "stream",
          "text": [
            "redblue\n",
            "redblueblue\n"
          ]
        }
      ],
      "source": [
        "S = \"red\"\n",
        "S = S + \"blue\"\n",
        "print(S)\n",
        "S+= 'blue'\n",
        "print(S)"
      ]
    },
    {
      "cell_type": "code",
      "execution_count": null,
      "id": "XE2v4WjmwXiJ",
      "metadata": {
        "id": "XE2v4WjmwXiJ",
        "outputId": "f9457ae4-4e55-4d50-9bb3-699ebad6b457"
      },
      "outputs": [
        {
          "name": "stdout",
          "output_type": "stream",
          "text": [
            "blueblue\n",
            "blueblueblueblueblueblue\n"
          ]
        },
        {
          "data": {
            "text/plain": [
              "'blueblueblueblueblueblue'"
            ]
          },
          "execution_count": 20,
          "metadata": {},
          "output_type": "execute_result"
        }
      ],
      "source": [
        "A = \"blue\"\n",
        "A = A * 2\n",
        "print(A)\n",
        "A = A * 3\n",
        "print(A)\n",
        "#What will be A = A * 1 ?\n",
        "A = A * 1\n",
        "A"
      ]
    },
    {
      "cell_type": "code",
      "execution_count": null,
      "id": "9F4NJukuwXiJ",
      "metadata": {
        "id": "9F4NJukuwXiJ",
        "outputId": "85061ac4-0fba-4316-d3d9-0c2d782c2a11"
      },
      "outputs": [
        {
          "data": {
            "text/plain": [
              "'yellow3'"
            ]
          },
          "execution_count": 26,
          "metadata": {},
          "output_type": "execute_result"
        }
      ],
      "source": [
        "b = \"yellow\"\n",
        "#b = b + 3\n",
        "b = b + str(3)# --- yellow3\n",
        "b"
      ]
    },
    {
      "cell_type": "code",
      "execution_count": null,
      "id": "ejjpnL2NwXiK",
      "metadata": {
        "colab": {
          "base_uri": "https://localhost:8080/"
        },
        "id": "ejjpnL2NwXiK",
        "outputId": "5ba334d0-176c-4cab-e389-eb522fbd9c76"
      },
      "outputs": [
        {
          "name": "stdout",
          "output_type": "stream",
          "text": [
            "Python is fantastic\n"
          ]
        }
      ],
      "source": [
        "#Python does not support use of curly braces to delimit the code blocks\n",
        "#Use Spaces, tabs or combination\n",
        "#Indentation to mark the start of the block\n",
        "x = \"one\"\n",
        "def myfunc():\n",
        " global x\n",
        " x = \"fantastic\"\n",
        "myfunc()\n",
        "\n",
        "print(\"Python is \" + x)"
      ]
    },
    {
      "cell_type": "code",
      "execution_count": null,
      "id": "WcVPJnm1wXiK",
      "metadata": {
        "id": "WcVPJnm1wXiK",
        "outputId": "af05ecee-6a90-480e-c69f-81f2d06c4aaf"
      },
      "outputs": [
        {
          "data": {
            "text/plain": [
              "4"
            ]
          },
          "execution_count": 31,
          "metadata": {},
          "output_type": "execute_result"
        }
      ],
      "source": [
        "def square(a):\n",
        " return a**2\n",
        "square(2)"
      ]
    },
    {
      "cell_type": "code",
      "execution_count": null,
      "id": "ymHwiOBSwXiK",
      "metadata": {
        "colab": {
          "base_uri": "https://localhost:8080/"
        },
        "id": "ymHwiOBSwXiK",
        "outputId": "64bcf3ae-7e5d-498f-ee37-7cb0dc482793"
      },
      "outputs": [
        {
          "data": {
            "text/plain": [
              "9"
            ]
          },
          "execution_count": 21,
          "metadata": {},
          "output_type": "execute_result"
        }
      ],
      "source": [
        "##Comments and DocStrings\n",
        "#Fucntion to square a value----> #Comment\n",
        "def square(a:int) -> \"the square of a number\":  ##function annotation\n",
        " '''computes square of input variable a'''      ## Doc-string\n",
        " z = a**2\n",
        " return z\n",
        "square(3)"
      ]
    },
    {
      "cell_type": "code",
      "execution_count": null,
      "id": "zVKsTPaWwXiK",
      "metadata": {
        "colab": {
          "base_uri": "https://localhost:8080/"
        },
        "id": "zVKsTPaWwXiK",
        "outputId": "343fa5ca-a1f5-4f69-efd8-f5e55aac17a4"
      },
      "outputs": [
        {
          "data": {
            "text/plain": [
              "{'a': int, 'return': 'the square of a number'}"
            ]
          },
          "execution_count": 22,
          "metadata": {},
          "output_type": "execute_result"
        }
      ],
      "source": [
        "#square(#press shift+Tab to view details of the function\n",
        "#or\n",
        "#use square?\n",
        "#or square.__doc__\n",
        "square.__annotations__"
      ]
    },
    {
      "cell_type": "code",
      "execution_count": null,
      "id": "8I9wwMRr5nWj",
      "metadata": {
        "colab": {
          "base_uri": "https://localhost:8080/"
        },
        "id": "8I9wwMRr5nWj",
        "outputId": "80e05be5-7af5-432d-963e-f3bf1146e854"
      },
      "outputs": [
        {
          "data": {
            "text/plain": [
              "81"
            ]
          },
          "execution_count": 26,
          "metadata": {},
          "output_type": "execute_result"
        }
      ],
      "source": [
        "square(9)"
      ]
    },
    {
      "cell_type": "code",
      "execution_count": null,
      "id": "WBMLhlsr5bTt",
      "metadata": {
        "colab": {
          "base_uri": "https://localhost:8080/",
          "height": 35
        },
        "id": "WBMLhlsr5bTt",
        "outputId": "754b735e-f128-404a-91d9-f30762cddf2b"
      },
      "outputs": [
        {
          "data": {
            "application/vnd.google.colaboratory.intrinsic+json": {
              "type": "string"
            },
            "text/plain": [
              "'computes square of input variable a'"
            ]
          },
          "execution_count": 25,
          "metadata": {},
          "output_type": "execute_result"
        }
      ],
      "source": [
        "square.__doc__"
      ]
    },
    {
      "cell_type": "code",
      "execution_count": null,
      "id": "h_KUJa5KwXiK",
      "metadata": {
        "colab": {
          "base_uri": "https://localhost:8080/",
          "height": 35
        },
        "id": "h_KUJa5KwXiK",
        "outputId": "5ad3d3d3-54a7-4a7a-a187-a3d111071185"
      },
      "outputs": [
        {
          "data": {
            "application/vnd.google.colaboratory.intrinsic+json": {
              "type": "string"
            },
            "text/plain": [
              "'Automatically created module for IPython interactive environment'"
            ]
          },
          "execution_count": 23,
          "metadata": {},
          "output_type": "execute_result"
        }
      ],
      "source": [
        "__doc__"
      ]
    },
    {
      "cell_type": "code",
      "execution_count": null,
      "id": "vxkhOyfkwXiK",
      "metadata": {
        "id": "vxkhOyfkwXiK",
        "outputId": "d532b9eb-f6d6-419e-ae73-327e7468911c"
      },
      "outputs": [
        {
          "name": "stdout",
          "output_type": "stream",
          "text": [
            "\n",
            "Welcome to Python 3.8's help utility!\n",
            "\n",
            "If this is your first time using Python, you should definitely check out\n",
            "the tutorial on the Internet at https://docs.python.org/3.8/tutorial/.\n",
            "\n",
            "Enter the name of any module, keyword, or topic to get help on writing\n",
            "Python programs and using Python modules.  To quit this help utility and\n",
            "return to the interpreter, just type \"quit\".\n",
            "\n",
            "To get a list of available modules, keywords, symbols, or topics, type\n",
            "\"modules\", \"keywords\", \"symbols\", or \"topics\".  Each module also comes\n",
            "with a one-line summary of what it does; to list the modules whose name\n",
            "or summary contain a given string such as \"spam\", type \"modules spam\".\n",
            "\n",
            "help> bool\n",
            "Help on class bool in module builtins:\n",
            "\n",
            "class bool(int)\n",
            " |  bool(x) -> bool\n",
            " |  \n",
            " |  Returns True when the argument x is true, False otherwise.\n",
            " |  The builtins True and False are the only two instances of the class bool.\n",
            " |  The class bool is a subclass of the class int, and cannot be subclassed.\n",
            " |  \n",
            " |  Method resolution order:\n",
            " |      bool\n",
            " |      int\n",
            " |      object\n",
            " |  \n",
            " |  Methods defined here:\n",
            " |  \n",
            " |  __and__(self, value, /)\n",
            " |      Return self&value.\n",
            " |  \n",
            " |  __or__(self, value, /)\n",
            " |      Return self|value.\n",
            " |  \n",
            " |  __rand__(self, value, /)\n",
            " |      Return value&self.\n",
            " |  \n",
            " |  __repr__(self, /)\n",
            " |      Return repr(self).\n",
            " |  \n",
            " |  __ror__(self, value, /)\n",
            " |      Return value|self.\n",
            " |  \n",
            " |  __rxor__(self, value, /)\n",
            " |      Return value^self.\n",
            " |  \n",
            " |  __xor__(self, value, /)\n",
            " |      Return self^value.\n",
            " |  \n",
            " |  ----------------------------------------------------------------------\n",
            " |  Static methods defined here:\n",
            " |  \n",
            " |  __new__(*args, **kwargs) from builtins.type\n",
            " |      Create and return a new object.  See help(type) for accurate signature.\n",
            " |  \n",
            " |  ----------------------------------------------------------------------\n",
            " |  Methods inherited from int:\n",
            " |  \n",
            " |  __abs__(self, /)\n",
            " |      abs(self)\n",
            " |  \n",
            " |  __add__(self, value, /)\n",
            " |      Return self+value.\n",
            " |  \n",
            " |  __bool__(self, /)\n",
            " |      self != 0\n",
            " |  \n",
            " |  __ceil__(...)\n",
            " |      Ceiling of an Integral returns itself.\n",
            " |  \n",
            " |  __divmod__(self, value, /)\n",
            " |      Return divmod(self, value).\n",
            " |  \n",
            " |  __eq__(self, value, /)\n",
            " |      Return self==value.\n",
            " |  \n",
            " |  __float__(self, /)\n",
            " |      float(self)\n",
            " |  \n",
            " |  __floor__(...)\n",
            " |      Flooring an Integral returns itself.\n",
            " |  \n",
            " |  __floordiv__(self, value, /)\n",
            " |      Return self//value.\n",
            " |  \n",
            " |  __format__(self, format_spec, /)\n",
            " |      Default object formatter.\n",
            " |  \n",
            " |  __ge__(self, value, /)\n",
            " |      Return self>=value.\n",
            " |  \n",
            " |  __getattribute__(self, name, /)\n",
            " |      Return getattr(self, name).\n",
            " |  \n",
            " |  __getnewargs__(self, /)\n",
            " |  \n",
            " |  __gt__(self, value, /)\n",
            " |      Return self>value.\n",
            " |  \n",
            " |  __hash__(self, /)\n",
            " |      Return hash(self).\n",
            " |  \n",
            " |  __index__(self, /)\n",
            " |      Return self converted to an integer, if self is suitable for use as an index into a list.\n",
            " |  \n",
            " |  __int__(self, /)\n",
            " |      int(self)\n",
            " |  \n",
            " |  __invert__(self, /)\n",
            " |      ~self\n",
            " |  \n",
            " |  __le__(self, value, /)\n",
            " |      Return self<=value.\n",
            " |  \n",
            " |  __lshift__(self, value, /)\n",
            " |      Return self<<value.\n",
            " |  \n",
            " |  __lt__(self, value, /)\n",
            " |      Return self<value.\n",
            " |  \n",
            " |  __mod__(self, value, /)\n",
            " |      Return self%value.\n",
            " |  \n",
            " |  __mul__(self, value, /)\n",
            " |      Return self*value.\n",
            " |  \n",
            " |  __ne__(self, value, /)\n",
            " |      Return self!=value.\n",
            " |  \n",
            " |  __neg__(self, /)\n",
            " |      -self\n",
            " |  \n",
            " |  __pos__(self, /)\n",
            " |      +self\n",
            " |  \n",
            " |  __pow__(self, value, mod=None, /)\n",
            " |      Return pow(self, value, mod).\n",
            " |  \n",
            " |  __radd__(self, value, /)\n",
            " |      Return value+self.\n",
            " |  \n",
            " |  __rdivmod__(self, value, /)\n",
            " |      Return divmod(value, self).\n",
            " |  \n",
            " |  __rfloordiv__(self, value, /)\n",
            " |      Return value//self.\n",
            " |  \n",
            " |  __rlshift__(self, value, /)\n",
            " |      Return value<<self.\n",
            " |  \n",
            " |  __rmod__(self, value, /)\n",
            " |      Return value%self.\n",
            " |  \n",
            " |  __rmul__(self, value, /)\n",
            " |      Return value*self.\n",
            " |  \n",
            " |  __round__(...)\n",
            " |      Rounding an Integral returns itself.\n",
            " |      Rounding with an ndigits argument also returns an integer.\n",
            " |  \n",
            " |  __rpow__(self, value, mod=None, /)\n",
            " |      Return pow(value, self, mod).\n",
            " |  \n",
            " |  __rrshift__(self, value, /)\n",
            " |      Return value>>self.\n",
            " |  \n",
            " |  __rshift__(self, value, /)\n",
            " |      Return self>>value.\n",
            " |  \n",
            " |  __rsub__(self, value, /)\n",
            " |      Return value-self.\n",
            " |  \n",
            " |  __rtruediv__(self, value, /)\n",
            " |      Return value/self.\n",
            " |  \n",
            " |  __sizeof__(self, /)\n",
            " |      Returns size in memory, in bytes.\n",
            " |  \n",
            " |  __sub__(self, value, /)\n",
            " |      Return self-value.\n",
            " |  \n",
            " |  __truediv__(self, value, /)\n",
            " |      Return self/value.\n",
            " |  \n",
            " |  __trunc__(...)\n",
            " |      Truncating an Integral returns itself.\n",
            " |  \n",
            " |  as_integer_ratio(self, /)\n",
            " |      Return integer ratio.\n",
            " |      \n",
            " |      Return a pair of integers, whose ratio is exactly equal to the original int\n",
            " |      and with a positive denominator.\n",
            " |      \n",
            " |      >>> (10).as_integer_ratio()\n",
            " |      (10, 1)\n",
            " |      >>> (-10).as_integer_ratio()\n",
            " |      (-10, 1)\n",
            " |      >>> (0).as_integer_ratio()\n",
            " |      (0, 1)\n",
            " |  \n",
            " |  bit_length(self, /)\n",
            " |      Number of bits necessary to represent self in binary.\n",
            " |      \n",
            " |      >>> bin(37)\n",
            " |      '0b100101'\n",
            " |      >>> (37).bit_length()\n",
            " |      6\n",
            " |  \n",
            " |  conjugate(...)\n",
            " |      Returns self, the complex conjugate of any int.\n",
            " |  \n",
            " |  to_bytes(self, /, length, byteorder, *, signed=False)\n",
            " |      Return an array of bytes representing an integer.\n",
            " |      \n",
            " |      length\n",
            " |        Length of bytes object to use.  An OverflowError is raised if the\n",
            " |        integer is not representable with the given number of bytes.\n",
            " |      byteorder\n",
            " |        The byte order used to represent the integer.  If byteorder is 'big',\n",
            " |        the most significant byte is at the beginning of the byte array.  If\n",
            " |        byteorder is 'little', the most significant byte is at the end of the\n",
            " |        byte array.  To request the native byte order of the host system, use\n",
            " |        `sys.byteorder' as the byte order value.\n",
            " |      signed\n",
            " |        Determines whether two's complement is used to represent the integer.\n",
            " |        If signed is False and a negative integer is given, an OverflowError\n",
            " |        is raised.\n",
            " |  \n",
            " |  ----------------------------------------------------------------------\n",
            " |  Class methods inherited from int:\n",
            " |  \n",
            " |  from_bytes(bytes, byteorder, *, signed=False) from builtins.type\n",
            " |      Return the integer represented by the given array of bytes.\n",
            " |      \n",
            " |      bytes\n",
            " |        Holds the array of bytes to convert.  The argument must either\n",
            " |        support the buffer protocol or be an iterable object producing bytes.\n",
            " |        Bytes and bytearray are examples of built-in objects that support the\n",
            " |        buffer protocol.\n",
            " |      byteorder\n",
            " |        The byte order used to represent the integer.  If byteorder is 'big',\n",
            " |        the most significant byte is at the beginning of the byte array.  If\n",
            " |        byteorder is 'little', the most significant byte is at the end of the\n",
            " |        byte array.  To request the native byte order of the host system, use\n",
            " |        `sys.byteorder' as the byte order value.\n",
            " |      signed\n",
            " |        Indicates whether two's complement is used to represent the integer.\n",
            " |  \n",
            " |  ----------------------------------------------------------------------\n",
            " |  Data descriptors inherited from int:\n",
            " |  \n",
            " |  denominator\n",
            " |      the denominator of a rational number in lowest terms\n",
            " |  \n",
            " |  imag\n",
            " |      the imaginary part of a complex number\n",
            " |  \n",
            " |  numerator\n",
            " |      the numerator of a rational number in lowest terms\n",
            " |  \n",
            " |  real\n",
            " |      the real part of a complex number\n",
            "\n",
            "help> exit\n",
            "No Python documentation found for 'exit'.\n",
            "Use help() to get the interactive help utility.\n",
            "Use help(str) for help on the str class.\n",
            "\n",
            "help> \n",
            "\n",
            "You are now leaving help and returning to the Python interpreter.\n",
            "If you want to ask for help on a particular object directly from the\n",
            "interpreter, you can type \"help(object)\".  Executing \"help('string')\"\n",
            "has the same effect as typing a particular string at the help> prompt.\n"
          ]
        }
      ],
      "source": [
        "help()"
      ]
    },
    {
      "cell_type": "markdown",
      "id": "PQvYYT5MwXiK",
      "metadata": {
        "id": "PQvYYT5MwXiK"
      },
      "source": [
        "**Operators**"
      ]
    },
    {
      "cell_type": "markdown",
      "id": "Z1Ds9gzAwXiK",
      "metadata": {
        "id": "Z1Ds9gzAwXiK"
      },
      "source": [
        "**Airthmatic Operators**<br>\n",
        " + Addition<br>\n",
        " - Subtraction<br>\n",
        " * Multiplication<br>\n",
        " / Division<br>\n",
        " // Floor Division<br>\n",
        " ** Exponentiation<br>\n",
        " % Modulo Division<br>\n",
        " A=10; B =4;<br>\n",
        " A/B =2.5 and A//B =2 and 'A**B 10000 and A%B = 2<br>\n",
        " “23” + “43” –string uses + operator for concatenation<br>\n",
        "**Note:\n",
        "/ operator always performs floating point arithmetic. Hence it will always returns float value.<br>\n",
        "But Floor division (//) can perform both floating point and integral arithmetic. If arguments are int type then result is int type. If atleast one argument is float type then result is float type.<br>**"
      ]
    },
    {
      "cell_type": "code",
      "execution_count": null,
      "id": "pevNjQsewXiK",
      "metadata": {
        "id": "pevNjQsewXiK",
        "outputId": "eddb04c7-6d70-48f5-97cd-5a1bea918ae4"
      },
      "outputs": [
        {
          "name": "stdout",
          "output_type": "stream",
          "text": [
            "a+b= 12\n",
            "a-b= 8\n",
            "a*b= 20\n",
            "a/b= 5.0\n",
            "a//b= 5\n",
            "a%b= 0\n",
            "a**b= 100\n"
          ]
        }
      ],
      "source": [
        "a,b=10,2\n",
        "print('a+b=',a+b)\n",
        "print('a-b=',a-b)\n",
        "print('a*b=',a*b)\n",
        "print('a/b=',a/b)\n",
        "print('a//b=',a//b)\n",
        "print('a%b=',a%b)\n",
        "print('a**b=',a**b)"
      ]
    },
    {
      "cell_type": "markdown",
      "id": "BUPvam5FwXiL",
      "metadata": {
        "id": "BUPvam5FwXiL"
      },
      "source": [
        "**Relational Operator**\n",
        "The operators which compare the values of their operands are called comparison/ relational operators. <br>\n",
        "Python has 6 Relational/Comparison Operators<br>\n",
        "1) == If the values of two operands are equal, then the condition is true, otherwise, it is false. Common Mistake:- Do not confuse it with the Assignment Operator(=). (X == Y) is True.<br>\n",
        "2) != If the values of the two operands are not equal, then the condition is true. (X != Y) is true. <br>\n",
        "3) > If the value of the left operand is greater than the value of the right operand, then the condition is true. (X > Y) is false <br>\n",
        "4) < If the value of the left operand is less than the value of the right operand, then the condition is true. (X < Y) is true.<br>\n",
        "5) >= If the value of the left operand is greater than or equal to the value of the right operand, then the condition is true. (X >= Y) is false.<br>\n",
        "6) <= If the value of the left operand is less than or equal to the value of the right operand, then the condition is true. (X <= Y) is true.<br>"
      ]
    },
    {
      "cell_type": "code",
      "execution_count": null,
      "id": "3dH_VU3hwXiL",
      "metadata": {
        "id": "3dH_VU3hwXiL",
        "outputId": "878b9d19-4267-4349-abe2-bd54f0837e0a"
      },
      "outputs": [
        {
          "name": "stdout",
          "output_type": "stream",
          "text": [
            "Are they equal? False\n",
            "Are they notequal? True\n",
            "a>b?  True\n",
            "a<b?  False\n",
            "a>=b?  True\n",
            "a<=b? False\n"
          ]
        }
      ],
      "source": [
        "a,b=10,2\n",
        "print('Are they equal?',a==b)\n",
        "print('Are they not equal?',a!=b)\n",
        "print('a>b? ',a>b)\n",
        "print('a<b? ',a<b)\n",
        "print('a>=b? ',a>=b)\n",
        "print('a<=b?',a<=b)"
      ]
    },
    {
      "cell_type": "markdown",
      "id": "yHJae-7SwXiL",
      "metadata": {
        "id": "yHJae-7SwXiL"
      },
      "source": [
        "**Logical Operators**<br>\n",
        "The operators which act on one or two boolean values and return another boolean value are called logical operators. There are 3 key logical operators.<br>\n",
        "and - Logical AND: If both the operands are True then the condition is true. (X and Y) is false <br>\n",
        "or -  Logical OR: If any of the two operands True are then the condition is true. (X or Y) is true <br>\n",
        "not - Logical NOT: Used to reverse the logical state of its operand. Not(X) is false<br>\n",
        "\n",
        "<tr><b>AND TRUTH TABLE<tr><br>\n",
        "<tr>\n",
        "    <th><td> <b>   X  <td>\n",
        "    <th><td> <b>   Y   <td>\n",
        "    <th><td> <b>   X and Y<td>\n",
        "<tr><br>\n",
        "<tr>\n",
        "    <th><td> <b>  0<td>\n",
        "    <th><td> <b>  0<td>\n",
        "    <th><td> <b>  0<td>\n",
        "<tr><br>\n",
        "<tr>\n",
        "    <th><td> <b>1<td>\n",
        "    <th><td> <b>0<td>\n",
        "    <th><td> <b>0<td>\n",
        "<tr><br>\n",
        "<tr>\n",
        "    <th><td> <b>0<td>\n",
        "    <th><td> <b>1<td>\n",
        "    <th><td> <b>0<td>\n",
        "<tr><br>\n",
        "<tr>\n",
        "    <th><td> <b>1<td>\n",
        "    <th><td> <b>1<td>\n",
        "    <th><td> <b>1<td>\n",
        "<tr><br>\n"
      ]
    },
    {
      "cell_type": "code",
      "execution_count": null,
      "id": "rp9LSvGuwXiL",
      "metadata": {
        "id": "rp9LSvGuwXiL",
        "outputId": "6bcf3afa-4114-4199-b914-7ae2c548ffca"
      },
      "outputs": [
        {
          "name": "stdout",
          "output_type": "stream",
          "text": [
            "x=0 and y=0 False\n",
            "x=1 and y=0 False\n",
            "x=0 and y=1 False\n",
            "x=1 and y=1 True\n"
          ]
        }
      ],
      "source": [
        "#AND OPERATOR\n",
        "# Suppose x = 0 (false) and y = 1 (true)\n",
        "x,y=bool(0),bool(0)\n",
        "_and = x and y\n",
        "print(\"x=0 and y=0\", _and)\n",
        "\n",
        "x,y=bool(1),bool(0)\n",
        "_and = x and y\n",
        "print(\"x=1 and y=0\", _and)\n",
        "\n",
        "x,y=bool(0),bool(1)\n",
        "_and = x and y\n",
        "print(\"x=0 and y=1\", _and)\n",
        "\n",
        "x,y=bool(1),bool(1)\n",
        "_and = x and y\n",
        "print(\"x=1 and y=1\", _and)"
      ]
    },
    {
      "cell_type": "markdown",
      "id": "X21HFPd4wXiL",
      "metadata": {
        "id": "X21HFPd4wXiL"
      },
      "source": [
        "**OR TRUTH TABLE**\n",
        "\n"
      ]
    },
    {
      "cell_type": "markdown",
      "id": "eBy7T38YwXiL",
      "metadata": {
        "id": "eBy7T38YwXiL"
      },
      "source": [
        "<tr><b>OR TRUTH TABLE<tr><br>\n",
        "<tr>\n",
        "    <th><td> <b>   X  <td>\n",
        "    <th><td> <b>   Y   <td>\n",
        "    <th><td> <b>   X OR Y<td>\n",
        "<tr><br>\n",
        "<tr>\n",
        "    <th><td> <b>  0<td>\n",
        "    <th><td> <b>  0<td>\n",
        "    <th><td> <b>  0<td>\n",
        "<tr><br>\n",
        "<tr>\n",
        "    <th><td> <b>1<td>\n",
        "    <th><td> <b>0<td>\n",
        "    <th><td> <b>1<td>\n",
        "<tr><br>\n",
        "<tr>\n",
        "    <th><td> <b>0<td>\n",
        "    <th><td> <b>1<td>\n",
        "    <th><td> <b>1<td>\n",
        "<tr><br>\n",
        "<tr>\n",
        "    <th><td> <b>1<td>\n",
        "    <th><td> <b>1<td>\n",
        "    <th><td> <b>1<td>\n",
        "<tr><br>\n"
      ]
    },
    {
      "cell_type": "code",
      "execution_count": null,
      "id": "UV3eYPZlwXiL",
      "metadata": {
        "id": "UV3eYPZlwXiL",
        "outputId": "c22af026-bd8e-4c23-cfeb-9257929eca64"
      },
      "outputs": [
        {
          "name": "stdout",
          "output_type": "stream",
          "text": [
            "x=0 or y=0 False\n",
            "x=1 or y=0 True\n",
            "x=0 or y=1 True\n",
            "x=1 or y=1 True\n"
          ]
        }
      ],
      "source": [
        "#OR OPERATOR\n",
        "# Suppose 0 (false) and 1 (true)\n",
        "\n",
        "x,y=bool(0),bool(0)\n",
        "_or = x or y\n",
        "print(\"x=0 or y=0\", _or)\n",
        "\n",
        "x,y=bool(1),bool(0)\n",
        "_or = x or y\n",
        "print(\"x=1 or y=0\", _or)\n",
        "\n",
        "x,y=bool(0),bool(1)\n",
        "_and = x or y\n",
        "print(\"x=0 or y=1\", _or)\n",
        "\n",
        "x,y=bool(1),bool(1)\n",
        "_and = x or y\n",
        "print(\"x=1 or y=1\", _or)"
      ]
    },
    {
      "cell_type": "markdown",
      "id": "iRBzu3dvwXiL",
      "metadata": {
        "id": "iRBzu3dvwXiL"
      },
      "source": [
        "<tr><b>NOT TRUTH TABLE<tr><br>\n",
        "<tr>\n",
        "    <th><td> <b>   X  <td>\n",
        "    <th><td> <b>   NOT X   <td>\n",
        "<tr><br>\n",
        "<tr>\n",
        "    <th><td> <b>  0<td>\n",
        "    <th><td> <b>  1<td>\n",
        "<tr><br>\n",
        "<tr>\n",
        "    <th><td> <b>1<td>\n",
        "    <th><td> <b>0<td>\n",
        "<tr><br>"
      ]
    },
    {
      "cell_type": "code",
      "execution_count": null,
      "id": "XFft-1B-wXiL",
      "metadata": {
        "id": "XFft-1B-wXiL",
        "outputId": "59cd955e-7b76-4a2e-8453-cec96368bf17"
      },
      "outputs": [
        {
          "name": "stdout",
          "output_type": "stream",
          "text": [
            "not of x=0  True\n",
            "not of x=1 False\n"
          ]
        }
      ],
      "source": [
        "x=bool(0)\n",
        "_not = not x\n",
        "print(\"not of x=0 \", _not)\n",
        "\n",
        "x=bool(1)\n",
        "_not = not x\n",
        "print(\"not of x=1\", _not)"
      ]
    },
    {
      "cell_type": "markdown",
      "id": "EvaPNRmtwXiM",
      "metadata": {
        "id": "EvaPNRmtwXiM"
      },
      "source": [
        "**Assignment Operators**<br>\n",
        "1) =    Stores the right side operand to left side operand<br>\n",
        "2) +=   Sum of both operands is calculated and then sum is stored in left side operand<br>\n",
        "3) -=   Difference is calculated and result is stored in left side operand.<br>\n",
        "4) \\*=   Multiplication of both operands is calculated and stored in left side operand.<br>\n",
        "5) /=   Float Division is done and result ( i.e quotient)is stored in left side operand.<br>\n",
        "6) //=  Floor Division is done and result ( i.e quotient with fractional part) is stored in left side operand.<br>\n",
        "7) %=   Modulo Divison is done and result ( i.e reminder) is stored in left side operand.<br>\n",
        "8) **=  Exponentiation is done and result is stored in left side operand.<br>"
      ]
    },
    {
      "cell_type": "code",
      "execution_count": null,
      "id": "yaQoy7mmwXiM",
      "metadata": {
        "id": "yaQoy7mmwXiM",
        "outputId": "c1438189-8393-490f-c34c-ba4347fcfca9"
      },
      "outputs": [
        {
          "name": "stdout",
          "output_type": "stream",
          "text": [
            "a= 1\n",
            "a+=1  2\n",
            "a-=1  1\n",
            "a*=2  2\n",
            "a/=4  0.5\n",
            "a//=3  1\n",
            "a%=3  1\n",
            "a**=2  16\n"
          ]
        }
      ],
      "source": [
        "a=1\n",
        "print(\"a=\",a)\n",
        "\n",
        "a+=1\n",
        "print(\"a+=1 \",a) # a= a+1\n",
        "\n",
        "a-=1\n",
        "print(\"a-=1 \",a) #a = a -1\n",
        "\n",
        "a*=2\n",
        "print(\"a*=2 \",a)# a = a*2\n",
        "\n",
        "a/=4\n",
        "print(\"a/=4 \",a)# a = a/4\n",
        "\n",
        "a//=3\n",
        "print(\"a//=3 \",a) # a= a//3\n",
        "\n",
        "a=4\n",
        "a%=3\n",
        "print(\"a%=3 \",a) # a = a%3\n",
        "\n",
        "a=4\n",
        "a**=2\n",
        "print(\"a**=2 \",a)# a= a**2"
      ]
    },
    {
      "cell_type": "markdown",
      "id": "AvqhtGNqwXiM",
      "metadata": {
        "id": "AvqhtGNqwXiM"
      },
      "source": [
        "**Order of Operations and Associavity**<br>\n",
        "Except Exponentiation all operators are left associative.<br>\n",
        "Comparision and Assignment operators are non associative<br>\n",
        "Order od Precedence <br>\n",
        "P - Paranthesis (())<br>\n",
        "E - Exponentiation(\\**)<br>\n",
        "M - Multiplication(\\*), D - Division(/) , FD - floor division(//) and MD - modulo division(%)<br>\n",
        "A - Addition(+), S - Subtraction(-) <br>\n",
        "BLS - Bitwise Left shift (>>) and BRS - Bitwise Right Shift(>>)<br>\n",
        "BA - Bitwise And (&)<br>\n",
        "BOR - Bitwise OR (|) and BXOR - Bitwise XOR (^)<br>\n",
        "Non equality comparision (<=,>=,<,>)<br>\n",
        "Equality Compraision operators (==,!=)<br>\n",
        "Assignment Operators (=,+=,-=,\\*=,/=,//==,%=)<br>\n",
        "Identity Operators (is , is not)<br>\n",
        "Membership Operators (in, not in)<br>\n",
        "Logical Operators (AND,OR,NOT)<br>"
      ]
    },
    {
      "cell_type": "code",
      "execution_count": null,
      "id": "6O9Texx0wXiM",
      "metadata": {
        "colab": {
          "base_uri": "https://localhost:8080/"
        },
        "id": "6O9Texx0wXiM",
        "outputId": "5c5aa476-ac6d-4749-bf71-5d150f2eb3c5"
      },
      "outputs": [
        {
          "name": "stdout",
          "output_type": "stream",
          "text": [
            "3\n",
            "9.0\n",
            "4\n",
            "0.25\n",
            "3\n",
            "3\n",
            "512\n",
            "2.5\n",
            "19\n"
          ]
        }
      ],
      "source": [
        "print(5-2)\n",
        "print(10-5/5)\n",
        "print(2*(3-1))\n",
        "print((1+1)**(-2))\n",
        "print(2**1+1)\n",
        "print(3*1**3)\n",
        "print(2 ** 3 ** 2)  # exponentiation is right associative\n",
        "print(45 % 10 / 2)\n",
        "\n",
        "print(3**1 + 2**2**2)"
      ]
    },
    {
      "cell_type": "markdown",
      "id": "Hytg_B80wXiM",
      "metadata": {
        "id": "Hytg_B80wXiM"
      },
      "source": [
        "**Bitwise Operator**\n",
        "These operators operate bitwise.<br>\n",
        "These operators are applicable only for int and boolean types.<br>\n",
        "By mistake if we are trying to apply for any other type then we will get Error.<br>\n",
        "& --> If both bits are 1 then only result is 1 otherwise result is 0<br>\n",
        "| --> If atleast one bit is 1 then result is 1 otherwise result is 0<br>\n",
        "^ --> If bits are different then only result is 1 otherwise result is 0<br>\n",
        "~ --> bitwise complement operator i.e 1 means 0 and 0 means 1<br>\n",
        "\\>> --> Bitwise Right shift Operator<br>\n",
        "<<  -->Bitwise Left shift Operator<br>"
      ]
    },
    {
      "cell_type": "markdown",
      "id": "eH90CD5dwXiM",
      "metadata": {
        "id": "eH90CD5dwXiM"
      },
      "source": [
        "**BITWISE AND &**<br>\n",
        "a = 0  0  0  0  1  0  1  0<br>\n",
        "b = 0  0  0  0  1  1  1  0<br>\n",
        "r = 0  0  0  0  1  0  1  0<br>"
      ]
    },
    {
      "cell_type": "code",
      "execution_count": null,
      "id": "LQzCuTXNwXiM",
      "metadata": {
        "colab": {
          "base_uri": "https://localhost:8080/",
          "height": 35
        },
        "id": "LQzCuTXNwXiM",
        "outputId": "aef88642-c9ca-4a15-b80c-a1f5cd91029b"
      },
      "outputs": [
        {
          "data": {
            "application/vnd.google.colaboratory.intrinsic+json": {
              "type": "string"
            },
            "text/plain": [
              "'0b1010'"
            ]
          },
          "execution_count": 12,
          "metadata": {},
          "output_type": "execute_result"
        }
      ],
      "source": [
        "a=10\n",
        "bin(10)"
      ]
    },
    {
      "cell_type": "code",
      "execution_count": null,
      "id": "OlMCkq_PwXiM",
      "metadata": {
        "colab": {
          "base_uri": "https://localhost:8080/",
          "height": 36
        },
        "id": "OlMCkq_PwXiM",
        "outputId": "92ba5644-77dd-408a-ad71-05248253dc0b"
      },
      "outputs": [
        {
          "data": {
            "application/vnd.google.colaboratory.intrinsic+json": {
              "type": "string"
            },
            "text/plain": [
              "'0b1110'"
            ]
          },
          "execution_count": 2,
          "metadata": {},
          "output_type": "execute_result"
        }
      ],
      "source": [
        "b= 14\n",
        "bin(14)"
      ]
    },
    {
      "cell_type": "code",
      "execution_count": null,
      "id": "AZjIEtK3wXiM",
      "metadata": {
        "colab": {
          "base_uri": "https://localhost:8080/"
        },
        "id": "AZjIEtK3wXiM",
        "outputId": "5ea839f1-458d-4975-ad76-1c50b4224ad2"
      },
      "outputs": [
        {
          "name": "stdout",
          "output_type": "stream",
          "text": [
            "10\n"
          ]
        }
      ],
      "source": [
        "print(a&b)"
      ]
    },
    {
      "cell_type": "markdown",
      "id": "RrWesPQ7wXiM",
      "metadata": {
        "id": "RrWesPQ7wXiM"
      },
      "source": [
        "**BITWISE OR |**<br>\n",
        "a = 0  0  0  0  1  0  1  0<br>\n",
        "b = 0  0  0  0  1  1  1  0<br>\n",
        "r = 0  0  0  0  1  1  1  0<br>"
      ]
    },
    {
      "cell_type": "code",
      "execution_count": null,
      "id": "trhRcLqhwXiM",
      "metadata": {
        "id": "trhRcLqhwXiM",
        "outputId": "fe35c77c-07e8-4435-b85e-c281baa70c13"
      },
      "outputs": [
        {
          "name": "stdout",
          "output_type": "stream",
          "text": [
            "14\n"
          ]
        }
      ],
      "source": [
        "print(a|b)"
      ]
    },
    {
      "cell_type": "markdown",
      "id": "B_4KdD7DwXiN",
      "metadata": {
        "id": "B_4KdD7DwXiN"
      },
      "source": [
        "**BITWISE XOR |**The result in each position is 1 if only one of the bits is 1, but will be 0 if both are 0 or both are 1<br>\n",
        "a = 0  0  0  0  1  0  1  0<br>\n",
        "b = 0  0  0  0  1  1  1  0<br>\n",
        "r = 0  0  0  0  0  1  0  0<br>"
      ]
    },
    {
      "cell_type": "code",
      "execution_count": null,
      "id": "vMrBeIKJwXiN",
      "metadata": {
        "id": "vMrBeIKJwXiN",
        "outputId": "7be3bf81-c2b3-4147-8be4-b935721759f9"
      },
      "outputs": [
        {
          "name": "stdout",
          "output_type": "stream",
          "text": [
            "4\n"
          ]
        }
      ],
      "source": [
        "print(a^b)"
      ]
    },
    {
      "cell_type": "markdown",
      "id": "2RK_SuDXwXiN",
      "metadata": {
        "id": "2RK_SuDXwXiN"
      },
      "source": [
        "**BITWISE NOT**\n",
        "the bitwise NOT operator (~), which expects just one argument, making it the only unary bitwise operator. It performs logical negation on a given number by flipping all of its bits.<br>\n",
        "0 to 1<br>\n",
        "1 to 0"
      ]
    },
    {
      "cell_type": "code",
      "execution_count": null,
      "id": "pNIHOXx7wXiN",
      "metadata": {
        "colab": {
          "base_uri": "https://localhost:8080/"
        },
        "id": "pNIHOXx7wXiN",
        "outputId": "2893c9fb-c1ec-48ea-9e8a-5ca3e52f9c31"
      },
      "outputs": [
        {
          "data": {
            "text/plain": [
              "-11"
            ]
          },
          "execution_count": 15,
          "metadata": {},
          "output_type": "execute_result"
        }
      ],
      "source": [
        "~10\n",
        "#output -11"
      ]
    },
    {
      "cell_type": "code",
      "execution_count": null,
      "id": "EZgGrHlyZO2C",
      "metadata": {
        "colab": {
          "base_uri": "https://localhost:8080/"
        },
        "id": "EZgGrHlyZO2C",
        "outputId": "5d65dc68-af84-4e66-9c16-75d663c88f55"
      },
      "outputs": [
        {
          "data": {
            "text/plain": [
              "-35"
            ]
          },
          "execution_count": 4,
          "metadata": {},
          "output_type": "execute_result"
        }
      ],
      "source": [
        "~34"
      ]
    },
    {
      "cell_type": "markdown",
      "id": "S3Cjw0yzaQUb",
      "metadata": {
        "id": "S3Cjw0yzaQUb"
      },
      "source": [
        "Therefore, ~10 results in -11.\n",
        "Key points:\n",
        "\n",
        "The ~ operator performs a bitwise NOT,\n",
        "which is a 1's complement operation.\n",
        "The result is interpreted in two's complement form.\n",
        "This leads to the outcome being one less than the negative of the original number."
      ]
    },
    {
      "cell_type": "code",
      "execution_count": null,
      "id": "fgWUowWEwXiN",
      "metadata": {
        "id": "fgWUowWEwXiN"
      },
      "outputs": [],
      "source": [
        "# let us assume 8 bit system for integers\n",
        "# then 10 in binary is  0 0 0 0 1 0 1 0\n",
        "# negating 10 will form 1 1 1 1 0 1 0 1 (which is a negative number as MSB is 1)\n",
        "# now to read a negative number will should do 2's complement\n",
        "# 1 1 1 1 0 1 0 1\n",
        "\n",
        "# 0 0 0 0 1 0 1 0  ( 1's Complement)\n",
        "#             + 1\n",
        "# -----------------\n",
        "# 0 0 0 0 1 0 1 1 ( this is negative eleven )"
      ]
    },
    {
      "cell_type": "markdown",
      "id": "edIST-zMwXiN",
      "metadata": {
        "id": "edIST-zMwXiN"
      },
      "source": [
        "**LEFT SHIFT**<br>\n",
        "Left Shift The bitwise left shift operator (<<) moves the bits of its first operand to the left by the number of places specified in its second operand. It also takes care of inserting enough zero bits to fill the gap that arises on the right edge of the new bit pattern.Shifting a single bit to the left by one place doubles its value.<br>\n",
        "    a\t   100111\t  39<br>\n",
        "a << 1\t  1001110\t  78<br>\n",
        "a << 2\t 10011100\t  156<br>\n",
        "a << 3\t100111000\t  312<br>\n",
        "\n",
        "In general, shifting bits to the left corresponds to multiplying the number by a power of two, with an exponent equal to the number of places shifted:<br>\n",
        "\n",
        "The arithmetic formula for the left shift operator<br>\n",
        "a<<n = a * 2\\**n<br>\n",
        "The left shift used to be a popular optimization technique because bit shifting is a single instruction and is cheaper to calculate than exponent or product. <br>"
      ]
    },
    {
      "cell_type": "markdown",
      "id": "mhtokZKjwXiN",
      "metadata": {
        "id": "mhtokZKjwXiN"
      },
      "source": [
        "**Right Shift**<br>\n",
        "The bitwise right shift operator (>>) is analogous to the left one, but instead of moving bits to the left, it pushes them to the right by the specified number of places. The rightmost bits always get dropped.<br>\n",
        "Every time you shift a bit to the right by one position, you halve its underlying value. Moving the same bit by two places to the right produces a quarter of the original value, and so on.<br>\n",
        "a\t    10011101\t157<br>\n",
        "a >> 1\t1001110\t    78<br>\n",
        "a >> 2\t100111\t    39<br>\n",
        "a >> 3\t10011\t    19<br>"
      ]
    },
    {
      "cell_type": "markdown",
      "id": "hkiapS-xwXiN",
      "metadata": {
        "id": "hkiapS-xwXiN"
      },
      "source": [
        "**Identity Operator**<br>\n",
        "Operator checks if both operands are same or not.<br>\n",
        "\n",
        "if x and y are equal then <br>\n",
        "x is y --> True<br>\n",
        "x is not y  --> False<br>\n",
        "\n",
        "if x and y are not equal then <br>\n",
        "x is y --> False<br>\n",
        "x is not y  --> True<br>"
      ]
    },
    {
      "cell_type": "code",
      "execution_count": null,
      "id": "pN0rdGPYwXiN",
      "metadata": {
        "id": "pN0rdGPYwXiN",
        "outputId": "8d3e05c1-372b-44ae-d92b-953f574c1706"
      },
      "outputs": [
        {
          "name": "stdout",
          "output_type": "stream",
          "text": [
            "False\n",
            "False\n",
            "True\n"
          ]
        }
      ],
      "source": [
        "x = 200\n",
        "y = 300\n",
        "print(x==y)\n",
        "print (x is y)\n",
        "print (x is not y)"
      ]
    },
    {
      "cell_type": "code",
      "execution_count": null,
      "id": "8i2rQk-HwXiN",
      "metadata": {
        "id": "8i2rQk-HwXiN",
        "outputId": "e1e31323-1cc9-4a23-ba1e-2c55b11497bd"
      },
      "outputs": [
        {
          "name": "stdout",
          "output_type": "stream",
          "text": [
            "True\n",
            "False\n",
            "True\n"
          ]
        }
      ],
      "source": [
        "x = 300\n",
        "y = 300\n",
        "print(x==y)\n",
        "print (x is y) # False, as it is checking the memory location not the value at the location\n",
        "print (x is not y)\n",
        "# check what is x,y= 300,300 in above case? Hint: Memory Optimiztion"
      ]
    },
    {
      "cell_type": "code",
      "execution_count": null,
      "id": "JIFmHtTmwXiN",
      "metadata": {
        "id": "JIFmHtTmwXiN",
        "outputId": "08fa686a-c16b-4d95-9dc7-f513c65760a9"
      },
      "outputs": [
        {
          "name": "stdout",
          "output_type": "stream",
          "text": [
            "True\n",
            "True\n",
            "False\n"
          ]
        }
      ],
      "source": [
        "x,y = 300,300\n",
        "print(x==y)\n",
        "print (x is y) # False, as it is checking the memory location not the value at the location\n",
        "print (x is not y)\n",
        "# check what is x,y= 300,300 in above case? Hint: Memory Optimiztion"
      ]
    },
    {
      "cell_type": "markdown",
      "id": "S-ZHgzifwXiN",
      "metadata": {
        "id": "S-ZHgzifwXiN"
      },
      "source": [
        "**Membership Operators**<br>\n",
        "They are used to test whether a value or variable is found in a sequence.<br>\n",
        "\n",
        "if x is present in sequence y.<br>\n",
        "in -> true the element is present in the sequence.<br>\n",
        "not in -> false the element is present in the sequence.<br>\n",
        "\n",
        "if x is not present in sequence y.<br>\n",
        "in -> false the element is not present in the sequence.<br>\n",
        "not in -> true the element is not present in the sequence.<br>"
      ]
    },
    {
      "cell_type": "code",
      "execution_count": null,
      "id": "Q5_6M-iKwXiO",
      "metadata": {
        "id": "Q5_6M-iKwXiO",
        "outputId": "9d03c55c-8374-4840-fe37-cf054cde2258"
      },
      "outputs": [
        {
          "name": "stdout",
          "output_type": "stream",
          "text": [
            "True\n",
            "True\n",
            "True\n",
            "False\n"
          ]
        }
      ],
      "source": [
        "x = 'Hello world'\n",
        "y = [1,2,3,4]\n",
        "#y = 1,2,3,4\n",
        "#y = {1:'a',2:'b'}\n",
        "\n",
        "# Output: True\n",
        "print('H' in x)\n",
        "\n",
        "# Output: True\n",
        "print('hello' not in x)\n",
        "\n",
        "# Output: True\n",
        "print(1 in y)\n",
        "\n",
        "# Output: False\n",
        "print('b' in y)"
      ]
    },
    {
      "cell_type": "markdown",
      "id": "kPcPTUhFwXiO",
      "metadata": {
        "id": "kPcPTUhFwXiO"
      },
      "source": [
        "**Condional or Decision making Statements**<br>\n",
        "\n",
        "There are situations where we want a code block to execute when certain criteria or expression evaluates to be True or false, in such situations we want change the regular control flow of the program. To meet these requirements conditional or decision making statements are used. <br>\n",
        "\n",
        "\n",
        "1) **if statement** : when the condition or criteria evalutes to true , the execution to the code block starts.\n",
        "The If statement is the most fundamental decision-making statement, in which the code is executed based on whether it meets the specified condition. It has a code body that only executes if the condition in the if statement is true. The code block can be a single line or a block of code.\n"
      ]
    },
    {
      "cell_type": "code",
      "execution_count": null,
      "id": "dFxxugd-wXiO",
      "metadata": {
        "id": "dFxxugd-wXiO",
        "outputId": "5a657056-835e-4a2b-b92a-c8e19d0f93e4"
      },
      "outputs": [
        {
          "name": "stdout",
          "output_type": "stream",
          "text": [
            "5 is a positive number.\n",
            "This statement is true.\n"
          ]
        }
      ],
      "source": [
        "num = 5\n",
        "if num > 0:\n",
        "    print(num, \"is a positive number.\")\n",
        "print(\"This statement is true.\")"
      ]
    },
    {
      "cell_type": "code",
      "execution_count": null,
      "id": "0CNJubbawXiO",
      "metadata": {
        "colab": {
          "base_uri": "https://localhost:8080/"
        },
        "id": "0CNJubbawXiO",
        "outputId": "02989d79-1c2d-42fe-f9bb-734f9652c0d6"
      },
      "outputs": [
        {
          "name": "stdout",
          "output_type": "stream",
          "text": [
            "This statement will always be executed\n"
          ]
        }
      ],
      "source": [
        "num = 11\n",
        "if (num < 10):\n",
        "        print(\"Num is smaller than 10\")\n",
        "print(\"This statement will always be executed\")"
      ]
    },
    {
      "cell_type": "code",
      "execution_count": null,
      "id": "1MOdUOIRwXiO",
      "metadata": {
        "id": "1MOdUOIRwXiO"
      },
      "outputs": [],
      "source": [
        "a = 225\n",
        "b = 170\n",
        "if b > a:\n",
        "  print(\"b is greater than a\")"
      ]
    },
    {
      "cell_type": "code",
      "execution_count": null,
      "id": "t9jy_BNxwXiO",
      "metadata": {
        "colab": {
          "base_uri": "https://localhost:8080/"
        },
        "id": "t9jy_BNxwXiO",
        "outputId": "f38484a2-a2fc-4646-ffc0-08c47b0e93f0"
      },
      "outputs": [
        {
          "name": "stdout",
          "output_type": "stream",
          "text": [
            "Congratulations! You have passed your exam\n",
            "This is always executed\n"
          ]
        }
      ],
      "source": [
        "#You have written an exam for a total score of 100 and if your score is above or equal\n",
        "#to 60 then you will be considered as PASS in the exam.\n",
        "passing_Score = 60\n",
        "my_Score = 67\n",
        "if(my_Score >= passing_Score):\n",
        "             print(\"Congratulations! You have passed your exam\")\n",
        "print(\"This is always executed\")"
      ]
    },
    {
      "cell_type": "markdown",
      "id": "fRmosXpLwXiO",
      "metadata": {
        "id": "fRmosXpLwXiO"
      },
      "source": [
        "2) **If Else Statement**\n",
        "\n",
        "This statement is used when both the true and false parts of a given condition are specified to be executed. When the condition is true, the statement inside the if block is executed; if the condition is false, the statement inside else block is executed.\n",
        "\n"
      ]
    },
    {
      "cell_type": "code",
      "execution_count": null,
      "id": "SDPwHTmfwXiO",
      "metadata": {
        "id": "SDPwHTmfwXiO",
        "outputId": "5019ad0d-a01b-42d7-c8b4-85c10300c95b"
      },
      "outputs": [
        {
          "name": "stdout",
          "output_type": "stream",
          "text": [
            "Positive or Zero\n"
          ]
        }
      ],
      "source": [
        "num = 0\n",
        "if num >= 0:\n",
        "    print(\"Positive or Zero\")\n",
        "else:\n",
        "     print(\"Negative number\")"
      ]
    },
    {
      "cell_type": "code",
      "execution_count": null,
      "id": "MTafpWSEwXiO",
      "metadata": {
        "id": "MTafpWSEwXiO",
        "outputId": "7be8a90f-7237-4828-d5f0-5b9edc08520d"
      },
      "outputs": [
        {
          "name": "stdout",
          "output_type": "stream",
          "text": [
            "number is less than 10\n",
            "This statement will always be executed\n"
          ]
        }
      ],
      "source": [
        "num = 5\n",
        "if(num > 10):\n",
        "    print(\"number is greater than 10\")\n",
        "else:\n",
        "    print(\"number is less than 10\")\n",
        "print(\"This statement will always be executed\")"
      ]
    },
    {
      "cell_type": "code",
      "execution_count": null,
      "id": "5R2ChnVIwXiO",
      "metadata": {
        "id": "5R2ChnVIwXiO",
        "outputId": "c7a4842a-43e1-4f15-ca0f-af4a8352d301"
      },
      "outputs": [
        {
          "name": "stdout",
          "output_type": "stream",
          "text": [
            "b is smaller than a\n"
          ]
        }
      ],
      "source": [
        "a = 7\n",
        "b = 0\n",
        "if (a < b):\n",
        "            print( \"a is smaller than b\" )\n",
        "else:\n",
        "            print( \"b is smaller than a\" )"
      ]
    },
    {
      "cell_type": "code",
      "execution_count": null,
      "id": "7fU36pM2wXiP",
      "metadata": {
        "id": "7fU36pM2wXiP",
        "outputId": "42bb8e7d-cd23-4a07-8178-34ad23a158f0"
      },
      "outputs": [
        {
          "name": "stdout",
          "output_type": "stream",
          "text": [
            "Congratulations!\n",
            "You are passed in the exam\n"
          ]
        }
      ],
      "source": [
        "passing_Score = 60\n",
        "my_Score = 67\n",
        "if(my_Score >= passing_Score):\n",
        "             print(\"Congratulations!\")\n",
        "             print(\"You are passed in the exam\")\n",
        "else:\n",
        "             print(\"Sorry! You failed the exam, better luck next time\")"
      ]
    },
    {
      "cell_type": "markdown",
      "id": "X2Ka9xP4wXiP",
      "metadata": {
        "id": "X2Ka9xP4wXiP"
      },
      "source": [
        "3) **elif statements**\n",
        "In Python, we have one more conditional statement called “elif” statements. “elif” statement is used to check multiple conditions only if the given condition is false. It’s similar to an “if-else” statement and the only difference is that in “else” we will not check the condition but in “elif” we will check the condition.<br>\n",
        "\n",
        "“elif” statements are similar to “if-else” statements but “elif” statements evaluate multiple conditions.<br>\n",
        "\n",
        "Syntax:<br>\n",
        "\n",
        "if (condition):<br>\n",
        "&emsp;#Set of statement to execute if condition is true<br>\n",
        "elif (condition):<br>\n",
        "&emsp;#Set of statements to be executed when if condition is false and elif condition is true<br>\n",
        "else:<br>\n",
        "&emsp;#Set of statement to be executed when both if and elif conditions are false<br>\n"
      ]
    },
    {
      "cell_type": "code",
      "execution_count": null,
      "id": "lgpr6agAwXiP",
      "metadata": {
        "colab": {
          "base_uri": "https://localhost:8080/"
        },
        "id": "lgpr6agAwXiP",
        "outputId": "b230eb58-c93f-4c9a-da3d-920de9096ef2"
      },
      "outputs": [
        {
          "name": "stdout",
          "output_type": "stream",
          "text": [
            "Number is greater than 5\n"
          ]
        }
      ],
      "source": [
        "num = 10\n",
        "if (num == 0):\n",
        "     print(\"Number is Zero\")\n",
        "elif (num > 5):\n",
        "       print(\"Number is greater than 5\")\n",
        "else:\n",
        "       print(\"Number is smaller than 5\")"
      ]
    },
    {
      "cell_type": "code",
      "execution_count": null,
      "id": "Q7OLZUh8wXiP",
      "metadata": {
        "id": "Q7OLZUh8wXiP",
        "outputId": "699f3702-571c-4a62-e89a-6eb94b4e0a1a"
      },
      "outputs": [
        {
          "name": "stdout",
          "output_type": "stream",
          "text": [
            "Number is Zero\n"
          ]
        }
      ],
      "source": [
        "num = 0\n",
        "if (num > 0):\n",
        "    print(\"Number is positive\")\n",
        "elif (num < 0):\n",
        "    print(\"Number is negative\")\n",
        "else:\n",
        "    print(\"Number is Zero\")"
      ]
    },
    {
      "cell_type": "code",
      "execution_count": null,
      "id": "tud_3lHiwXiP",
      "metadata": {
        "id": "tud_3lHiwXiP",
        "outputId": "e07f6730-30df-426a-b45c-345fb38296bd"
      },
      "outputs": [
        {
          "name": "stdout",
          "output_type": "stream",
          "text": [
            "Passed in First class with distinction\n"
          ]
        }
      ],
      "source": [
        "my_marks = 90\n",
        "if (my_marks < 40):\n",
        "              print(\"Sorry!, You failed the exam\")\n",
        "elif(my_marks > 60 and my_marks <75):\n",
        "              print(\"Passed in First class\")\n",
        "elif(my_marks > 75 and my_marks <=100):\n",
        "              print(\"Passed in First class with distinction\")\n",
        "else :\n",
        "              print(\"Marks are out of Maximum Range! Re-enter\")"
      ]
    },
    {
      "cell_type": "markdown",
      "id": "n69BclFvwXiQ",
      "metadata": {
        "id": "n69BclFvwXiQ"
      },
      "source": [
        "**Nested if**\n",
        "A nested if is an if statement that is present in the code block of\n",
        "another if statement. In other words, it means- an if statement inside\n",
        "another if statement. A nested conditional will be executed only when the\n",
        "parent conditional is true."
      ]
    },
    {
      "cell_type": "code",
      "execution_count": null,
      "id": "RV5IvdiFwXiQ",
      "metadata": {
        "id": "RV5IvdiFwXiQ",
        "outputId": "b641d516-07d2-4f5d-b23f-d4238560d5a3"
      },
      "outputs": [
        {
          "name": "stdout",
          "output_type": "stream",
          "text": [
            "Negative number\n"
          ]
        }
      ],
      "source": [
        "num = 0\n",
        "if num >= 0:\n",
        "    if num == 0:\n",
        "        print(\"zero\")\n",
        "    else:\n",
        "        print(\"Positive number\")\n",
        "else:\n",
        "    print(\"Negative number\")"
      ]
    },
    {
      "cell_type": "code",
      "execution_count": null,
      "id": "9CMGo5IbwXiQ",
      "metadata": {
        "id": "9CMGo5IbwXiQ",
        "outputId": "59bdc9c9-cd61-435c-b010-84027717f0c7"
      },
      "outputs": [
        {
          "name": "stdout",
          "output_type": "stream",
          "text": [
            "Number is greater than Zero\n"
          ]
        }
      ],
      "source": [
        "# short hand if statement\n",
        "num = 7\n",
        "if (num > 0): print(\"Number is greater than Zero\")"
      ]
    },
    {
      "cell_type": "code",
      "execution_count": null,
      "id": "mkQLGpdIwXiQ",
      "metadata": {
        "id": "mkQLGpdIwXiQ",
        "outputId": "3cb9a386-bb86-4178-c742-67f729bd93af"
      },
      "outputs": [
        {
          "name": "stdout",
          "output_type": "stream",
          "text": [
            "The given value of a: \n",
            "10\n"
          ]
        }
      ],
      "source": [
        "a = 10\n",
        "if (a):\n",
        "    print( \"The given value of a: \" )\n",
        "    print(a)"
      ]
    },
    {
      "cell_type": "code",
      "execution_count": null,
      "id": "B4A3L8fMwXiQ",
      "metadata": {
        "id": "B4A3L8fMwXiQ",
        "outputId": "d44483a2-f989-4459-eb50-0ae4e563a34b"
      },
      "outputs": [
        {
          "name": "stdout",
          "output_type": "stream",
          "text": [
            "B\n"
          ]
        }
      ],
      "source": [
        "# short hand if else statement or Ternary operator of python\n",
        "#Syntax\n",
        "# value_if_true  if  condition  else  value_if_false\n",
        "a = 7\n",
        "b = 9\n",
        "print(\"A\") if a > b else print(\"B\")\n",
        "# if a>b:\n",
        "#     print('A')\n",
        "# else:\n",
        "#     print('B')"
      ]
    },
    {
      "cell_type": "code",
      "execution_count": null,
      "id": "mEFfQ6BtwXiQ",
      "metadata": {
        "colab": {
          "base_uri": "https://localhost:8080/"
        },
        "id": "mEFfQ6BtwXiQ",
        "outputId": "bb535e40-e2db-420e-d650-5fbf63fdbd3e"
      },
      "outputs": [
        {
          "name": "stdout",
          "output_type": "stream",
          "text": [
            "B is greater\n"
          ]
        },
        {
          "data": {
            "text/plain": [
              "{None}"
            ]
          },
          "execution_count": 6,
          "metadata": {},
          "output_type": "execute_result"
        }
      ],
      "source": [
        "# short hand if else statement with 3 conditions\n",
        "a = 3\n",
        "b = 5\n",
        "print(\"A is greater\") if a > b else {print(\"=\") if a == b else print(\"B is greater\")}"
      ]
    },
    {
      "cell_type": "code",
      "execution_count": null,
      "id": "uY8J_Y9cwXiQ",
      "metadata": {
        "id": "uY8J_Y9cwXiQ"
      },
      "outputs": [],
      "source": [
        "#Example\n",
        "num = 2\n",
        "if num >= 0:\n",
        "    sign = \"positive\"\n",
        "else:\n",
        "    sign = \"negative\"\n",
        "\n",
        "# Equivalent inline code\n",
        "sign = \"positive\" if num >=0 else \"negative\""
      ]
    },
    {
      "cell_type": "code",
      "execution_count": null,
      "id": "GJ21UwBAwXiQ",
      "metadata": {
        "id": "GJ21UwBAwXiQ",
        "outputId": "860bc37a-c4bb-44a0-d273-703223639c56"
      },
      "outputs": [
        {
          "name": "stdout",
          "output_type": "stream",
          "text": [
            "Number is Zero\n"
          ]
        }
      ],
      "source": [
        "num = 0\n",
        "if (num < 0): print(\"Number is smaller than Zero\")\n",
        "elif (num > 0): print(\"Number is greater than Zero\")\n",
        "else: print(\"Number is Zero\")"
      ]
    },
    {
      "cell_type": "code",
      "execution_count": null,
      "id": "F9nBnSjqwXiR",
      "metadata": {
        "id": "F9nBnSjqwXiR",
        "outputId": "d06df61e-0ce2-471f-b990-d3f461057448"
      },
      "outputs": [
        {
          "name": "stdout",
          "output_type": "stream",
          "text": [
            "All the conditions are true\n"
          ]
        }
      ],
      "source": [
        "num1 = 10\n",
        "num2 = 20\n",
        "num3 = 30\n",
        "if (num1 == 10 and num2 == 20 and num3 == 30):\n",
        "             print(\"All the conditions are true\")\n"
      ]
    },
    {
      "cell_type": "markdown",
      "id": "HzmP2G-NwXiR",
      "metadata": {
        "id": "HzmP2G-NwXiR"
      },
      "source": [
        "**Challenge Problem**<br>\n",
        "In the Gregorian calendar, a normal year consists of 365 days. Because the actual length of a sidereal year (the time required for the Earth to revolve once about the Sun) is actually 365.2425 days, a \"leap year\" of 366 days is used once every four years to eliminate the error caused by three normal (but short) years.\n",
        "<br>\n",
        "To determine whether a year is a leap year, follow these steps:\n",
        "\n",
        "1. If the year is evenly divisible by 4, go to step 2. Otherwise, go to step 5.\n",
        "2. If the year is evenly divisible by 100, go to step 3. Otherwise, go to step 4.\n",
        "3. If the year is evenly divisible by 400, go to step 4. Otherwise, go to step 5.\n",
        "4. The year is a leap year (it has 366 days).\n",
        "5. The year is not a leap year (it has 365 days).\n",
        "\n"
      ]
    },
    {
      "cell_type": "code",
      "execution_count": null,
      "id": "sW4muqmlwXiR",
      "metadata": {
        "id": "sW4muqmlwXiR",
        "outputId": "c62f4d35-3ad6-48af-8b1b-9133adc9345a"
      },
      "outputs": [
        {
          "name": "stdout",
          "output_type": "stream",
          "text": [
            "Enter the year2000\n",
            "This is a leap year.\n"
          ]
        }
      ],
      "source": [
        "# Python program to check leap year or not\n",
        "checkyear =int(input(\"Enter the year\"))\n",
        "if (checkyear % 4) == 0:\n",
        "    if (checkyear % 100) == 0:\n",
        "        if (checkyear % 400) == 0:\n",
        "            print(\"This is a leap year.\")\n",
        "        else:\n",
        "            print(\"This is not a leap year.\")\n",
        "    else:\n",
        "          print(\"This is not a leap year.\")\n",
        "else:\n",
        "    print(\"This is not a leap year.\")"
      ]
    },
    {
      "cell_type": "markdown",
      "id": "j4yl6vnmwXiR",
      "metadata": {
        "id": "j4yl6vnmwXiR"
      },
      "source": [
        "**Challenge Problem 2**\n",
        "Change the above program to ask the user to input the year and month (in numerals) and display whether the year is leap year or not and also display the number of days in the month."
      ]
    },
    {
      "cell_type": "code",
      "execution_count": null,
      "id": "OQKbUNcNwXiR",
      "metadata": {
        "id": "OQKbUNcNwXiR",
        "outputId": "976e1267-546c-422f-a98a-dab6f9bdd073"
      },
      "outputs": [
        {
          "name": "stdout",
          "output_type": "stream",
          "text": [
            "Enter the year: 2024\n",
            "Enter the month: 2\n",
            "Leap Year\n",
            "There are 29 days in this month \n"
          ]
        }
      ],
      "source": [
        "currentYear = int(input (\"Enter the year: \" ) )\n",
        "month = int(input(\"Enter the month: \" ) )\n",
        "if ((currentYear % 4 ) == 0 and (currentYear % 100 ) != 0 or (currentYear % 400 ) == 0 ):\n",
        "       print(\"Leap Year\")\n",
        "       if(month == 1 or month == 3 or month == 5 or month == 7 or month == 8 or month == 10 or month == 12):\n",
        "               print(\"There are 31 days in this month \" )\n",
        "       elif ( month == 4 or month == 6 or month == 9 or month == 11 ):\n",
        "        print(\"There are 30 days in this month \" )\n",
        "       elif ( month == 2 ):\n",
        "        print(\"There are 29 days in this month \" )\n",
        "       else:\n",
        "        print(\"Invalid month \")\n",
        "elif ( ( currentYear % 4 ) != 0 or ( currentYear % 100 ) != 0 or ( currentYear % 400 ) != 0 ):\n",
        "       print(\"Non Leap Year \" )\n",
        "       if ( month == 1 or month == 3 or month == 5 or month == 7 or month == 8 or month == 10 or month == 12 ):\n",
        "        print(\"There are 31 days in this month\" )\n",
        "       elif ( month == 4 or month == 6 or month == 9 or month == 11 ):\n",
        "        print(\"There are 30 days in this month \" )\n",
        "       elif ( month == 2 ):\n",
        "        print(\"There are 28 days in this month \")\n",
        "       else:\n",
        "        print(\"Invalid month \" )\n",
        "else:\n",
        "       print( \" Invalid Year \" )"
      ]
    },
    {
      "cell_type": "markdown",
      "id": "CgehQoM2wXiR",
      "metadata": {
        "id": "CgehQoM2wXiR"
      },
      "source": [
        "**List**<br>\n",
        "A list is a type of Python object that allows us to store a sequence of other objects. One of its major utilities is that it provides us with means for updating the contents of a list later on.\n",
        "\n",
        "A list object is created using square-brackets, and its contents are separated by commas: [item1, item2, ..., itemN]. Its contents need not be of the same type of object.\n",
        "<br>\n",
        "Examples of List:<br>\n",
        "[3.5, None, 3.5, True, \"hello\"]<br>\n",
        "[\"hello\"]<br>\n",
        "x = \"hello\"<br>\n",
        "[2 < 3, x.capitalize(), 5**2, [1, 2]]<br>\n",
        "list(\"apple\")<br>"
      ]
    },
    {
      "cell_type": "code",
      "execution_count": null,
      "id": "e8wRsLhOwXiR",
      "metadata": {
        "id": "e8wRsLhOwXiR",
        "outputId": "a474d87d-9ca5-4d05-be7b-3d6a39515362"
      },
      "outputs": [
        {
          "name": "stdout",
          "output_type": "stream",
          "text": [
            "[3.5, None, 3.5, True, 'hello']\n",
            "['hello']\n",
            "[True, 'Hello', 25, [1, 2]]\n",
            "['a', 'p', 'p', 'l', 'e']\n"
          ]
        }
      ],
      "source": [
        "print([3.5, None, 3.5, True, \"hello\"])\n",
        "print([\"hello\"])\n",
        "x = \"hello\"\n",
        "print([2 < 3, x.capitalize(), 5**2, [1, 2]])\n",
        "print(list(\"apple\"))"
      ]
    },
    {
      "cell_type": "code",
      "execution_count": null,
      "id": "Ai0b25kowXiR",
      "metadata": {
        "id": "Ai0b25kowXiR",
        "outputId": "5eafc952-beb6-4b46-b010-cc7f1a1d177f"
      },
      "outputs": [
        {
          "data": {
            "text/plain": [
              "False"
            ]
          },
          "execution_count": 29,
          "metadata": {},
          "output_type": "execute_result"
        }
      ],
      "source": [
        "# Lists are sequences\n",
        "# Like a string, the ordering of a list’s contents matters,\n",
        "# meaning that a list is sequential in nature.\n",
        "[1, \"a\", True] == [1, True, \"a\"]"
      ]
    },
    {
      "cell_type": "code",
      "execution_count": null,
      "id": "6Q4YJkYEwXiS",
      "metadata": {
        "id": "6Q4YJkYEwXiS"
      },
      "outputs": [],
      "source": [
        "# a list supports the same mechanism for accessing its contents, via indexing and slicing, as does a string.\n",
        "# Indexing and slicing will be covered in detail later"
      ]
    },
    {
      "cell_type": "code",
      "execution_count": null,
      "id": "nJRdh_2CwXiS",
      "metadata": {
        "id": "nJRdh_2CwXiS",
        "outputId": "188b8c12-73e8-47e0-a1d7-918934d35b18"
      },
      "outputs": [
        {
          "name": "stdout",
          "output_type": "stream",
          "text": [
            "5\n",
            "2\n",
            "[4, 6]\n"
          ]
        }
      ],
      "source": [
        "# Accessing the contents of a list with indexing and slicing\n",
        "x = [2, 4, 6, 8, 10]\n",
        "\n",
        "# `x` contains five items\n",
        "print(len(x))\n",
        "\n",
        "\n",
        "# access the 0th item in the list via \"indexing\"\n",
        "print(x[0])\n",
        "\n",
        "\n",
        "# access a subsequence of the list via \"slicing\"\n",
        "print(x[1:3])\n"
      ]
    },
    {
      "cell_type": "markdown",
      "id": "Xdccy5WT9uzO",
      "metadata": {
        "id": "Xdccy5WT9uzO"
      },
      "source": [
        "pppp00012"
      ]
    },
    {
      "cell_type": "markdown",
      "id": "_rQE1REUwXiS",
      "metadata": {
        "id": "_rQE1REUwXiS"
      },
      "source": [
        "**Lists can be “mutated”**<br>\n",
        "We will encounter other types of containers in Python, what makes the list stand out is that the contents of a list can be changed after the list has already been constructed. Thus a list is an example of a __*mutable*__ object."
      ]
    },
    {
      "cell_type": "code",
      "execution_count": null,
      "id": "2rNXMYunwXiS",
      "metadata": {
        "id": "2rNXMYunwXiS",
        "outputId": "f0171a4e-8bca-4292-9f30-619b03db77b0"
      },
      "outputs": [
        {
          "name": "stdout",
          "output_type": "stream",
          "text": [
            "[2, 'apple', 6, 8, 10]\n",
            "[2, -3, -4, -5, 10]\n"
          ]
        }
      ],
      "source": [
        "# changing a list after it has been constructed\n",
        "x = [2, 4, 6, 8, 10]\n",
        "y = [2, 4, 6, 8, 10]\n",
        "\n",
        "# \"set\" the string 'apple' into position 1 of `x`\n",
        "x[1] = \"apple\"\n",
        "print(x)\n",
        "#[2, 'apple', 6, 8, 10]\n",
        "\n",
        "# replace a subsequence of `y`\n",
        "y[1:4] = [-3, -4, -5]\n",
        "print(y)\n",
        "#[2, -3, -4, -5, 10]"
      ]
    },
    {
      "cell_type": "markdown",
      "id": "HAQfRVdJwXiS",
      "metadata": {
        "id": "HAQfRVdJwXiS"
      },
      "source": [
        "The built-in list-functions __*append*__ and __*extend*__ allow us to add one item and multiple items to the end of a list, respectively:"
      ]
    },
    {
      "cell_type": "code",
      "execution_count": null,
      "id": "Iz6ThEBVwXiS",
      "metadata": {
        "colab": {
          "base_uri": "https://localhost:8080/"
        },
        "id": "Iz6ThEBVwXiS",
        "outputId": "da4216b1-f8a2-432c-e2ec-c21d876b1049"
      },
      "outputs": [
        {
          "name": "stdout",
          "output_type": "stream",
          "text": [
            "[2, 4, 6, 8, 10, 'moo']\n",
            "[2, 4, 6, 8, 10, 'moo', True, False, None]\n"
          ]
        }
      ],
      "source": [
        "x = [2, 4, 6, 8, 10]\n",
        "\n",
        "# use `append` to add a single object to the end of a list\n",
        "x.append(\"moo\")\n",
        "print(x)\n",
        "#[2, 4, 6, 8, 10, 'moo']\n",
        "\n",
        "# use `extend` to add a sequence of items to the end of a list\n",
        "x.extend([True, False, None])\n",
        "print(x)\n",
        "#[2, 4, 6, 8, 10, 'moo', True, False, None]"
      ]
    },
    {
      "cell_type": "markdown",
      "id": "4wdn_25HwXiS",
      "metadata": {
        "id": "4wdn_25HwXiS"
      },
      "source": [
        "The __*pop*__ and __*remove*__ functions allow us to remove an item from a list based on its position in the list, or by specifying the item itself, respectively."
      ]
    },
    {
      "cell_type": "code",
      "execution_count": null,
      "id": "X22hpuBSwXiS",
      "metadata": {
        "id": "X22hpuBSwXiS",
        "outputId": "b8eb2c67-0882-41b6-d197-6260cf86e3eb"
      },
      "outputs": [
        {
          "name": "stdout",
          "output_type": "stream",
          "text": [
            "b\n",
            "['a', 'c', 'd']\n",
            "['a', 'c']\n"
          ]
        }
      ],
      "source": [
        "x = [\"a\", \"b\", \"c\", \"d\"]\n",
        "\n",
        "# pop the position-1 item out from a list\n",
        "# `pop` will return the item that gets removed.\n",
        "print(x.pop(1))\n",
        "\n",
        "print(x)\n",
        "#['a', 'c', 'd']\n",
        "\n",
        "# remove the object \"d\" from the list\n",
        "x.remove(\"d\")\n",
        "print(x)\n",
        "#['a', 'c']"
      ]
    },
    {
      "cell_type": "markdown",
      "id": "TtDdYBPrwXiS",
      "metadata": {
        "id": "TtDdYBPrwXiS"
      },
      "source": [
        "**Iteration Statements**\n",
        "There are two types of Iteration Statements\n",
        "1. While:<br>\n",
        "A “while-loop” allows you to repeat a block of code until a condition is no longer true.<br>\n",
        "The while loop continues to execute the code repeatedly, as long as the expression<br>\n",
        "is True. In other words, a while loop iterates over a block of code. In Python, the<br>\n",
        "body of a while loop is determined by the indentation. It starts with indentation and<br>\n",
        "ends at the first unindented line.<br>\n",
        "The most important part of a while loop is the looping variable. This looping variable<br>\n",
        "controls the flow of iterations<br>\n",
        "Syntax:<br>\n",
        "while <condition>:<br>\n",
        "&emsp;block of code<br>\n",
        "    \n",
        "Where condition is an expression that returns True or False, or is any object on which bool can be called. The “body” of the while-loop is the code indented beneath the while-loop statement.\n",
        "\n",
        "The while-loop behaves as follows:\n",
        "\n",
        "Call bool(\\<condition\\>) and execute the indented block of code if True is returned. Otherwise, “exit” the while-loop, skipping past the indented code.\n",
        "\n",
        "If the indented block code is executed, go back to the first step.\n",
        "    \n",
        "\n"
      ]
    },
    {
      "cell_type": "code",
      "execution_count": null,
      "id": "xFhUWB6ZwXiS",
      "metadata": {
        "id": "xFhUWB6ZwXiS"
      },
      "outputs": [],
      "source": [
        "# demonstrating a basic while-loop\n",
        "total = 0\n",
        "while total < 2:\n",
        "    total += 1  # equivalent to: `total = total + 1`\n",
        "\n",
        "print(total)  # `total` has the value 2"
      ]
    },
    {
      "cell_type": "code",
      "execution_count": null,
      "id": "CrNUBJWywXiT",
      "metadata": {
        "id": "CrNUBJWywXiT"
      },
      "outputs": [],
      "source": [
        "# This code will perform the following steps:\n",
        "# 1.Define the variable total, and assign it the value 0\n",
        "# 2.Evaluate 0 < 2, which returns True: enter the enclosed code-block\n",
        "# 3.Execute the code block: assign total the value 0 + 1\n",
        "# 4.Evaluate 1 < 2, which returns True: enter the enclosed code-block\n",
        "# 5.Execute the code block: assign total the value 1 + 1\n",
        "# 6.Evaluate 2 < 2, which returns False: skip the enclosed code-block\n",
        "# 7.Print the value of total (2)\n",
        "\n",
        "# Warning!\n",
        "\n",
        "# It is possible to write a while-loop such that its conditional statement is always True,\n",
        "# in which case your code will run ceaselessly! If this ever happens to you in a Jupyter notebook,\n",
        "# either interrupt or restart your kernel."
      ]
    },
    {
      "cell_type": "code",
      "execution_count": null,
      "id": "N_y1Uf51wXiT",
      "metadata": {
        "id": "N_y1Uf51wXiT",
        "outputId": "7745fa94-454c-4413-8da3-c0795e402b60"
      },
      "outputs": [
        {
          "name": "stdout",
          "output_type": "stream",
          "text": [
            "10\n"
          ]
        }
      ],
      "source": [
        "#Given an Integer n, Find the Sum of first n Natural numbers.\n",
        "n = 4\n",
        "sum = 0\n",
        "i = 1             #Initialising the looping variable to 1\n",
        "while (i<=n):     #The loop will continue till the value of i<number\n",
        "    sum = sum + i\n",
        "    i = i+1           #Value of i is updated at the end of every iteration\n",
        "print(sum)"
      ]
    },
    {
      "cell_type": "code",
      "execution_count": null,
      "id": "6cO_zCdIwXiT",
      "metadata": {
        "id": "6cO_zCdIwXiT",
        "outputId": "f9643d2f-a7af-4e1b-a1f5-7b08ce0a95d9"
      },
      "outputs": [
        {
          "name": "stdout",
          "output_type": "stream",
          "text": [
            "9\n"
          ]
        }
      ],
      "source": [
        "# for-loop:\n",
        "#A “for-loop” allows you to iterate over a collection of items,\n",
        "#and execute a block of code once for each iteration.\n",
        "# Syntax:(FOR LOOP)\n",
        "# for <var> in <iterable>:\n",
        "#     block of code\n",
        "# Where <var> is any valid variable-identifier and <iterable> is any iterable.\n",
        "# Every sequence-type object is an iterable.\n",
        "# The for statement must end in a colon character,\n",
        "# and the body the for-loop is whitespace-delimited.\n",
        "\n",
        "# The for-loop behaves as follows:\n",
        "# 1.Request the next member of the iterable.\n",
        "# 2.If the iterable is empty, exit the for-loop without running its body.\n",
        "# 3.If the iterable did produce a member, assign that member to <var>\n",
        "# (if <var> was not previously defined, it becomes defined).\n",
        "# 4.Execute the enclosed body of code.\n",
        "# 5. Go back to the first step.\n",
        "\n",
        "# demonstrating a basic for-loop\n",
        "total = 0\n",
        "for item in [1, 3, 5]:\n",
        "    total = total + item\n",
        "\n",
        "print(total)  # `total` has the value 1 + 3 + 5 = 9\n",
        "# `item` is still defined here, and holds the value 5"
      ]
    },
    {
      "cell_type": "code",
      "execution_count": null,
      "id": "JKXIBCEHwXiT",
      "metadata": {
        "id": "JKXIBCEHwXiT"
      },
      "outputs": [],
      "source": [
        "# This code will perform the following steps:\n",
        "# 1.Define the variable total, and assign it the value 0\n",
        "# 2.Iterate on the list, producing value 1, define the variable item and assign it the value 1\n",
        "# 3.Assign total the value 0 + 1\n",
        "# 4.Iterate on the list, producing the value 3 and assigning it to item\n",
        "# 5.Assign total the value 1 + 3\n",
        "# 6.Iterate on the list, producing the value 5 and assigning it to item\n",
        "# 7.Assign total the value 4 + 5\n",
        "# 8.Iterate on the list. Having reached its end, a StopIteration signal it raised by the list, and the for-loop sequence is exited.\n",
        "# 9.Print the value of total (9)\n",
        "\n",
        "# Potential Pitfall\n",
        "# Note that the variable item will persist after the for-loop block is exited.\n",
        "# It will reference the last value from the for-loop iteration (in this case item has the value 5).\n",
        "# That being said, you should not write code that depends on the iterate-variable,\n",
        "# outside of the context of the for-loop."
      ]
    },
    {
      "cell_type": "code",
      "execution_count": null,
      "id": "T9xUySOFwXiT",
      "metadata": {
        "id": "T9xUySOFwXiT",
        "outputId": "1fc7404c-078d-485b-db3c-4b5e3de5f90b"
      },
      "outputs": [
        {
          "ename": "NameError",
          "evalue": "name 'x' is not defined",
          "output_type": "error",
          "traceback": [
            "\u001b[1;31m---------------------------------------------------------------------------\u001b[0m",
            "\u001b[1;31mNameError\u001b[0m                                 Traceback (most recent call last)",
            "\u001b[1;32m<ipython-input-4-8429b0db29f5>\u001b[0m in \u001b[0;36m<module>\u001b[1;34m\u001b[0m\n\u001b[0;32m      1\u001b[0m \u001b[1;32mfor\u001b[0m \u001b[0mx\u001b[0m \u001b[1;32min\u001b[0m \u001b[1;33m[\u001b[0m\u001b[1;33m]\u001b[0m\u001b[1;33m:\u001b[0m         \u001b[1;31m# the iterable is empty - the iterate-variable `x` will not be defined\u001b[0m\u001b[1;33m\u001b[0m\u001b[1;33m\u001b[0m\u001b[0m\n\u001b[0;32m      2\u001b[0m     \u001b[0mprint\u001b[0m\u001b[1;33m(\u001b[0m\u001b[1;34m\"Hello?\"\u001b[0m\u001b[1;33m)\u001b[0m  \u001b[1;31m# this code is never executed\u001b[0m\u001b[1;33m\u001b[0m\u001b[1;33m\u001b[0m\u001b[0m\n\u001b[1;32m----> 3\u001b[1;33m \u001b[0mprint\u001b[0m\u001b[1;33m(\u001b[0m\u001b[0mx\u001b[0m\u001b[1;33m)\u001b[0m             \u001b[1;31m# raises an error because `x` was never defined\u001b[0m\u001b[1;33m\u001b[0m\u001b[1;33m\u001b[0m\u001b[0m\n\u001b[0m",
            "\u001b[1;31mNameError\u001b[0m: name 'x' is not defined"
          ]
        }
      ],
      "source": [
        "for x in []:         # the iterable is empty - the iterate-variable `x` will not be defined\n",
        "    print(\"Hello?\")  # this code is never executed\n",
        "print(x)             # raises an error because `x` was never defined"
      ]
    },
    {
      "cell_type": "code",
      "execution_count": null,
      "id": "6iMGz6qZwXiT",
      "metadata": {
        "id": "6iMGz6qZwXiT"
      },
      "outputs": [],
      "source": [
        "#Using a for-loop and an if-statement, print each letter in the string \"abcdefghij\",\n",
        "#if that letter is a vowel."
      ]
    },
    {
      "cell_type": "markdown",
      "id": "yIvIFE01wXiU",
      "metadata": {
        "id": "yIvIFE01wXiU"
      },
      "source": [
        "**break, continue, & else clauses on loops**  \n",
        "The continue and break statements can be used within the bodies of both for-loops and while-loops. They provide added means for “short-circuiting” or prematurely exiting a given loop, respectively.\n",
        "\n",
        "Encountering break within a given loop causes that loop to be exited immediately:It basically means that during the iteration if certain criteria is met then we can do premature exit from the loop."
      ]
    },
    {
      "cell_type": "code",
      "execution_count": null,
      "id": "Ad7FnnHewXiU",
      "metadata": {
        "id": "Ad7FnnHewXiU",
        "outputId": "021fac86-4b97-438d-84e2-af9b06030759"
      },
      "outputs": [
        {
          "name": "stdout",
          "output_type": "stream",
          "text": [
            "1  ...next iteration\n",
            "2  ...next iteration\n",
            "3  ...break!\n"
          ]
        }
      ],
      "source": [
        "# breaking out of a loop early\n",
        "for item in [1, 2, 3, 4, 5]:\n",
        "    if item == 3:\n",
        "        print(item, \" ...break!\")\n",
        "        break\n",
        "    print(item, \" ...next iteration\")"
      ]
    },
    {
      "cell_type": "markdown",
      "id": "um12Ck8LwXiU",
      "metadata": {
        "id": "um12Ck8LwXiU"
      },
      "source": [
        "The continue statement, when encountered within a loop, causes the loop-statement to be revisited immediately.\n",
        "It means whenever we encounter the continue statement in the executing loop, the control flow of the program will go the first line of the loop skipping the contents below the continue statement."
      ]
    },
    {
      "cell_type": "code",
      "execution_count": null,
      "id": "mU88Fl8swXiU",
      "metadata": {
        "id": "mU88Fl8swXiU",
        "outputId": "b0330494-0e3d-4fa6-9283-d45ce1188169"
      },
      "outputs": [
        {
          "name": "stdout",
          "output_type": "stream",
          "text": [
            "1\n",
            "2\n",
            "4\n",
            "5\n",
            "6\n"
          ]
        }
      ],
      "source": [
        "## demonstrating a `continue` statement in a loop\n",
        "i = 0\n",
        "while i<6:\n",
        "    i=i+1\n",
        "    if(i==3):\n",
        "        continue\n",
        "    print(i)"
      ]
    },
    {
      "cell_type": "code",
      "execution_count": null,
      "id": "nYiYVRh1wXiU",
      "metadata": {
        "id": "nYiYVRh1wXiU",
        "outputId": "fef81e53-f22b-4e81-dc91-94b98c8c15f6"
      },
      "outputs": [
        {
          "name": "stdout",
          "output_type": "stream",
          "text": [
            "x =  1 >> enter loop-body <<\n",
            "--reached end of loop-body--\n",
            "x =  2 >> enter loop-body <<\n",
            "x =  2  continue...back to the top of the loop!\n",
            "x =  3 >> enter loop-body <<\n",
            "--reached end of loop-body--\n"
          ]
        }
      ],
      "source": [
        "# demonstrating a `continue` statement in a loop\n",
        "x = 1\n",
        "while x < 4:\n",
        "    print(\"x = \", x, \">> enter loop-body <<\")\n",
        "    if x == 2:\n",
        "         print(\"x = \", x, \" continue...back to the top of the loop!\")\n",
        "         x += 1\n",
        "         continue\n",
        "    x += 1\n",
        "    print(\"--reached end of loop-body--\")"
      ]
    },
    {
      "cell_type": "markdown",
      "id": "pHfFeOxgwXiU",
      "metadata": {
        "id": "pHfFeOxgwXiU"
      },
      "source": [
        "An else clause can be added to the end of any loop. The body of this else-statement will be executed only if the loop was not exited via a ``break`` statement."
      ]
    },
    {
      "cell_type": "code",
      "execution_count": null,
      "id": "5YGa7NqXwXiU",
      "metadata": {
        "colab": {
          "base_uri": "https://localhost:8080/"
        },
        "id": "5YGa7NqXwXiU",
        "outputId": "3f66ae06-1c83-4e5d-86ee-e3c344555d1e"
      },
      "outputs": [
        {
          "name": "stdout",
          "output_type": "stream",
          "text": [
            "2  ...next iteration\n",
            "4  ...next iteration\n",
            "6  ...next iteration\n",
            "if you are reading this, then the loop completed without a 'break'\n"
          ]
        }
      ],
      "source": [
        "# including an else-clause at the end of the loop\n",
        "for item in [2, 4,6]:\n",
        "    if item == 3:\n",
        "        print(item, \" ...break!\")\n",
        "        break\n",
        "    print(item, \" ...next iteration\")\n",
        "else:\n",
        "  print(\"if you are reading this, then the loop completed without a 'break'\")"
      ]
    },
    {
      "cell_type": "markdown",
      "id": "Ap3-Pp32wXiU",
      "metadata": {
        "id": "Ap3-Pp32wXiU"
      },
      "source": [
        "The pass statement is a null statement.\n",
        "● It is generally used as a placeholder for future code, you cannot\n",
        "leave the space blank as it will give a compilation error.\n",
        "● Sometimes, pass is used when the user does not want any code to\n",
        "execute."
      ]
    },
    {
      "cell_type": "code",
      "execution_count": null,
      "id": "UenI1zo2wXiU",
      "metadata": {
        "id": "UenI1zo2wXiU",
        "outputId": "b66e1bee-048a-4ad2-c48b-6aa6228aa999"
      },
      "outputs": [
        {
          "name": "stdout",
          "output_type": "stream",
          "text": [
            "Executed\n",
            "Executed\n"
          ]
        }
      ],
      "source": [
        "#demonstrate the use of pass statement\n",
        "for item in [2, 4, 6]:\n",
        "    if item==2:\n",
        "        pass #Pass statement: Nothing will happen\n",
        "    else:\n",
        "        print(\"Executed\")"
      ]
    },
    {
      "cell_type": "markdown",
      "id": "6PmBcfGrwXiU",
      "metadata": {
        "id": "6PmBcfGrwXiU"
      },
      "source": [
        "**Nested Loops**\n",
        "Python programming language allows the usage of one loop inside\n",
        "another loop. The loops can be nested the same way, the conditional\n",
        "statements are."
      ]
    },
    {
      "cell_type": "markdown",
      "id": "G4G6W0qxwXiU",
      "metadata": {
        "id": "G4G6W0qxwXiU"
      },
      "source": [
        "**Range Function**  \n",
        "A sequence in Python is a succession of values bound together by a single name. like list.    \n",
        "A generator is a special kind of iterator, which stores the instructions for how to generate each of its members, in order, along with its current state of iterations. It generates each member, one at a time, only as it is requested via iteration.  \n",
        "A generator does not store any items. Instead, it stores the instructions for generating each of its members, and stores its iteration state; this means that the generator will know if it has generated its second member, and will thus generate its third member the next time it is iterated on.\n",
        "\n",
        "The whole point of this is that you can use a generator to produce a long sequence of items, without having to store them all in memory.\n",
        "__range() Function/Generator__  \n",
        "The range() function in Python generates a immutable sequence of numbers starting from the given start integer to the stop integer on the fly, like 0, 1, 2, 3, 4..\n",
        "It returns the object of class range.\n",
        "\n",
        "<br>\n",
        "The syntax of the range() function is given below:  \n",
        "range(Lower Limit, Upper Limit) # Both limits are integers.  \n",
        "The function, range(L,U), will produce a list having values L, L+1, L+2....(U-1).  \n",
        "Note: The lower limit is included in the list but the upper limit is not.  \n",
        "<br>\n",
        "For Example:  \n",
        "list(range(0,5))  \n",
        "[0,1,2,3,4] #Output of the range() function  \n",
        "Note: The default step value is +1, i.e. the difference in the consecutive values of the sequence  \n",
        "generated will be +1.  \n",
        "<br>\n",
        "If you want to create a list with a step value other than 1, you can use the following syntax:  \n",
        "range(Lower Limit, Upper Limit, Step Value>  \n",
        "The function, range(L, U, S), will produce a list [L, L+S, L+2S...<= (U-1)].  \n",
        "For Example:  \n",
        "list(range(0,5,2))  \n",
        "[0,2,4] #Output of the range() function  \n",
        "<br>\n",
        "Reference :<br>\n",
        "https://pynative.com/python-if-else-and-for-loop-exercise-with-solutions/  \n"
      ]
    },
    {
      "cell_type": "code",
      "execution_count": null,
      "id": "DPKvV5wowXiU",
      "metadata": {
        "id": "DPKvV5wowXiU",
        "outputId": "e52044d2-cd96-4bb2-9a41-7c18a939b801"
      },
      "outputs": [
        {
          "name": "stdout",
          "output_type": "stream",
          "text": [
            "2\n",
            "3\n",
            "4\n",
            "5\n",
            "6\n"
          ]
        }
      ],
      "source": [
        "# start: 2  (included)\n",
        "#  stop: 7  (excluded)\n",
        "#  step: 1  (default)\n",
        "for i in range(2, 7):\n",
        "    print(i)\n",
        "# prints: 2.. 3.. 4.. 5.. 6"
      ]
    },
    {
      "cell_type": "code",
      "execution_count": null,
      "id": "NntWMS4cwXiU",
      "metadata": {
        "id": "NntWMS4cwXiU",
        "outputId": "7facd931-63bd-47b9-847a-3c8aaa6378d7"
      },
      "outputs": [
        {
          "name": "stdout",
          "output_type": "stream",
          "text": [
            "1\n",
            "3\n",
            "5\n",
            "7\n",
            "9\n"
          ]
        }
      ],
      "source": [
        "# start:  1  (included)\n",
        "#  stop: 10  (excluded)\n",
        "#  step:  2\n",
        "for i in range(1, 10, 2):\n",
        "    print(i)\n",
        "# prints: 1.. 3.. 5.. 7.. 9"
      ]
    },
    {
      "cell_type": "code",
      "execution_count": null,
      "id": "DDiz6rBlwXiV",
      "metadata": {
        "id": "DDiz6rBlwXiV",
        "outputId": "5a83eea8-31cd-4890-df26-fef1e0164ae4"
      },
      "outputs": [
        {
          "name": "stdout",
          "output_type": "stream",
          "text": [
            "0\n",
            "1\n",
            "2\n",
            "3\n",
            "4\n"
          ]
        }
      ],
      "source": [
        "# A very common use case!\n",
        "# start:  0  (default, included)\n",
        "#  stop:  5  (excluded)\n",
        "#  step:  1  (default)\n",
        "for i in range(5):\n",
        "    print(i)\n",
        "# prints: 0.. 1.. 2.. 3.. 4"
      ]
    },
    {
      "cell_type": "markdown",
      "id": "LomZ0vLHwXiV",
      "metadata": {
        "id": "LomZ0vLHwXiV"
      },
      "source": [
        "Because range is a generator, the command range(5) will simply store the instructions needed to produce the sequence of numbers 0-4, whereas the list [0, 1, 2, 3, 4] stores all of these items in memory at once. For short sequences, this seems to be a rather paltry savings; this is not the case for long sequences. The following graph compares the memory consumption used when defining a generator for the sequence of numbers  using range, compared to storing the sequence in a list:  \n",
        "![Mem_Consumption_Generator.png](attachment:Mem_Consumption_Generator.png)  \n",
        "Given our discussion of generators, it should make sense that the memory consumed simply by defining range(N) is independent of N , whereas the memory consumed by the list grows linearly with  (for large N).\n"
      ]
    },
    {
      "cell_type": "code",
      "execution_count": null,
      "id": "bLxnroEswXiV",
      "metadata": {
        "id": "bLxnroEswXiV",
        "outputId": "8d51e9ce-cd8d-4bdd-bf34-eb7419b6f5b3"
      },
      "outputs": [
        {
          "name": "stdout",
          "output_type": "stream",
          "text": [
            "[0, 1, 2, 3, 4]\n",
            "[0, 1, 2, 3, 4]\n",
            "[0, 1, 2, 3, 4]\n",
            "[0, 2, 4]\n",
            "[5, 4, 3, 2, 1]\n",
            "[-5, -4, -3, -2, -1]\n",
            "[-2, -3, -4, -5]\n"
          ]
        }
      ],
      "source": [
        "#range(lower,uppter) -- generates the numbers starting from lower to upper-1\n",
        "print(list(range(0,5)))\n",
        "print(list(range(5)))\n",
        "print(list(range(0,5,1)))\n",
        "print(list(range(0,5,2)))\n",
        "print(list(range(5,0,-1)))\n",
        "print(list(range(-5,0,1)))\n",
        "print(list(reversed(range(-5,-1,1))))"
      ]
    },
    {
      "cell_type": "code",
      "execution_count": null,
      "id": "DMOv_meSwXiV",
      "metadata": {
        "id": "DMOv_meSwXiV"
      },
      "outputs": [],
      "source": [
        "#**Challenge**:Using range in a for-loop, print the numbers 10-1, in sequence."
      ]
    },
    {
      "cell_type": "markdown",
      "id": "TZoUDIkVwXiV",
      "metadata": {
        "id": "TZoUDIkVwXiV"
      },
      "source": [
        "**Creating your own generator: generator comprehensions**  \n",
        "Python provides a sleek syntax for defining a simple generator in a single line of code; this expression is known as a generator comprehension.  \n",
        "The syntax (\\<expression> for \\<var> in \\<iterable> [if \\<condition>]) specifies the general form for a generator comprehension. This produces a generator, whose instructions for generating its members are provided within the parenthetical statement.  \n",
        "Written in a long form, the pseudo-code for  \n",
        "\n",
        "(\\<expression> for \\<var> in \\<iterable> if \\<condition>)  \n",
        "  \n",
        "is:\n",
        "  \n",
        "for \\<var> in \\<iterable>:  \n",
        "  &emsp;if bool(\\<condition>):  \n",
        "   &emsp;&emsp; yield \\<expression>\n",
        "   <br>\n",
        "The following expression defines a generator for all the even numbers in 0-99:  \n",
        "**when iterated over, `even_gen` will generate 0.. 2.. 4.. ... 98**  \n",
        "even_gen = (i for i in range(100) if i%2 == 0)\n"
      ]
    },
    {
      "cell_type": "code",
      "execution_count": null,
      "id": "-8uv4IOywXiV",
      "metadata": {
        "id": "-8uv4IOywXiV",
        "outputId": "23ac1c21-1067-4e1d-f62e-774fa1acac28"
      },
      "outputs": [
        {
          "name": "stdout",
          "output_type": "stream",
          "text": [
            "<generator object <genexpr> at 0x0000000004CA6F90>\n",
            "98\n"
          ]
        }
      ],
      "source": [
        "even_gen = (i for i in range(100) if i%2 == 0)\n",
        "#print(even_gen)\n",
        "print(max(even_gen))\n",
        "# for i in even_gen:\n",
        "#     if(i<10):\n",
        "#         print(i)"
      ]
    },
    {
      "cell_type": "markdown",
      "id": "8cXBt6gPwXiV",
      "metadata": {
        "id": "8cXBt6gPwXiV"
      },
      "source": [
        "The if \\<condition> clause in the generator expression is optional. The generator comprehension  \n",
        "\n",
        "(\\<expression> for \\<var> in <\\iterable>)  \n",
        "corresponds to:  \n",
        "  \n",
        "for \\<var> in \\<iterable>:  \n",
        "    &emsp;yield \\<expression>  \n",
        "For example:  \n",
        "  \n",
        "\\# when iterated over, `example_gen` will generate 0/2.. 9/2.. 21/2.. 32/2  \n",
        "example_gen = (i/2 for i in [0, 9, 21, 32])  "
      ]
    },
    {
      "cell_type": "code",
      "execution_count": null,
      "id": "0sKvc_rxwXiV",
      "metadata": {
        "id": "0sKvc_rxwXiV",
        "outputId": "1b1f14b9-9aae-4e1b-c17f-90b980114b17"
      },
      "outputs": [
        {
          "name": "stdout",
          "output_type": "stream",
          "text": [
            "0.0\n",
            "4.5\n",
            "10.5\n",
            "16.0\n"
          ]
        }
      ],
      "source": [
        "# when iterated over, `example_gen` will generate 0/2.. 9/2.. 21/2.. 32/2\n",
        "example_gen = (i/2 for i in [0, 9, 21, 32])\n",
        "\n",
        "for item in example_gen:\n",
        "    print(item)\n",
        "# prints: 0.0.. 4.5.. 10.5.. 16.0"
      ]
    },
    {
      "cell_type": "code",
      "execution_count": null,
      "id": "rOP2YFQOwXiV",
      "metadata": {
        "id": "rOP2YFQOwXiV",
        "outputId": "ae9ed2b1-2877-4bcb-9f62-3b5687fb5f44"
      },
      "outputs": [
        {
          "name": "stdout",
          "output_type": "stream",
          "text": [
            "<generator object <genexpr> at 0x0000000004CA6660>\n",
            "(0, 0, 0)\n",
            "(1, 1, 1)\n",
            "(2, 4, 8)\n",
            "(3, 9, 27)\n",
            "(4, 16, 64)\n",
            "(5, 25, 125)\n",
            "(6, 36, 216)\n",
            "(7, 49, 343)\n",
            "(8, 64, 512)\n",
            "(9, 81, 729)\n"
          ]
        }
      ],
      "source": [
        "gen2 = ((i, i**2, i**3) for i in range(10))\n",
        "print(gen2)\n",
        "for i in gen2:\n",
        "    print(i)\n",
        "# will generate:\n",
        "# (0, 0, 0)\n",
        "# (1, 1, 1)\n",
        "# (2, 4, 8)\n",
        "# (3, 9, 27)\n",
        "# (4, 16, 64)\n",
        "# (5, 25, 125)\n",
        "# (6, 36, 216)\n",
        "# (7, 49, 343)\n",
        "# (8, 64, 512)\n",
        "# (9, 81, 729)\n",
        "# This output simply indicates that gen2 stores a generator-expression\n",
        "# at the memory address 0x0000000004FC8580; this is simply where the\n",
        "# instructions for generating our sequence of squared numbers is stored.\n",
        "# gen2 will not produce any results until we iterate over it."
      ]
    },
    {
      "cell_type": "code",
      "execution_count": null,
      "id": "z_uNFVHVwXiV",
      "metadata": {
        "id": "z_uNFVHVwXiV",
        "outputId": "158019c7-6eb7-4512-eed6-59b9988e040b"
      },
      "outputs": [
        {
          "name": "stdout",
          "output_type": "stream",
          "text": [
            "apple\n",
            "apple\n",
            "apple\n",
            "pie\n",
            "pie\n",
            "pie\n"
          ]
        }
      ],
      "source": [
        "#This means that <expression> can even involve inline if-else statements!\n",
        "gen1 =((\"apple\" if i < 3 else \"pie\") for i in range(6))\n",
        "\n",
        "for i in gen1:\n",
        "    print(i)\n",
        "# will generate:\n",
        "# 'apple'..\n",
        "# 'apple'..\n",
        "# 'apple'..\n",
        "# 'pie'..\n",
        "# 'pie'..\n",
        "# 'pie'"
      ]
    },
    {
      "cell_type": "code",
      "execution_count": null,
      "id": "ZOVCgP9_wXiV",
      "metadata": {
        "colab": {
          "base_uri": "https://localhost:8080/"
        },
        "id": "ZOVCgP9_wXiV",
        "outputId": "c1b8c034-a1f8-4e82-a16a-64bcfa2c21fc"
      },
      "outputs": [
        {
          "name": "stdout",
          "output_type": "stream",
          "text": [
            "30\n",
            "0\n"
          ]
        }
      ],
      "source": [
        "gen = (i**2 for i in range(0,5))\n",
        "print(sum(gen))  # computes the sum 0 + 1 + 4 + 9 + 25 + ... + 9801, sum is a built-in function.\n",
        "print(sum(gen))\n",
        "#Why First sum statement gave answer and other did not.\n",
        "# This is because a generator is exhausted after it is iterated over in full.\n",
        "#You must redefine the generator if you want to iterate over it again;"
      ]
    },
    {
      "cell_type": "markdown",
      "id": "IrnSIxUQwXiW",
      "metadata": {
        "id": "IrnSIxUQwXiW"
      },
      "source": [
        "**Chaining comprehensions**  \n",
        "Because generators are iterables, they can be fed into subsequent generator comprehensions. That is, they can be “chained” together.  \n"
      ]
    },
    {
      "cell_type": "code",
      "execution_count": null,
      "id": "DjF-Bpp5wXiW",
      "metadata": {
        "id": "DjF-Bpp5wXiW",
        "outputId": "a043463b-189e-4a6d-9c9c-090a15c1f577"
      },
      "outputs": [
        {
          "data": {
            "text/plain": [
              "200"
            ]
          },
          "execution_count": 31,
          "metadata": {},
          "output_type": "execute_result"
        }
      ],
      "source": [
        "# total = 0\n",
        "# for i in [-20, -10, 0, 10, 20]:\n",
        "#     j = i ** 2\n",
        "#     if j <= 150:\n",
        "#         total += j\n",
        "\n",
        "\n",
        "\n",
        "# chaining two generator comprehensions\n",
        "\n",
        "# generates 400.. 100.. 0.. 100.. 400\n",
        "gen_1 = (i**2 for i in [-20, -10, 0, 10, 20])\n",
        "\n",
        "# iterates through gen_1, excluding any numbers whose absolute value is greater than 150\n",
        "gen_2 = (j for j in gen_1 if abs(j) <= 150)\n",
        "\n",
        "# computing 100 + 0 + 100\n",
        "sum(gen_2)\n",
        "#200"
      ]
    },
    {
      "cell_type": "code",
      "execution_count": null,
      "id": "0Jxk0c5DwXiW",
      "metadata": {
        "id": "0Jxk0c5DwXiW",
        "outputId": "1e744722-d0c9-413b-9c3a-0bef39b23398"
      },
      "outputs": [
        {
          "data": {
            "text/plain": [
              "1.5"
            ]
          },
          "execution_count": 9,
          "metadata": {},
          "output_type": "execute_result"
        }
      ],
      "source": [
        "sum(1/n for n in range(1, 3))"
      ]
    },
    {
      "cell_type": "code",
      "execution_count": null,
      "id": "0xJPB7NPwXiW",
      "metadata": {
        "id": "0xJPB7NPwXiW",
        "outputId": "e805c347-e5f4-4e1b-9b13-9b7c91c566e7"
      },
      "outputs": [
        {
          "name": "stdout",
          "output_type": "stream",
          "text": [
            "50 abc 30 20 10 "
          ]
        }
      ],
      "source": [
        "#Given a list , reverse the list using range()\n",
        "list1 = [10, 20, 30, 40, 50]\n",
        "# start = list's size\n",
        "# stop = -1\n",
        "# step = -1\n",
        "\n",
        "# reverse a list\n",
        "for i in range(len(list1) - 1, -1, -1):\n",
        "    print(list1[i], end=\" \")"
      ]
    },
    {
      "cell_type": "code",
      "execution_count": null,
      "id": "UbOF6WKhwXiW",
      "metadata": {
        "id": "UbOF6WKhwXiW",
        "outputId": "b0f062a0-d54a-4634-f737-a492dbcb61ad"
      },
      "outputs": [
        {
          "name": "stdout",
          "output_type": "stream",
          "text": [
            "4\n",
            "50\n",
            "abc\n",
            "30\n",
            "20\n",
            "10\n"
          ]
        }
      ],
      "source": [
        "x = len(list1) -1\n",
        "print(x)\n",
        "\n",
        "for i in range(x,-1,-1):\n",
        "    print(list1[i])"
      ]
    },
    {
      "cell_type": "markdown",
      "id": "VKPHCg89wXiW",
      "metadata": {
        "id": "VKPHCg89wXiW"
      },
      "source": [
        "**Challenge**:Loop over a list of integers repeatedly, summing up all of its even values, and adding the content to a total. Repeat this process until the the total exceeds 100, or if you have looped over the list more than 50 times. Print the total only if it exceeds 100."
      ]
    },
    {
      "cell_type": "markdown",
      "id": "k6KGQeIQwXiW",
      "metadata": {
        "id": "k6KGQeIQwXiW"
      },
      "source": [
        "**Challenge:**Given a list of nonzero, positive numbers, x, append the sum of that list to the end of it. Do this until the last value in x is at least 100. Use a while-loop.\n",
        "\n",
        "If you start with x = [1], then by the end of your while-loop x should be [1, 1, 2, 4, 8, 16, 32, 64, 128]."
      ]
    },
    {
      "cell_type": "markdown",
      "id": "hbzn5eZewXiW",
      "metadata": {
        "id": "hbzn5eZewXiW"
      },
      "source": [
        "**Challenge:**\n",
        "Loop over a list of integers repeatedly, summing up all of its even values, and adding the content to a total. Repeat this process until the the total exceeds 100, or if you have looped over the list more than 50 times. Print the total only if it exceeds 100.\n",
        "\n",
        "**Challenge:**\n",
        "Print the following number pattern using Python range() and a loop.\n",
        "\n",
        "1 <br>\n",
        "2 2 <br>\n",
        "3 3 3 <br>\n",
        "\n",
        "1 <br>\n",
        "1 2 <br>\n",
        "1 2 3 <br>\n",
        "1 2 3 4 <br>\n",
        "1 2 3 4 5<br>\n",
        "\n",
        "5 4 3 2 1 <br>\n",
        "4 3 2 1 <br>\n",
        "3 2 1 <br>\n",
        "2 1 <br>\n",
        "1<br>\n",
        "\n",
        "\\* <br>\n",
        "\\* * <br>\n",
        "\\* * * <br>\n",
        "\\* * * * <br>\n",
        "\\* * * * * <br>\n",
        "\\* * * * <br>\n",
        "\\* * * <br>\n",
        "\\* * <br>\n",
        "\\*<br>\n",
        "\n",
        "**Challenge:**   \n",
        "Calculate the cube of all numbers from 1 to a given number\n",
        "\n",
        "**Challenge:**   \n",
        "Display Fibonacci series up to 10 terms  \n",
        "The Fibonacci Sequence is a series of numbers. The next number is found by adding up the two numbers   before it. The first two numbers are 0 and 1.  \n",
        "\n",
        "For example, 0, 1, 1, 2, 3, 5, 8, 13, 21. The next number in this series above is 13+21 = 34.  "
      ]
    },
    {
      "cell_type": "markdown",
      "id": "D-kBsuSRwXiW",
      "metadata": {
        "id": "D-kBsuSRwXiW"
      },
      "source": [
        "**Functions**<br>\n",
        "https://cs.stanford.edu/people/nick/py/python-function.html<br>\n",
        "https://pythonlikeyoumeanit.com<br>\n",
        "https://pynative.com/python/<br>\n",
        "\n",
        "\n",
        "**Assignment**:\n",
        "Write short notes on :  \n",
        "a) Zip  \n",
        "b) Enumerate  \n",
        "c) itertools\n",
        "d) First class objects\n"
      ]
    },
    {
      "cell_type": "markdown",
      "id": "NI6OyI6gwXiX",
      "metadata": {
        "id": "NI6OyI6gwXiX"
      },
      "source": [
        "**Functions**:  \n",
        "In Python, the function is a block of code or lines of statement defined with a name. We use functions whenever we need to perform the same task multiple times without writing the same code again. It can take arguments and returns the value.  \n",
        "\n",
        "The same set of statements, grouped together with a name forms a function, which can be called wherever and whenever necessary which provides modularity, reusability and ease at debugging in any programming language.  \n",
        "\n",
        "There are two types of functions:  \n",
        "1) Built-in functions  \n",
        "2) User defined functions\n",
        "\n",
        "Built-in functions are the functions which are available in standard python installation. like   \n",
        "range()  \n",
        "type()  \n",
        "id()  \n",
        "len()  \n",
        "max(), min(), pow(), abs(), round() etc.\n",
        "\n",
        "User-defined functions:\n",
        "These functions are defined by user and contain the lines of statement to perform a particular task.    \n",
        "Defining a function allows you to encapsulate a segment of code, specifying the information that enters and leaves the code. You can make use of this “code-capsule” repeatedly and in many different contexts.\n",
        "\n",
        "\n",
        "**Creating a Function**  \n",
        "Use the following steps to to define a function in Python.\n",
        "\n",
        "Use the def keyword with the function name to define a function.  \n",
        "Next, pass the number of parameters as per your requirement. (Optional).  \n",
        "Next, define the function body with a block of code. This block of code is nothing but the action you wanted to perform.  \n",
        "In Python, no need to specify curly braces for the function body. The only indentation is essential to separate code blocks.  \n",
        "\n",
        "**Syntax of creating a function**  \n",
        "\n",
        "def function_name(parameter1, parameter2):  \n",
        "    &emsp;   # function body      \n",
        "    &emsp;   # write some action  \n",
        "return value  \n",
        "\n",
        "Here,\n",
        "\n",
        "a) function_name: Function name is the name of the function. We can give any name to function.   \n",
        "b) parameter: Parameter is the value passed to the function. We can pass any number of parameters. Function body uses the parameter’s value to perform an action  \n",
        "c) function_body: The function body is a block of code that performs some task. This block of code is nothing but the action you wanted to accomplish.  \n",
        "d) return value: Return value is the output of the function.  \n",
        "\n",
        "![python-functions.jpg](attachment:python-functions.jpg)\n",
        "\n"
      ]
    },
    {
      "cell_type": "code",
      "execution_count": null,
      "id": "e8ukQusbwXiX",
      "metadata": {
        "id": "e8ukQusbwXiX"
      },
      "outputs": [],
      "source": [
        "#Example:Function without any parameter\n",
        "#the def statement is reserved by the Python language to signify the definition of functions.\n",
        "# message is the function name, we can use other names depending on the requirement and readability.\n",
        "# the input arguments to the function, and may be left blank if the function does not accept any arguments\n",
        "#(the parentheses must still be included, but will not encapsulate anything).\n",
        "def message():\n",
        "    '''This is documentation string'''\n",
        "    print(\"Welcome to PYTHON FUNCTIONS\")"
      ]
    },
    {
      "cell_type": "code",
      "execution_count": null,
      "id": "NF-99mdxwXiX",
      "metadata": {
        "colab": {
          "base_uri": "https://localhost:8080/",
          "height": 122
        },
        "id": "NF-99mdxwXiX",
        "outputId": "fa98e3eb-9cd9-457b-ffa6-a1340a916e17"
      },
      "outputs": [
        {
          "name": "stdout",
          "output_type": "stream",
          "text": [
            "Help on function message in module __main__:\n",
            "\n",
            "message()\n",
            "    This is documentation string\n",
            "\n"
          ]
        },
        {
          "data": {
            "application/vnd.google.colaboratory.intrinsic+json": {
              "type": "string"
            },
            "text/plain": [
              "'This is documentation string'"
            ]
          },
          "execution_count": 3,
          "metadata": {},
          "output_type": "execute_result"
        }
      ],
      "source": [
        "help(message)\n",
        "message.__doc__"
      ]
    },
    {
      "cell_type": "code",
      "execution_count": null,
      "id": "1UEaql8bwXiX",
      "metadata": {
        "id": "1UEaql8bwXiX",
        "outputId": "dd71326d-533f-4dad-db8f-b29882186435"
      },
      "outputs": [
        {
          "name": "stdout",
          "output_type": "stream",
          "text": [
            "Welcome to PYTHON FUNCTIONS\n"
          ]
        }
      ],
      "source": [
        "# call function using its name\n",
        "message()"
      ]
    },
    {
      "cell_type": "markdown",
      "id": "0J3AThcfwXiX",
      "metadata": {
        "id": "0J3AThcfwXiX"
      },
      "source": [
        "The return statement is also reserved by Python. It denotes the end of a function; if reached, a return statement immediately concludes the execution of the function and returns the specified object.  \n",
        "Furthermore, an empty return statement can be specified, or the return statement of a function can be omitted altogether. In both of these cases, the function will return the None object."
      ]
    },
    {
      "cell_type": "code",
      "execution_count": null,
      "id": "79CIjGGzwXiX",
      "metadata": {
        "id": "79CIjGGzwXiX"
      },
      "outputs": [],
      "source": [
        "# this function returns `None`\n",
        "# an \"empty\" return statement\n",
        "def f():\n",
        "    x = 1\n",
        "    return"
      ]
    },
    {
      "cell_type": "code",
      "execution_count": null,
      "id": "pAI-yZHDwXiX",
      "metadata": {
        "id": "pAI-yZHDwXiX",
        "outputId": "755991a2-ff83-495e-b5a6-aa95e96394e7"
      },
      "outputs": [
        {
          "name": "stdout",
          "output_type": "stream",
          "text": [
            "None\n"
          ]
        }
      ],
      "source": [
        "print(f())"
      ]
    },
    {
      "cell_type": "code",
      "execution_count": null,
      "id": "BsQ9BhfrwXiY",
      "metadata": {
        "id": "BsQ9BhfrwXiY"
      },
      "outputs": [],
      "source": [
        "# this function returns `None`\n",
        "# return statement is omitted\n",
        "def f():\n",
        "    x = 1"
      ]
    },
    {
      "cell_type": "code",
      "execution_count": null,
      "id": "D2s4IecEwXiY",
      "metadata": {
        "id": "D2s4IecEwXiY",
        "outputId": "8c569d71-580c-4cc2-aebf-4f48d6cba8c7"
      },
      "outputs": [
        {
          "name": "stdout",
          "output_type": "stream",
          "text": [
            "None\n"
          ]
        }
      ],
      "source": [
        "print(f())"
      ]
    },
    {
      "cell_type": "code",
      "execution_count": null,
      "id": "v8vXwuS2wXiY",
      "metadata": {
        "id": "v8vXwuS2wXiY",
        "outputId": "2470eb29-ee4f-4fb4-86b6-39c77c443888"
      },
      "outputs": [
        {
          "name": "stdout",
          "output_type": "stream",
          "text": [
            "hi\n"
          ]
        }
      ],
      "source": [
        "# All Python functions return something.\n",
        "# Even the built-in print function returns None after it prints to standard-output!\n",
        "x = print(\"hi\")"
      ]
    },
    {
      "cell_type": "code",
      "execution_count": null,
      "id": "_IPgQYsdwXiY",
      "metadata": {
        "id": "_IPgQYsdwXiY",
        "outputId": "1043ee13-24a1-4e74-89f8-d705f148132a"
      },
      "outputs": [
        {
          "data": {
            "text/plain": [
              "True"
            ]
          },
          "execution_count": 10,
          "metadata": {},
          "output_type": "execute_result"
        }
      ],
      "source": [
        "x is None"
      ]
    },
    {
      "cell_type": "code",
      "execution_count": null,
      "id": "2wbOov1EwXiY",
      "metadata": {
        "id": "2wbOov1EwXiY"
      },
      "outputs": [],
      "source": [
        "# As stated above, a return statement will trigger a function to end its execution immediately\n",
        "# when reached, even when subsequent code follows it. It is impossible for multiple ``return``\n",
        "# statements to be visited within a single function call. Thus if you want to return multiple\n",
        "# items, then your function must return a single container of those items, like a list or a tuple.\n",
        "\n",
        "# Returning multiple items from a function\n",
        "def bad_f(x):\n",
        "    \"\"\" return x**2 and x**3\"\"\"\n",
        "    return x**2\n",
        "    # this code can never be reached!\n",
        "    return x**3\n",
        "\n",
        "def good_f(x):\n",
        "    \"\"\" return x**2 and x**3\"\"\"\n",
        "    return (x**2, x**3)"
      ]
    },
    {
      "cell_type": "code",
      "execution_count": null,
      "id": "aSxxXLfTwXiY",
      "metadata": {
        "id": "aSxxXLfTwXiY",
        "outputId": "df2cbd84-eb22-439a-dad9-ca18f241c0a0"
      },
      "outputs": [
        {
          "data": {
            "text/plain": [
              "tuple"
            ]
          },
          "execution_count": 14,
          "metadata": {},
          "output_type": "execute_result"
        }
      ],
      "source": [
        "good_f(3))"
      ]
    },
    {
      "cell_type": "code",
      "execution_count": null,
      "id": "XBQ8Cyx1wXiY",
      "metadata": {
        "id": "XBQ8Cyx1wXiY",
        "outputId": "292e0384-9686-46b4-8da4-d7184974b3df"
      },
      "outputs": [
        {
          "name": "stdout",
          "output_type": "stream",
          "text": [
            "Hello John Welcome to Programming Langauges\n",
            "Your course name is Python Programming BCE-C307\n"
          ]
        }
      ],
      "source": [
        "#Example function with more than one parameter\n",
        "def course_func(name, course_name):\n",
        "    print(\"Hello\", name, \"Welcome to Programming Langauges\")\n",
        "    print(\"Your course name is\", course_name)\n",
        "\n",
        "# call function\n",
        "course_func('John', 'Python Programming BCE-C307')"
      ]
    },
    {
      "cell_type": "code",
      "execution_count": null,
      "id": "oyAMbADAwXib",
      "metadata": {
        "id": "oyAMbADAwXib",
        "outputId": "71af96ed-faf8-4179-de1a-2742c7228a5d"
      },
      "outputs": [
        {
          "name": "stdout",
          "output_type": "stream",
          "text": [
            "Addition : 25\n"
          ]
        }
      ],
      "source": [
        "# function\n",
        "def calculator(a, b):\n",
        "    add = a + b\n",
        "    # return the addition\n",
        "    return add\n",
        "\n",
        "# call function\n",
        "# take return value in variable\n",
        "res = calculator(20, 5)\n",
        "\n",
        "print(\"Addition :\", res)\n",
        "# Output Addition : 25"
      ]
    },
    {
      "cell_type": "code",
      "execution_count": null,
      "id": "5HLLHmj8wXib",
      "metadata": {
        "id": "5HLLHmj8wXib"
      },
      "outputs": [],
      "source": [
        "# function to check for even or odd\n",
        "def even_odd(n):\n",
        "    # check number is even or odd\n",
        "    if n % 2 == 0:\n",
        "        print('Even number')\n",
        "    else:\n",
        "        print('Odd Number')\n",
        "\n",
        "# calling function by its name\n",
        "even_odd(19)\n",
        "# Output Odd Number"
      ]
    },
    {
      "cell_type": "code",
      "execution_count": null,
      "id": "_EP_22lUwXib",
      "metadata": {
        "colab": {
          "base_uri": "https://localhost:8080/"
        },
        "id": "_EP_22lUwXib",
        "outputId": "a577ca2a-e061-4697-dd4f-63dac6a72881"
      },
      "outputs": [
        {
          "name": "stdout",
          "output_type": "stream",
          "text": [
            "\n",
            "   Description of function\n",
            "\n",
            "   Arguments:\n",
            "   parameter1(int):Description of parameter1\n",
            "\n",
            "   Returns:\n",
            "   int value\n",
            "    \n"
          ]
        }
      ],
      "source": [
        "#Example of doc Strings\n",
        "def any_fun(parameter1):\n",
        "    '''\n",
        "   Description of function\n",
        "\n",
        "   Arguments:\n",
        "   parameter1(int):Description of parameter1\n",
        "\n",
        "   Returns:\n",
        "   int value\n",
        "    '''\n",
        "print(any_fun.__doc__)"
      ]
    },
    {
      "cell_type": "code",
      "execution_count": null,
      "id": "tQZpXOAmwXic",
      "metadata": {
        "id": "tQZpXOAmwXic"
      },
      "outputs": [],
      "source": [
        "# function to check for even numbers in a list\n",
        "def is_even(list1):\n",
        "    even_num = []\n",
        "    for n in list1:\n",
        "        if n % 2 == 0:\n",
        "            even_num.append(n)\n",
        "    # return a list\n",
        "    return even_num\n",
        "\n",
        "# Pass list to the function\n",
        "even_num = is_even([2, 3, 42, 51, 62, 70, 5, 9])\n",
        "print(\"Even numbers are:\", even_num)\n"
      ]
    },
    {
      "cell_type": "code",
      "execution_count": null,
      "id": "yjZ49231wXic",
      "metadata": {
        "id": "yjZ49231wXic",
        "outputId": "aeb272bb-35ae-44c8-ef03-219c70b15ca7"
      },
      "outputs": [
        {
          "name": "stdout",
          "output_type": "stream",
          "text": [
            "Addition:  12\n",
            "Subtraction:  8\n",
            "Multiplication:  20\n",
            "Division:  5.0\n"
          ]
        }
      ],
      "source": [
        "#Function returning multiple items\n",
        "def arithmetic(num1, num2):\n",
        "    add = num1 + num2\n",
        "    sub = num1 - num2\n",
        "    multiply = num1 * num2\n",
        "    division = num1 / num2\n",
        "    # return four values\n",
        "    return add, sub, multiply, division\n",
        "\n",
        "# read four return values in four variables\n",
        "a, b, c, d = arithmetic(10, 2)\n",
        "\n",
        "print(\"Addition: \", a)\n",
        "print(\"Subtraction: \", b)\n",
        "print(\"Multiplication: \", c)\n",
        "print(\"Division: \", d)"
      ]
    },
    {
      "cell_type": "code",
      "execution_count": null,
      "id": "PVdoEXoswXic",
      "metadata": {
        "id": "PVdoEXoswXic",
        "outputId": "b28c9d16-9c61-454b-cb73-3a5e81a9abec"
      },
      "outputs": [
        {
          "name": "stdout",
          "output_type": "stream",
          "text": [
            "Python\n",
            "DataScience\n"
          ]
        },
        {
          "ename": "NameError",
          "evalue": "name 'local_lang' is not defined",
          "output_type": "error",
          "traceback": [
            "\u001b[1;31m---------------------------------------------------------------------------\u001b[0m",
            "\u001b[1;31mNameError\u001b[0m                                 Traceback (most recent call last)",
            "\u001b[1;32m<ipython-input-19-b532796a7e6b>\u001b[0m in \u001b[0;36m<module>\u001b[1;34m\u001b[0m\n\u001b[0;32m     13\u001b[0m \u001b[1;33m\u001b[0m\u001b[0m\n\u001b[0;32m     14\u001b[0m \u001b[1;31m# NameError: name 'local_lang' is not defined\u001b[0m\u001b[1;33m\u001b[0m\u001b[1;33m\u001b[0m\u001b[1;33m\u001b[0m\u001b[0m\n\u001b[1;32m---> 15\u001b[1;33m \u001b[0mprint\u001b[0m\u001b[1;33m(\u001b[0m\u001b[0mlocal_lang\u001b[0m\u001b[1;33m)\u001b[0m\u001b[1;33m\u001b[0m\u001b[1;33m\u001b[0m\u001b[0m\n\u001b[0m",
            "\u001b[1;31mNameError\u001b[0m: name 'local_lang' is not defined"
          ]
        }
      ],
      "source": [
        "global_lang = 'DataScience'\n",
        "\n",
        "def var_scope_test():\n",
        "    local_lang = 'Python'\n",
        "    print(local_lang)\n",
        "\n",
        "var_scope_test()\n",
        "# Output 'Python'\n",
        "\n",
        "# outside of function\n",
        "print(global_lang)\n",
        "# Output 'DataScience'\n",
        "\n",
        "# NameError: name 'local_lang' is not defined\n",
        "print(local_lang)"
      ]
    },
    {
      "cell_type": "code",
      "execution_count": null,
      "id": "6aClBQ64wXic",
      "metadata": {
        "id": "6aClBQ64wXic",
        "outputId": "4aaaf013-23ce-40aa-d377-bdccd0dd022c"
      },
      "outputs": [
        {
          "name": "stdout",
          "output_type": "stream",
          "text": [
            "Value is : 888\n"
          ]
        },
        {
          "ename": "NameError",
          "evalue": "name 'loc_var' is not defined",
          "output_type": "error",
          "traceback": [
            "\u001b[1;31m---------------------------------------------------------------------------\u001b[0m",
            "\u001b[1;31mNameError\u001b[0m                                 Traceback (most recent call last)",
            "\u001b[1;32m<ipython-input-13-205a15fd3a93>\u001b[0m in \u001b[0;36m<module>\u001b[1;34m\u001b[0m\n\u001b[0;32m      9\u001b[0m \u001b[1;33m\u001b[0m\u001b[0m\n\u001b[0;32m     10\u001b[0m \u001b[0mfunction1\u001b[0m\u001b[1;33m(\u001b[0m\u001b[1;33m)\u001b[0m\u001b[1;33m\u001b[0m\u001b[1;33m\u001b[0m\u001b[0m\n\u001b[1;32m---> 11\u001b[1;33m \u001b[0mfunction2\u001b[0m\u001b[1;33m(\u001b[0m\u001b[1;33m)\u001b[0m\u001b[1;33m\u001b[0m\u001b[1;33m\u001b[0m\u001b[0m\n\u001b[0m",
            "\u001b[1;32m<ipython-input-13-205a15fd3a93>\u001b[0m in \u001b[0;36mfunction2\u001b[1;34m()\u001b[0m\n\u001b[0;32m      6\u001b[0m \u001b[1;32mdef\u001b[0m \u001b[0mfunction2\u001b[0m\u001b[1;33m(\u001b[0m\u001b[1;33m)\u001b[0m\u001b[1;33m:\u001b[0m\u001b[1;33m\u001b[0m\u001b[1;33m\u001b[0m\u001b[0m\n\u001b[0;32m      7\u001b[0m \u001b[1;33m\u001b[0m\u001b[0m\n\u001b[1;32m----> 8\u001b[1;33m     \u001b[0mprint\u001b[0m\u001b[1;33m(\u001b[0m\u001b[1;34m\"Value is :\"\u001b[0m\u001b[1;33m,\u001b[0m \u001b[0mloc_var\u001b[0m\u001b[1;33m)\u001b[0m\u001b[1;33m\u001b[0m\u001b[1;33m\u001b[0m\u001b[0m\n\u001b[0m\u001b[0;32m      9\u001b[0m \u001b[1;33m\u001b[0m\u001b[0m\n\u001b[0;32m     10\u001b[0m \u001b[0mfunction1\u001b[0m\u001b[1;33m(\u001b[0m\u001b[1;33m)\u001b[0m\u001b[1;33m\u001b[0m\u001b[1;33m\u001b[0m\u001b[0m\n",
            "\u001b[1;31mNameError\u001b[0m: name 'loc_var' is not defined"
          ]
        }
      ],
      "source": [
        "def function1():\n",
        "    # local variable\n",
        "    loc_var = 888\n",
        "    print(\"Value is :\", loc_var)\n",
        "\n",
        "def function2():\n",
        "\n",
        "    print(\"Value is :\", loc_var)\n",
        "\n",
        "function1()\n",
        "function2()"
      ]
    },
    {
      "cell_type": "code",
      "execution_count": null,
      "id": "Y3iPee_8wXic",
      "metadata": {
        "id": "Y3iPee_8wXic"
      },
      "outputs": [],
      "source": [
        "global_var = 999\n",
        "\n",
        "def function1():\n",
        "    print(\"Value in 1nd function :\", global_var)\n",
        "\n",
        "def function2():\n",
        "    print(\"Value in 2nd function :\", global_var)\n",
        "\n",
        "function1()\n",
        "function2()"
      ]
    },
    {
      "cell_type": "code",
      "execution_count": null,
      "id": "DQwVCZ4CwXic",
      "metadata": {
        "id": "DQwVCZ4CwXic",
        "outputId": "276e4558-361b-4471-d691-f9e1879c20b6"
      },
      "outputs": [
        {
          "name": "stdout",
          "output_type": "stream",
          "text": [
            "Value in 1st function : 5\n",
            "Value in 2nd function : 555\n",
            "Value in 3rd function : 5\n"
          ]
        }
      ],
      "source": [
        "# Global variable\n",
        "global_var = 5\n",
        "\n",
        "def function1():\n",
        "    print(\"Value in 1st function :\", global_var)\n",
        "\n",
        "def function2():\n",
        "    # Modify global variable\n",
        "    # function will treat it as a local variable\n",
        "    global_var = 555\n",
        "    print(\"Value in 2nd function :\", global_var)\n",
        "\n",
        "def function3():\n",
        "    print(\"Value in 3rd function :\", global_var)\n",
        "\n",
        "function1()\n",
        "function2()\n",
        "function3()"
      ]
    },
    {
      "cell_type": "code",
      "execution_count": null,
      "id": "r2g_zrv5wXic",
      "metadata": {
        "id": "r2g_zrv5wXic",
        "outputId": "508f86fa-12ae-46f5-df03-8c37fb24ccae"
      },
      "outputs": [
        {
          "name": "stdout",
          "output_type": "stream",
          "text": [
            "Value in 1st function : 5\n",
            "Value in 2nd function : 555\n",
            "Value in 3rd function : 555\n"
          ]
        }
      ],
      "source": [
        "# Global variable\n",
        "x = 5\n",
        "\n",
        "# defining 1st function\n",
        "def function1():\n",
        "    print(\"Value in 1st function :\", x)\n",
        "\n",
        "# defining 2nd function\n",
        "def function2():\n",
        "    # Modify global variable using global keyword\n",
        "    global x\n",
        "    x = 555\n",
        "    print(\"Value in 2nd function :\", x)\n",
        "\n",
        "# defining 3rd function\n",
        "def function3():\n",
        "    print(\"Value in 3rd function :\", x)\n",
        "\n",
        "function1()\n",
        "function2()\n",
        "function3()"
      ]
    },
    {
      "cell_type": "code",
      "execution_count": null,
      "id": "Eq_TgUT2wXic",
      "metadata": {
        "colab": {
          "base_uri": "https://localhost:8080/"
        },
        "id": "Eq_TgUT2wXic",
        "outputId": "49b454e9-863f-40c7-fc3c-80635b0491ec"
      },
      "outputs": [
        {
          "name": "stdout",
          "output_type": "stream",
          "text": [
            "value of x inside inner function is : 700\n",
            "value of x inside outer function is : 700\n"
          ]
        }
      ],
      "source": [
        "# In Python, nonlocal is the keyword used to declare a variable that acts as a global\n",
        "# variable for a nested function (i.e., function within another function).\n",
        "# We can use a nonlocal keyword when we want to declare a variable in the\n",
        "# local scope but act as a global scope.\n",
        "def outer_func():\n",
        "    x = 777\n",
        "\n",
        "    def inner_func():\n",
        "        # local variable now acts as global variable\n",
        "        nonlocal x\n",
        "        x = 700\n",
        "        print(\"value of x inside inner function is :\", x)\n",
        "\n",
        "    inner_func()\n",
        "    print(\"value of x inside outer function is :\", x)\n",
        "\n",
        "outer_func()"
      ]
    },
    {
      "cell_type": "markdown",
      "id": "l-I_XdA_wXic",
      "metadata": {
        "id": "l-I_XdA_wXic"
      },
      "source": [
        "**Default-Valued Arguments**  \n",
        "You can specify default values for input arguments to a function. Their default values are utilized if a user does not specify these inputs when calling the function. Recall our count_vowels function. Suppose we want the ability to include “y” as a vowel. We know, however, that people will typically want to exclude “y” from their vowels, so we can exclude “y” by default:"
      ]
    },
    {
      "cell_type": "code",
      "execution_count": null,
      "id": "NiUz-hjOwXid",
      "metadata": {
        "id": "NiUz-hjOwXid"
      },
      "outputs": [],
      "source": [
        "def count_vowels(in_string):\n",
        "    \"\"\" Returns the number of vowels contained in `in_string`\"\"\"\n",
        "    num_vowels = 0\n",
        "    vowels = \"aeiouAEIOU\"\n",
        "\n",
        "    for char in in_string:\n",
        "        if char in vowels:\n",
        "            num_vowels += 1  # equivalent to num_vowels = num_vowels + 1\n",
        "    return num_vowels"
      ]
    },
    {
      "cell_type": "code",
      "execution_count": null,
      "id": "K4AJnb0GwXid",
      "metadata": {
        "id": "K4AJnb0GwXid",
        "outputId": "c0164be8-7465-4015-cadc-5b9b5767ad6c"
      },
      "outputs": [
        {
          "data": {
            "text/plain": [
              "5"
            ]
          },
          "execution_count": 24,
          "metadata": {},
          "output_type": "execute_result"
        }
      ],
      "source": [
        "count_vowels('hello this is python')"
      ]
    },
    {
      "cell_type": "code",
      "execution_count": null,
      "id": "pNNW5zb2wXid",
      "metadata": {
        "id": "pNNW5zb2wXid"
      },
      "outputs": [],
      "source": [
        "def count_vowels(in_string, include_y=False):\n",
        "    \"\"\" Returns the number of vowels contained in `in_string`\"\"\"\n",
        "    vowels = \"aeiouAEIOU\"\n",
        "    if include_y:\n",
        "        vowels += \"yY\"  # add \"y\" to vowels\n",
        "    return sum(1 for char in in_string if char in vowels)"
      ]
    },
    {
      "cell_type": "code",
      "execution_count": null,
      "id": "ieU5BtsswXid",
      "metadata": {
        "id": "ieU5BtsswXid",
        "outputId": "deab0bfa-7976-4e5d-d724-f380ffc1fba8"
      },
      "outputs": [
        {
          "data": {
            "text/plain": [
              "4"
            ]
          },
          "execution_count": 28,
          "metadata": {},
          "output_type": "execute_result"
        }
      ],
      "source": [
        "count_vowels('this is a tasty')"
      ]
    },
    {
      "cell_type": "code",
      "execution_count": null,
      "id": "HGW7Sqb3wXid",
      "metadata": {
        "id": "HGW7Sqb3wXid",
        "outputId": "9db1f325-909e-4a1c-a5ae-300a869aa6e4"
      },
      "outputs": [
        {
          "data": {
            "text/plain": [
              "5"
            ]
          },
          "execution_count": 29,
          "metadata": {},
          "output_type": "execute_result"
        }
      ],
      "source": [
        "count_vowels('this is a tasty',True)"
      ]
    },
    {
      "cell_type": "code",
      "execution_count": null,
      "id": "ZsbND-UewXid",
      "metadata": {
        "id": "ZsbND-UewXid",
        "outputId": "4323a27d-ab28-420f-8aea-4686e13c3619"
      },
      "outputs": [
        {
          "data": {
            "text/plain": [
              "2"
            ]
          },
          "execution_count": 22,
          "metadata": {},
          "output_type": "execute_result"
        }
      ],
      "source": [
        "#Keyword Arguments\n",
        "#A keyword argument is an argument value, passed to function preceded by the variable name and\n",
        "# an equals sign.\n",
        "count_vowels(include_y=True, in_string=\"Happy\")"
      ]
    },
    {
      "cell_type": "code",
      "execution_count": null,
      "id": "CEqN_sSKwXid",
      "metadata": {
        "id": "CEqN_sSKwXid",
        "outputId": "05bebcc3-b6d9-4d7c-88c0-ac65370217e5"
      },
      "outputs": [
        {
          "name": "stdout",
          "output_type": "stream",
          "text": [
            "Hello John Wilson\n",
            "Hello Kelly Wellington\n"
          ]
        }
      ],
      "source": [
        "def message(name, surname):\n",
        "    print(\"Hello\", name, surname)\n",
        "\n",
        "message(name=\"John\", surname=\"Wilson\")\n",
        "message(surname=\"Wellington\", name=\"Kelly\")"
      ]
    },
    {
      "cell_type": "code",
      "execution_count": null,
      "id": "kH91h_L8wXid",
      "metadata": {
        "id": "kH91h_L8wXid",
        "outputId": "50953278-7a4a-4e25-fe73-91dd3c38b26c"
      },
      "outputs": [
        {
          "name": "stdout",
          "output_type": "stream",
          "text": [
            "40\n",
            "-40\n"
          ]
        }
      ],
      "source": [
        "# Positional Arguments / Required Arguments\n",
        "# Positional arguments are arguments that are pass to function in proper positional order.\n",
        "# That is, the 1st positional argument needs to be 1st when the function is called.\n",
        "# The 2nd positional argument needs to be 2nd when the function is called, etc.\n",
        "def add(a, b):\n",
        "    print(a - b)\n",
        "\n",
        "add(50, 10)\n",
        "# Output 40\n",
        "add(10, 50)\n",
        "# Output -40"
      ]
    },
    {
      "cell_type": "code",
      "execution_count": null,
      "id": "eg4E1nenwXid",
      "metadata": {
        "colab": {
          "base_uri": "https://localhost:8080/",
          "height": 106
        },
        "id": "eg4E1nenwXid",
        "outputId": "183511ea-7297-4afc-e38f-2e2d51d89d8e"
      },
      "outputs": [
        {
          "ename": "SyntaxError",
          "evalue": "positional argument follows keyword argument (<ipython-input-5-770933d2252c>, line 16)",
          "output_type": "error",
          "traceback": [
            "\u001b[0;36m  File \u001b[0;32m\"<ipython-input-5-770933d2252c>\"\u001b[0;36m, line \u001b[0;32m16\u001b[0m\n\u001b[0;31m    message(first_nm=\"John\", \"Wilson\")\u001b[0m\n\u001b[0m                                     ^\u001b[0m\n\u001b[0;31mSyntaxError\u001b[0m\u001b[0;31m:\u001b[0m positional argument follows keyword argument\n"
          ]
        }
      ],
      "source": [
        "# In keyword arguments order of argument is not matter, but the number of arguments must match.\n",
        "# Otherwise, we will get an error.\n",
        "\n",
        "# While using keyword and positional argument simultaneously, we need to pass 1st arguments\n",
        "# as positional arguments and then keyword arguments. Otherwise, we will get SyntaxError.\n",
        "\n",
        "def message(first_nm, last_nm):\n",
        "    print(\"Hello..!\", first_nm, last_nm)\n",
        "\n",
        "# correct use\n",
        "message(\"John\", \"Wilson\")\n",
        "message(\"John\", last_nm=\"Wilson\")\n",
        "\n",
        "# Error\n",
        "# SyntaxError: positional argument follows keyword argument\n",
        "message(first_nm=\"John\", \"Wilson\")"
      ]
    },
    {
      "cell_type": "code",
      "execution_count": null,
      "id": "pGE35g8RwXid",
      "metadata": {
        "colab": {
          "base_uri": "https://localhost:8080/"
        },
        "id": "pGE35g8RwXid",
        "outputId": "45b9776a-98be-494b-e814-bcc17782c08c"
      },
      "outputs": [
        {
          "name": "stdout",
          "output_type": "stream",
          "text": [
            "Hi Ram Sunder\n"
          ]
        }
      ],
      "source": [
        "def message(name, surname=\" \"):\n",
        "    print(\"Hi\", name ,surname)\n",
        "\n",
        "message(\"Ram\", surname=\"Sunder\")"
      ]
    },
    {
      "cell_type": "code",
      "execution_count": null,
      "id": "RzbjxelGwXid",
      "metadata": {
        "id": "RzbjxelGwXid"
      },
      "outputs": [],
      "source": [
        "# Default-valued input arguments must come after all positional input arguments\n",
        "# in the function signature: except in a situation where default argument is following varags.\n",
        "\n",
        "# this is ok\n",
        "def f(x, y, z, co=1, up=2):\n",
        "    return None"
      ]
    },
    {
      "cell_type": "code",
      "execution_count": null,
      "id": "wq-ozm3DwXie",
      "metadata": {
        "id": "wq-ozm3DwXie",
        "outputId": "2981898f-d8f8-4c5e-d4f7-574b1a9c9ca8"
      },
      "outputs": [
        {
          "ename": "SyntaxError",
          "evalue": "non-default argument follows default argument (<ipython-input-7-5b48dbc7b172>, line 2)",
          "output_type": "error",
          "traceback": [
            "\u001b[1;36m  File \u001b[1;32m\"<ipython-input-7-5b48dbc7b172>\"\u001b[1;36m, line \u001b[1;32m2\u001b[0m\n\u001b[1;33m    def f(x, y, count=1, upper=2, z):\u001b[0m\n\u001b[1;37m          ^\u001b[0m\n\u001b[1;31mSyntaxError\u001b[0m\u001b[1;31m:\u001b[0m non-default argument follows default argument\n"
          ]
        }
      ],
      "source": [
        "# this will raise a syntax error\n",
        "def f(x, y, co=1, up=2, z):\n",
        "    return None"
      ]
    },
    {
      "cell_type": "markdown",
      "id": "-6BBWrOBAB3e",
      "metadata": {
        "id": "-6BBWrOBAB3e"
      },
      "source": [
        "06/7"
      ]
    },
    {
      "cell_type": "code",
      "execution_count": null,
      "id": "MvS-hyXLwXie",
      "metadata": {
        "id": "MvS-hyXLwXie"
      },
      "outputs": [],
      "source": [
        "# Variable-length Arguments\n",
        "# In Python, sometimes, there is a situation where we need to pass multiple\n",
        "# numbers of arguments to the function. Such types of arguments are called variable-length arguments.\n",
        "# We can declare a variable-length argument with the * (asterisk) symbol.\n",
        "# The special syntax *args in function definitions in python is used to pass a\n",
        "# variable number of arguments to a function. It is used to pass a non-key\n",
        "# worded, variable-length argument list. (including zero or more)\n",
        "# Because Python cannot foresee how many arguments will be passed to function,\n",
        "# all of the objects that are passed to it will be packed into a tuple,\n",
        "# which is then assigned to the variable."
      ]
    },
    {
      "cell_type": "code",
      "execution_count": null,
      "id": "QiYaOwmMwXie",
      "metadata": {
        "id": "QiYaOwmMwXie"
      },
      "outputs": [],
      "source": [
        "# The * symbol indicates that an arbitrary number of\n",
        "# arguments can be passed to `args`, when calling `f`.\n",
        "def f(*args):\n",
        "    #  All arguments passed to `f` will be \"packed\" into a\n",
        "    #  tuple that is assigned to the variable `args`.\n",
        "    # `f()`  will assign `args = tuple()`\n",
        "    # `f(x, y, ...)` will assign `args = (x, y, ...)`\n",
        "    return args"
      ]
    },
    {
      "cell_type": "code",
      "execution_count": null,
      "id": "eUPYDea1wXie",
      "metadata": {
        "id": "eUPYDea1wXie",
        "outputId": "6286b178-726e-496f-e289-ec6323c5658b"
      },
      "outputs": [
        {
          "name": "stdout",
          "output_type": "stream",
          "text": [
            "()\n",
            "(1,)\n",
            "((0, 1), True, 'cow')\n"
          ]
        }
      ],
      "source": [
        "print(f())\n",
        "\n",
        "\n",
        "# pass one argument to `f`\n",
        "print(f(1))\n",
        "\n",
        "\n",
        "# pass three arguments to `f`\n",
        "print(f((0, 1), True, \"cow\"))\n"
      ]
    },
    {
      "cell_type": "code",
      "execution_count": null,
      "id": "fs7Lzdt7wXie",
      "metadata": {
        "id": "fs7Lzdt7wXie"
      },
      "outputs": [],
      "source": [
        "# This syntax can be combined with positional arguments,keyword argument and default arguments.\n",
        "# Any variables specified after a packed variable must be called by name:"
      ]
    },
    {
      "cell_type": "code",
      "execution_count": null,
      "id": "y9Yt5_XMwXie",
      "metadata": {
        "id": "y9Yt5_XMwXie"
      },
      "outputs": [],
      "source": [
        "def f(x, *seq, y=10, z):\n",
        "    print(\"x is: \", x)\n",
        "    print(\"seq is: \", seq)\n",
        "    print(\"y is: \", y)\n",
        "    print(\"z is: \", z)\n",
        "    return None"
      ]
    },
    {
      "cell_type": "code",
      "execution_count": null,
      "id": "GBEvQLHfwXie",
      "metadata": {
        "id": "GBEvQLHfwXie",
        "outputId": "3edc82f8-70e4-433f-b350-21b1d386d2a1"
      },
      "outputs": [
        {
          "name": "stdout",
          "output_type": "stream",
          "text": [
            "x is:  1\n",
            "seq is:  (2, 3, 4)\n",
            "y is:  9\n",
            "z is:  11\n"
          ]
        }
      ],
      "source": [
        "f(1,2,3,4,y=9,z=11)"
      ]
    },
    {
      "cell_type": "code",
      "execution_count": null,
      "id": "GGi61CkOwXie",
      "metadata": {
        "id": "GGi61CkOwXie",
        "outputId": "8aa1b790-c502-4c79-a6ea-1d630eac8fb8"
      },
      "outputs": [
        {
          "name": "stdout",
          "output_type": "stream",
          "text": [
            "x is:  cat\n",
            "seq is:  ()\n",
            "y is:  dog\n",
            "z is:  mouse\n"
          ]
        }
      ],
      "source": [
        "f(\"cat\", y=\"dog\",z='mouse')"
      ]
    },
    {
      "cell_type": "code",
      "execution_count": null,
      "id": "tgydkHgIwXie",
      "metadata": {
        "id": "tgydkHgIwXie"
      },
      "outputs": [],
      "source": [
        "# We see that * indicates the packing of an arbitrary number of arguments\n",
        "# into a tuple, when used in the signature of a function definition.\n",
        "# Simultaneously, * signals the unpacking of an iterable to pass each of\n",
        "# its members as a positional argument to a function,\n",
        "# when used in the context of calling a function:\n",
        "\n",
        "# Using `*` when calling a function, to unpack an\n",
        "# iterable. Passing its members as distinct arguments\n",
        "# to the function\n",
        "\n",
        "def f(x, y, z):\n",
        "    return x + y + z\n"
      ]
    },
    {
      "cell_type": "code",
      "execution_count": null,
      "id": "B5hQlUNGwXie",
      "metadata": {
        "id": "B5hQlUNGwXie",
        "outputId": "408f9b4f-feac-4ba5-e77a-a1fa81db8b98"
      },
      "outputs": [
        {
          "data": {
            "text/plain": [
              "6"
            ]
          },
          "execution_count": 41,
          "metadata": {},
          "output_type": "execute_result"
        }
      ],
      "source": [
        "f(1, 2, 3)"
      ]
    },
    {
      "cell_type": "code",
      "execution_count": null,
      "id": "sqSPeHdBwXif",
      "metadata": {
        "id": "sqSPeHdBwXif",
        "outputId": "5b8fde0e-fd21-440f-e5fb-33b1342e37e7"
      },
      "outputs": [
        {
          "data": {
            "text/plain": [
              "6"
            ]
          },
          "execution_count": 42,
          "metadata": {},
          "output_type": "execute_result"
        }
      ],
      "source": [
        "# `*` means: unpack the contents of [1, 2, 3]\n",
        "# passing each item as x, y, and z,\n",
        "# respectively\n",
        "f(*[1, 2, 3])  # equivalent to: f(1, 2, 3)\n",
        "#6"
      ]
    },
    {
      "cell_type": "code",
      "execution_count": null,
      "id": "TFzVHwgxwXif",
      "metadata": {
        "id": "TFzVHwgxwXif"
      },
      "outputs": [],
      "source": [
        "def number_of_args(*args):\n",
        "    return len(args)"
      ]
    },
    {
      "cell_type": "code",
      "execution_count": null,
      "id": "aMEGz960wXif",
      "metadata": {
        "id": "aMEGz960wXif",
        "outputId": "72aa3ecc-3db2-4c3d-9c7c-7e4eaf3bd56e"
      },
      "outputs": [
        {
          "data": {
            "text/plain": [
              "7"
            ]
          },
          "execution_count": 16,
          "metadata": {},
          "output_type": "execute_result"
        }
      ],
      "source": [
        "number_of_args(None, None,1,2,3,4,5)"
      ]
    },
    {
      "cell_type": "code",
      "execution_count": null,
      "id": "zr7e1iFhwXif",
      "metadata": {
        "id": "zr7e1iFhwXif",
        "outputId": "d8914b81-ed7a-4990-e3b2-2e6d21342004"
      },
      "outputs": [
        {
          "data": {
            "text/plain": [
              "1"
            ]
          },
          "execution_count": 45,
          "metadata": {},
          "output_type": "execute_result"
        }
      ],
      "source": [
        "some_list = [1, 2, 3, 4, 5]\n",
        "\n",
        "# passing the list itself as the sole argument\n",
        "number_of_args(some_list)"
      ]
    },
    {
      "cell_type": "code",
      "execution_count": null,
      "id": "2ZTbzDEkwXif",
      "metadata": {
        "id": "2ZTbzDEkwXif",
        "outputId": "101c0879-649c-4418-df70-e05111c41fda"
      },
      "outputs": [
        {
          "data": {
            "text/plain": [
              "5"
            ]
          },
          "execution_count": 46,
          "metadata": {},
          "output_type": "execute_result"
        }
      ],
      "source": [
        "number_of_args(*some_list)"
      ]
    },
    {
      "cell_type": "code",
      "execution_count": null,
      "id": "-Pz3vZJAwXif",
      "metadata": {
        "id": "-Pz3vZJAwXif"
      },
      "outputs": [],
      "source": [
        "# an Arbitrary Number of Keyword Arguments\n",
        "# We can also define a function that is able to accept an arbitrary number of\n",
        "# keyword arguments, using the syntax: def f(**<var_name>)\n",
        "\n",
        "# Note that a single asterisk, *, was used to denote an arbitrary number of\n",
        "# positional arguments, whereas ** signals the acceptance of an arbitrary\n",
        "# number of keyword arguments.\n",
        "\n",
        "# The ** symbol indicates that an arbitrary number of\n",
        "# keyword arguments can be passed to `args`, when calling `f`.\n",
        "def f(**args):\n",
        "    #  All keyword arguments passed to `f` will be \"packed\" into a\n",
        "    #  dictionary that is assigned to the variable `args`.\n",
        "    # `f()`  will assign `args = {}` (an empty dictionary)\n",
        "    # `f(x=1, y=2, ...)` will assign `args = {\"x\":1, \"y\":2, ...}`\n",
        "    return args"
      ]
    },
    {
      "cell_type": "code",
      "execution_count": null,
      "id": "WpquXmXlwXif",
      "metadata": {
        "id": "WpquXmXlwXif"
      },
      "outputs": [],
      "source": [
        "# Because Python cannot foresee how many arguments will be passed to f,\n",
        "# all of the keyword arguments that are passed to it will be packed into\n",
        "# a dictionary, where a given keyword is set as a key (cast as a string)\n",
        "# that maps to the corresponding value. This dictionary is then assigned\n",
        "# to the variable args."
      ]
    },
    {
      "cell_type": "code",
      "execution_count": null,
      "id": "eMlFfFFKwXig",
      "metadata": {
        "id": "eMlFfFFKwXig",
        "outputId": "20b38a1a-9c19-4737-fd61-4967cfa7c269"
      },
      "outputs": [
        {
          "data": {
            "text/plain": [
              "{}"
            ]
          },
          "execution_count": 18,
          "metadata": {},
          "output_type": "execute_result"
        }
      ],
      "source": [
        "f()            # pass zero arguments to `f`"
      ]
    },
    {
      "cell_type": "code",
      "execution_count": null,
      "id": "dt5G5bhUwXig",
      "metadata": {
        "id": "dt5G5bhUwXig",
        "outputId": "61ba6705-11e7-46a9-c455-9e58947d0046"
      },
      "outputs": [
        {
          "data": {
            "text/plain": [
              "{'x': 1}"
            ]
          },
          "execution_count": 19,
          "metadata": {},
          "output_type": "execute_result"
        }
      ],
      "source": [
        "f(x=1)           # pass one argument to `f`"
      ]
    },
    {
      "cell_type": "code",
      "execution_count": null,
      "id": "XmKibwqCwXig",
      "metadata": {
        "id": "XmKibwqCwXig",
        "outputId": "7372d474-149e-438a-bae6-7d22ce087849"
      },
      "outputs": [
        {
          "data": {
            "text/plain": [
              "{'x': (0, 1), 'val': True, 'moo': 'cow'}"
            ]
          },
          "execution_count": 53,
          "metadata": {},
          "output_type": "execute_result"
        }
      ],
      "source": [
        "f(x=(0, 1), val=True, moo=\"cow\")  # pass three arguments to `f`"
      ]
    },
    {
      "cell_type": "code",
      "execution_count": null,
      "id": "uhXzu4evwXig",
      "metadata": {
        "colab": {
          "base_uri": "https://localhost:8080/"
        },
        "id": "uhXzu4evwXig",
        "outputId": "62af28d4-5dfc-4d71-fb6f-09a0a5caa686"
      },
      "outputs": [
        {
          "name": "stdout",
          "output_type": "stream",
          "text": [
            "first == CSE\n",
            "mid == CET\n",
            "last == CETPAS\n"
          ]
        }
      ],
      "source": [
        "def myFun(**kwargs):\n",
        "    for key, value in kwargs.items():\n",
        "        print (\"%s == %s\" %(key, value))\n",
        "# Driver code\n",
        "myFun(first ='CSE', mid ='CET', last='CETPAS')"
      ]
    },
    {
      "cell_type": "code",
      "execution_count": null,
      "id": "DWfe0hoAwXig",
      "metadata": {
        "id": "DWfe0hoAwXig"
      },
      "outputs": [],
      "source": [
        "# This syntax can be combined with positional arguments and default arguments.\n",
        "# No additional arguments may come after a ** entry in a function-definition signature:\n",
        "\n",
        "def f(x, y=2,**kwargs):\n",
        "    print(\"x is: \", x)\n",
        "    print(\"y is: \", y)\n",
        "    print(\"kwargs is: \", kwargs)\n",
        "    return None"
      ]
    },
    {
      "cell_type": "code",
      "execution_count": null,
      "id": "GRVisWU_wXig",
      "metadata": {
        "id": "GRVisWU_wXig",
        "outputId": "86b8b4af-2228-424d-9606-bdd50d743d53"
      },
      "outputs": [
        {
          "name": "stdout",
          "output_type": "stream",
          "text": [
            "x is:  1\n",
            "y is:  9\n",
            "kwargs is:  {'z': 3, 'k': 'hi'}\n"
          ]
        }
      ],
      "source": [
        "# passing arbitrary keyword arguments to `f`\n",
        "f(1, y=9, z=3, k=\"hi\")"
      ]
    },
    {
      "cell_type": "code",
      "execution_count": null,
      "id": "jm4nHGJfwXig",
      "metadata": {
        "id": "jm4nHGJfwXig",
        "outputId": "7eaf0aa2-9795-44a9-f5c7-d46d305f4c0e"
      },
      "outputs": [
        {
          "name": "stdout",
          "output_type": "stream",
          "text": [
            "x is:  cat\n",
            "y is:  dog\n",
            "kwargs is:  {}\n"
          ]
        }
      ],
      "source": [
        "f(\"cat\", \"dog\")"
      ]
    },
    {
      "cell_type": "code",
      "execution_count": null,
      "id": "jEkvSMUiwXig",
      "metadata": {
        "id": "jEkvSMUiwXig"
      },
      "outputs": [],
      "source": [
        "# The following function accepts an arbitrary number of\n",
        "# positional arguments and an arbitrary number of keyword arguments:\n",
        "\n",
        "# accepting arbitrary positional and keyword arguments\n",
        "def f(*x, **y):\n",
        "    # all positional arguments get packed into the tuple `x`\n",
        "    # all keyword arguments get packed into the dictionary `y`\n",
        "    print(x)\n",
        "    print(y)\n",
        "    return None\n",
        "\n"
      ]
    },
    {
      "cell_type": "code",
      "execution_count": null,
      "id": "NpZBvdAmwXig",
      "metadata": {
        "id": "NpZBvdAmwXig",
        "outputId": "5376706d-dc0e-4224-8b43-2b49b8f9d2ca"
      },
      "outputs": [
        {
          "name": "stdout",
          "output_type": "stream",
          "text": [
            "(1, 2, 3)\n",
            "{'hi': -1, 'bye': -2, 'sigh': -3}\n"
          ]
        }
      ],
      "source": [
        " f(1, 2, 3, hi=-1, bye=-2, sigh=-3)"
      ]
    },
    {
      "cell_type": "code",
      "execution_count": null,
      "id": "TIbVUBdIwXig",
      "metadata": {
        "colab": {
          "base_uri": "https://localhost:8080/"
        },
        "id": "TIbVUBdIwXig",
        "outputId": "f5279c92-71b1-4663-dd6e-58fc8abffba2"
      },
      "outputs": [
        {
          "name": "stdout",
          "output_type": "stream",
          "text": [
            "first == CSE\n",
            "mid == FET\n",
            "last == GKV\n"
          ]
        }
      ],
      "source": [
        "def myFun(*args,**kwargs):\n",
        "    for key, value in kwargs.items():\n",
        "        print (\"%s == %s\" %(key, value))\n",
        "\n",
        "# Driver code\n",
        "myFun('Namit', first = 'CSE', mid ='FET', last='GKV')"
      ]
    },
    {
      "cell_type": "code",
      "execution_count": null,
      "id": "uCoCG3lDwXig",
      "metadata": {
        "id": "uCoCG3lDwXig"
      },
      "outputs": [],
      "source": [
        "def myFun(*args,**kwargs):\n",
        "    print(\"args: \", args)\n",
        "    print(\"kwargs: \", kwargs)"
      ]
    },
    {
      "cell_type": "code",
      "execution_count": null,
      "id": "Bb3TTiRSwXig",
      "metadata": {
        "colab": {
          "base_uri": "https://localhost:8080/"
        },
        "id": "Bb3TTiRSwXig",
        "outputId": "1b2eb665-eba5-4a09-fea3-3be1006d169c"
      },
      "outputs": [
        {
          "name": "stdout",
          "output_type": "stream",
          "text": [
            "args:  ('Nami', 'Khan')\n",
            "kwargs:  {}\n"
          ]
        }
      ],
      "source": [
        "args = (\"Nami\", \"Khan\")\n",
        "myFun(*args)"
      ]
    },
    {
      "cell_type": "code",
      "execution_count": null,
      "id": "ZryKbVMtwXig",
      "metadata": {
        "id": "ZryKbVMtwXig",
        "outputId": "05fe4e89-735f-4e9f-da10-8449219bd569"
      },
      "outputs": [
        {
          "name": "stdout",
          "output_type": "stream",
          "text": [
            "args:  ()\n",
            "kwargs:  {'arg1': 'CS&E', 'arg2': 'FET', 'arg3': 'GKV'}\n"
          ]
        }
      ],
      "source": [
        "kwargs = {\"arg1\" : \"CS\", \"arg2\" : \"cetpa\", \"arg3\" : \"GKV\"}\n",
        "myFun(**kwargs)"
      ]
    },
    {
      "cell_type": "code",
      "execution_count": null,
      "id": "jOUOPPSmwXig",
      "metadata": {
        "id": "jOUOPPSmwXig"
      },
      "outputs": [],
      "source": [
        "# We see that ** indicates the packing of an arbitrary number of\n",
        "# keyword arguments into a dictionary, when used in the signature of\n",
        "# a function definition. Simultaneously, ** signals the unpacking of\n",
        "# a dictionary to pass each of its key-value pairs as a keyword\n",
        "# argument to a function, when used in the context of calling a function:\n",
        "\n",
        "# Using `**` when calling a function, to unpack a\n",
        "# dictionary, passing its members as keyword arguments\n",
        "# to the function\n",
        "def f(x, y, z):\n",
        "    return 0*x + 1*y + 2*z\n"
      ]
    },
    {
      "cell_type": "code",
      "execution_count": null,
      "id": "7-2u7sVjwXih",
      "metadata": {
        "id": "7-2u7sVjwXih",
        "outputId": "4a6c3b8e-5a56-4381-f040-898e0c01f9c1"
      },
      "outputs": [
        {
          "data": {
            "text/plain": [
              "21"
            ]
          },
          "execution_count": 68,
          "metadata": {},
          "output_type": "execute_result"
        }
      ],
      "source": [
        "f(z=10, x=9, y=1)"
      ]
    },
    {
      "cell_type": "code",
      "execution_count": null,
      "id": "dKFdXthbwXih",
      "metadata": {
        "id": "dKFdXthbwXih",
        "outputId": "d4c981b6-fa42-414c-ebb3-335625a87e9a"
      },
      "outputs": [
        {
          "data": {
            "text/plain": [
              "21"
            ]
          },
          "execution_count": 69,
          "metadata": {},
          "output_type": "execute_result"
        }
      ],
      "source": [
        "args = {\"x\": 9, \"y\": 1, \"z\": 10}\n",
        "f(**args)  # equivalent to: f(x=9, y=1, z=10)"
      ]
    },
    {
      "cell_type": "markdown",
      "id": "3CcdJ9Y8zPnd",
      "metadata": {
        "id": "3CcdJ9Y8zPnd"
      },
      "source": [
        "\n",
        "\n",
        "\n",
        "This function takes any number of positional arguments (*args) and any number of keyword arguments (**kwargs).\n",
        "\n",
        "By using both *args and **kwargs, this function can accept a variety of arguments, including positional arguments (like a list of values) and keyword arguments (like a dictionary of key-value pairs).\n",
        "\n",
        "\n"
      ]
    },
    {
      "cell_type": "code",
      "execution_count": null,
      "id": "4L-LGJsszNYy",
      "metadata": {
        "id": "4L-LGJsszNYy"
      },
      "outputs": [],
      "source": [
        "def my_function(*args, **kwargs):\n",
        "    print(\"Positional arguments:\")\n",
        "    for arg in args:\n",
        "        print(arg)\n",
        "    print(\"Keyword arguments:\")\n",
        "    for key, value in kwargs.items():\n",
        "        print(f\"{key} = {value}\")"
      ]
    },
    {
      "cell_type": "code",
      "execution_count": null,
      "id": "39tey2fqzuMU",
      "metadata": {
        "colab": {
          "base_uri": "https://localhost:8080/"
        },
        "id": "39tey2fqzuMU",
        "outputId": "100b9c6b-6c30-4cce-e4da-6ebbc2eca5d0"
      },
      "outputs": [
        {
          "name": "stdout",
          "output_type": "stream",
          "text": [
            "Positional arguments:\n",
            "Hello\n",
            "World\n",
            "1\n",
            "2\n",
            "3\n",
            "Keyword arguments:\n",
            "name = John\n",
            "age = 30\n",
            "city = New York\n"
          ]
        }
      ],
      "source": [
        "my_function(\"Hello\", \"World\", 1, 2, 3, name=\"John\", age=30, city=\"New York\")"
      ]
    },
    {
      "cell_type": "code",
      "execution_count": null,
      "id": "65rgc6bn05yR",
      "metadata": {
        "colab": {
          "base_uri": "https://localhost:8080/",
          "height": 106
        },
        "id": "65rgc6bn05yR",
        "outputId": "9b26d0f7-2cf3-43ff-b8af-392dde323ff3"
      },
      "outputs": [
        {
          "ename": "SyntaxError",
          "evalue": "invalid syntax (<ipython-input-9-85c4b1e429bf>, line 1)",
          "output_type": "error",
          "traceback": [
            "\u001b[0;36m  File \u001b[0;32m\"<ipython-input-9-85c4b1e429bf>\"\u001b[0;36m, line \u001b[0;32m1\u001b[0m\n\u001b[0;31m    def my_function( **kwargs, *args):\u001b[0m\n\u001b[0m                               ^\u001b[0m\n\u001b[0;31mSyntaxError\u001b[0m\u001b[0;31m:\u001b[0m invalid syntax\n"
          ]
        }
      ],
      "source": [
        "def my_function( **kwargs, *args):\n",
        "    print(\"Positional arguments:\")\n",
        "    for arg in args:\n",
        "        print(arg)\n",
        "    print(\"Keyword arguments:\")\n",
        "    for key, value in kwargs.items():\n",
        "        print(f\"{key} = {value}\")"
      ]
    },
    {
      "cell_type": "code",
      "execution_count": null,
      "id": "yrJPRn_Y1fvb",
      "metadata": {
        "id": "yrJPRn_Y1fvb"
      },
      "outputs": [],
      "source": [
        "def my_function(a, b, c):\n",
        "    pass\n",
        "\n",
        "# Valid call:\n",
        "my_function(1, 2, c=3)  # Positional arguments first, then keyword argument\n",
        "\n",
        "# Invalid call:\n",
        "my_function(a=1, 2, 3)  # Keyword argument before positional argument\n",
        "\n",
        "#In the invalid call, Python won't know which parameter the 2 belongs to, since it comes after a keyword argument.\n"
      ]
    },
    {
      "cell_type": "code",
      "execution_count": null,
      "id": "9S56Tn5r0Fya",
      "metadata": {
        "colab": {
          "base_uri": "https://localhost:8080/",
          "height": 106
        },
        "id": "9S56Tn5r0Fya",
        "outputId": "c1b1a31a-4759-401b-a59e-736a86e3d5bf"
      },
      "outputs": [
        {
          "ename": "SyntaxError",
          "evalue": "positional argument follows keyword argument (<ipython-input-6-6c2ca4c68ba1>, line 1)",
          "output_type": "error",
          "traceback": [
            "\u001b[0;36m  File \u001b[0;32m\"<ipython-input-6-6c2ca4c68ba1>\"\u001b[0;36m, line \u001b[0;32m1\u001b[0m\n\u001b[0;31m    my_function(name=\"John\", age=30, city=\"New York\", \"Hello\", \"World\", 1, 2, 3 )\u001b[0m\n\u001b[0m                                                                                ^\u001b[0m\n\u001b[0;31mSyntaxError\u001b[0m\u001b[0;31m:\u001b[0m positional argument follows keyword argument\n"
          ]
        }
      ],
      "source": [
        "my_function(name=\"John\", age=30, city=\"New York\", \"Hello\", \"World\", 1, 2, 3 )"
      ]
    },
    {
      "cell_type": "code",
      "execution_count": null,
      "id": "Y2XbJtOaRuu1",
      "metadata": {
        "id": "Y2XbJtOaRuu1"
      },
      "outputs": [],
      "source": [
        "my_function(name=\"John\", age=30, city=\"New York\", \"Hello\", \"World\", 1, 2, 3 )"
      ]
    },
    {
      "cell_type": "code",
      "execution_count": null,
      "id": "Bpu2YUGnwXih",
      "metadata": {
        "colab": {
          "base_uri": "https://localhost:8080/"
        },
        "id": "Bpu2YUGnwXih",
        "outputId": "fb0c828a-b987-4807-93e4-2e6b7e3b029b"
      },
      "outputs": [
        {
          "name": "stdout",
          "output_type": "stream",
          "text": [
            "1\n",
            "hello\n"
          ]
        }
      ],
      "source": [
        "# **Functions are Objects**\n",
        "# Once defined, a function behaves like any other Python object, like a list\n",
        "# or string or integer. You can assign a variable to a function-object:\n",
        "\n",
        "var = count_vowels  # `var` now references the function `count_vowels`\n",
        "print(var(\"Hell\"))        # you can now \"call\" `var`\n",
        "\n",
        "# You can store functions in a list:\n",
        "\n",
        "my_list = [count_vowels, print]\n",
        "\n",
        "for func in my_list:\n",
        "    func(\"hello\")\n",
        "\n",
        "#  iteration 0: calls `count_vowels(\"hello\")`\n",
        "#  iteration 1: calls `print(\"hello\")`\n",
        "# You can also call functions anywhere, and their return-value will be returned in-place:\n",
        "\n",
        "#  if count_vowels(\"pillow\") > 1:\n",
        "#      print(\"that's a lot of vowels!\")\n",
        "# And, of course, this works within comprehension expressions as well:\n",
        "\n",
        "# sum(count_vowels(word, include_y=True) for word in [\"hi\", \"bye\", \"guy\", \"sigh\"])\n",
        "# 6"
      ]
    },
    {
      "cell_type": "code",
      "execution_count": null,
      "id": "Wy3xsp2uwXih",
      "metadata": {
        "colab": {
          "base_uri": "https://localhost:8080/"
        },
        "id": "Wy3xsp2uwXih",
        "outputId": "b3098109-026c-45d2-e946-7f2a22d24f2a"
      },
      "outputs": [
        {
          "name": "stdout",
          "output_type": "stream",
          "text": [
            "2\n",
            "hello\n"
          ]
        }
      ],
      "source": [
        "my_list = [count_vowels,print]\n",
        "\n",
        "for func in my_list:\n",
        "    if func is count_vowels:\n",
        "        print(func(\"hello\"))\n",
        "    else:\n",
        "        func(\"hello\")"
      ]
    },
    {
      "cell_type": "code",
      "execution_count": null,
      "id": "8gc6HG85wXih",
      "metadata": {
        "id": "8gc6HG85wXih",
        "outputId": "b2b0284f-deb3-49b6-d6c3-c7802305f892"
      },
      "outputs": [
        {
          "data": {
            "text/plain": [
              "6"
            ]
          },
          "execution_count": 42,
          "metadata": {},
          "output_type": "execute_result"
        }
      ],
      "source": [
        "sum(count_vowels(word, include_y=True) for word in [\"hi\", \"bye\", \"guy\", \"sigh\"])"
      ]
    },
    {
      "cell_type": "code",
      "execution_count": null,
      "id": "sDw1Zp-swXih",
      "metadata": {
        "id": "sDw1Zp-swXih"
      },
      "outputs": [],
      "source": [
        "# Practice Question1\n",
        "# Write a function named count_vowel.\n",
        "# It should accept one input argument, named in_string,\n",
        "# Have the function return the sum of number of vowels contained in the in_string.\n",
        "# Include a reasonable docstring."
      ]
    },
    {
      "cell_type": "code",
      "execution_count": null,
      "id": "gbfU3lhlwXih",
      "metadata": {
        "id": "gbfU3lhlwXih"
      },
      "outputs": [],
      "source": [
        "def count_vowels(in_string):\n",
        "    \"\"\" Returns the number of vowels contained in `in_string`\"\"\"\n",
        "    return sum(1 for char in in_string if char in \"aeiouAEIOU\")"
      ]
    },
    {
      "cell_type": "code",
      "execution_count": null,
      "id": "TR4cgPtJwXih",
      "metadata": {
        "id": "TR4cgPtJwXih"
      },
      "outputs": [],
      "source": [
        "# Practice Question2\n",
        "# Write a function named count_even.\n",
        "# It should accept one input argument, named numbers,\n",
        "# which will be an iterable containing integers.\n",
        "# Have the function return the number of even-valued integers contained in the list.\n",
        "# Include a reasonable docstring."
      ]
    },
    {
      "cell_type": "code",
      "execution_count": null,
      "id": "hKsHUuzWwXih",
      "metadata": {
        "id": "hKsHUuzWwXih"
      },
      "outputs": [],
      "source": [
        "def count_even(numbers):\n",
        "    \"\"\" Counts the number of even integers in an iterable\"\"\"\n",
        "    total = 0\n",
        "    for num in numbers:\n",
        "        if num % 2 == 0:\n",
        "            total += 1\n",
        "    return total"
      ]
    },
    {
      "cell_type": "markdown",
      "id": "G8HBQwekwXii",
      "metadata": {
        "id": "G8HBQwekwXii"
      },
      "source": [
        "**Tuples**  \n",
        "1) Ordered: Tuples are part of sequence data types, which means they hold the   order of the data insertion. It maintains the index value for each item.  \n",
        "2) Unchangeable: Tuples are unchangeable, which means that we cannot add or delete  items to the tuple after creation.  \n",
        "3) Heterogeneous: Tuples are a sequence of data of different data types (like integer, float, list, string, etc;) and can be accessed through indexing and slicing.  \n",
        "4) Contains Duplicates: Tuples can contain duplicates, which means they can have items with the same value.  \n",
        "![python-tuple.jpg](attachment:python-tuple.jpg)"
      ]
    },
    {
      "cell_type": "markdown",
      "id": "eop-gsauwXii",
      "metadata": {
        "id": "eop-gsauwXii"
      },
      "source": [
        "**Creating a Tuple**  \n",
        "We can create a tuple using the two ways  \n",
        "\n",
        "Using parenthesis (): A tuple is created by enclosing comma-separated items inside rounded brackets.  \n",
        "Using a tuple() constructor: Create a tuple by passing the comma-separated items inside the tuple().  "
      ]
    },
    {
      "cell_type": "code",
      "execution_count": null,
      "id": "yKfcfVqAwXii",
      "metadata": {
        "id": "yKfcfVqAwXii",
        "outputId": "2b695116-4072-4308-94eb-acc14b0d1aa7"
      },
      "outputs": [
        {
          "name": "stdout",
          "output_type": "stream",
          "text": [
            "(10, 20, 25.75)\n",
            "('Jessa', 'Emma', 'Kelly')\n",
            "('Jessa', 30, 45.75, [25, 78])\n",
            "('Jessa', 30, 45.75, [23, 78])\n"
          ]
        }
      ],
      "source": [
        "# create a tuple using ()\n",
        "# number tuple\n",
        "number_tuple = (10, 20, 25.75)\n",
        "print(number_tuple)\n",
        "# Output (10, 20, 25.75)\n",
        "\n",
        "# string tuple\n",
        "string_tuple = ('Jessa', 'Emma', 'Kelly')\n",
        "print(string_tuple)\n",
        "# Output ('Jessa', 'Emma', 'Kelly')\n",
        "\n",
        "# mixed type tuple\n",
        "sample_tuple = ('Jessa', 30, 45.75, [25, 78])\n",
        "print(sample_tuple)\n",
        "# Output ('Jessa', 30, 45.75, [25, 78])\n",
        "\n",
        "# create a tuple using tuple() constructor\n",
        "sample_tuple2 = tuple(('Jessa', 30, 45.75, [23, 78]))\n",
        "print(sample_tuple2)\n",
        "# Output ('Jessa', 30, 45.75, [23, 78])"
      ]
    },
    {
      "cell_type": "code",
      "execution_count": null,
      "id": "vHTqKnMrwXii",
      "metadata": {
        "id": "vHTqKnMrwXii",
        "outputId": "e4b96204-6d97-468a-c984-7aee6118cb67"
      },
      "outputs": [
        {
          "name": "stdout",
          "output_type": "stream",
          "text": [
            "<class 'str'>\n",
            "Hello\n",
            "<class 'tuple'>\n",
            "('Hello',)\n"
          ]
        }
      ],
      "source": [
        "# A single item tuple is created by enclosing one item inside parentheses\n",
        "# followed by a comma. If the tuple time is a string enclosed within\n",
        "# parentheses and not followed by a comma, Python treats it as a str type.\n",
        "# Let us see this with an example.\n",
        "\n",
        "# without comma\n",
        "single_tuple = ('Hello')\n",
        "print(type(single_tuple))\n",
        "# Output class 'str'\n",
        "print(single_tuple)\n",
        "# Output Hello\n",
        "\n",
        "# with comma\n",
        "single_tuple1 = ('Hello',)\n",
        "# output class 'tuple'\n",
        "print(type(single_tuple1))\n",
        "# Output ('Hello',)\n",
        "print(single_tuple1)"
      ]
    },
    {
      "cell_type": "code",
      "execution_count": null,
      "id": "WAdvB_GbwXii",
      "metadata": {
        "id": "WAdvB_GbwXii",
        "outputId": "6f7891a6-4750-47d4-e548-f2d71f90af1e"
      },
      "outputs": [
        {
          "name": "stdout",
          "output_type": "stream",
          "text": [
            "(1, 2, 'Hello')\n",
            "<class 'tuple'>\n",
            "1 2 Hello\n"
          ]
        }
      ],
      "source": [
        "# Packing and Unpacking\n",
        "# A tuple can also be created without using a tuple() constructor or\n",
        "# enclosing the items inside the parentheses.\n",
        "# It is called the variable “Packing.”\n",
        "\n",
        "# In Python, we can create a tuple by packing a group of variables.\n",
        "# Packing can be used when we want to collect multiple\n",
        "# values in a single variable. Generally,\n",
        "# this operation is referred to as tuple packing.\n",
        "\n",
        "# Similarly, we can unpack the items by just assigning\n",
        "# the tuple items to the same number of variables.\n",
        "# This process is called “Unpacking.”\n",
        "\n",
        "# Let us see this with an example.\n",
        "# packing variables into tuple\n",
        "\n",
        "tuple1 = 1, 2, \"Hello\"\n",
        "# display tuple\n",
        "print(tuple1)\n",
        "# Output (1, 2, 'Hello')\n",
        "\n",
        "print(type(tuple1))\n",
        "# Output class 'tuple'\n",
        "\n",
        "# unpacking tuple into variable\n",
        "i, j, k = tuple1\n",
        "# printing the variables\n",
        "print(i, j, k)\n",
        "# Output 1 2 Hello"
      ]
    },
    {
      "cell_type": "code",
      "execution_count": null,
      "id": "NPkrTdcGwXii",
      "metadata": {
        "id": "NPkrTdcGwXii",
        "outputId": "6bd923b1-0f5e-48a7-8e85-480c84a1fb5c"
      },
      "outputs": [
        {
          "name": "stdout",
          "output_type": "stream",
          "text": [
            "6\n"
          ]
        }
      ],
      "source": [
        "tuple1 = ('P', 'Y', 'T', 'H', 'O', 'N')\n",
        "# length of a tuple\n",
        "print(len(tuple1))"
      ]
    },
    {
      "cell_type": "code",
      "execution_count": null,
      "id": "UXiZCBLGwXii",
      "metadata": {
        "id": "UXiZCBLGwXii",
        "outputId": "9c5fb5d2-8729-48d9-de79-45e1b075fd40"
      },
      "outputs": [
        {
          "name": "stdout",
          "output_type": "stream",
          "text": [
            "1\n",
            "2\n",
            "3\n",
            "Hello\n",
            "[4, 8, 16]\n"
          ]
        }
      ],
      "source": [
        "# create a tuple\n",
        "sample_tuple = tuple((1, 2, 3, \"Hello\", [4, 8, 16]))\n",
        "# iterate a tuple\n",
        "for item in sample_tuple:\n",
        "    print(item)"
      ]
    },
    {
      "cell_type": "markdown",
      "id": "ynEukoJiwXij",
      "metadata": {
        "id": "ynEukoJiwXij"
      },
      "source": [
        "**Accessing items of a Tuple**\n",
        "Tuple can be accessed through indexing and slicing. This section will guide you by accessing tuple using the following two ways  \n",
        "\n",
        "Using indexing, we can access any item from a tuple using its index number  \n",
        "Using slicing, we can access a range of items from a tuple  \n",
        "  \n",
        "Indexing  \n",
        "A tuple is an ordered sequence of items, which means they hold the order of the data insertion. It maintains the index value for each item.  \n",
        "  \n",
        "We can access an item of a tuple by using its index number inside the index operator [] and this process is called “Indexing”.  \n",
        "  \n",
        "Note:  \n",
        "  \n",
        "As tuples are ordered sequences of items, the index values start from 0 to the tuple’s length.  \n",
        "Whenever we try to access an item with an index more than the tuple’s length, it will throw the 'Index Error'.  \n",
        "Similarly, the index values are always integer. If we give any other type, then it will throw Type Error.  \n",
        "\n",
        "![positive-and-negative-indexing.jpg](attachment:positive-and-negative-indexing.jpg)"
      ]
    },
    {
      "cell_type": "code",
      "execution_count": null,
      "id": "VzHv7Vn7wXij",
      "metadata": {
        "id": "VzHv7Vn7wXij",
        "outputId": "2c9318a7-b7c7-4197-a917-d81a20a38c49"
      },
      "outputs": [
        {
          "name": "stdout",
          "output_type": "stream",
          "text": [
            "P\n",
            "Y\n",
            "T\n",
            "H\n",
            "O\n",
            "N\n"
          ]
        }
      ],
      "source": [
        "tuple1 = ('P', 'Y', 'T', 'H', 'O', 'N')\n",
        "for i in range(len(tuple1)):\n",
        "    print(tuple1[i])"
      ]
    },
    {
      "cell_type": "code",
      "execution_count": null,
      "id": "c9Z1-Vl4wXij",
      "metadata": {
        "id": "c9Z1-Vl4wXij",
        "outputId": "9bc5180c-8108-444f-9539-133b8402bd6c"
      },
      "outputs": [
        {
          "ename": "TypeError",
          "evalue": "tuple indices must be integers or slices, not float",
          "output_type": "error",
          "traceback": [
            "\u001b[1;31m---------------------------------------------------------------------------\u001b[0m",
            "\u001b[1;31mTypeError\u001b[0m                                 Traceback (most recent call last)",
            "\u001b[1;32m<ipython-input-58-351ded9ef113>\u001b[0m in \u001b[0;36m<module>\u001b[1;34m\u001b[0m\n\u001b[0;32m      1\u001b[0m \u001b[1;31m# print(tuple1[6]) # Error-index out of range\u001b[0m\u001b[1;33m\u001b[0m\u001b[1;33m\u001b[0m\u001b[1;33m\u001b[0m\u001b[0m\n\u001b[1;32m----> 2\u001b[1;33m \u001b[0mprint\u001b[0m\u001b[1;33m(\u001b[0m\u001b[0mtuple1\u001b[0m\u001b[1;33m[\u001b[0m\u001b[1;36m2.0\u001b[0m\u001b[1;33m]\u001b[0m\u001b[1;33m)\u001b[0m \u001b[1;31m# Error - index must be integer\u001b[0m\u001b[1;33m\u001b[0m\u001b[1;33m\u001b[0m\u001b[0m\n\u001b[0m",
            "\u001b[1;31mTypeError\u001b[0m: tuple indices must be integers or slices, not float"
          ]
        }
      ],
      "source": [
        "# print(tuple1[6]) # Error-index out of range\n",
        "print(tuple1[2.0]) # Error - index must be integer"
      ]
    },
    {
      "cell_type": "code",
      "execution_count": null,
      "id": "XepWwk09wXij",
      "metadata": {
        "colab": {
          "base_uri": "https://localhost:8080/"
        },
        "id": "XepWwk09wXij",
        "outputId": "c3a4521f-f651-4eeb-cbc0-ced6c2f058e1"
      },
      "outputs": [
        {
          "name": "stdout",
          "output_type": "stream",
          "text": [
            "N\n",
            "O\n",
            "P, Y, T, H, O, N, P, "
          ]
        }
      ],
      "source": [
        "# Negative Indexing\n",
        "# The index values can also be negative, with the last\n",
        "# but the first items having the index value as -1 and\n",
        "# second last -2 and so on.\n",
        "tuple1 = ('P', 'Y', 'T', 'H', 'O', 'N')\n",
        "# Negative indexing\n",
        "# print last item of a tuple\n",
        "print(tuple1[-1])  # N\n",
        "# print second last\n",
        "print(tuple1[-2])  # O\n",
        "\n",
        "# iterate a tuple using negative indexing\n",
        "for i in range(-6,1):\n",
        "    print(tuple1[i], end=\", \")\n",
        "# Output P, Y, T, H, O, N,"
      ]
    },
    {
      "cell_type": "code",
      "execution_count": null,
      "id": "zFG3CJi_wXij",
      "metadata": {
        "id": "zFG3CJi_wXij",
        "outputId": "5d2cc50d-98a3-4310-b27d-b451a5fb8418"
      },
      "outputs": [
        {
          "name": "stdout",
          "output_type": "stream",
          "text": [
            "(1, 2, 3, 4)\n"
          ]
        }
      ],
      "source": [
        "# Slicing a tuple\n",
        "# We can specify the start and end values for the range\n",
        "# of items to be accessed from the tuple. The output will\n",
        "# be a tuple, and it includes the range of items with the\n",
        "# index values from the start till the end of the range.\n",
        "# The end value item will be excluded.\n",
        "tuple1 = (0, 1, 2, 3, 4, 5, 6, 7, 8, 9, 10)\n",
        "\n",
        "# slice a tuple with start and end index number\n",
        "print(tuple1[1:5])\n",
        "# Output (1, 2, 3, 4)"
      ]
    },
    {
      "cell_type": "code",
      "execution_count": null,
      "id": "oZwax8mMwXij",
      "metadata": {
        "id": "oZwax8mMwXij",
        "outputId": "2561c67c-3fae-440d-fea5-b8fcae4ce6c7"
      },
      "outputs": [
        {
          "name": "stdout",
          "output_type": "stream",
          "text": [
            "(0, 1, 2, 3, 4)\n",
            "(6, 7, 8, 9, 10)\n",
            "(0, 1, 2, 3, 4, 5, 6, 7, 8, 9, 10)\n",
            "(0, 1, 2, 3, 4, 5, 6, 7, 8, 9, 10)\n",
            "(0, 1, 2, 3, 4, 5, 6, 7, 8, 9, 10)\n",
            "(10, 9, 8, 7, 6, 5, 4, 3, 2, 1, 0)\n"
          ]
        }
      ],
      "source": [
        "tuple1 = (0, 1, 2, 3, 4, 5, 6, 7, 8, 9, 10)\n",
        "\n",
        "# slice a tuple without start index\n",
        "print(tuple1[:5])\n",
        "# Output (0, 1, 2, 3, 4)\n",
        "\n",
        "# slice a tuple without end index\n",
        "print(tuple1[6:])\n",
        "# Output (6, 7, 8, 9, 10)\n",
        "\n",
        "# slice a tuple without start and end index\n",
        "print(tuple1[:])\n",
        "# Output (0,1,2,3,4,5, 6, 7, 8, 9, 10)\n",
        "\n",
        "# slice a tuple without start and end index, and default jump =1\n",
        "print(tuple1[::])\n",
        "# Output (0,1,2,3,4,5, 6, 7, 8, 9, 10)\n",
        "\n",
        "# slice a tuple without start and end index, and jump =1\n",
        "print(tuple1[::1])\n",
        "# Output (0,1,2,3,4,5, 6, 7, 8, 9, 10)\n",
        "\n",
        "# Reverse printing the tuple using negative jump\n",
        "print(tuple1[::-1])\n",
        "# Output (10,9,8,7,6,5,4,3,2,1,0)"
      ]
    },
    {
      "cell_type": "code",
      "execution_count": null,
      "id": "3Pnoo6tzwXij",
      "metadata": {
        "id": "3Pnoo6tzwXij",
        "outputId": "cb94b44d-9c21-4a3a-fda6-f9b799e3fa2e"
      },
      "outputs": [
        {
          "name": "stdout",
          "output_type": "stream",
          "text": [
            "2\n"
          ]
        }
      ],
      "source": [
        "# The index() method accepts the following three arguments\n",
        "\n",
        "# item – The item which needs to be searched\n",
        "# start – (Optional) The starting value of the index from which the search will start\n",
        "# end – (Optional) The end value of the index search\n",
        "# Example\n",
        "\n",
        "tuple1 = (10, 20, 30, 40, 50)\n",
        "\n",
        "# get index of item 30\n",
        "position = tuple1.index(30)\n",
        "print(position)\n",
        "# Output 2"
      ]
    },
    {
      "cell_type": "code",
      "execution_count": null,
      "id": "6_uCaWIZwXij",
      "metadata": {
        "colab": {
          "base_uri": "https://localhost:8080/"
        },
        "id": "6_uCaWIZwXij",
        "outputId": "0c35659d-8f2e-4a37-b5b5-211cecc7c5ae"
      },
      "outputs": [
        {
          "name": "stdout",
          "output_type": "stream",
          "text": [
            "5\n"
          ]
        }
      ],
      "source": [
        "tuple1 = (10, 20, 30, 40, 50, 60, 70, 80)\n",
        "# Limit the search locations using start and end\n",
        "# search only from location 4 to 6\n",
        "# start = 4 and end = 6\n",
        "# get index of item 60\n",
        "position = tuple1.index(60, 4, 6)\n",
        "print(position)\n",
        "# Output 5"
      ]
    },
    {
      "cell_type": "code",
      "execution_count": null,
      "id": "qaTmxQu5wXij",
      "metadata": {
        "id": "qaTmxQu5wXij",
        "outputId": "7972f790-51c7-42d8-a54a-2bdd42daf646"
      },
      "outputs": [
        {
          "name": "stdout",
          "output_type": "stream",
          "text": [
            "True\n",
            "False\n"
          ]
        }
      ],
      "source": [
        "tuple1 = (10, 20, 30, 40, 50, 60, 70, 80)\n",
        "# checking whether item 50 exists in tuple\n",
        "print(50 in tuple1)\n",
        "# Output True\n",
        "print(500 in tuple1)\n",
        "# Output False"
      ]
    },
    {
      "cell_type": "code",
      "execution_count": null,
      "id": "95yNphaQwXik",
      "metadata": {
        "id": "95yNphaQwXik",
        "outputId": "bfa47d80-308c-47af-dcca-d862a8a7a66a"
      },
      "outputs": [
        {
          "ename": "TypeError",
          "evalue": "'tuple' object does not support item assignment",
          "output_type": "error",
          "traceback": [
            "\u001b[1;31m---------------------------------------------------------------------------\u001b[0m",
            "\u001b[1;31mTypeError\u001b[0m                                 Traceback (most recent call last)",
            "\u001b[1;32m<ipython-input-74-84ca7a84389a>\u001b[0m in \u001b[0;36m<module>\u001b[1;34m\u001b[0m\n\u001b[0;32m      1\u001b[0m \u001b[0mtuple1\u001b[0m \u001b[1;33m=\u001b[0m \u001b[1;33m(\u001b[0m\u001b[1;36m0\u001b[0m\u001b[1;33m,\u001b[0m \u001b[1;36m1\u001b[0m\u001b[1;33m,\u001b[0m \u001b[1;36m2\u001b[0m\u001b[1;33m,\u001b[0m \u001b[1;36m3\u001b[0m\u001b[1;33m,\u001b[0m \u001b[1;36m4\u001b[0m\u001b[1;33m,\u001b[0m \u001b[1;36m5\u001b[0m\u001b[1;33m)\u001b[0m\u001b[1;33m\u001b[0m\u001b[1;33m\u001b[0m\u001b[0m\n\u001b[1;32m----> 2\u001b[1;33m \u001b[0mtuple1\u001b[0m\u001b[1;33m[\u001b[0m\u001b[1;36m1\u001b[0m\u001b[1;33m]\u001b[0m \u001b[1;33m=\u001b[0m \u001b[1;36m10\u001b[0m\u001b[1;33m\u001b[0m\u001b[1;33m\u001b[0m\u001b[0m\n\u001b[0m\u001b[0;32m      3\u001b[0m \u001b[1;31m# Output TypeError: 'tuple' object does not support item assignment\u001b[0m\u001b[1;33m\u001b[0m\u001b[1;33m\u001b[0m\u001b[1;33m\u001b[0m\u001b[0m\n",
            "\u001b[1;31mTypeError\u001b[0m: 'tuple' object does not support item assignment"
          ]
        }
      ],
      "source": [
        "tuple1 = (0, 1, 2, 3, 4, 5)\n",
        "tuple1[1] = 10\n",
        "# Output TypeError: 'tuple' object does not support item assignment"
      ]
    },
    {
      "cell_type": "code",
      "execution_count": null,
      "id": "FFpw4FoGwXik",
      "metadata": {
        "id": "FFpw4FoGwXik",
        "outputId": "b1dd4e8c-0dde-4a8b-b7f8-fc8c50777f13"
      },
      "outputs": [
        {
          "name": "stdout",
          "output_type": "stream",
          "text": [
            "(0, 1, 2, 3, 4, 5, 6)\n"
          ]
        }
      ],
      "source": [
        "tuple1 = (0, 1, 2, 3, 4, 5)\n",
        "\n",
        "# converting tuple into a list\n",
        "sample_list = list(tuple1)\n",
        "# add item to list\n",
        "sample_list.append(6)\n",
        "\n",
        "# converting list back into a tuple\n",
        "tuple1 = tuple(sample_list)\n",
        "print(tuple1)\n",
        "# Output (0, 1, 2, 3, 4, 5, 6)"
      ]
    },
    {
      "cell_type": "code",
      "execution_count": null,
      "id": "VRLzp_zQwXik",
      "metadata": {
        "colab": {
          "base_uri": "https://localhost:8080/"
        },
        "id": "VRLzp_zQwXik",
        "outputId": "0e5c30ca-aea2-4b56-ff6a-80eb057828b7"
      },
      "outputs": [
        {
          "name": "stdout",
          "output_type": "stream",
          "text": [
            "(10, 20, [25, 75, 85])\n",
            "(10, 20, [250, 75, 85])\n"
          ]
        }
      ],
      "source": [
        "tuple1 = (10, 20, [25, 75, 85])\n",
        "# before update\n",
        "print(tuple1)\n",
        "# Output (10, 20, [25, 75, 85])\n",
        "\n",
        "# modify last item's first value\n",
        "tuple1[2][0] = 250\n",
        "# after update\n",
        "print(tuple1)\n",
        "# Output (10, 20, [250, 75, 85])"
      ]
    },
    {
      "cell_type": "code",
      "execution_count": null,
      "id": "OIWLBvPTwXik",
      "metadata": {
        "id": "OIWLBvPTwXik",
        "outputId": "56495985-c0dc-4be4-a43c-8de0200da705"
      },
      "outputs": [
        {
          "name": "stdout",
          "output_type": "stream",
          "text": [
            "3\n",
            "0\n"
          ]
        }
      ],
      "source": [
        "# To determine how many times a specific item occurred in a tuple,\n",
        "# we can use the count() method of a tuple object.\n",
        "\n",
        "# The count() method accepts any value as a parameter and\n",
        "# returns the number of times a particular value appears in a tuple.\n",
        "\n",
        "# Example\n",
        "\n",
        "tuple1 = (10, 20, 60, 30, 60, 40, 60)\n",
        "# Count all occurrences of item 60\n",
        "count = tuple1.count(60)\n",
        "print(count)\n",
        "# Output 3\n",
        "\n",
        "count = tuple1.count(600)\n",
        "print(count)\n",
        "# Output 0"
      ]
    },
    {
      "cell_type": "code",
      "execution_count": null,
      "id": "Ylnng46FwXik",
      "metadata": {
        "id": "Ylnng46FwXik",
        "outputId": "d1b56a4e-40a7-4961-f674-8578e091ef78"
      },
      "outputs": [
        {
          "name": "stdout",
          "output_type": "stream",
          "text": [
            "(1, 2, 3, 4, 5, 3, 4, 5, 6, 7)\n"
          ]
        }
      ],
      "source": [
        "tuple1 = (1, 2, 3, 4, 5)\n",
        "tuple2 = (3, 4, 5, 6, 7)\n",
        "\n",
        "# concatenate tuples using + operator\n",
        "tuple3 = tuple1 + tuple2\n",
        "print(tuple3)\n",
        "# Output (1, 2, 3, 4, 5, 3, 4, 5, 6, 7)"
      ]
    },
    {
      "cell_type": "code",
      "execution_count": null,
      "id": "UFwM_X0XwXik",
      "metadata": {
        "colab": {
          "base_uri": "https://localhost:8080/"
        },
        "id": "UFwM_X0XwXik",
        "outputId": "aaed5f93-dd54-46c2-ad96-0a4f5f5ff6cb"
      },
      "outputs": [
        {
          "name": "stdout",
          "output_type": "stream",
          "text": [
            "15\n",
            "(1, 2, 3, 4, 5, 3, 4, 5, 6, 7)\n"
          ]
        }
      ],
      "source": [
        "tuple1 = (1, 2, 3, 4, 5)\n",
        "tuple2 = (3, 4, 5, 6, 7)\n",
        "a = sum(tuple1)\n",
        "print(a)\n",
        "# using sum function\n",
        "tuple3 = sum((tuple1, tuple2),())\n",
        "print(tuple3)\n",
        "# Output (1, 2, 3, 4, 5, 3, 4, 5, 6, 7)"
      ]
    },
    {
      "cell_type": "code",
      "execution_count": null,
      "id": "vJPPnJ9QwXik",
      "metadata": {
        "id": "vJPPnJ9QwXik",
        "outputId": "c08ae40e-704f-4e1f-a79d-731c996301d5"
      },
      "outputs": [
        {
          "name": "stdout",
          "output_type": "stream",
          "text": [
            "((1, 2), (3, 4))\n",
            "('Satish', 4)\n",
            "(1, 2, 3, 1, 2, 3)\n"
          ]
        }
      ],
      "source": [
        "a = 1,2\n",
        "b = 3,4\n",
        "d= a, b # Tuple of Tuples\n",
        "print(d)\n",
        "\n",
        "T = ('Satish',4) # WHAT WILL HAPPEN IF YOU REMOVE EXTRA COMMA\n",
        "print(T)\n",
        "\n",
        "T = 1,2,3\n",
        "NEW_T = T * 2\n",
        "print(NEW_T)\n"
      ]
    },
    {
      "cell_type": "code",
      "execution_count": null,
      "id": "7kUhrnyfwXil",
      "metadata": {
        "id": "7kUhrnyfwXil",
        "outputId": "2c224f23-9060-4d63-e9ea-b9a4739a9d0b"
      },
      "outputs": [
        {
          "name": "stdout",
          "output_type": "stream",
          "text": [
            "P\n",
            "tuple (20, 40, 60) elements\n",
            "20, 40, 60, \n",
            "\n",
            "tuple (10, 30, 50) elements\n",
            "10, 30, 50, \n",
            "\n",
            "tuple Python elements\n",
            "P, y, t, h, o, n, \n",
            "\n"
          ]
        }
      ],
      "source": [
        "nested_tuple = ((20, 40, 60), (10, 30, 50), \"Python\")\n",
        "\n",
        "# access the first item of the third tuple\n",
        "print(nested_tuple[2][0])  # P\n",
        "\n",
        "# iterate a nested tuple\n",
        "for i in nested_tuple:\n",
        "    print(\"tuple\", i, \"elements\")\n",
        "    for j in i:\n",
        "        print(j, end=\", \")\n",
        "    print(\"\\n\")"
      ]
    },
    {
      "cell_type": "code",
      "execution_count": null,
      "id": "mSUoQZ9XwXil",
      "metadata": {
        "id": "mSUoQZ9XwXil",
        "outputId": "e28426af-07fb-4e3b-fa00-d428cfea3ac9"
      },
      "outputs": [
        {
          "name": "stdout",
          "output_type": "stream",
          "text": [
            "[9, 8, 7, 6, 5, 4, 3, 2, 1, 0]\n"
          ]
        }
      ],
      "source": [
        "tuple1 = (1, 2, 3, 4, 5, 0 ,9,6,8,7)\n",
        "print(sorted(tuple1,reverse=True))"
      ]
    },
    {
      "cell_type": "code",
      "execution_count": null,
      "id": "9UIHPHcHwXil",
      "metadata": {
        "id": "9UIHPHcHwXil",
        "outputId": "a9a2d370-c0a0-416a-8675-01d3d7af93fe"
      },
      "outputs": [
        {
          "data": {
            "text/plain": [
              "[1, 2, 3, 4, 5, 6, 7, 8, 9]"
            ]
          },
          "execution_count": 105,
          "metadata": {},
          "output_type": "execute_result"
        }
      ],
      "source": [
        "list1 = [4,5,3,6,7,1,8,9,2]\n",
        "list1.sort() # sorts in place\n",
        "list1"
      ]
    },
    {
      "cell_type": "code",
      "execution_count": null,
      "id": "MFjl9t6mwXil",
      "metadata": {
        "colab": {
          "base_uri": "https://localhost:8080/"
        },
        "id": "MFjl9t6mwXil",
        "outputId": "b4ca80ac-5d6d-4933-b4c7-9ccbf6b63010"
      },
      "outputs": [
        {
          "name": "stdout",
          "output_type": "stream",
          "text": [
            "[1, 2, 3, 4, 5, 6, 7, 8, 9]\n"
          ]
        }
      ],
      "source": [
        "list1 = [4,5,3,6,7,1,8,9,2]\n",
        "print(sorted(list1)) # original list is not modified\n",
        "#print(list1)"
      ]
    },
    {
      "cell_type": "code",
      "execution_count": null,
      "id": "Of9Z43kowXil",
      "metadata": {
        "id": "Of9Z43kowXil",
        "outputId": "e45ff34f-44b2-492b-8698-39e4081aeeec"
      },
      "outputs": [
        {
          "name": "stdout",
          "output_type": "stream",
          "text": [
            "4\n",
            "1\n",
            "10\n"
          ]
        }
      ],
      "source": [
        "tuple2= ( 1,2,3,4)\n",
        "print(max(tuple2))\n",
        "print(min(tuple2))\n",
        "print(sum(tuple2))"
      ]
    },
    {
      "cell_type": "code",
      "execution_count": null,
      "id": "Y0i0IhtOwXil",
      "metadata": {
        "id": "Y0i0IhtOwXil",
        "outputId": "404efd8b-524f-4f61-e0d8-7cdf45438fd9"
      },
      "outputs": [
        {
          "name": "stdout",
          "output_type": "stream",
          "text": [
            "Help on built-in function sorted in module builtins:\n",
            "\n",
            "sorted(iterable, /, *, key=None, reverse=False)\n",
            "    Return a new list containing all items from the iterable in ascending order.\n",
            "    \n",
            "    A custom key function can be supplied to customize the sort order, and the\n",
            "    reverse flag can be set to request the result in descending order.\n",
            "\n"
          ]
        }
      ],
      "source": [
        "help(sorted)"
      ]
    },
    {
      "cell_type": "markdown",
      "id": "Flycob7o2ba-",
      "metadata": {
        "id": "Flycob7o2ba-"
      },
      "source": [
        "**LIST**"
      ]
    },
    {
      "cell_type": "code",
      "execution_count": null,
      "id": "3wiQZoS-9R_t",
      "metadata": {
        "colab": {
          "base_uri": "https://localhost:8080/"
        },
        "id": "3wiQZoS-9R_t",
        "outputId": "0f4daf6b-5668-4c0a-f96c-726d858f3a39"
      },
      "outputs": [
        {
          "name": "stdout",
          "output_type": "stream",
          "text": [
            "a\n"
          ]
        }
      ],
      "source": [
        "L = ['a','b','c','d' ]\n",
        "print(L[0])\n",
        "#print(L[::-1])\n",
        "# print(L[0])\n",
        "#L.append(4)\n",
        "#L.extend(L2)\n",
        "#L.insert(3,4)\n",
        "#L.insert(3)\n",
        "#sum(L)\n",
        "#L.count(c)\n",
        "#len(L)\n",
        "#L.index(a) #Return indec of first occurrence an element in list if element is not present it return -1\n",
        "#min(L)\n",
        "#max(L)\n",
        "#L.pop([0])\n",
        "#del L(0)\n",
        "# L.remove(a)\n"
      ]
    },
    {
      "cell_type": "markdown",
      "id": "YU4VFcnA_aMl",
      "metadata": {
        "id": "YU4VFcnA_aMl"
      },
      "source": [
        "Loop itrating (looping on lists)"
      ]
    },
    {
      "cell_type": "markdown",
      "id": "WdgtjLSK_wue",
      "metadata": {
        "id": "WdgtjLSK_wue"
      },
      "source": [
        "Multiple way to iterate over list in python"
      ]
    },
    {
      "cell_type": "code",
      "execution_count": null,
      "id": "l-NAebtq_hdA",
      "metadata": {
        "id": "l-NAebtq_hdA"
      },
      "outputs": [],
      "source": [
        "L = [1, 2, 3, 4, 5, 6, 7, 8, 9]\n",
        "for i in L:\n",
        "  print(i)"
      ]
    },
    {
      "cell_type": "code",
      "execution_count": null,
      "id": "WEZ8PAvh_Rli",
      "metadata": {
        "id": "WEZ8PAvh_Rli"
      },
      "outputs": [],
      "source": [
        "L = [1, 2, 3, 4, 5, 6, 7, 8, 9]\n",
        "length = len(L)\n",
        "for i in range(length):\n",
        "  #print(L[i])\n",
        "  print(i)\n",
        "\n",
        "\n",
        "# you can even use while() loops. try using while loops on your own"
      ]
    },
    {
      "cell_type": "code",
      "execution_count": null,
      "id": "yF5ylzfAwXil",
      "metadata": {
        "colab": {
          "base_uri": "https://localhost:8080/"
        },
        "id": "yF5ylzfAwXil",
        "outputId": "b3952312-29c6-41ed-fd0e-2e0f3efdb6b9"
      },
      "outputs": [
        {
          "name": "stdout",
          "output_type": "stream",
          "text": [
            "['banana', 'kiwi', 'mango', 'orange', 'pineapple']\n",
            "[23, 50, 65, 82, 100]\n",
            "['pineapple', 'orange', 'mango', 'kiwi', 'banana']\n",
            "[100, 82, 65, 50, 23]\n",
            "[50, 65, 23, 82, 100]\n"
          ]
        }
      ],
      "source": [
        "#Example Sort the list alphabetically:\n",
        "thislist = [\"orange\",\"mango\",\"kiwi\",\"pineapple\",\"banana\"]\n",
        "thislist.sort()\n",
        "print(thislist)\n",
        "\n",
        "# #Example Sort the list numerically:\n",
        "thislist = [100,50,65,82,23]\n",
        "thislist.sort()\n",
        "print(thislist)\n",
        "\n",
        "# #Example Sort the list descending(String)\n",
        "thislist = [\"orange\",\"mango\",\"kiwi\",\"pineapple\",\"banana\"]\n",
        "thislist.sort(reverse =True)\n",
        "print(thislist)\n",
        "\n",
        "# #Example: Sort the list descending: (numbers)\n",
        "thislist=[100,50,65,82,23]\n",
        "thislist.sort(reverse =True)\n",
        "print(thislist)\n",
        "\n",
        "# Custom Sort\n",
        "# use the keyword argument key = function of the sort function.\n",
        "# The function will return a number that will be used to sort\n",
        "# the list (the lowest number first):\n",
        "# Example\n",
        "# Sort the list based on how close the number is to 50:\n",
        "def myfunc(n):\n",
        "    return abs(n-50)\n",
        "\n",
        "thislist = [100,50,65,82,23]\n",
        "thislist.sort(key=myfunc)\n",
        "print(thislist)\n"
      ]
    },
    {
      "cell_type": "code",
      "execution_count": null,
      "id": "XmvKFbJfNplk",
      "metadata": {
        "colab": {
          "base_uri": "https://localhost:8080/"
        },
        "id": "XmvKFbJfNplk",
        "outputId": "6cf5a6ca-f0cc-4aae-bd37-501f366b6578"
      },
      "outputs": [
        {
          "name": "stdout",
          "output_type": "stream",
          "text": [
            "[50, 65, 23, 82, 100]\n"
          ]
        }
      ],
      "source": [
        "def myfunc(n):\n",
        "    return abs(n-50)\n",
        "\n",
        "thislist = [100,50,65,82,23]\n",
        "thislist.sort(key=myfunc)\n",
        "print(thislist)\n"
      ]
    },
    {
      "cell_type": "code",
      "execution_count": null,
      "id": "wcv6o476MtJg",
      "metadata": {
        "colab": {
          "base_uri": "https://localhost:8080/"
        },
        "id": "wcv6o476MtJg",
        "outputId": "de803068-92e8-4db8-88b6-fe817fc6bccc"
      },
      "outputs": [
        {
          "data": {
            "text/plain": [
              "10"
            ]
          },
          "execution_count": 16,
          "metadata": {},
          "output_type": "execute_result"
        }
      ],
      "source": [
        "abs(-10)"
      ]
    },
    {
      "cell_type": "code",
      "execution_count": null,
      "id": "xVJfyyCLL7xS",
      "metadata": {
        "colab": {
          "base_uri": "https://localhost:8080/"
        },
        "id": "xVJfyyCLL7xS",
        "outputId": "31b1f1f3-7d30-4db5-b920-1be8475e56dc"
      },
      "outputs": [
        {
          "data": {
            "text/plain": [
              "32"
            ]
          },
          "execution_count": 14,
          "metadata": {},
          "output_type": "execute_result"
        }
      ],
      "source": [
        "def myfunc(n):\n",
        "    return abs(n-50)\n",
        "myfunc(82)"
      ]
    },
    {
      "cell_type": "code",
      "execution_count": null,
      "id": "szgINvCQwXil",
      "metadata": {
        "id": "szgINvCQwXil",
        "outputId": "58b86044-705e-4d59-d681-b127e52897ea"
      },
      "outputs": [
        {
          "name": "stdout",
          "output_type": "stream",
          "text": [
            "['Banana', 'Kiwi', 'cherry', 'orange']\n",
            "['Banana', 'cherry', 'Kiwi', 'orange']\n",
            "['cherry', 'Kiwi', 'Orange', 'banana']\n"
          ]
        }
      ],
      "source": [
        "# Example Perform a case-insensitive sort of the list:\n",
        "thislist = [\"Banana\",\"orange\",\"Kiwi\",\"cherry\"]\n",
        "thislist.sort()\n",
        "print(thislist)\n",
        "thislist.sort(key=str.lower)\n",
        "print(thislist)\n",
        "\n",
        "# Example Reverse the order of the list items:\n",
        "thislist = [\"banana\",\"Orange\",\"Kiwi\",\"cherry\"]\n",
        "thislist.reverse()\n",
        "print(thislist)\n"
      ]
    },
    {
      "cell_type": "markdown",
      "id": "ifzyzNDK6Hzw",
      "metadata": {
        "id": "ifzyzNDK6Hzw"
      },
      "source": [
        "Now use List Comprehension"
      ]
    },
    {
      "cell_type": "code",
      "execution_count": null,
      "id": "EkM-WzwswXim",
      "metadata": {
        "id": "EkM-WzwswXim",
        "outputId": "4dfbbf4e-a3d4-4110-c298-c3509bba6674"
      },
      "outputs": [
        {
          "name": "stdout",
          "output_type": "stream",
          "text": [
            "['apple', 'banana', 'mango']\n"
          ]
        }
      ],
      "source": [
        "# using Comprehension technique Create a new list\n",
        "#Based on a list of fruits,containing only the fruits\n",
        "#with the letter \"a\" in the name.\n",
        "\n",
        "fruits = [\"apple\",\"banana\",\"cherry\",\"kiwi\",\"mango\"]\n",
        "n_list =[]\n",
        "\n",
        "for word in fruits:\n",
        "    if 'a' in word:\n",
        "        n_list.append(word)\n",
        "\n",
        "print(n_list)"
      ]
    },
    {
      "cell_type": "code",
      "execution_count": null,
      "id": "6l3YfQ2VwXim",
      "metadata": {
        "id": "6l3YfQ2VwXim",
        "outputId": "d9bafa39-37b4-4f70-d6e7-1c0942d0388a"
      },
      "outputs": [
        {
          "data": {
            "text/plain": [
              "['apple', 'banana', 'mango']"
            ]
          },
          "execution_count": 113,
          "metadata": {},
          "output_type": "execute_result"
        }
      ],
      "source": [
        "fruits = [\"apple\",\"banana\",\"cherry\",\"kiwi\",\"mango\"]\n",
        "n_l1 = [word for word in fruits if 'a' in word]\n",
        "n_l1"
      ]
    },
    {
      "cell_type": "code",
      "execution_count": null,
      "id": "J28SKlVEwXim",
      "metadata": {
        "id": "J28SKlVEwXim",
        "outputId": "a80f5365-2f4f-440c-fa73-592954a1bf76"
      },
      "outputs": [
        {
          "name": "stdout",
          "output_type": "stream",
          "text": [
            "['banana', 'cherry', 'kiwi', 'mango']\n",
            "['apple', 'orange', 'cherry', 'kiwi', 'mango']\n"
          ]
        }
      ],
      "source": [
        "fruits = [\"apple\",\"banana\",\"cherry\",\"kiwi\",\"mango\"]\n",
        "#Only accept items that are not \"apple\":\n",
        "newlist = [x for x in fruits if x != \"apple\"]\n",
        "\n",
        "#Return \"orange\" instead of \"banana\":\n",
        "\n",
        "\n",
        "\n",
        "newlist1 = [x if x != \"banana\" else \"orange\" for x in fruits]\n",
        "print(newlist)\n",
        "print(newlist1)"
      ]
    },
    {
      "cell_type": "code",
      "execution_count": null,
      "id": "MUPbgm6UwXim",
      "metadata": {
        "id": "MUPbgm6UwXim"
      },
      "outputs": [],
      "source": [
        "# Practice Problems\n",
        "# 1.WAP to Sum of all unique numbers in a list.\n",
        "# 2.WAP to remove duplicates from a list.\n",
        "# 3.Given two lists , concatenate index wise\n",
        "#     list1 = [\"M\", \"na\", \"i\", \"Ke\"]\n",
        "#     list2 = [\"y\", \"me\", \"s\", \"lly\"]\n",
        "#     Output [My, name, is Kelly]\n",
        "# 4.Concatenate two lists in the following order\n",
        "# \tlist1 = [\"Hello \", \"take \"]\n",
        "# \tlist2 = [\"Dear\", \"Sir\"]\n",
        "# \tExpected output:\n",
        "# \t['Hello Dear', 'Hello Sir', 'take Dear', 'take Sir']\n",
        "# 5.Remove empty strings from the list of strings\n",
        "# \tlist1 = [\"Mike\", \"\", \"Emma\", \"Kelly\", \"\", \"Brad\"]\n",
        "# \toutput“[Mike\", \"Emma\", \"Kelly\", \"Brad\"]\n"
      ]
    },
    {
      "cell_type": "code",
      "execution_count": null,
      "id": "ghNxFvnCwXim",
      "metadata": {
        "id": "ghNxFvnCwXim"
      },
      "outputs": [],
      "source": [
        "# Given a list (Matrix) with = [ \t[1  ,  2  ,  3  ,  4] ,\n",
        "# \t\t\t\t\t              [5  ,  6  ,  7  ,  8 ] ,\n",
        "# \t\t\t\t\t              [9  , 10  , 11 , 12]]\n",
        "#  Write a program to transpose the given matrix without list comprehension and with List comprehension.\n",
        "# OUTPUT\n",
        "# transposed = [ \t[1  ,  5 ,  9] ,\n",
        "# \t\t            [2  ,  6  , 10] ,\n",
        "# \t\t\t\t    [3  , 7  , 11] ,\n",
        "# \t\t\t\t   [4  ,  8 , 12]]\n"
      ]
    },
    {
      "cell_type": "code",
      "execution_count": null,
      "id": "R3H3Qx-qwXim",
      "metadata": {
        "id": "R3H3Qx-qwXim",
        "outputId": "bfe8f972-41e8-4f0f-d2c5-39d2a9116dee"
      },
      "outputs": [
        {
          "name": "stdout",
          "output_type": "stream",
          "text": [
            "[[1, 2, 3, 4], [5, 6, 7, 8], [9, 10, 11, 12]]\n",
            "[[1, 5, 9], [2, 6, 10], [3, 7, 11], [4, 8, 12]]\n"
          ]
        }
      ],
      "source": [
        "matrix= [ \t[1  ,  2  ,  3  ,  4],\n",
        "            [5  ,  6  ,  7  ,  8 ] ,\n",
        "            [9  , 10  , 11 , 12]]\n",
        "# Without List Comprehension\n",
        "transposed = []\n",
        "for i in range(4):\n",
        "    lst = []\n",
        "    for row in matrix:\n",
        "         lst.append(row[i])\n",
        "    transposed.append(lst)\n",
        "\n",
        "print(matrix)\n",
        "print(transposed)\n"
      ]
    },
    {
      "cell_type": "code",
      "execution_count": null,
      "id": "YalQWYBkwXin",
      "metadata": {
        "id": "YalQWYBkwXin",
        "outputId": "5a2f9ac2-187d-4da2-9ba6-6674606546ff"
      },
      "outputs": [
        {
          "data": {
            "text/plain": [
              "[[1, 5, 9], [2, 6, 10], [3, 7, 11], [4, 8, 12]]"
            ]
          },
          "execution_count": 142,
          "metadata": {},
          "output_type": "execute_result"
        }
      ],
      "source": [
        "transposed = [[row[i] for row in matrix] for i in range(4)]\n",
        "transposed"
      ]
    },
    {
      "cell_type": "markdown",
      "id": "ti7kvQ-S16zn",
      "metadata": {
        "id": "ti7kvQ-S16zn"
      },
      "source": [
        "**Exception handling**\n"
      ]
    },
    {
      "cell_type": "code",
      "execution_count": null,
      "id": "Th0WYyNlAshe",
      "metadata": {
        "id": "Th0WYyNlAshe"
      },
      "outputs": [],
      "source": [
        "\n",
        "\n",
        "# Exception Handling:\n",
        "\n",
        "# - Is a mechanism to handle runtime errors (exceptions) in a program\n",
        "# - Allows you to gracefully handle errors and provide useful error messages\n",
        "# - Prevents program crashes and provides a way to recover from errors\n",
        "\n",
        "# Key Concepts:\n",
        "\n",
        "# - Try: Code that might raise an exception\n",
        "# - Except: Block to handle the exception\n",
        "# - Raise: Manually raise an exception\n",
        "# - Assert: Check a condition and raise an exception if false\n",
        "# - Finally: Code that runs regardless of exceptions\n",
        "\n",
        "# Types of Exceptions:\n",
        "\n",
        "# - Built-in Exceptions: Python's built-in exceptions (e.g., ZeroDivisionError, TypeError)\n",
        "# - User-defined Exceptions: Custom exceptions created by the user\n",
        "\n",
        "# Best Practices:\n",
        "\n",
        "# - Use specific exceptions instead of general ones (e.g., ValueError instead of Exception)\n",
        "# - Handle exceptions close to where they occur\n",
        "# - Provide informative error messages\n",
        "# - Use finally blocks for cleanup code\n",
        "\n",
        "# Benefits:\n",
        "\n",
        "# - Improves code reliability and stability\n",
        "# - Provides better error messages and debugging information\n",
        "# - Enhances user experience by handling errors gracefully\n",
        "\n"
      ]
    },
    {
      "cell_type": "markdown",
      "id": "RiW72n6-cPzL",
      "metadata": {
        "id": "RiW72n6-cPzL"
      },
      "source": [
        "**exception**"
      ]
    },
    {
      "cell_type": "code",
      "execution_count": null,
      "id": "VjJWsbahbT0R",
      "metadata": {
        "colab": {
          "base_uri": "https://localhost:8080/",
          "height": 176
        },
        "id": "VjJWsbahbT0R",
        "outputId": "5ca341ef-c8b3-43a9-d3cc-f4513bcdd1cf"
      },
      "outputs": [
        {
          "ename": "ZeroDivisionError",
          "evalue": "division by zero",
          "output_type": "error",
          "traceback": [
            "\u001b[0;31m---------------------------------------------------------------------------\u001b[0m",
            "\u001b[0;31mZeroDivisionError\u001b[0m                         Traceback (most recent call last)",
            "\u001b[0;32m<ipython-input-1-5a68c2dd2863>\u001b[0m in \u001b[0;36m<cell line: 3>\u001b[0;34m()\u001b[0m\n\u001b[1;32m      1\u001b[0m \u001b[0mnum\u001b[0m \u001b[0;34m=\u001b[0m \u001b[0;36m10\u001b[0m\u001b[0;34m\u001b[0m\u001b[0;34m\u001b[0m\u001b[0m\n\u001b[1;32m      2\u001b[0m \u001b[0mnum2\u001b[0m \u001b[0;34m=\u001b[0m \u001b[0;36m0\u001b[0m\u001b[0;34m\u001b[0m\u001b[0;34m\u001b[0m\u001b[0m\n\u001b[0;32m----> 3\u001b[0;31m \u001b[0mprint\u001b[0m\u001b[0;34m(\u001b[0m\u001b[0mnum\u001b[0m\u001b[0;34m/\u001b[0m\u001b[0mnum2\u001b[0m\u001b[0;34m)\u001b[0m\u001b[0;34m\u001b[0m\u001b[0;34m\u001b[0m\u001b[0m\n\u001b[0m",
            "\u001b[0;31mZeroDivisionError\u001b[0m: division by zero"
          ]
        }
      ],
      "source": [
        "num = 10\n",
        "num2 = 0\n",
        "print(num/num2)\n",
        "#Rest code not executed"
      ]
    },
    {
      "cell_type": "code",
      "execution_count": null,
      "id": "SUR6Sf6ZcJ9e",
      "metadata": {
        "colab": {
          "base_uri": "https://localhost:8080/",
          "height": 193
        },
        "id": "SUR6Sf6ZcJ9e",
        "outputId": "ab6abbb4-e001-476a-ad5d-e0f350e34872"
      },
      "outputs": [
        {
          "ename": "TypeError",
          "evalue": "unsupported operand type(s) for +: 'int' and 'str'",
          "output_type": "error",
          "traceback": [
            "\u001b[0;31m---------------------------------------------------------------------------\u001b[0m",
            "\u001b[0;31mTypeError\u001b[0m                                 Traceback (most recent call last)",
            "\u001b[0;32m<ipython-input-3-68188a9151b6>\u001b[0m in \u001b[0;36m<cell line: 3>\u001b[0;34m()\u001b[0m\n\u001b[1;32m      1\u001b[0m \u001b[0mx\u001b[0m \u001b[0;34m=\u001b[0m \u001b[0;36m5\u001b[0m\u001b[0;34m\u001b[0m\u001b[0;34m\u001b[0m\u001b[0m\n\u001b[1;32m      2\u001b[0m \u001b[0my\u001b[0m \u001b[0;34m=\u001b[0m \u001b[0;34m\"hello\"\u001b[0m\u001b[0;34m\u001b[0m\u001b[0;34m\u001b[0m\u001b[0m\n\u001b[0;32m----> 3\u001b[0;31m \u001b[0mprint\u001b[0m\u001b[0;34m(\u001b[0m\u001b[0mx\u001b[0m\u001b[0;34m+\u001b[0m\u001b[0my\u001b[0m\u001b[0;34m)\u001b[0m\u001b[0;34m\u001b[0m\u001b[0;34m\u001b[0m\u001b[0m\n\u001b[0m\u001b[1;32m      4\u001b[0m \u001b[0;31m#Next code will not run\u001b[0m\u001b[0;34m\u001b[0m\u001b[0;34m\u001b[0m\u001b[0m\n",
            "\u001b[0;31mTypeError\u001b[0m: unsupported operand type(s) for +: 'int' and 'str'"
          ]
        }
      ],
      "source": [
        "x = 5\n",
        "y = \"hello\"\n",
        "print(x+y)\n",
        "#Next code will not run"
      ]
    },
    {
      "cell_type": "code",
      "execution_count": null,
      "id": "eAbjY8YKdi0Y",
      "metadata": {
        "colab": {
          "base_uri": "https://localhost:8080/",
          "height": 193
        },
        "id": "eAbjY8YKdi0Y",
        "outputId": "b8900935-6216-43a0-89ee-bdaadc044db3"
      },
      "outputs": [
        {
          "ename": "NameError",
          "evalue": "name 'names' is not defined",
          "output_type": "error",
          "traceback": [
            "\u001b[0;31m---------------------------------------------------------------------------\u001b[0m",
            "\u001b[0;31mNameError\u001b[0m                                 Traceback (most recent call last)",
            "\u001b[0;32m<ipython-input-5-0895397dba94>\u001b[0m in \u001b[0;36m<cell line: 2>\u001b[0;34m()\u001b[0m\n\u001b[1;32m      1\u001b[0m \u001b[0mname\u001b[0m \u001b[0;34m=\u001b[0m \u001b[0;36m5\u001b[0m\u001b[0;34m\u001b[0m\u001b[0;34m\u001b[0m\u001b[0m\n\u001b[0;32m----> 2\u001b[0;31m \u001b[0mprint\u001b[0m\u001b[0;34m(\u001b[0m\u001b[0mnames\u001b[0m\u001b[0;34m)\u001b[0m\u001b[0;34m\u001b[0m\u001b[0;34m\u001b[0m\u001b[0m\n\u001b[0m\u001b[1;32m      3\u001b[0m \u001b[0;31m# Errors cannot be handled\u001b[0m\u001b[0;34m\u001b[0m\u001b[0;34m\u001b[0m\u001b[0m\n\u001b[1;32m      4\u001b[0m \u001b[0;31m# Exceptions can be handled using exception handling syntax\u001b[0m\u001b[0;34m\u001b[0m\u001b[0;34m\u001b[0m\u001b[0m\n",
            "\u001b[0;31mNameError\u001b[0m: name 'names' is not defined"
          ]
        }
      ],
      "source": [
        "name = 5\n",
        "print(names)\n",
        "#print(\"name)\n",
        "# Errors cannot be handled\n",
        "# Exceptions can be handled using exception handling syntax"
      ]
    },
    {
      "cell_type": "code",
      "execution_count": null,
      "id": "naOOvrNlc3-c",
      "metadata": {
        "id": "naOOvrNlc3-c"
      },
      "outputs": [],
      "source": [
        "# An exception is an event which occurs during execution of program that disrupts normal flow of program\n",
        "\n",
        "# Dangerous\n",
        "# lead to sudden termination, block application, data loss problem can occur, corrupt data files"
      ]
    },
    {
      "cell_type": "code",
      "execution_count": null,
      "id": "A7g-3Ws0eDdY",
      "metadata": {
        "id": "A7g-3Ws0eDdY"
      },
      "outputs": [],
      "source": [
        "# 4 Block for exception\n",
        "# Try\n",
        "# except block\n",
        "# else block\n",
        "# finally block\n",
        "\n",
        "#  try:\n",
        "#  code containing exceptions(suspicious code)\n",
        "# except ExceptionName:\n",
        "#   code to handle exeption(if occurred)\n",
        "# else:\n",
        "#   code to execute if no exceptions occurred.\n",
        "# finally:\n",
        "#   #always execute# use file handling for closing the file"
      ]
    },
    {
      "cell_type": "code",
      "execution_count": null,
      "id": "GUQeczFOf_jE",
      "metadata": {
        "colab": {
          "base_uri": "https://localhost:8080/"
        },
        "id": "GUQeczFOf_jE",
        "outputId": "2488e74e-a591-40ea-d1d4-95d9cff9730c"
      },
      "outputs": [
        {
          "name": "stdout",
          "output_type": "stream",
          "text": [
            "Divide by zero is not possible\n",
            "Rest of the code\n"
          ]
        }
      ],
      "source": [
        "num = 10\n",
        "num2 = 0\n",
        "try:\n",
        "  print(num/num2)\n",
        "except ZeroDivisionError:\n",
        "  print(\"Divide by zero is not possible\")\n",
        "\n",
        "print(\"Rest of the code\")"
      ]
    },
    {
      "cell_type": "code",
      "execution_count": null,
      "id": "ZXPjxbjWgnc7",
      "metadata": {
        "colab": {
          "base_uri": "https://localhost:8080/",
          "height": 210
        },
        "id": "ZXPjxbjWgnc7",
        "outputId": "a236b65a-816c-4a88-b133-b7cbba33a58a"
      },
      "outputs": [
        {
          "ename": "NameError",
          "evalue": "name 'dis' is not defined",
          "output_type": "error",
          "traceback": [
            "\u001b[0;31m---------------------------------------------------------------------------\u001b[0m",
            "\u001b[0;31mNameError\u001b[0m                                 Traceback (most recent call last)",
            "\u001b[0;32m<ipython-input-7-d95394c1b95c>\u001b[0m in \u001b[0;36m<cell line: 3>\u001b[0;34m()\u001b[0m\n\u001b[1;32m      3\u001b[0m \u001b[0;32mtry\u001b[0m\u001b[0;34m:\u001b[0m\u001b[0;34m\u001b[0m\u001b[0;34m\u001b[0m\u001b[0m\n\u001b[1;32m      4\u001b[0m   \u001b[0mdiv\u001b[0m \u001b[0;34m=\u001b[0m \u001b[0mnum\u001b[0m\u001b[0;34m/\u001b[0m\u001b[0mnum2\u001b[0m\u001b[0;34m\u001b[0m\u001b[0;34m\u001b[0m\u001b[0m\n\u001b[0;32m----> 5\u001b[0;31m   \u001b[0mprint\u001b[0m\u001b[0;34m(\u001b[0m\u001b[0mdis\u001b[0m\u001b[0;34m)\u001b[0m \u001b[0;31m#NameError\u001b[0m\u001b[0;34m\u001b[0m\u001b[0;34m\u001b[0m\u001b[0m\n\u001b[0m\u001b[1;32m      6\u001b[0m \u001b[0;32mexcept\u001b[0m \u001b[0mZeroDivisionError\u001b[0m\u001b[0;34m:\u001b[0m\u001b[0;34m\u001b[0m\u001b[0;34m\u001b[0m\u001b[0m\n\u001b[1;32m      7\u001b[0m   \u001b[0mprint\u001b[0m\u001b[0;34m(\u001b[0m\u001b[0;34m\"Divide by zero is not possible\"\u001b[0m\u001b[0;34m)\u001b[0m\u001b[0;34m\u001b[0m\u001b[0;34m\u001b[0m\u001b[0m\n",
            "\u001b[0;31mNameError\u001b[0m: name 'dis' is not defined"
          ]
        }
      ],
      "source": [
        "num = 10\n",
        "num2 = 5\n",
        "try:\n",
        "  div = num/num2\n",
        "  print(dis) #NameError\n",
        "except ZeroDivisionError:\n",
        "  print(\"Divide by zero is not possible\")\n",
        "\n",
        "print(\"Rest of the code\")"
      ]
    },
    {
      "cell_type": "code",
      "execution_count": null,
      "id": "nwHohV2FhKp6",
      "metadata": {
        "colab": {
          "base_uri": "https://localhost:8080/"
        },
        "id": "nwHohV2FhKp6",
        "outputId": "231c91dc-f16d-41dc-a869-212c0d74e1b0"
      },
      "outputs": [
        {
          "name": "stdout",
          "output_type": "stream",
          "text": [
            "Divide by zero is not possible\n",
            "Rest of the code\n"
          ]
        }
      ],
      "source": [
        "num = 10\n",
        "num2 = 0\n",
        "try:\n",
        "  div = num/num2\n",
        "  print(dis) #NameError\n",
        "except ZeroDivisionError:\n",
        "  print(\"Divide by zero is not possible\")\n",
        "except NameError:\n",
        "  print(\"variable name wrong\")\n",
        "\n",
        "print(\"Rest of the code\")"
      ]
    },
    {
      "cell_type": "code",
      "execution_count": null,
      "id": "PlcaBej9iAhT",
      "metadata": {
        "colab": {
          "base_uri": "https://localhost:8080/"
        },
        "id": "PlcaBej9iAhT",
        "outputId": "a88c8a0d-e692-4e6d-fde2-1010e1b1bf85"
      },
      "outputs": [
        {
          "name": "stdout",
          "output_type": "stream",
          "text": [
            "division by zero\n",
            "Rest of the code\n"
          ]
        }
      ],
      "source": [
        "num = 10\n",
        "num2 = 0\n",
        "#num2 =4\n",
        "try:\n",
        "  div = num/num2\n",
        "  print(dis) #NameError\n",
        "except (ZeroDivisionError, NameError) as obj:\n",
        "  print(obj)\n",
        "\n",
        "\n",
        "print(\"Rest of the code\")"
      ]
    },
    {
      "cell_type": "code",
      "execution_count": null,
      "id": "4p9yj8WUxz-8",
      "metadata": {
        "colab": {
          "base_uri": "https://localhost:8080/"
        },
        "id": "4p9yj8WUxz-8",
        "outputId": "8ee821db-bcc5-4c26-f890-411c53045f46"
      },
      "outputs": [
        {
          "name": "stdout",
          "output_type": "stream",
          "text": [
            "division by zero\n",
            "Rest of the code\n"
          ]
        }
      ],
      "source": [
        "num = 10\n",
        "num2 = 0\n",
        "#num2 =4\n",
        "try:\n",
        "  div = num/num2\n",
        "  print(dis) #NameError\n",
        "except Exception as obj:\n",
        "  print(obj)\n",
        "\n",
        "\n",
        "print(\"Rest of the code\")"
      ]
    },
    {
      "cell_type": "code",
      "execution_count": null,
      "id": "IHemKyDvie3u",
      "metadata": {
        "colab": {
          "base_uri": "https://localhost:8080/"
        },
        "id": "IHemKyDvie3u",
        "outputId": "5e61a2e9-8f87-412c-db7e-b4b77a647c50"
      },
      "outputs": [
        {
          "name": "stdout",
          "output_type": "stream",
          "text": [
            "1.4285714285714286\n",
            "an exception didn't occur\n",
            "always execute\n",
            "Rest of the code\n"
          ]
        }
      ],
      "source": [
        "num = 10\n",
        "num2 = 0\n",
        "try:\n",
        "  div = num/num2\n",
        "  print(dis) #NameError\n",
        "except:\n",
        "  print(\"variable name wrong\")\n",
        "else:\n",
        "  print(\"an exception didn't occur\")\n",
        "finally:\n",
        "  print(\"always execute\")\n",
        "print(\"Rest of the code\")"
      ]
    },
    {
      "cell_type": "markdown",
      "id": "lkd5WO4Uj_As",
      "metadata": {
        "id": "lkd5WO4Uj_As"
      },
      "source": [
        "![image.png](data:image/png;base64,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)"
      ]
    },
    {
      "cell_type": "code",
      "execution_count": null,
      "id": "G7459Bt4_6Q8",
      "metadata": {
        "colab": {
          "base_uri": "https://localhost:8080/"
        },
        "id": "G7459Bt4_6Q8",
        "outputId": "7c1ec738-f749-4b67-ef72-a76e54b39de7"
      },
      "outputs": [
        {
          "name": "stdout",
          "output_type": "stream",
          "text": [
            "division by zero\n",
            "<class 'ZeroDivisionError'>\n",
            "Rest of the code\n"
          ]
        }
      ],
      "source": [
        "num = 10\n",
        "num2 = 0\n",
        "try:\n",
        "  div = num/num2\n",
        "  print(div) #NameError\n",
        "except ZeroDivisionError as var:# do as Exception\n",
        "  print(var)\n",
        "\n",
        "\n",
        "\n",
        " #print(var.__class__)\n",
        "print(\"Rest of the code\")"
      ]
    },
    {
      "cell_type": "code",
      "execution_count": null,
      "id": "F9bvRWfQAkI_",
      "metadata": {
        "colab": {
          "base_uri": "https://localhost:8080/"
        },
        "id": "F9bvRWfQAkI_",
        "outputId": "f4680557-cb8e-49c0-be19-7b18afb11e03"
      },
      "outputs": [
        {
          "name": "stdout",
          "output_type": "stream",
          "text": [
            "-10\n",
            "age cannot be negative\n",
            "rest of the code\n"
          ]
        }
      ],
      "source": [
        "#User Define Exception\n",
        "# Raise key want to throw exception in particular exception\n",
        "age = -10\n",
        "try:\n",
        "  #age = int(input('enter age:'))\n",
        "  print(age)\n",
        "  if age<0:\n",
        "    raise ValueError('age cannot be negative')\n",
        "    print(age)\n",
        "except Exception as f:\n",
        "    print(f)\n",
        "print('rest of the code')"
      ]
    },
    {
      "cell_type": "code",
      "execution_count": null,
      "id": "vE--NQw143wq",
      "metadata": {
        "colab": {
          "base_uri": "https://localhost:8080/"
        },
        "id": "vE--NQw143wq",
        "outputId": "4ea244bc-0117-4a15-d113-8e1fec13483a"
      },
      "outputs": [
        {
          "name": "stdout",
          "output_type": "stream",
          "text": [
            "age\n",
            "rest of the code\n"
          ]
        }
      ],
      "source": [
        "# age = -10\n",
        "# try:\n",
        "#   #age = int(input('enter age:'))\n",
        "#   if age<0:\n",
        "#     raise ValueError('enter valid age')\n",
        "#     print(age)\n",
        "#   else:\n",
        "#     print(\"age\")\n",
        "# except:\n",
        "#     print('enter valid agggge')\n",
        "# print('rest of the code')"
      ]
    },
    {
      "cell_type": "markdown",
      "id": "dMjidgxABbSX",
      "metadata": {
        "id": "dMjidgxABbSX"
      },
      "source": [
        "1. Default Exception:"
      ]
    },
    {
      "cell_type": "code",
      "execution_count": null,
      "id": "jsoHS6j8BKNY",
      "metadata": {
        "colab": {
          "base_uri": "https://localhost:8080/"
        },
        "id": "jsoHS6j8BKNY",
        "outputId": "209687a4-9b6a-4784-d7b4-aa4753aea4b6"
      },
      "outputs": [
        {
          "name": "stdout",
          "output_type": "stream",
          "text": [
            "An error occurred: division by zero\n"
          ]
        }
      ],
      "source": [
        "\n",
        "try:\n",
        "    x = 5 / 0\n",
        "except Exception as e:\n",
        "    print(f\"An error occurred: {e}\")"
      ]
    },
    {
      "cell_type": "markdown",
      "id": "K25OWY2YBhLq",
      "metadata": {
        "id": "K25OWY2YBhLq"
      },
      "source": [
        "1. Catching Exceptions:"
      ]
    },
    {
      "cell_type": "code",
      "execution_count": null,
      "id": "k8xVcRWOBlJn",
      "metadata": {
        "colab": {
          "base_uri": "https://localhost:8080/"
        },
        "id": "k8xVcRWOBlJn",
        "outputId": "408a0566-3485-405e-b4b1-442f0c4bfe21"
      },
      "outputs": [
        {
          "name": "stdout",
          "output_type": "stream",
          "text": [
            "Cannot divide by zero!\n"
          ]
        }
      ],
      "source": [
        "try:\n",
        "    x = 5 / 0\n",
        "except ZeroDivisionError:\n",
        "    print(\"Cannot divide by zero!\")"
      ]
    },
    {
      "cell_type": "markdown",
      "id": "GrpTTM4eBuWR",
      "metadata": {
        "id": "GrpTTM4eBuWR"
      },
      "source": [
        "3. **Raise an exception**:"
      ]
    },
    {
      "cell_type": "code",
      "execution_count": null,
      "id": "4MH1xGhSClLw",
      "metadata": {
        "colab": {
          "base_uri": "https://localhost:8080/"
        },
        "id": "4MH1xGhSClLw",
        "outputId": "5234b016-425e-40a3-dcfc-8f11d48cabd5"
      },
      "outputs": [
        {
          "name": "stdout",
          "output_type": "stream",
          "text": [
            "enter number8\n",
            "your age is  8\n",
            "rest of code\n"
          ]
        }
      ],
      "source": [
        "#6. **Assert block** Second way raisning\n",
        "# An asser statement in python is used to test an expression in program code\n",
        "# Syntax: assert Expression[,arguments] #optional argument\n",
        "age = int(input('enter number'))\n",
        "try:\n",
        "  assert age>= 0, \"age must be positive!\"# Trye exoression no exception false case raise exception\n",
        "  print(\"your age is \" , age)\n",
        "except Exception as f:\n",
        "  print(f)\n",
        "\n",
        "print(\"rest of code\")"
      ]
    },
    {
      "cell_type": "code",
      "execution_count": null,
      "id": "djJG4rf8C0oZ",
      "metadata": {
        "colab": {
          "base_uri": "https://localhost:8080/"
        },
        "id": "djJG4rf8C0oZ",
        "outputId": "ee411b39-9084-4f29-def6-722471107d50"
      },
      "outputs": [
        {
          "name": "stdout",
          "output_type": "stream",
          "text": [
            "Cannot divide by zero!\n",
            "Execution complete!\n"
          ]
        }
      ],
      "source": [
        "#1. *Finally block*:\n",
        "\n",
        "try:\n",
        "    x = 5 / 0\n",
        "except ZeroDivisionError:\n",
        "    print(\"Cannot divide by zero!\")\n",
        "finally:\n",
        "    print(\"Execution complete!\")"
      ]
    },
    {
      "cell_type": "markdown",
      "id": "0GljKgmyxMRX",
      "metadata": {
        "id": "0GljKgmyxMRX"
      },
      "source": [
        "**Creating Class and Objects**"
      ]
    },
    {
      "cell_type": "code",
      "execution_count": null,
      "id": "QnNAa-Kevjup",
      "metadata": {
        "colab": {
          "base_uri": "https://localhost:8080/"
        },
        "id": "QnNAa-Kevjup",
        "outputId": "022f2b57-2879-404e-9f68-a15e514a6b41"
      },
      "outputs": [
        {
          "name": "stdout",
          "output_type": "stream",
          "text": [
            "10\n"
          ]
        }
      ],
      "source": [
        "# Create a class with property \"var1\"\n",
        "class myclass:\n",
        " var1 = 10\n",
        "\n",
        "\n",
        " # Create an object of class \"myclass()\"\n",
        "obj1 = myclass()\n",
        "print(obj1.var1)\n"
      ]
    },
    {
      "cell_type": "code",
      "execution_count": null,
      "id": "q5CwF9YhGZ2R",
      "metadata": {
        "id": "q5CwF9YhGZ2R"
      },
      "outputs": [],
      "source": [
        "class Car:\n",
        "\n",
        "\n",
        "# Initializer / Instance attributes\n",
        " # Constructor or class attributes\n",
        "  def __init__(self, make, model, year):\n",
        "    self.make = make\n",
        "    self.model = model\n",
        "    self.year = year\n"
      ]
    },
    {
      "cell_type": "code",
      "execution_count": null,
      "id": "Nek6XETTGeGv",
      "metadata": {
        "id": "Nek6XETTGeGv"
      },
      "outputs": [],
      "source": [
        "car1 = Car(\"Toyota\", \"Camry\", 2023)"
      ]
    },
    {
      "cell_type": "code",
      "execution_count": null,
      "id": "iZ9lMhnkGwtw",
      "metadata": {
        "colab": {
          "background_save": true
        },
        "id": "iZ9lMhnkGwtw",
        "outputId": "1a6937e2-2398-49e4-d03a-282bd332fd43"
      },
      "outputs": [
        {
          "name": "stdout",
          "output_type": "stream",
          "text": [
            "Toyota\n"
          ]
        }
      ],
      "source": [
        "print(car1.make)"
      ]
    },
    {
      "cell_type": "code",
      "execution_count": null,
      "id": "ROOuT6x4BpM_",
      "metadata": {
        "colab": {
          "base_uri": "https://localhost:8080/"
        },
        "id": "ROOuT6x4BpM_",
        "outputId": "2a2554cc-54c6-4626-d305-6005c21ddb62"
      },
      "outputs": [
        {
          "name": "stdout",
          "output_type": "stream",
          "text": [
            "<__main__.Employee object at 0x7ddeeed8f5e0>\n",
            "<__main__.Employee object at 0x7ddeeed8f0a0>\n"
          ]
        }
      ],
      "source": [
        "\n",
        "# So You have a company and you want to make application in python for your company\n",
        "# Method founction associated with class\n",
        "# Each employ have attribute so you have to create class have blueprint for each employee no need to do manually\n",
        "class Employee:\n",
        "  pass\n",
        "\n",
        "emp_1 = Employee()\n",
        "emp_2 = Employee()\n",
        "\n",
        "print(emp_1)\n",
        "print(emp_2)"
      ]
    },
    {
      "cell_type": "code",
      "execution_count": null,
      "id": "06wEk9tOFpVF",
      "metadata": {
        "colab": {
          "base_uri": "https://localhost:8080/"
        },
        "id": "06wEk9tOFpVF",
        "outputId": "4b603a91-098a-4ff4-9604-158f234243b1"
      },
      "outputs": [
        {
          "name": "stdout",
          "output_type": "stream",
          "text": [
            "<__main__.Employee object at 0x7ddeeed8ee00>\n",
            "<__main__.Employee object at 0x7ddeeed8c190>\n",
            "asifali@gmail.com\n",
            "Ramshaym@gmail.com\n"
          ]
        }
      ],
      "source": [
        "#Instance variable\n",
        "# Manully working with class is not any benifit\n",
        "class Employee:\n",
        "  pass\n",
        "\n",
        "emp_1 = Employee()\n",
        "emp_2 = Employee()\n",
        "\n",
        "print(emp_1)\n",
        "print(emp_2)\n",
        "\n",
        "emp_1.first = \"Asif\"\n",
        "emp_1.last = \"Ali\"\n",
        "emp_1.email = 'asifali@gmail.com'\n",
        "emp_1.salary = 50000\n",
        "\n",
        "emp_2.first = \"Ram\"\n",
        "emp_2.last = \"shaym\"\n",
        "emp_2.email = 'Ramshaym@gmail.com'\n",
        "emp_2.salary = 40000\n",
        "\n",
        "print(emp_1.email)\n",
        "print(emp_2.email)"
      ]
    },
    {
      "cell_type": "code",
      "execution_count": null,
      "id": "-Zu7y9vlq-VH",
      "metadata": {
        "colab": {
          "base_uri": "https://localhost:8080/"
        },
        "id": "-Zu7y9vlq-VH",
        "outputId": "e47aae0a-60fa-419c-f926-0d4044ef4759"
      },
      "outputs": [
        {
          "name": "stdout",
          "output_type": "stream",
          "text": [
            "Asif.Ali@gmail.com\n",
            "Ram.Shaym@gmail.com\n",
            "Asif Ali \n"
          ]
        }
      ],
      "source": [
        "# doing same using init method\n",
        "\n",
        "class Employee:\n",
        "  #special init method # another thing it is constructor\n",
        "  def __init__(self, first, last, pay):\n",
        "    #first argument get automatic, set all instance method\n",
        "    self.first = first\n",
        "    self.last = last\n",
        "    self.pay = pay\n",
        "    self.email = first + '.' + last + '@gmail.com'\n",
        "\n",
        "emp_1 = Employee('Asif', 'Ali', 50000)\n",
        "emp_2 = Employee('Ram', 'Shaym', 40000)\n",
        "\n",
        "print(emp_1.email)\n",
        "print(emp_2.email)\n",
        "\n",
        "# For printing\n",
        "print('{} {} '.format(emp_1.first, emp_1.last))"
      ]
    },
    {
      "cell_type": "code",
      "execution_count": null,
      "id": "SAKMhV0tdu21",
      "metadata": {
        "id": "SAKMhV0tdu21"
      },
      "outputs": [],
      "source": [
        "# Each time for display you will type each but do making a functionalaty.put functionalaty at one place\n",
        "# by making a function for printing\n",
        "\n",
        "class Employee:\n",
        "  #special init method # another thing it is constructor\n",
        "  def __init__(self, first, last, pay):\n",
        "    #first argument get automatic, set all instance method\n",
        "    self.first = first\n",
        "    self.last = last\n",
        "    self.pay = pay\n",
        "    self.email = first + '.' + last + '@gmail.com'\n",
        "\n",
        "\n",
        "  def fullname(self):\n",
        "    return '{} {}'.format(self.first, self.last)\n",
        "\n",
        "emp_1 = Employee('Asif', 'Ali', 50000)\n",
        "emp_2 = Employee('Ram', 'Shaym', 40000)\n",
        "\n",
        "# print(emp_1.email)\n",
        "# print(emp_2.email)\n",
        "\n",
        "print(emp_1.fullname()) # method as return value\n",
        "# for emp_2 full address\n",
        "print(emp_2.fullname())"
      ]
    },
    {
      "cell_type": "code",
      "execution_count": null,
      "id": "JZPV5tfXfsg7",
      "metadata": {
        "colab": {
          "background_save": true
        },
        "id": "JZPV5tfXfsg7",
        "outputId": "d00afd61-2f71-4779-aba4-ba19d693256c"
      },
      "outputs": [
        {
          "name": "stdout",
          "output_type": "stream",
          "text": [
            "Asif.Ali@gmail.com\n",
            "Ram.Shaym@gmail.com\n",
            "Asif Ali\n"
          ]
        }
      ],
      "source": [
        "class Employee:\n",
        "  #special init method # another thing it is constructor\n",
        "  def __init__(self, first, last, pay):\n",
        "    #first argument get automatic, set all instance method\n",
        "    self.first = first\n",
        "    self.last = last\n",
        "    self.pay = pay\n",
        "    self.email = first + '.' + last + '@gmail.com'\n",
        "\n",
        "\n",
        "  def fullname(self):\n",
        "    return '{} {}'.format(self.first, self.last)\n",
        "\n",
        "emp_1 = Employee('Asif', 'Ali', 50000)\n",
        "emp_2 = Employee('Ram', 'Shaym', 40000)\n",
        "\n",
        "print(emp_1.email)\n",
        "print(emp_2.email)\n",
        "\n",
        "print(emp_1.fullname())"
      ]
    },
    {
      "cell_type": "code",
      "execution_count": null,
      "id": "uEYavJADYBGa",
      "metadata": {
        "colab": {
          "base_uri": "https://localhost:8080/"
        },
        "id": "uEYavJADYBGa",
        "outputId": "4fd76a2c-068e-4db6-8c15-01f510104ab4"
      },
      "outputs": [
        {
          "name": "stdout",
          "output_type": "stream",
          "text": [
            "50000\n",
            "52000\n"
          ]
        }
      ],
      "source": [
        "\n",
        "\n",
        "\n",
        "#Class Variables\n",
        "\n",
        "class Employee:\n",
        "  #special init method # another thing it is constructor\n",
        "  def __init__(self, first, last, pay):\n",
        "    #first argument get automatic, set all instance method\n",
        "    self.first = first\n",
        "    self.last = last\n",
        "    self.pay = pay\n",
        "    self.email = first + '.' + last + '@gmail.com'\n",
        "\n",
        "\n",
        "  def fullname(self):\n",
        "    return '{} {}'.format(self.first, self.last)\n",
        "\n",
        "  def apply_raise(self):\n",
        "   self.pay = int(self.pay*1.04)\n",
        "\n",
        "emp_1 = Employee('Asif', 'Ali', 50000)\n",
        "emp_2 = Employee('Ram', 'Shaym', 40000)\n",
        "\n",
        "print(emp_1.pay)\n",
        "emp_1.apply_raise()\n",
        "print(emp_1.pay)"
      ]
    },
    {
      "cell_type": "code",
      "execution_count": null,
      "id": "5tzCRT6nXKpO",
      "metadata": {
        "colab": {
          "base_uri": "https://localhost:8080/"
        },
        "id": "5tzCRT6nXKpO",
        "outputId": "adcaef02-95f9-40a6-af96-0748fc926394"
      },
      "outputs": [
        {
          "name": "stdout",
          "output_type": "stream",
          "text": [
            "50000\n",
            "52000\n"
          ]
        }
      ],
      "source": [
        "\n",
        "#Class Variables\n",
        "class Employee:\n",
        "  raise_amount = 1.04\n",
        "  #special init method # another thing it is constructor\n",
        "  def __init__(self, first, last, pay):\n",
        "    #first argument get automatic, set all instance method\n",
        "    self.first = first\n",
        "    self.last = last\n",
        "    self.pay = pay\n",
        "    self.email = first + '.' + last + '@gmail.com'\n",
        "\n",
        "\n",
        "  def fullname(self):\n",
        "    return '{} {}'.format(self.first, self.last)\n",
        "\n",
        "  def apply_raise(self):\n",
        "   self.pay = int(self.pay*self.raise_amount)\n",
        "\n",
        "emp_1 = Employee('Asif', 'Ali', 50000)\n",
        "emp_2 = Employee('Ram', 'Shaym', 40000)\n",
        "\n",
        "print(emp_1.pay)\n",
        "emp_1.apply_raise()\n",
        "print(emp_1.pay)\n",
        "\n",
        "#Something\n",
        "emp_1.raise_amount\n",
        "# Employee.raise_amount\n",
        "\n",
        "\n",
        "\n",
        "\n"
      ]
    },
    {
      "cell_type": "code",
      "execution_count": null,
      "id": "PuwWMWHy0Pjz",
      "metadata": {
        "colab": {
          "base_uri": "https://localhost:8080/"
        },
        "id": "PuwWMWHy0Pjz",
        "outputId": "b6cfc709-d514-4a3c-d5de-c5daeb868ffe"
      },
      "outputs": [
        {
          "name": "stdout",
          "output_type": "stream",
          "text": [
            "1.05\n",
            "1.05\n",
            "1.05\n",
            "None\n"
          ]
        }
      ],
      "source": [
        "\n",
        "#classmethod\n",
        "class Employee:\n",
        "  raise_amt = 1.04\n",
        "  #special init method # another thing it is constructor\n",
        "  def __init__(self, first, last, pay):\n",
        "    #first argument get automatic, set all instance method\n",
        "    self.first = first\n",
        "    self.last = last\n",
        "    self.pay = pay\n",
        "    self.email = first + '.' + last + '@gmail.com'\n",
        "\n",
        "  def fullname(self):\n",
        "    return '{} {}'.format(self.first, self.last)\n",
        "\n",
        "  @classmethod\n",
        "  def set_raise_amt(cls, amount):\n",
        "    cls.raise_amt = amount\n",
        "\n",
        "emp_1 = Employee('Asif', 'Ali', 50000)\n",
        "emp_2 = Employee('Ram', 'Shaym', 40000)\n",
        "\n",
        "#all set to 5% blc run set amount that is class variable not instance variable\n",
        "Employee.set_raise_amt(1.05)\n",
        "\n",
        "print(Employee.raise_amt)\n",
        "print(emp_1.raise_amt)\n",
        "print(emp_2.raise_amt)"
      ]
    },
    {
      "cell_type": "code",
      "execution_count": null,
      "id": "Jy7AkPvt2iKD",
      "metadata": {
        "colab": {
          "base_uri": "https://localhost:8080/"
        },
        "id": "Jy7AkPvt2iKD",
        "outputId": "e95e13bf-9653-4d6f-a5f7-8c762e58005b"
      },
      "outputs": [
        {
          "output_type": "stream",
          "name": "stdout",
          "text": [
            "Jome.Doee@gmail.com\n",
            "70000\n"
          ]
        }
      ],
      "source": [
        "#use classmethod as alternative constructor means use class method as multiple way creating our object #Alteranative\n",
        "#classmethod\n",
        "class Employee:\n",
        "  raise_amt = 1.04\n",
        "  #num_of_emps = 0\n",
        "  #special init method # another thing it is constructor\n",
        "  def __init__(self, first, last, pay):\n",
        "    #first argument get automatic, set all instance method\n",
        "    self.first = first\n",
        "    self.last = last\n",
        "    self.pay = pay\n",
        "    self.email = first + '.' + last + '@gmail.com'\n",
        "    #Employee.num_of_emps += 1\n",
        "\n",
        "  def fullname(self):\n",
        "    return '{} {}'.format(self.first, self.last)\n",
        "\n",
        "\n",
        "  def apply_raise(self):\n",
        "   self.pay = int(self.pay*Employee.raise_amount)\n",
        "\n",
        "  @classmethod\n",
        "  def set_raise_amt(cls, amount):\n",
        "    #pass\n",
        "    cls.raise_amt = amount\n",
        "\n",
        "\n",
        "emp_1 = Employee('Asif', 'Ali', 50000)\n",
        "emp_2 = Employee('Ram', 'Shaym', 40000)\n",
        "\n",
        "\n",
        "emp_str_1 = 'Jome-Doee-70000'\n",
        "emp_str_2 = 'Steve-Smeeth-30000'\n",
        "emp_str_3 = 'Jame-Doee-90000'\n",
        "\n",
        "first, last, pay = emp_str_1.split('-')\n",
        "\n",
        "new_emp_1 = Employee(first, last, pay)\n",
        "#new_emp_1 = Employee.from_string(emp_str_1)\n",
        "\n",
        "print(new_emp_1.email)\n",
        "print(new_emp_1.pay)"
      ]
    },
    {
      "cell_type": "code",
      "execution_count": null,
      "id": "rjsbhwud4FbI",
      "metadata": {
        "colab": {
          "base_uri": "https://localhost:8080/"
        },
        "id": "rjsbhwud4FbI",
        "outputId": "30fee818-e624-4bdc-d4be-110657a92075"
      },
      "outputs": [
        {
          "output_type": "stream",
          "name": "stdout",
          "text": [
            "Jome.Doee@email.com\n",
            "70000\n"
          ]
        }
      ],
      "source": [
        "class Employee:\n",
        "\n",
        "    num_of_emps = 0\n",
        "    raise_amt = 1.04\n",
        "\n",
        "    def __init__(self, first, last, pay):\n",
        "        self.first = first\n",
        "        self.last = last\n",
        "        self.email = first + '.' + last + '@email.com'\n",
        "        self.pay = pay\n",
        "\n",
        "        Employee.num_of_emps += 1\n",
        "\n",
        "    def fullname(self):\n",
        "        return '{} {}'.format(self.first, self.last)\n",
        "\n",
        "    def apply_raise(self):\n",
        "        self.pay = int(self.pay * self.raise_amt)\n",
        "\n",
        "    @classmethod\n",
        "    def set_raise_amt(cls, amount):\n",
        "        cls.raise_amt = amount\n",
        "\n",
        "    @classmethod\n",
        "    def from_string(cls, emp_str):\n",
        "        first, last, pay = emp_str.split('-')\n",
        "        return cls(first, last, pay)\n",
        "\n",
        "\n",
        "emp_1 = Employee('Cor', 'Shaym', 50000)\n",
        "emp_2 = Employee('Test', 'Employee', 60000)\n",
        "\n",
        "\n",
        "emp_str_1 = 'Jome-Doee-70000'\n",
        "emp_str_2 = 'Steve-Smeeth-30000'\n",
        "emp_str_3 = 'Jame-Doee-90000'\n",
        "\n",
        "#new_emp_1 = Employee(first, last, pay)\n",
        "new_emp_1 = Employee.from_string(emp_str_1)\n",
        "\n",
        "\n",
        "print(new_emp_1.email)\n",
        "print(new_emp_1.pay)"
      ]
    },
    {
      "cell_type": "code",
      "execution_count": null,
      "id": "RzmsrGch5bLd",
      "metadata": {
        "colab": {
          "base_uri": "https://localhost:8080/"
        },
        "id": "RzmsrGch5bLd",
        "outputId": "c3981da5-133d-450f-fe4a-2afaa28b15a6"
      },
      "outputs": [
        {
          "output_type": "stream",
          "name": "stdout",
          "text": [
            "True\n"
          ]
        }
      ],
      "source": [
        "#static method\n",
        "class Employee:\n",
        "\n",
        "    num_of_emps = 0\n",
        "    raise_amt = 1.04\n",
        "\n",
        "    def __init__(self, first, last, pay):\n",
        "        self.first = first\n",
        "        self.last = last\n",
        "        self.email = first + '.' + last + '@email.com'\n",
        "        self.pay = pay\n",
        "\n",
        "        Employee.num_of_emps += 1\n",
        "\n",
        "    def fullname(self):\n",
        "        return '{} {}'.format(self.first, self.last)\n",
        "\n",
        "    def apply_raise(self):\n",
        "        self.pay = int(self.pay * self.raise_amt)\n",
        "\n",
        "    @classmethod\n",
        "    def set_raise_amt(cls, amount):\n",
        "        cls.raise_amt = amount\n",
        "\n",
        "    @classmethod\n",
        "    def from_string(cls, emp_str):\n",
        "        first, last, pay = emp_str.split('-')\n",
        "        return cls(first, last, pay)\n",
        "\n",
        "\n",
        "#Regular method pass instance as first argument as self and class method pass cls as first argument and\n",
        "# staticmethod don't pass any instance or class as first argument automatic\n",
        "    @staticmethod\n",
        "    def is_workday(day):\n",
        "        if day.weekday() == 5 or day.weekday() == 6:\n",
        "            return False\n",
        "        return True\n",
        "\n",
        "\n",
        "emp_1 = Employee('Core', 'Shyam', 50000)\n",
        "emp_2 = Employee('Test', 'Employee', 60000)\n",
        "\n",
        "first, last, pay = emp_str_1.split('-')\n",
        "\n",
        "#new_emp_1 = Employee(first, last, pay)\n",
        "new_emp_1 = Employee.from_string(emp_str_1)\n",
        "\n",
        "import datetime\n",
        "my_date = datetime.date(2016, 7, 11)\n",
        "\n",
        "print(Employee.is_workday(my_date))"
      ]
    },
    {
      "cell_type": "code",
      "execution_count": null,
      "id": "xivX8W1h7YfG",
      "metadata": {
        "colab": {
          "base_uri": "https://localhost:8080/"
        },
        "id": "xivX8W1h7YfG",
        "outputId": "80a268c7-af60-4bd3-b063-fdd6ae2e0a36"
      },
      "outputs": [
        {
          "output_type": "stream",
          "name": "stdout",
          "text": [
            "50000\n",
            "52000\n"
          ]
        }
      ],
      "source": [
        "#static method\n",
        "class Employee:\n",
        "\n",
        "    num_of_emps = 0\n",
        "    raise_amt = 1.04\n",
        "\n",
        "    def __init__(self, first, last, pay):\n",
        "        self.first = first\n",
        "        self.last = last\n",
        "        self.email = first + '.' + last + '@email.com'\n",
        "        self.pay = pay\n",
        "        Employee.num_of_emps += 1\n",
        "\n",
        "    def fullname(self):\n",
        "        return '{} {}'.format(self.first, self.last)\n",
        "\n",
        "    def apply_raise(self):\n",
        "        self.pay = int(self.pay * self.raise_amt)\n",
        "\n",
        "class Developer(Employee):\n",
        "  pass\n",
        "\n",
        "\n",
        "# dev_1 = Employee('Corey', 'Schafer', 50000)\n",
        "# dev_2 = Employee('Test', 'Employee', 60000)\n",
        "dev_1 = Developer('Core', 'Shyam', 50000)\n",
        "dev_2 = Developer('Test', 'Employee', 60000)\n",
        "\n",
        "# print(dev_1.email)\n",
        "# print(dev_2.email)\n",
        "\n",
        "print(dev_1.pay)\n",
        "dev_1.apply_raise()\n",
        "print(dev_1.pay)\n",
        "# print(help(Developer))"
      ]
    },
    {
      "cell_type": "code",
      "execution_count": null,
      "id": "yum78Hdj9Y_2",
      "metadata": {
        "colab": {
          "base_uri": "https://localhost:8080/"
        },
        "id": "yum78Hdj9Y_2",
        "outputId": "4c72de50-17cd-44ff-fe7a-63ff09ff8c37"
      },
      "outputs": [
        {
          "name": "stdout",
          "output_type": "stream",
          "text": [
            "50000\n",
            "55000\n"
          ]
        }
      ],
      "source": [
        "#static method\n",
        "class Employee:\n",
        "\n",
        "    num_of_emps = 0\n",
        "    raise_amt = 1.04\n",
        "\n",
        "    def __init__(self, first, last, pay):\n",
        "        self.first = first\n",
        "        self.last = last\n",
        "        self.email = first + '.' + last + '@email.com'\n",
        "        self.pay = pay\n",
        "\n",
        "        Employee.num_of_emps += 1\n",
        "\n",
        "    def fullname(self):\n",
        "        return '{} {}'.format(self.first, self.last)\n",
        "\n",
        "    def apply_raise(self):\n",
        "        self.pay = int(self.pay * self.raise_amt)\n",
        "\n",
        "class Developer(Employee):\n",
        "  raise_amt = 1.10\n",
        "\n",
        "\n",
        "# dev_1 = Employee('Corey', 'Schafer', 50000)\n",
        "# dev_2 = Employee('Test', 'Employee', 60000)\n",
        "dev_1 = Developer('Core', 'Shyam', 50000)\n",
        "dev_2 = Developer('Test', 'Employee', 60000)\n",
        "\n",
        "# print(dev_1.email)\n",
        "# print(dev_2.email)\n",
        "\n",
        "print(dev_1.pay)\n",
        "dev_1.apply_raise()\n",
        "print(dev_1.pay)\n",
        "# print(help(Developer))"
      ]
    },
    {
      "cell_type": "code",
      "execution_count": null,
      "id": "pZ-puAOO9-ed",
      "metadata": {
        "colab": {
          "base_uri": "https://localhost:8080/"
        },
        "id": "pZ-puAOO9-ed",
        "outputId": "7f3fc7af-5952-46a0-c874-64f72c090066"
      },
      "outputs": [
        {
          "name": "stdout",
          "output_type": "stream",
          "text": [
            "50000\n",
            "52000\n"
          ]
        }
      ],
      "source": [
        "#static method\n",
        "class Employee:\n",
        "\n",
        "    num_of_emps = 0\n",
        "    raise_amt = 1.04\n",
        "\n",
        "    def __init__(self, first, last, pay):\n",
        "        self.first = first\n",
        "        self.last = last\n",
        "        self.email = first + '.' + last + '@email.com'\n",
        "        self.pay = pay\n",
        "\n",
        "        Employee.num_of_emps += 1\n",
        "\n",
        "    def fullname(self):\n",
        "        return '{} {}'.format(self.first, self.last)\n",
        "\n",
        "    def apply_raise(self):\n",
        "        self.pay = int(self.pay * self.raise_amt)\n",
        "\n",
        "class Developer(Employee):\n",
        "  raise_amt = 1.10\n",
        "\n",
        "\n",
        "dev_1 = Employee('Core', 'Shyam', 50000)\n",
        "# dev_2 = Employee('Test', 'Employee', 60000)\n",
        "# dev_1 = Developer('Core', 'Shyam', 50000)\n",
        "dev_2 = Developer('Test', 'Employee', 60000)\n",
        "\n",
        "# print(dev_1.email)\n",
        "# print(dev_2.email)\n",
        "\n",
        "print(dev_1.pay)\n",
        "dev_1.apply_raise()\n",
        "print(dev_1.pay)\n",
        "# print(help(Developer))"
      ]
    },
    {
      "cell_type": "code",
      "execution_count": null,
      "id": "EGdTV9k3-Fee",
      "metadata": {
        "colab": {
          "base_uri": "https://localhost:8080/"
        },
        "id": "EGdTV9k3-Fee",
        "outputId": "1cff2f46-7c4c-4440-f333-45dd0f94f4a2"
      },
      "outputs": [
        {
          "output_type": "stream",
          "name": "stdout",
          "text": [
            "Core.Shyam@email.com\n",
            "Python\n"
          ]
        }
      ],
      "source": [
        "#static method\n",
        "class Employee:\n",
        "\n",
        "    num_of_emps = 0\n",
        "    raise_amt = 1.04\n",
        "\n",
        "    def __init__(self, first, last, pay):\n",
        "        self.first = first\n",
        "        self.last = last\n",
        "        self.email = first + '.' + last + '@email.com'\n",
        "        self.pay = pay\n",
        "\n",
        "        Employee.num_of_emps += 1\n",
        "\n",
        "    def fullname(self):\n",
        "        return '{} {}'.format(self.first, self.last)\n",
        "\n",
        "    def apply_raise(self):\n",
        "        self.pay = int(self.pay * self.raise_amt)\n",
        "\n",
        "class Developer(Employee):\n",
        "  raise_amt = 1.10\n",
        "  def __init__(self, first, last, pay, prog_lang):\n",
        "    #do manually all by self and use super or parent class\n",
        "    super().__init__(first,last,pay)\n",
        "    # Employee.__init__(self,first,last,pay)\n",
        "    self.prog_lang = prog_lang\n",
        "\n",
        "\n",
        "# dev_1 = Employee('Core', 'Shyam', 50000)\n",
        "# dev_2 = Employee('Test', 'Employee', 60000)\n",
        "dev_1 = Developer('Core', 'Shyam', 50000, 'Python')\n",
        "dev_2 = Developer('Test', 'Employee', 60000, 'java')\n",
        "\n",
        "print(dev_1.email)\n",
        "print(dev_1.prog_lang)\n",
        "\n",
        "# print(dev_1.pay)\n",
        "# dev_1.apply_raise()\n",
        "# print(dev_1.pay)\n",
        "# # print(help(Developer))"
      ]
    },
    {
      "cell_type": "code",
      "execution_count": null,
      "id": "IVxRPbhh_9f7",
      "metadata": {
        "colab": {
          "base_uri": "https://localhost:8080/"
        },
        "id": "IVxRPbhh_9f7",
        "outputId": "8194fde7-0d1b-40e6-a04f-cf930d4dd902"
      },
      "outputs": [
        {
          "output_type": "stream",
          "name": "stdout",
          "text": [
            "Sue.Smith@email.com\n",
            "--> Core Shyam\n",
            "--> Test Employee\n"
          ]
        }
      ],
      "source": [
        "#Inheritance\n",
        "class Employee:\n",
        "\n",
        "    raise_amt = 1.04\n",
        "\n",
        "    def __init__(self, first, last, pay):\n",
        "        self.first = first\n",
        "        self.last = last\n",
        "        self.email = first + '.' + last + '@email.com'\n",
        "        self.pay = pay\n",
        "\n",
        "    def fullname(self):\n",
        "        return '{} {}'.format(self.first, self.last)\n",
        "\n",
        "    def apply_raise(self):\n",
        "        self.pay = int(self.pay * self.raise_amt)\n",
        "\n",
        "\n",
        "class Developer(Employee):\n",
        "    raise_amt = 1.10\n",
        "\n",
        "    def __init__(self, first, last, pay, prog_lang):\n",
        "        super().__init__(first, last, pay)\n",
        "        self.prog_lang = prog_lang\n",
        "\n",
        "\n",
        "class Manager(Employee):\n",
        "\n",
        "    def __init__(self, first, last, pay, employees=None):\n",
        "        super().__init__(first, last, pay)\n",
        "        if employees is None:\n",
        "            self.employees = []\n",
        "        else:\n",
        "            self.employees = employees\n",
        "\n",
        "    def add_emp(self, emp):\n",
        "        if emp not in self.employees:\n",
        "            self.employees.append(emp)\n",
        "\n",
        "    def remove_emp(self, emp):\n",
        "        if emp in self.employees:\n",
        "            self.employees.remove(emp)\n",
        "\n",
        "    def print_emps(self):\n",
        "        for emp in self.employees:\n",
        "            print('-->', emp.fullname())\n",
        "\n",
        "\n",
        "dev_1 = Developer('Core', 'Shyam', 50000, 'Python')\n",
        "dev_2 = Developer('Test', 'Employee', 60000, 'Java')\n",
        "\n",
        "mgr_1 = Manager('Sue', 'Smith', 90000, [dev_1])\n",
        "\n",
        "print(mgr_1.email)\n",
        "\n",
        "mgr_1.add_emp(dev_2)\n",
        "mgr_1.print_emps()\n",
        "# mgr_1.remove_emp(dev_2)\n",
        "\n",
        "# print(isinstance(mgr_1, Employee))\n",
        "# print(issubclass(Manager, Developer))"
      ]
    },
    {
      "cell_type": "code",
      "execution_count": null,
      "id": "Gl7cxSeKJE6F",
      "metadata": {
        "id": "Gl7cxSeKJE6F"
      },
      "outputs": [],
      "source": []
    },
    {
      "cell_type": "code",
      "execution_count": null,
      "id": "93eU9lviDiu4",
      "metadata": {
        "colab": {
          "base_uri": "https://localhost:8080/"
        },
        "id": "93eU9lviDiu4",
        "outputId": "e7863d89-554a-4885-e64a-848cea5d1bef"
      },
      "outputs": [
        {
          "output_type": "stream",
          "name": "stdout",
          "text": [
            "Jumi\n",
            "Jumi.Smith@email.com\n",
            "Jumi Smith\n"
          ]
        }
      ],
      "source": [
        "#property decorators getter, setters and deleters\n",
        "class Employee:\n",
        "    def __init__(self, first, last):\n",
        "        self.first = first\n",
        "        self.last = last\n",
        "        self.email = first + '.' + last + '@email.com'\n",
        "\n",
        "    def fullname(self):\n",
        "        return '{} {}'.format(self.first, self.last)\n",
        "\n",
        "emp_1 = Employee('Jumi', 'Smith')\n",
        "\n",
        "#p\n",
        "# emp_1.first = 'jim'\n",
        "print(emp_1.first)\n",
        "print(emp_1.email)\n",
        "print(emp_1.fullname())\n",
        "\n"
      ]
    },
    {
      "cell_type": "code",
      "execution_count": null,
      "id": "2rjbs1I6EAC2",
      "metadata": {
        "colab": {
          "base_uri": "https://localhost:8080/"
        },
        "id": "2rjbs1I6EAC2",
        "outputId": "d91b99f5-1588-486a-92cb-3af887e053d4"
      },
      "outputs": [
        {
          "output_type": "stream",
          "name": "stdout",
          "text": [
            "jimi\n",
            "jimi.Smith@email.com\n",
            "jimi Smith\n"
          ]
        }
      ],
      "source": [
        "\n",
        "class Employee:\n",
        "\n",
        "    def __init__(self, first, last):\n",
        "        self.first = first\n",
        "        self.last = last\n",
        "\n",
        "    def email(self):\n",
        "        return '{}.{}@email.com'.format(self.first, self.last)\n",
        "\n",
        "    def fullname(self):\n",
        "        return '{} {}'.format(self.first, self.last)\n",
        "\n",
        "emp_1 = Employee('Jumi', 'Smith')\n",
        "\n",
        "emp_1.first = 'jimi'\n",
        "\n",
        "print(emp_1.first)\n",
        "print(emp_1.email())\n",
        "print(emp_1.fullname())"
      ]
    },
    {
      "cell_type": "code",
      "execution_count": null,
      "id": "fgi9rx-HGNiO",
      "metadata": {
        "colab": {
          "base_uri": "https://localhost:8080/"
        },
        "id": "fgi9rx-HGNiO",
        "outputId": "bdf64662-4a9f-48a2-a22f-f83967da7150"
      },
      "outputs": [
        {
          "output_type": "stream",
          "name": "stdout",
          "text": [
            "jimi\n",
            "jimi.Smith@email.com\n",
            "jimi Smith\n"
          ]
        }
      ],
      "source": [
        "class Employee:\n",
        "\n",
        "    def __init__(self, first, last):\n",
        "        self.first = first\n",
        "        self.last = last\n",
        "\n",
        "#decorator\n",
        "    @property\n",
        "    def email(self):\n",
        "        return '{}.{}@email.com'.format(self.first, self.last)\n",
        "\n",
        "\n",
        "    @property\n",
        "    def fullname(self):\n",
        "        return '{} {}'.format(self.first, self.last)\n",
        "\n",
        "emp_1 = Employee('Jumi', 'Smith')\n",
        "\n",
        "emp_1.first = 'jimi'\n",
        "\n",
        "#You can't set attribute\n",
        "#emp_1.fullname = 'Hello class'\n",
        "\n",
        "print(emp_1.first)\n",
        "print(emp_1.email)\n",
        "print(emp_1.fullname)"
      ]
    },
    {
      "cell_type": "code",
      "execution_count": null,
      "id": "xYmB9w84HNW6",
      "metadata": {
        "colab": {
          "base_uri": "https://localhost:8080/"
        },
        "id": "xYmB9w84HNW6",
        "outputId": "2bb6de09-74d0-45c5-ff1b-d5e8b99cf296"
      },
      "outputs": [
        {
          "output_type": "stream",
          "name": "stdout",
          "text": [
            "Hello\n",
            "Hello.class@email.com\n",
            "Hello class\n"
          ]
        }
      ],
      "source": [
        "class Employee:\n",
        "\n",
        "    def __init__(self, first, last):\n",
        "        self.first = first\n",
        "        self.last = last\n",
        "\n",
        "#decorator\n",
        "    @property\n",
        "    def email(self):\n",
        "        return '{}.{}@email.com'.format(self.first, self.last)\n",
        "\n",
        "\n",
        "    @property\n",
        "    def fullname(self):\n",
        "        return '{} {}'.format(self.first, self.last)\n",
        "\n",
        "\n",
        "    @fullname.setter\n",
        "    def fullname(self, name):\n",
        "        first, last = name.split(' ')\n",
        "        self.first = first\n",
        "        self.last = last\n",
        "\n",
        "emp_1 = Employee('Jumi', 'Smith')\n",
        "\n",
        "emp_1.first = 'jimi'\n",
        "\n",
        "\n",
        "emp_1.fullname = 'Hello class'\n",
        "\n",
        "print(emp_1.first)\n",
        "print(emp_1.email)\n",
        "print(emp_1.fullname)"
      ]
    },
    {
      "cell_type": "code",
      "execution_count": null,
      "id": "QS5T_yb9FtMZ",
      "metadata": {
        "colab": {
          "base_uri": "https://localhost:8080/"
        },
        "id": "QS5T_yb9FtMZ",
        "outputId": "01a363d9-a39a-4f74-9926-8e48c193cffa"
      },
      "outputs": [
        {
          "output_type": "stream",
          "name": "stdout",
          "text": [
            "Hello\n",
            "Hello.Class@email.com\n",
            "Hello Class\n",
            "Delete Name!\n"
          ]
        }
      ],
      "source": [
        "\n",
        "class Employee:\n",
        "\n",
        "    def __init__(self, first, last):\n",
        "        self.first = first\n",
        "        self.last = last\n",
        "\n",
        "    @property\n",
        "    def email(self):\n",
        "        return '{}.{}@email.com'.format(self.first, self.last)\n",
        "\n",
        "    @property\n",
        "    def fullname(self):\n",
        "        return '{} {}'.format(self.first, self.last)\n",
        "\n",
        "    @fullname.setter\n",
        "    def fullname(self, name):\n",
        "        first, last = name.split(' ')\n",
        "        self.first = first\n",
        "        self.last = last\n",
        "\n",
        "    @fullname.deleter\n",
        "    def fullname(self):\n",
        "        print('Delete Name!')\n",
        "        self.first = None\n",
        "        self.last = None\n",
        "\n",
        "\n",
        "emp_1 = Employee('Jumi', 'Smith')\n",
        "emp_1.fullname = \"Hello Class\"\n",
        "\n",
        "print(emp_1.first)\n",
        "print(emp_1.email)\n",
        "print(emp_1.fullname)\n",
        "\n",
        "del emp_1.fullname"
      ]
    },
    {
      "cell_type": "markdown",
      "id": "HpXLUiK3JadZ",
      "metadata": {
        "id": "HpXLUiK3JadZ"
      },
      "source": [
        "**encapsulation** in Python involves bundling the data (attributes) and methods that operate on the data into a single unit, typically a class. It also includes restricting direct access to some of an object's components, which can prevent the accidental modification of data."
      ]
    },
    {
      "cell_type": "code",
      "execution_count": null,
      "id": "Ha17Lr5ZJI98",
      "metadata": {
        "colab": {
          "base_uri": "https://localhost:8080/"
        },
        "id": "Ha17Lr5ZJI98",
        "outputId": "b6c6d0b5-c6b9-4748-bb62-4b55c7a4bed7"
      },
      "outputs": [
        {
          "output_type": "stream",
          "name": "stdout",
          "text": [
            "Alice\n",
            "30\n",
            "35\n",
            "Age cannot be negative\n"
          ]
        }
      ],
      "source": [
        "class Person:\n",
        "    def __init__(self, name, age):\n",
        "        self.__name = name  # Private attribute\n",
        "        self.__age = age    # Private attribute\n",
        "\n",
        "    def get_name(self):\n",
        "        return self.__name\n",
        "\n",
        "    def set_name(self, name):\n",
        "        self.__name = name\n",
        "\n",
        "    def get_age(self):\n",
        "        return self.__age\n",
        "\n",
        "    def set_age(self, age):\n",
        "        if age > 0:\n",
        "            self.__age = age\n",
        "        else:\n",
        "            print(\"Age cannot be negative\")\n",
        "\n",
        "person = Person(\"Alice\", 30)\n",
        "print(person.get_name())  # Output: Alice\n",
        "print(person.get_age())   # Output: 30\n",
        "\n",
        "person.set_age(35)\n",
        "print(person.get_age())   # Output: 35\n",
        "\n",
        "person.set_age(-5)        # Output: Age cannot be negative\n",
        "# print(Person.name)"
      ]
    },
    {
      "cell_type": "code",
      "execution_count": null,
      "id": "0CxptrMKJf0P",
      "metadata": {
        "colab": {
          "base_uri": "https://localhost:8080/"
        },
        "id": "0CxptrMKJf0P",
        "outputId": "fde3a5bb-5c4a-47d5-98f9-3872b5fb09fb"
      },
      "outputs": [
        {
          "output_type": "stream",
          "name": "stdout",
          "text": [
            "Shyam.Smi@email.com\n",
            "--> Coree Shyam\n",
            "--> Test Employee\n",
            "Python\n",
            "Coree Shyam\n",
            "C++\n"
          ]
        }
      ],
      "source": [
        "class Employee:\n",
        "    raise_amt = 1.04\n",
        "\n",
        "    def __init__(self, first, last, pay):\n",
        "        self.__first = first      # Private attribute\n",
        "        self.__last = last        # Private attribute\n",
        "        self.__pay = pay          # Private attribute\n",
        "        self.email = first + '.' + last + '@email.com'\n",
        "\n",
        "    def fullname(self):\n",
        "        return '{} {}'.format(self.__first, self.__last)\n",
        "\n",
        "    def apply_raise(self):\n",
        "        self.__pay = int(self.__pay * self.raise_amt)\n",
        "\n",
        "    def get_first(self):\n",
        "        return self.__first\n",
        "\n",
        "    def set_first(self, first):\n",
        "        self.__first = first\n",
        "\n",
        "    def get_last(self):\n",
        "        return self.__last\n",
        "\n",
        "    def set_last(self, last):\n",
        "        self.__last = last\n",
        "\n",
        "    def get_pay(self):\n",
        "        return self.__pay\n",
        "\n",
        "    def set_pay(self, pay):\n",
        "        self.__pay = pay\n",
        "\n",
        "\n",
        "class Developer(Employee):\n",
        "    raise_amt = 1.10\n",
        "\n",
        "    def __init__(self, first, last, pay, prog_lang):\n",
        "        super().__init__(first, last, pay)\n",
        "        self.__prog_lang = prog_lang  # Private attribute\n",
        "\n",
        "    def get_prog_lang(self):\n",
        "        return self.__prog_lang\n",
        "\n",
        "    def set_prog_lang(self, prog_lang):\n",
        "        self.__prog_lang = prog_lang\n",
        "\n",
        "\n",
        "class Manager(Employee):\n",
        "\n",
        "    def __init__(self, first, last, pay, employees=None):\n",
        "        super().__init__(first, last, pay)\n",
        "        if employees is None:\n",
        "            self.__employees = []  # Private attribute\n",
        "        else:\n",
        "            self.__employees = employees\n",
        "\n",
        "    def add_emp(self, emp):\n",
        "        if emp not in self.__employees:\n",
        "            self.__employees.append(emp)\n",
        "\n",
        "    def remove_emp(self, emp):\n",
        "        if emp in self.__employees:\n",
        "            self.__employees.remove(emp)\n",
        "\n",
        "    def print_emps(self):\n",
        "        for emp in self.__employees:\n",
        "            print('-->', emp.fullname())\n",
        "\n",
        "\n",
        "dev_1 = Developer('Coree', 'Shyam', 50000, 'Python')\n",
        "dev_2 = Developer('Test', 'Employee', 60000, 'Java')\n",
        "\n",
        "mgr_1 = Manager('Shyam', 'Smi', 90000, [dev_1])\n",
        "\n",
        "print(mgr_1.email)\n",
        "\n",
        "mgr_1.add_emp(dev_2)\n",
        "mgr_1.print_emps()\n",
        "\n",
        "# Accessing private attributes using getter methods\n",
        "print(dev_1.get_prog_lang())  # Output: Python\n",
        "print(dev_1.fullname())       # Output: Corey Schafer\n",
        "\n",
        "# Modifying private attributes using setter methods\n",
        "dev_1.set_prog_lang('C++')\n",
        "print(dev_1.get_prog_lang())  # Output: C++\n"
      ]
    },
    {
      "cell_type": "markdown",
      "id": "HKIZPnbyKQex",
      "metadata": {
        "id": "HKIZPnbyKQex"
      },
      "source": [
        "**Polymorphism** allows methods to do different things based on the object it is acting upon. This means that different classes can define the same method or attribute. Here's an example demonstrating polymorphism using the Employee, Developer, and Manager classes."
      ]
    },
    {
      "cell_type": "code",
      "execution_count": null,
      "id": "1hkl3pOBKPkE",
      "metadata": {
        "colab": {
          "base_uri": "https://localhost:8080/"
        },
        "id": "1hkl3pOBKPkE",
        "outputId": "2d36aa71-a438-463f-d41f-5901bcdc8ef7"
      },
      "outputs": [
        {
          "name": "stdout",
          "output_type": "stream",
          "text": [
            "Woof!\n",
            "Meow!\n"
          ]
        }
      ],
      "source": [
        "class Dog:\n",
        "    def speak(self):\n",
        "        return \"Woof!\"\n",
        "\n",
        "class Cat:\n",
        "    def speak(self):\n",
        "        return \"Meow!\"\n",
        "\n",
        "def animal_sound(animal):\n",
        "    print(animal.speak())\n",
        "\n",
        "dog = Dog()\n",
        "cat = Cat()\n",
        "\n",
        "animal_sound(dog)  # Output: Woof!\n",
        "animal_sound(cat)  # Output: Meow!\n"
      ]
    },
    {
      "cell_type": "code",
      "execution_count": null,
      "id": "x3E9R9SyKgqt",
      "metadata": {
        "colab": {
          "base_uri": "https://localhost:8080/"
        },
        "id": "x3E9R9SyKgqt",
        "outputId": "f8f2f371-62d3-416b-ad59-a8d37dbcba09"
      },
      "outputs": [
        {
          "output_type": "stream",
          "name": "stdout",
          "text": [
            "Core Shyam is writing code in Python.\n",
            "Test Employee is writing code in Java.\n",
            "Suman Smith is managing employees.\n"
          ]
        }
      ],
      "source": [
        "class Employee:\n",
        "    raise_amt = 1.04\n",
        "\n",
        "    def __init__(self, first, last, pay):\n",
        "        self.first = first\n",
        "        self.last = last\n",
        "        self.pay = pay\n",
        "        self.email = first + '.' + last + '@email.com'\n",
        "\n",
        "    def fullname(self):\n",
        "        return '{} {}'.format(self.first, self.last)\n",
        "\n",
        "    def apply_raise(self):\n",
        "        self.pay = int(self.pay * self.raise_amt)\n",
        "\n",
        "    def work(self):\n",
        "        return f\"{self.fullname()} is working.\"\n",
        "\n",
        "\n",
        "class Developer(Employee):\n",
        "    raise_amt = 1.10\n",
        "\n",
        "    def __init__(self, first, last, pay, prog_lang):\n",
        "        super().__init__(first, last, pay)\n",
        "        self.prog_lang = prog_lang\n",
        "\n",
        "    def work(self):\n",
        "        return f\"{self.fullname()} is writing code in {self.prog_lang}.\"\n",
        "\n",
        "\n",
        "class Manager(Employee):\n",
        "\n",
        "    def __init__(self, first, last, pay, employees=None):\n",
        "        super().__init__(first, last, pay)\n",
        "        if employees is None:\n",
        "            self.employees = []\n",
        "        else:\n",
        "            self.employees = employees\n",
        "\n",
        "    def add_emp(self, emp):\n",
        "        if emp not in self.employees:\n",
        "            self.employees.append(emp)\n",
        "\n",
        "    def remove_emp(self, emp):\n",
        "        if emp in self.employees:\n",
        "            self.employees.remove(emp)\n",
        "\n",
        "    def print_emps(self):\n",
        "        for emp in self.employees:\n",
        "            print('-->', emp.fullname())\n",
        "\n",
        "    def work(self):\n",
        "        return f\"{self.fullname()} is managing employees.\"\n",
        "\n",
        "\n",
        "# Instances of the classes\n",
        "dev_1 = Developer('Core', 'Shyam', 50000, 'Python')\n",
        "dev_2 = Developer('Test', 'Employee', 60000, 'Java')\n",
        "mgr_1 = Manager('Suman', 'Smith', 90000, [dev_1])\n",
        "\n",
        "# Demonstrating polymorphism\n",
        "employees = [dev_1, dev_2, mgr_1]\n",
        "\n",
        "for emp in employees:\n",
        "    print(emp.work())\n",
        "\n",
        "# Output:\n",
        "# Corey Schafer is writing code in Python.\n",
        "# Test Employee is writing code in Java.\n",
        "# Sue Smith is managing employees.\n"
      ]
    },
    {
      "cell_type": "markdown",
      "id": "4tMa2Ft6K52y",
      "metadata": {
        "id": "4tMa2Ft6K52y"
      },
      "source": [
        "**Data abstraction** is the process of hiding the complex implementation details and showing only the essential features of the object. In Python, data abstraction can be achieved using abstract classes and interfaces. The abc module provides the infrastructure for defining abstract base classes (ABCs)"
      ]
    },
    {
      "cell_type": "code",
      "execution_count": null,
      "id": "MEyLKUecK2fO",
      "metadata": {
        "colab": {
          "base_uri": "https://localhost:8080/"
        },
        "id": "MEyLKUecK2fO",
        "outputId": "c39f551e-0ff6-4839-de07-69f7ccdb59a9"
      },
      "outputs": [
        {
          "output_type": "stream",
          "name": "stdout",
          "text": [
            "Area: 200\n",
            "Perimeter: 60\n"
          ]
        }
      ],
      "source": [
        "from abc import ABC, abstractmethod\n",
        "\n",
        "class Shape(ABC):\n",
        "    @abstractmethod\n",
        "    def area(self):\n",
        "        print(\"hellow\")\n",
        "\n",
        "    @abstractmethod\n",
        "    def perimeter(self):\n",
        "        print(\"hey\")\n",
        "\n",
        "class Rectangle(Shape):\n",
        "    def __init__(self, width, height):\n",
        "        self.width = width\n",
        "        self.height = height\n",
        "\n",
        "    def area(self):\n",
        "        return self.width * self.height\n",
        "\n",
        "    def perimeter(self):\n",
        "        return 2 * (self.width + self.height)\n",
        "\n",
        "rect = Rectangle(10, 20)\n",
        "print(\"Area:\", rect.area())          # Output: Area: 200\n",
        "print(\"Perimeter:\", rect.perimeter()) # Output: Perimeter: 60\n"
      ]
    },
    {
      "cell_type": "code",
      "execution_count": null,
      "id": "LUctuqpQK--c",
      "metadata": {
        "colab": {
          "base_uri": "https://localhost:8080/"
        },
        "id": "LUctuqpQK--c",
        "outputId": "f0b59523-c669-42d5-cc18-0db6e51bf6bd"
      },
      "outputs": [
        {
          "output_type": "stream",
          "name": "stdout",
          "text": [
            "Shyam.Smith@company.com\n",
            "--> Coree Shyam\n",
            "--> Test Employee\n",
            "Coree Shyam\n",
            "55000\n",
            "Shyam Smith\n",
            "108000\n"
          ]
        }
      ],
      "source": [
        "from abc import ABC, abstractmethod\n",
        "\n",
        "class Employee(ABC):\n",
        "    def __init__(self, first, last, pay):\n",
        "        self.first = first\n",
        "        self.last = last\n",
        "        self.pay = pay\n",
        "        self.email = first + '.' + last + '@company.com'\n",
        "\n",
        "    @abstractmethod\n",
        "    def fullname(self):\n",
        "        pass\n",
        "\n",
        "    @abstractmethod\n",
        "    def apply_raise(self):\n",
        "        pass\n",
        "\n",
        "class Developer(Employee):\n",
        "    raise_amt = 1.10\n",
        "\n",
        "    def __init__(self, first, last, pay, prog_lang):\n",
        "        super().__init__(first, last, pay)\n",
        "        self.prog_lang = prog_lang\n",
        "\n",
        "    def fullname(self):\n",
        "        return f\"{self.first} {self.last}\"\n",
        "\n",
        "    def apply_raise(self):\n",
        "        self.pay = int(self.pay * self.raise_amt)\n",
        "        return self.pay\n",
        "\n",
        "class Manager(Employee):\n",
        "    raise_amt = 1.20\n",
        "\n",
        "    def __init__(self, first, last, pay, employees=None):\n",
        "        super().__init__(first, last, pay)\n",
        "        if employees is None:\n",
        "            self.employees = []\n",
        "        else:\n",
        "            self.employees = employees\n",
        "\n",
        "    def fullname(self):\n",
        "        return f\"{self.first} {self.last}\"\n",
        "\n",
        "    def apply_raise(self):\n",
        "        self.pay = int(self.pay * self.raise_amt)\n",
        "        return self.pay\n",
        "\n",
        "    def add_emp(self, emp):\n",
        "        if emp not in self.employees:\n",
        "            self.employees.append(emp)\n",
        "\n",
        "    def remove_emp(self, emp):\n",
        "        if emp in self.employees:\n",
        "            self.employees.remove(emp)\n",
        "\n",
        "    def print_emps(self):\n",
        "        for emp in self.employees:\n",
        "            print('-->', emp.fullname())\n",
        "\n",
        "# Creating instances\n",
        "dev_1 = Developer('Coree', 'Shyam', 50000, 'Python')\n",
        "dev_2 = Developer('Test', 'Employee', 60000, 'Java')\n",
        "\n",
        "mgr_1 = Manager('Shyam', 'Smith', 90000, [dev_1])\n",
        "\n",
        "print(mgr_1.email)\n",
        "\n",
        "mgr_1.add_emp(dev_2)\n",
        "mgr_1.print_emps()\n",
        "\n",
        "# Demonstrating data abstraction\n",
        "print(dev_1.fullname())  # Output: Coree Shyam\n",
        "print(dev_1.apply_raise())  # Output: 55000\n",
        "\n",
        "print(mgr_1.fullname())  # Output: Shyam Smith\n",
        "print(mgr_1.apply_raise())  # Output: 108000\n"
      ]
    },
    {
      "cell_type": "markdown",
      "id": "RuQOnEN8LPWc",
      "metadata": {
        "id": "RuQOnEN8LPWc"
      },
      "source": [
        "**Data hidin**g is a concept used to restrict access to certain details of an object, essentially hiding its internal state and requiring all interactions to occur through an object's methods. In Python, data hiding can be achieved using private attributes and methods, which are indicated by prefixing the name with a double underscore __."
      ]
    },
    {
      "cell_type": "code",
      "execution_count": null,
      "id": "evI3CoklLL4A",
      "metadata": {
        "colab": {
          "base_uri": "https://localhost:8080/"
        },
        "id": "evI3CoklLL4A",
        "outputId": "c226dfbf-e989-4ba5-c041-34a1dcbe827f"
      },
      "outputs": [
        {
          "name": "stdout",
          "output_type": "stream",
          "text": [
            "120\n"
          ]
        }
      ],
      "source": [
        "class Account:\n",
        "    def __init__(self, owner, balance=0):\n",
        "        self.owner = owner\n",
        "        self.__balance = balance  # Private attribute\n",
        "\n",
        "    def deposit(self, amount):\n",
        "        self.__balance += amount\n",
        "\n",
        "    def withdraw(self, amount):\n",
        "        if amount <= self.__balance:\n",
        "            self.__balance -= amount\n",
        "        else:\n",
        "            print(\"Insufficient funds!\")\n",
        "\n",
        "    def get_balance(self):\n",
        "        return self.__balance\n",
        "\n",
        "# Creating an account\n",
        "acct = Account('John Doe', 100)\n",
        "acct.deposit(50)\n",
        "acct.withdraw(30)\n",
        "print(acct.get_balance())  # Output: 120\n",
        "\n",
        "# Trying to access the private attribute directly will raise an AttributeError\n",
        "# print(acct.__balance)  # Uncommenting this line will raise an AttributeError\n"
      ]
    },
    {
      "cell_type": "code",
      "execution_count": null,
      "id": "GnAmxt72LTUW",
      "metadata": {
        "colab": {
          "base_uri": "https://localhost:8080/"
        },
        "id": "GnAmxt72LTUW",
        "outputId": "eb083c82-c5cb-4882-eee1-0d3b45b2a2c4"
      },
      "outputs": [
        {
          "output_type": "stream",
          "name": "stdout",
          "text": [
            "Suman Smith\n",
            "--> Coree Shyam\n",
            "--> Test Employee\n"
          ]
        }
      ],
      "source": [
        "class Employee:\n",
        "    def __init__(self, first, last, pay):\n",
        "        self.first = first\n",
        "        self.last = last\n",
        "        self.__pay = pay  # Private attribute\n",
        "\n",
        "    def fullname(self):\n",
        "        return '{} {}'.format(self.first, self.last)\n",
        "\n",
        "    def get_pay(self):\n",
        "        return self.__pay\n",
        "\n",
        "    def apply_raise(self, raise_amt):\n",
        "        self.__pay = int(self.__pay * raise_amt)\n",
        "        return self.__pay\n",
        "\n",
        "class Developer(Employee):\n",
        "    def __init__(self, first, last, pay, prog_lang):\n",
        "        super().__init__(first, last, pay)\n",
        "        self.prog_lang = prog_lang\n",
        "\n",
        "class Manager(Employee):\n",
        "    def __init__(self, first, last, pay, employees=None):\n",
        "        super().__init__(first, last, pay)\n",
        "        if employees is None:\n",
        "            self.__employees = []  # Private attribute\n",
        "        else:\n",
        "            self.__employees = employees\n",
        "\n",
        "    def add_emp(self, emp):\n",
        "        if emp not in self.__employees:\n",
        "            self.__employees.append(emp)\n",
        "\n",
        "    def remove_emp(self, emp):\n",
        "        if emp in self.__employees:\n",
        "            self.__employees.remove(emp)\n",
        "\n",
        "    def print_emps(self):\n",
        "        for emp in self.__employees:\n",
        "            print('-->', emp.fullname())\n",
        "\n",
        "# Creating instances\n",
        "dev_1 = Developer('Coree', 'Shyam', 50000, 'Python')\n",
        "dev_2 = Developer('Test', 'Employee', 60000, 'Java')\n",
        "\n",
        "mgr_1 = Manager('Suman', 'Smith', 90000, [dev_1])\n",
        "\n",
        "# Demonstrating data hiding\n",
        "print(mgr_1.fullname())  # Output: Sue Smith\n",
        "mgr_1.add_emp(dev_2)\n",
        "mgr_1.print_emps()\n",
        "# Output:\n",
        "# --> Corey Schafer\n",
        "# --> Test Employee\n",
        "\n",
        "# Trying to access the private attribute directly will raise an AttributeError\n",
        "# print(mgr_1.__employees)  # Uncommenting this line will raise an AttributeError\n"
      ]
    },
    {
      "cell_type": "markdown",
      "id": "nIy1XrdHLpTB",
      "metadata": {
        "id": "nIy1XrdHLpTB"
      },
      "source": [
        "**Generators** are a special type of iterator in Python that allows you to iterate through a sequence of values. They are defined using functions and the yield statement. Generators provide an efficient way to generate values on the fly without storing the entire sequence in memory."
      ]
    },
    {
      "cell_type": "code",
      "execution_count": null,
      "id": "Q-j7KsbeLkxH",
      "metadata": {
        "colab": {
          "base_uri": "https://localhost:8080/"
        },
        "id": "Q-j7KsbeLkxH",
        "outputId": "1224ec18-3047-4b3e-ee6b-e49416cf3592"
      },
      "outputs": [
        {
          "name": "stdout",
          "output_type": "stream",
          "text": [
            "1\n",
            "2\n",
            "3\n",
            "4\n",
            "5\n"
          ]
        }
      ],
      "source": [
        "# Basic generator function\n",
        "def count_up_to(max):\n",
        "    count = 1\n",
        "    while count <= max:\n",
        "        yield count\n",
        "        count += 1\n",
        "\n",
        "# Create a generator object\n",
        "counter = count_up_to(5)\n",
        "\n",
        "# Iterate through the generator\n",
        "for number in counter:\n",
        "    print(number)\n",
        "# Output:\n",
        "# 1\n",
        "# 2\n",
        "# 3\n",
        "# 4\n",
        "# 5\n"
      ]
    },
    {
      "cell_type": "code",
      "execution_count": null,
      "id": "OAaeZ1DBLtr2",
      "metadata": {
        "colab": {
          "base_uri": "https://localhost:8080/"
        },
        "id": "OAaeZ1DBLtr2",
        "outputId": "860b1387-d4a6-4ad3-e017-f507f1d3cb39"
      },
      "outputs": [
        {
          "name": "stdout",
          "output_type": "stream",
          "text": [
            "0\n",
            "1\n",
            "1\n",
            "2\n",
            "3\n",
            "5\n",
            "8\n",
            "13\n",
            "21\n",
            "34\n"
          ]
        }
      ],
      "source": [
        "# Complex generator function to generate Fibonacci numbers\n",
        "def fibonacci():\n",
        "    a, b = 0, 1\n",
        "    while True:\n",
        "        yield a\n",
        "        a, b = b, a + b\n",
        "\n",
        "# Create a generator object\n",
        "fib_gen = fibonacci()\n",
        "\n",
        "# Print the first 10 Fibonacci numbers\n",
        "for _ in range(10):\n",
        "    print(next(fib_gen))\n",
        "# Output:\n",
        "# 0\n",
        "# 1\n",
        "# 1\n",
        "# 2\n",
        "# 3\n",
        "# 5\n",
        "# 8\n",
        "# 13\n",
        "# 21\n",
        "# 34\n"
      ]
    },
    {
      "cell_type": "code",
      "execution_count": null,
      "id": "DNCpXv7mL2u3",
      "metadata": {
        "colab": {
          "base_uri": "https://localhost:8080/"
        },
        "id": "DNCpXv7mL2u3",
        "outputId": "578ffb72-e6b7-4bf3-9725-0433484d0cc9"
      },
      "outputs": [
        {
          "name": "stdout",
          "output_type": "stream",
          "text": [
            "1\n",
            "2\n",
            "3\n",
            "a\n",
            "b\n",
            "c\n"
          ]
        }
      ],
      "source": [
        "# Generator to yield numbers from a list\n",
        "def numbers():\n",
        "    yield from [1, 2, 3]\n",
        "\n",
        "# Generator to yield letters from a list\n",
        "def letters():\n",
        "    yield from ['a', 'b', 'c']\n",
        "\n",
        "# Combined generator using 'yield from'\n",
        "def combined():\n",
        "    yield from numbers()\n",
        "    yield from letters()\n",
        "\n",
        "# Create a generator object\n",
        "combined_gen = combined()\n",
        "\n",
        "# Iterate through the combined generator\n",
        "for item in combined_gen:\n",
        "    print(item)\n",
        "# Output:\n",
        "# 1\n",
        "# 2\n",
        "# 3\n",
        "# a\n",
        "# b\n",
        "# c\n"
      ]
    },
    {
      "cell_type": "code",
      "execution_count": null,
      "id": "qr-u1d8sn5oQ",
      "metadata": {
        "colab": {
          "base_uri": "https://localhost:8080/"
        },
        "id": "qr-u1d8sn5oQ",
        "outputId": "b19584f3-c2c4-463c-8fba-d7bcda27d37c"
      },
      "outputs": [
        {
          "name": "stdout",
          "output_type": "stream",
          "text": [
            "1\n",
            "2\n",
            "3\n",
            "4\n",
            "5\n"
          ]
        }
      ],
      "source": [
        "# Generators Example\n",
        "# Generators are a simple way to create iterators using a function that yields values one at a time.\n",
        "def count_up_to(max):\n",
        "    count = 1\n",
        "    while count <= max:\n",
        "        yield count\n",
        "        count += 1\n",
        "\n",
        "counter = count_up_to(5)\n",
        "for num in counter:\n",
        "    print(num)\n"
      ]
    },
    {
      "cell_type": "markdown",
      "id": "SxzZh40cMI9b",
      "metadata": {
        "id": "SxzZh40cMI9b"
      },
      "source": [
        "**Iterators** are objects that allow you to traverse through all the elements of a collection (like lists, tuples, or dictionaries). They implement two methods: __iter__() and __next__(). Here, we will explain iterators with both basic and more complex examples, along with comments in the code"
      ]
    },
    {
      "cell_type": "code",
      "execution_count": null,
      "id": "pTlBUtmNMKCA",
      "metadata": {
        "colab": {
          "base_uri": "https://localhost:8080/"
        },
        "id": "pTlBUtmNMKCA",
        "outputId": "f9807688-ece1-485e-932a-00d6e2792b63"
      },
      "outputs": [
        {
          "name": "stdout",
          "output_type": "stream",
          "text": [
            "1\n",
            "2\n",
            "3\n",
            "4\n",
            "5\n"
          ]
        }
      ],
      "source": [
        "# Define a simple iterator\n",
        "class Counter:\n",
        "    def __init__(self, low, high):\n",
        "        self.current = low\n",
        "        self.high = high\n",
        "\n",
        "    def __iter__(self):\n",
        "        return self\n",
        "\n",
        "    def __next__(self):\n",
        "        if self.current > self.high:\n",
        "            raise StopIteration\n",
        "        else:\n",
        "            self.current += 1\n",
        "            return self.current - 1\n",
        "\n",
        "# Create an instance of the iterator\n",
        "counter = Counter(1, 5)\n",
        "\n",
        "# Iterate through the Counter instance\n",
        "for number in counter:\n",
        "    print(number)\n",
        "# Output:\n",
        "# 1\n",
        "# 2\n",
        "# 3\n",
        "# 4\n",
        "# 5\n"
      ]
    },
    {
      "cell_type": "code",
      "execution_count": null,
      "id": "nKr9vWNcMckS",
      "metadata": {
        "colab": {
          "base_uri": "https://localhost:8080/"
        },
        "id": "nKr9vWNcMckS",
        "outputId": "703eecd1-df8f-44d6-8037-be5e94cd002c"
      },
      "outputs": [
        {
          "name": "stdout",
          "output_type": "stream",
          "text": [
            "1\n",
            "2\n",
            "3\n"
          ]
        }
      ],
      "source": [
        "# Define a list\n",
        "numbers = [1, 2, 3, 4, 5]\n",
        "\n",
        "# Get an iterator from the list\n",
        "numbers_iter = iter(numbers)\n",
        "\n",
        "# Use the next() function to get elements from the iterator\n",
        "print(next(numbers_iter))  # Output: 1\n",
        "print(next(numbers_iter))  # Output: 2\n",
        "print(next(numbers_iter))  # Output: 3\n"
      ]
    },
    {
      "cell_type": "code",
      "execution_count": null,
      "id": "cUFlHMleMSU3",
      "metadata": {
        "colab": {
          "base_uri": "https://localhost:8080/"
        },
        "id": "cUFlHMleMSU3",
        "outputId": "48972445-02d0-4011-a591-bae16441a5fb"
      },
      "outputs": [
        {
          "name": "stdout",
          "output_type": "stream",
          "text": [
            "1\n",
            "2\n",
            "3\n"
          ]
        }
      ],
      "source": [
        "# Define a custom data structure and an iterator for it\n",
        "class Node:\n",
        "    def __init__(self, value):\n",
        "        self.value = value\n",
        "        self.next = None\n",
        "\n",
        "class LinkedList:\n",
        "    def __init__(self):\n",
        "        self.head = None\n",
        "\n",
        "    def append(self, value):\n",
        "        new_node = Node(value)\n",
        "        if not self.head:\n",
        "            self.head = new_node\n",
        "        else:\n",
        "            current = self.head\n",
        "            while current.next:\n",
        "                current = current.next\n",
        "            current.next = new_node\n",
        "\n",
        "    def __iter__(self):\n",
        "        return LinkedListIterator(self.head)\n",
        "\n",
        "class LinkedListIterator:\n",
        "    def __init__(self, start_node):\n",
        "        self.current_node = start_node\n",
        "\n",
        "    def __iter__(self):\n",
        "        return self\n",
        "\n",
        "    def __next__(self):\n",
        "        if self.current_node:\n",
        "            value = self.current_node.value\n",
        "            self.current_node = self.current_node.next\n",
        "            return value\n",
        "        else:\n",
        "            raise StopIteration\n",
        "\n",
        "# Create a linked list and append some values\n",
        "linked_list = LinkedList()\n",
        "linked_list.append(1)\n",
        "linked_list.append(2)\n",
        "linked_list.append(3)\n",
        "\n",
        "# Iterate through the linked list using the iterator\n",
        "for value in linked_list:\n",
        "    print(value)\n",
        "# Output:\n",
        "# 1\n",
        "# 2\n",
        "# 3\n"
      ]
    },
    {
      "cell_type": "code",
      "execution_count": null,
      "id": "vl5KUM1woDuC",
      "metadata": {
        "colab": {
          "base_uri": "https://localhost:8080/"
        },
        "id": "vl5KUM1woDuC",
        "outputId": "24911eb1-477c-45e3-e89b-198bcfe8f2f7"
      },
      "outputs": [
        {
          "name": "stdout",
          "output_type": "stream",
          "text": [
            "1\n",
            "2\n",
            "3\n",
            "4\n"
          ]
        }
      ],
      "source": [
        "# Iterators Example\n",
        "# Iterators are objects that allow traversing through all the elements of a collection.\n",
        "class MyRange:\n",
        "    def __init__(self, start, end):\n",
        "        self.current = start\n",
        "        self.end = end\n",
        "\n",
        "    def __iter__(self):\n",
        "        return self\n",
        "\n",
        "    def __next__(self):\n",
        "        if self.current >= self.end:\n",
        "            raise StopIteration\n",
        "        else:\n",
        "            self.current += 1\n",
        "            return self.current - 1\n",
        "\n",
        "my_range = MyRange(1, 5)\n",
        "for num in my_range:\n",
        "    print(num)\n"
      ]
    },
    {
      "cell_type": "markdown",
      "id": "pCzKmKjIwoVZ",
      "metadata": {
        "id": "pCzKmKjIwoVZ"
      },
      "source": [
        "Classes as User Defined Data Type"
      ]
    },
    {
      "cell_type": "code",
      "execution_count": null,
      "id": "yEY5-D7Orpk9",
      "metadata": {
        "colab": {
          "base_uri": "https://localhost:8080/"
        },
        "id": "yEY5-D7Orpk9",
        "outputId": "9616c550-3af5-4864-9c30-01501c89df9c"
      },
      "outputs": [
        {
          "name": "stdout",
          "output_type": "stream",
          "text": [
            "The Great Gatsby by F. Scott Fitzgerald (1925)\n",
            "Book('To Kill a Mockingbird', 'Harper Lee', 1960)\n",
            "[Book('The Great Gatsby', 'F. Scott Fitzgerald', 1925), Book('To Kill a Mockingbird', 'Harper Lee', 1960)]\n"
          ]
        }
      ],
      "source": [
        "# We define a Book class with an __init__ method that initializes the title, author, and year attributes.\n",
        "\n",
        "# The __str__ method is a special method that defines how the object should be represented as a string when printed.\n",
        "\n",
        "# The __repr__ method is another special method that defines how the object should be represented as a string when used in expressions or when the repr() function is called on it.\n",
        "\n",
        "# We create two instances (objects) of the Book class: book1 and book2.\n",
        "\n",
        "# We use the print function to display the string representation of book1 and the repr representation of book2.\n",
        "\n",
        "# We create a list book_list that contains the book1 and book2 objects, demonstrating that objects can be used as user-defined data types in data structures like lists.\n",
        "\n",
        "\n",
        "\n",
        "\n",
        "class Book:\n",
        "    def __init__(self, title, author, year):\n",
        "        self.title = title\n",
        "        self.author = author\n",
        "        self.year = year\n",
        "\n",
        "    def __str__(self):\n",
        "        return f\"{self.title} by {self.author} ({self.year})\"\n",
        "\n",
        "    def __repr__(self):\n",
        "        return f\"Book('{self.title}', '{self.author}', {self.year})\"\n",
        "\n",
        "# Creating instances (objects) of the Book class\n",
        "book1 = Book(\"The Great Gatsby\", \"F. Scott Fitzgerald\", 1925)\n",
        "book2 = Book(\"To Kill a Mockingbird\", \"Harper Lee\", 1960)\n",
        "\n",
        "# Using objects as user-defined data types\n",
        "print(book1)  # Output: The Great Gatsby by F. Scott Fitzgerald (1925)\n",
        "print(repr(book2))  # Output: Book('To Kill a Mockingbird', 'Harper Lee', 1960)\n",
        "\n",
        "# Creating a list of Book objects\n",
        "book_list = [book1, book2]\n",
        "print(book_list)  # Output: [Book('The Great Gatsby', 'F. Scott Fitzgerald', 1925), Book('To Kill a Mockingbird', 'Harper Lee', 1960)]"
      ]
    },
    {
      "cell_type": "code",
      "execution_count": null,
      "id": "_yiiRGEzhq91",
      "metadata": {
        "id": "_yiiRGEzhq91"
      },
      "outputs": [],
      "source": [
        "# Variables & Methods\n",
        "# Variables\n",
        "# In a class, you can have two types of variables:\n",
        "\n",
        "# Instance Variables: Variables that are unique to each instance.\n",
        "# Class Variables: Variables that are shared among all instances.\n",
        "# Methods\n",
        "# # Methods are functions defined within a class and are used to define the behaviors of the objects"
      ]
    },
    {
      "cell_type": "code",
      "execution_count": null,
      "id": "bRzp8Ravh0w8",
      "metadata": {
        "colab": {
          "base_uri": "https://localhost:8080/"
        },
        "id": "bRzp8Ravh0w8",
        "outputId": "d150f255-e909-413d-a55d-f281adf57ac0"
      },
      "outputs": [
        {
          "name": "stdout",
          "output_type": "stream",
          "text": [
            "Name: John, Grade: A, School: ABC High School\n",
            "Name: Jane, Grade: B, School: ABC High School\n",
            "Name: John, Grade: A, School: XYZ High School\n",
            "Name: Jane, Grade: B, School: XYZ High School\n"
          ]
        }
      ],
      "source": [
        "# Methods\n",
        "# Methods are functions defined within a class and are used to define the behaviors of the objects.\n",
        "\n",
        "\n",
        "# Class with instance variables, class variables, and methods\n",
        "class Student:\n",
        "    # Class variable\n",
        "    school_name = \"ABC High School\"\n",
        "\n",
        "    def __init__(self, name, grade):\n",
        "        # Instance variables\n",
        "        self.name = name\n",
        "        self.grade = grade\n",
        "\n",
        "    # Instance method\n",
        "    def get_student_info(self):\n",
        "        return f\"Name: {self.name}, Grade: {self.grade}, School: {Student.school_name}\"\n",
        "\n",
        "    # Class method\n",
        "    @classmethod\n",
        "    def change_school(cls, new_school_name):\n",
        "        cls.school_name = new_school_name\n",
        "\n",
        "# Creating objects\n",
        "student1 = Student(\"John\", \"A\")\n",
        "student2 = Student(\"Jane\", \"B\")\n",
        "\n",
        "print(student1.get_student_info())  # Output: Name: John, Grade: A, School: ABC High School\n",
        "print(student2.get_student_info())  # Output: Name: Jane, Grade: B, School: ABC High School\n",
        "\n",
        "# Changing the class variable using a class method\n",
        "Student.change_school(\"XYZ High School\")\n",
        "print(student1.get_student_info())  # Output: Name: John, Grade: A, School: XYZ High School\n",
        "print(student2.get_student_info())  # Output: Name: Jane, Grade: B, School: XYZ High School\n"
      ]
    },
    {
      "cell_type": "markdown",
      "id": "xaS6qeHxxkd1",
      "metadata": {
        "id": "xaS6qeHxxkd1"
      },
      "source": [
        "**Creating Objects By Passing(Values)**"
      ]
    },
    {
      "cell_type": "code",
      "execution_count": null,
      "id": "SBBVRMUaxfxI",
      "metadata": {
        "colab": {
          "base_uri": "https://localhost:8080/"
        },
        "id": "SBBVRMUaxfxI",
        "outputId": "84b0fff5-3078-4cea-c18e-bdd6748155ea"
      },
      "outputs": [
        {
          "name": "stdout",
          "output_type": "stream",
          "text": [
            "Car 1: Toyota Camry (2023)\n",
            "Car 2: Honda Civic (2022)\n"
          ]
        }
      ],
      "source": [
        "# Class definition\n",
        "class Car:\n",
        "  def __init__(self, make, model, year):  # Constructor\n",
        "    self.make = make\n",
        "    self.model = model\n",
        "    self.year = year\n",
        "\n",
        "# Create objects (passing values during construction)\n",
        "car1 = Car(\"Toyota\", \"Camry\", 2023)\n",
        "car2 = Car(\"Honda\", \"Civic\", 2022)\n",
        "\n",
        "print(f\"Car 1: {car1.make} {car1.model} ({car1.year})\")\n",
        "print(f\"Car 2: {car2.make} {car2.model} ({car2.year})\")\n"
      ]
    },
    {
      "cell_type": "code",
      "execution_count": null,
      "id": "W76ebFH-iwRl",
      "metadata": {
        "colab": {
          "base_uri": "https://localhost:8080/"
        },
        "id": "W76ebFH-iwRl",
        "outputId": "d0bdd800-1fec-465e-e009-093f710d7de9"
      },
      "outputs": [
        {
          "name": "stdout",
          "output_type": "stream",
          "text": [
            "'To Kill a Mockingbird' by Harper Lee (1960)\n",
            "'1984' by George Orwell (1949)\n"
          ]
        }
      ],
      "source": [
        "# Creating Objects By Passing Values\n",
        "# When creating an object, values can be passed to the __init__ method to initialize the object's attributes.\n",
        "\n",
        "\n",
        "# Class definition\n",
        "class Book:\n",
        "    def __init__(self, title, author, year):\n",
        "        self.title = title\n",
        "        self.author = author\n",
        "        self.year = year\n",
        "\n",
        "    def get_details(self):\n",
        "        return f\"'{self.title}' by {self.author} ({self.year})\"\n",
        "\n",
        "# Creating objects by passing values\n",
        "book1 = Book(\"To Kill a Mockingbird\", \"Harper Lee\", 1960)\n",
        "book2 = Book(\"1984\", \"George Orwell\", 1949)\n",
        "\n",
        "print(book1.get_details())  # Output: 'To Kill a Mockingbird' by Harper Lee (1960)\n",
        "print(book2.get_details())  # Output: '1984' by George Orwell (1949)\n"
      ]
    },
    {
      "cell_type": "code",
      "execution_count": null,
      "id": "CcscJ9rqvv08",
      "metadata": {
        "colab": {
          "base_uri": "https://localhost:8080/"
        },
        "id": "CcscJ9rqvv08",
        "outputId": "8ba2c4db-0225-4ba0-f52b-096ff2efca67"
      },
      "outputs": [
        {
          "name": "stdout",
          "output_type": "stream",
          "text": [
            "Name :-  Asif\n",
            "Employee ID :-  34163\n",
            "Thanks for joining ABC Company Asif!!\n"
          ]
        }
      ],
      "source": [
        " # Create an employee class\n",
        "class Employee:\n",
        "  def __init__(self, name, empid): # __init__() function is used to assign values\n",
        "    self.name = name\n",
        "    self.empid = empid\n",
        "  def greet(self): # Class Method\n",
        "    print(\"Thanks for joining ABC Company {}!!\".format(self.name))\n",
        "emp1 = Employee(\"Asif\", 34163) # Create an employee object\n",
        "print('Name :- ',emp1.name)\n",
        "print('Employee ID :- ',emp1.empid)\n",
        "emp1.greet()\n"
      ]
    },
    {
      "cell_type": "code",
      "execution_count": null,
      "id": "epblffUlwXin",
      "metadata": {
        "colab": {
          "base_uri": "https://localhost:8080/"
        },
        "id": "epblffUlwXin",
        "outputId": "5fa54e40-cc70-40bf-d44b-d08253fe2bea"
      },
      "outputs": [
        {
          "name": "stdout",
          "output_type": "stream",
          "text": [
            "Name: Ram, Grade: 9, Courses: ['Math']\n",
            "Name: Shyam, Grade: 10, Courses: []\n",
            "Name: Mohan, Grade: 11, Courses: ['Physics']\n"
          ]
        }
      ],
      "source": [
        "# We define a class called **Student** with a class attribute species\n",
        "\n",
        "# The __init__ method is a special method called the constructor, which initializes the object's attributes name and grade when an instance of the class is created\n",
        "# The **add_course** method appends a course to the courses list.\n",
        "\n",
        "# The **remove_course** method removes a course from the courses list.\n",
        "\n",
        "# We create three student instances with specific names and grades: ram, shyam, and mohan.\n",
        "\n",
        "# We add courses to the students using the add_course method.\n",
        "\n",
        "# We remove a course from shyam using the **remove_course** method.\n",
        "\n",
        "# Finally, we print the details of each student, including their name, grade, and the list of courses they are enrolled in.\n",
        "\n",
        "\n",
        "\n",
        "class Student:\n",
        "  # Constructor to initialize instance attributes\n",
        "    def __init__(self, name, grade):\n",
        "        self.name = name\n",
        "        self.grade = grade\n",
        "        self.courses = []\n",
        "\n",
        "    def add_course(self, course):\n",
        "        self.courses.append(course)\n",
        "\n",
        "    def remove_course(self, course):\n",
        "        self.courses.remove(course)\n",
        "\n",
        "# Create student instances # Instance method\n",
        "ram = Student(\"Ram\", 9)\n",
        "shyam = Student(\"Shyam\", 10)\n",
        "mohan = Student(\"Mohan\", 11)\n",
        "\n",
        "# Add courses to students\n",
        "ram.add_course(\"Math\")\n",
        "shyam.add_course(\"English\")\n",
        "mohan.add_course(\"Physics\")\n",
        "\n",
        "# Remove a course from a student\n",
        "shyam.remove_course(\"English\")\n",
        "\n",
        "# Print student details\n",
        "print(f\"Name: {ram.name}, Grade: {ram.grade}, Courses: {ram.courses}\")\n",
        "print(f\"Name: {shyam.name}, Grade: {shyam.grade}, Courses: {shyam.courses}\")\n",
        "print(f\"Name: {mohan.name}, Grade: {mohan.grade}, Courses: {mohan.courses}\")"
      ]
    },
    {
      "cell_type": "code",
      "execution_count": null,
      "id": "r9ewwWsrmK00",
      "metadata": {
        "colab": {
          "base_uri": "https://localhost:8080/"
        },
        "id": "r9ewwWsrmK00",
        "outputId": "82e28e34-633f-4e85-d117-0c2736a55678"
      },
      "outputs": [
        {
          "name": "stdout",
          "output_type": "stream",
          "text": [
            "Car Make: Toyota, Model: Camry\n",
            "Bike Make: Yamaha, Model: FZ\n",
            "Truck Make: Volvo, Model: FH16\n"
          ]
        }
      ],
      "source": [
        "# Base class\n",
        "class Vehicle:\n",
        "    def __init__(self, make, model):\n",
        "        self.make = make\n",
        "        self.model = model\n",
        "\n",
        "    def display_info(self):\n",
        "        raise NotImplementedError(\"Subclass must implement abstract method\")\n",
        "\n",
        "# Subclass of Vehicle\n",
        "class Car(Vehicle):\n",
        "    def display_info(self):\n",
        "        return f\"Car Make: {self.make}, Model: {self.model}\"\n",
        "\n",
        "# Subclass of Vehicle\n",
        "class Bike(Vehicle):\n",
        "    def display_info(self):\n",
        "        return f\"Bike Make: {self.make}, Model: {self.model}\"\n",
        "\n",
        "# Subclass of Vehicle\n",
        "class Truck(Vehicle):\n",
        "    def display_info(self):\n",
        "        return f\"Truck Make: {self.make}, Model: {self.model}\"\n",
        "\n",
        "# Creating objects of Car, Bike, and Truck\n",
        "my_car = Car(\"Toyota\", \"Camry\")\n",
        "my_bike = Bike(\"Yamaha\", \"FZ\")\n",
        "my_truck = Truck(\"Volvo\", \"FH16\")\n",
        "\n",
        "# Displaying information\n",
        "print(my_car.display_info())  # Output: Car Make: Toyota, Model: Camry\n",
        "print(my_bike.display_info())  # Output: Bike Make: Yamaha, Model: FZ\n",
        "print(my_truck.display_info())  # Output: Truck Make: Volvo, Model: FH16\n"
      ]
    },
    {
      "cell_type": "code",
      "execution_count": null,
      "id": "hKgCZqe9nRH_",
      "metadata": {
        "colab": {
          "base_uri": "https://localhost:8080/"
        },
        "id": "hKgCZqe9nRH_",
        "outputId": "2726b92d-8edb-4f82-8afe-ce42616d198d"
      },
      "outputs": [
        {
          "name": "stdout",
          "output_type": "stream",
          "text": [
            "1500\n"
          ]
        }
      ],
      "source": [
        "# Data Hiding Example\n",
        "# Data hiding is an OOP concept used to hide the internal object details.\n",
        "\n",
        "\n",
        "\n",
        "class BankAccount:\n",
        "    def __init__(self, balance):\n",
        "        self.__balance = balance  # Private attribute\n",
        "\n",
        "    def deposit(self, amount):\n",
        "        self.__balance += amount\n",
        "\n",
        "    def get_balance(self):\n",
        "        return self.__balance\n",
        "\n",
        "account = BankAccount(1000)\n",
        "account.deposit(500)\n",
        "print(account.get_balance())\n",
        "#print(account.__balance)# Raise Attribute error"
      ]
    },
    {
      "cell_type": "code",
      "execution_count": null,
      "id": "_NRdc5G4niPU",
      "metadata": {
        "colab": {
          "base_uri": "https://localhost:8080/"
        },
        "id": "_NRdc5G4niPU",
        "outputId": "01adb4f2-7ef0-4e02-be03-8eec1d333174"
      },
      "outputs": [
        {
          "name": "stdout",
          "output_type": "stream",
          "text": [
            "50000\n",
            "60000\n"
          ]
        }
      ],
      "source": [
        "# Encapsulation Example\n",
        "# Encapsulation is the bundling of data with the methods that operate on that data.\n",
        "\n",
        "\n",
        "\n",
        "class Employee:\n",
        "    def __init__(self, name, salary):\n",
        "        self.__name = name\n",
        "        self.__salary = salary\n",
        "\n",
        "    def set_salary(self, salary):\n",
        "        self.__salary = salary\n",
        "\n",
        "    def get_salary(self):\n",
        "        return self.__salary\n",
        "\n",
        "emp = Employee(\"John\", 50000)\n",
        "print(emp.get_salary())\n",
        "emp.set_salary(60000)\n",
        "print(emp.get_salary())\n"
      ]
    },
    {
      "cell_type": "code",
      "execution_count": null,
      "id": "HxHdbogVnpSI",
      "metadata": {
        "colab": {
          "base_uri": "https://localhost:8080/"
        },
        "id": "HxHdbogVnpSI",
        "outputId": "27dfc373-788d-4849-d085-881aa9d0bf39"
      },
      "outputs": [
        {
          "name": "stdout",
          "output_type": "stream",
          "text": [
            "Woof!\n"
          ]
        }
      ],
      "source": [
        "# Inheritance Example\n",
        "# Inheritance is a mechanism where a new class is derived from an existing class\n",
        "\n",
        "\n",
        "class Animal:\n",
        "    def __init__(self, name):\n",
        "        self.name = name\n",
        "\n",
        "    def speak(self):\n",
        "        return \"hy\"\n",
        "\n",
        "class Dog(Animal):\n",
        "    def speak(self):\n",
        "        return \"Woof!\"\n",
        "\n",
        "dog = Dog(\"Buddy\")\n",
        "print(dog.speak())\n"
      ]
    },
    {
      "cell_type": "code",
      "execution_count": null,
      "id": "RsrCxQwmnuzn",
      "metadata": {
        "colab": {
          "base_uri": "https://localhost:8080/"
        },
        "id": "RsrCxQwmnuzn",
        "outputId": "b4b7d203-375a-485e-9423-b381462edf0f"
      },
      "outputs": [
        {
          "name": "stdout",
          "output_type": "stream",
          "text": [
            "Woof!\n",
            "Meow!\n"
          ]
        }
      ],
      "source": [
        "# Polymorphism Example\n",
        "# Polymorphism allows methods to do different things based on the object it is acting upon.\n",
        "class Cat(Animal):\n",
        "    def speak(self):\n",
        "        return \"Meow!\"\n",
        "\n",
        "animals = [Dog(\"Buddy\"), Cat(\"Whiskers\")]\n",
        "\n",
        "for animal in animals:\n",
        "    print(animal.speak())\n"
      ]
    },
    {
      "cell_type": "code",
      "execution_count": null,
      "id": "cvK5vPycWh5Y",
      "metadata": {
        "colab": {
          "base_uri": "https://localhost:8080/"
        },
        "id": "cvK5vPycWh5Y",
        "outputId": "411b86e1-601b-4866-f133-831b6b613c6c"
      },
      "outputs": [
        {
          "name": "stdout",
          "output_type": "stream",
          "text": [
            "True\n",
            "False\n"
          ]
        }
      ],
      "source": [
        "class Vehicle:\n",
        "    wheels = 4  # class variable\n",
        "\n",
        "    def __init__(self, color):\n",
        "        self.color = color  # instance variable\n",
        "\n",
        "    def honk(self):\n",
        "        print(\"Honk!\")\n",
        "\n",
        "class Car(Vehicle):\n",
        "    def __init__(self, color, brand):\n",
        "        super().__init__(color)\n",
        "        self.brand = brand\n",
        "\n",
        "    def start_engine(self):\n",
        "        print(\"Vroom!\")\n",
        "\n",
        "my_car = Car(\"Red\", \"Toyota\")\n",
        "\n",
        "\n",
        "# Checking if my_car is an instance of Car and Vehicle\n",
        "# print(isinstance(my_car, Car))  # True\n",
        "# print(not isinstance( my_car, Car))\n",
        "\n",
        "# # # # # Checking if wheels is a class variable\n",
        "# print(\"wheels\" in Vehicle.__dict__)\n",
        "# # print(Vehicle.__dict__)\n",
        "\n",
        "\n",
        "# # # # Checking if color is an instance variable\n",
        "# print(hasattr(my_car, \"color\"))\n",
        "# print(hasattr(Vehicle, \"color\"))\n",
        "\n",
        "# # # # Checking if Car inherits from Vehicle\n",
        "# print(issubclass(Car, Vehicle))  # True\n",
        "# print(Car in Car.__bases__)\n",
        "\n",
        "# # # Checking if Car is a class\n",
        "print(type(Vehicle) == type)\n",
        "print(issubclass(Car, type))\n",
        "# print(hasattr(Car, \"__bases__\"))\n",
        "\n"
      ]
    },
    {
      "cell_type": "code",
      "execution_count": null,
      "id": "RIdlnqYwWi4V",
      "metadata": {
        "colab": {
          "base_uri": "https://localhost:8080/"
        },
        "id": "RIdlnqYwWi4V",
        "outputId": "01ffb1b2-a7dd-4652-c475-0365410f0d3c"
      },
      "outputs": [
        {
          "name": "stdout",
          "output_type": "stream",
          "text": [
            "There are many types of birds.\n",
            "Most of the birds can fly but some cannot.\n",
            "Some birds can fly at 10 speed.\n",
            "There are many types of birds.\n",
            "Sparrows can fly.\n",
            "Sparrows can fly at 20 speed.\n",
            "There are many types of birds.\n",
            "Ostriches cannot fly.\n",
            "Ostriches cannot fly but can run at 50 speed.\n"
          ]
        }
      ],
      "source": [
        "class Bird:\n",
        "    def intro(self):\n",
        "        print(\"There are many types of birds.\")\n",
        "\n",
        "    def flight(self, speed=None):\n",
        "        if speed is not None:\n",
        "            print(f\"Some birds can fly at {speed} speed.\")\n",
        "        else:\n",
        "            print(\"Most of the birds can fly but some cannot.\")\n",
        "\n",
        "class Sparrow(Bird):\n",
        "    def flight(self, speed=None):\n",
        "        if speed is not None:\n",
        "            print(f\"Sparrows can fly at {speed} speed.\")\n",
        "        else:\n",
        "            print(\"Sparrows can fly.\")\n",
        "\n",
        "class Ostrich(Bird):\n",
        "    def flight(self, speed=None):\n",
        "        if speed is not None:\n",
        "            print(f\"Ostriches cannot fly but can run at {speed} speed.\")\n",
        "        else:\n",
        "            print(\"Ostriches cannot fly.\")\n",
        "\n",
        "# Create instances of each class\n",
        "obj_bird = Bird()\n",
        "obj_sparrow = Sparrow()\n",
        "obj_ostrich = Ostrich()\n",
        "\n",
        "# Call methods on Bird instance\n",
        "obj_bird.intro()\n",
        "obj_bird.flight()\n",
        "obj_bird.flight(10)\n",
        "\n",
        "# Call methods on Sparrow instance\n",
        "obj_sparrow.intro()\n",
        "obj_sparrow.flight()\n",
        "obj_sparrow.flight(20)\n",
        "\n",
        "# Call methods on Ostrich instance\n",
        "obj_ostrich.intro()\n",
        "obj_ostrich.flight()\n",
        "obj_ostrich.flight(50)"
      ]
    },
    {
      "cell_type": "markdown",
      "id": "GR6Yi37NNQu-",
      "metadata": {
        "id": "GR6Yi37NNQu-"
      },
      "source": [
        "The open() function is used to open a file. It requires two arguments: the file name and the mode (e.g., read, write)"
      ]
    },
    {
      "cell_type": "code",
      "execution_count": null,
      "id": "_kMKdDFw7JaB",
      "metadata": {
        "colab": {
          "base_uri": "https://localhost:8080/"
        },
        "id": "_kMKdDFw7JaB",
        "outputId": "acfcdf34-783d-4a52-b591-980cfe3b8d8d"
      },
      "outputs": [
        {
          "name": "stdout",
          "output_type": "stream",
          "text": [
            "Mounted at /content/drive\n"
          ]
        }
      ],
      "source": [
        "from google.colab import drive\n",
        "drive.mount('/content/drive')\n"
      ]
    },
    {
      "cell_type": "code",
      "execution_count": null,
      "id": "UkjWKeHn6d1W",
      "metadata": {
        "colab": {
          "base_uri": "https://localhost:8080/"
        },
        "id": "UkjWKeHn6d1W",
        "outputId": "c85d070f-3cd5-4049-9777-d7a84b308c08"
      },
      "outputs": [
        {
          "name": "stdout",
          "output_type": "stream",
          "text": [
            "Wellcoem to Cetpa trainning company\n"
          ]
        }
      ],
      "source": [
        "# file = 'https://drive.google.com/drive/u/0/home/sundarpichai.txt'\n",
        "# file.read()\n",
        "file = open('sundarpichai.txt', 'r')\n",
        "content =  file.read()\n",
        "print(content)"
      ]
    },
    {
      "cell_type": "code",
      "execution_count": null,
      "id": "xH18WvQH9qT6",
      "metadata": {
        "colab": {
          "base_uri": "https://localhost:8080/"
        },
        "id": "xH18WvQH9qT6",
        "outputId": "34f7e0c8-8c42-4863-edb5-276cae4adf50"
      },
      "outputs": [
        {
          "data": {
            "text/plain": [
              "45"
            ]
          },
          "execution_count": 29,
          "metadata": {},
          "output_type": "execute_result"
        }
      ],
      "source": [
        "content = open('sundarpichai.txt', 'w')\n",
        "content.write(\"Wellcoem to Cetpa trainning company,Very nice\")"
      ]
    },
    {
      "cell_type": "code",
      "execution_count": null,
      "id": "EMlOqxn1-IpN",
      "metadata": {
        "colab": {
          "base_uri": "https://localhost:8080/"
        },
        "id": "EMlOqxn1-IpN",
        "outputId": "d50fc8ee-673d-42bb-d910-e01de22b15bc"
      },
      "outputs": [
        {
          "name": "stdout",
          "output_type": "stream",
          "text": [
            "Wellcoem to Cetpa trainning company,Very nice\n"
          ]
        }
      ],
      "source": [
        "content = open('sundarpichai.txt', 'r')\n",
        "file = content.read()\n",
        "print(file)"
      ]
    },
    {
      "cell_type": "code",
      "execution_count": null,
      "id": "hKmcUN9P_J0b",
      "metadata": {
        "colab": {
          "base_uri": "https://localhost:8080/"
        },
        "id": "hKmcUN9P_J0b",
        "outputId": "0715bba6-01bb-4057-a132-e973e6c3b686"
      },
      "outputs": [
        {
          "name": "stdout",
          "output_type": "stream",
          "text": [
            "22\n",
            "Wellcoem to Cetpa trainning company,Very niceThis is appended text.This is appended text.This is appended text.This is appended text.This is appended text.\n"
          ]
        }
      ],
      "source": [
        "file = open('sundarpichai.txt','a')\n",
        "# f = open(\"your_file.txt\", \"a\")\n",
        "\n",
        "# Other tool append binary file read/write\n",
        "# Append to the file, for example:\n",
        "t = file.write(\"This is appended text.\")\n",
        "print(t)\n",
        "content = open('sundarpichai.txt', 'r')\n",
        "file = content.read()\n",
        "print(file)"
      ]
    },
    {
      "cell_type": "code",
      "execution_count": null,
      "id": "Z8fXPlVeA5F3",
      "metadata": {
        "colab": {
          "base_uri": "https://localhost:8080/"
        },
        "id": "Z8fXPlVeA5F3",
        "outputId": "f0c0bc7b-eb35-4e5a-f85a-59c8230801c0"
      },
      "outputs": [
        {
          "name": "stdout",
          "output_type": "stream",
          "text": [
            "b'\\\\x00\\\\x01\\\\x02\\\\x03\\\\x04\\\\x05\\\\x06\\\\x07\\\\x08\\\\x09'\n"
          ]
        }
      ],
      "source": [
        "# file = open('/content/example.bin','rb')\n",
        "# content = file.read()\n",
        "# print(content)"
      ]
    },
    {
      "cell_type": "markdown",
      "id": "ZGJwXtZrNVjr",
      "metadata": {
        "id": "ZGJwXtZrNVjr"
      },
      "source": [
        "You can write to a file using the write() and writelines() methods"
      ]
    },
    {
      "cell_type": "code",
      "execution_count": null,
      "id": "rH6n2cOWNXxD",
      "metadata": {
        "id": "rH6n2cOWNXxD"
      },
      "outputs": [],
      "source": [
        "# Open a file in write mode\n",
        "file = open('example.txt', 'w')\n",
        "\n",
        "# Write a single string to the file\n",
        "file.write('Hello, World!\\n')\n",
        "\n",
        "# Write multiple lines to the file\n",
        "lines = ['First line\\n', 'Second line\\n', 'Third line\\n']\n",
        "file.writelines(lines)\n",
        "\n",
        "# Close the file\n",
        "file.close()\n"
      ]
    },
    {
      "cell_type": "markdown",
      "id": "qTcTvF7FNb3C",
      "metadata": {
        "id": "qTcTvF7FNb3C"
      },
      "source": [
        "You can append data to the end of a file using the a mode."
      ]
    },
    {
      "cell_type": "code",
      "execution_count": null,
      "id": "6kuan7fQNgym",
      "metadata": {
        "id": "6kuan7fQNgym"
      },
      "outputs": [],
      "source": [
        "# Open a file in append mode\n",
        "file = open('example.txt', 'a')\n",
        "\n",
        "# Append a single string to the file\n",
        "file.write('This is an appended line.\\n')\n",
        "\n",
        "# Append multiple lines to the file\n",
        "more_lines = ['Appended line 1\\n', 'Appended line 2\\n']\n",
        "file.writelines(more_lines)\n",
        "\n",
        "# Close the file\n",
        "file.close()\n"
      ]
    },
    {
      "cell_type": "code",
      "execution_count": null,
      "id": "kSjIqzFXjZ3l",
      "metadata": {
        "colab": {
          "base_uri": "https://localhost:8080/"
        },
        "id": "kSjIqzFXjZ3l",
        "outputId": "14f5c933-15ca-4dfc-bc67-a620e3af16f2"
      },
      "outputs": [
        {
          "name": "stdout",
          "output_type": "stream",
          "text": [
            "The area is 15\n"
          ]
        }
      ],
      "source": [
        "# Procedural Programming Example\n",
        "def funame(x, y):\n",
        "  return x+y\n",
        "\n",
        "\n",
        "def main(x, y):\n",
        "  print(funame(x,y))\n",
        "\n",
        "main(5, 10)\n",
        "\n",
        "\n",
        "\n",
        "def calculate_area(length, width):\n",
        "    return length * width\n",
        "\n",
        "\n",
        "\n",
        "def main():\n",
        "    length = 5\n",
        "    width = 3\n",
        "    area = calculate_area(length, width)\n",
        "    print(f\"The area is {area}\")\n",
        "\n",
        "main()\n",
        "\n",
        "\n",
        "\n",
        "\n",
        "\n"
      ]
    },
    {
      "cell_type": "code",
      "execution_count": null,
      "id": "DXoJXSJgRqJY",
      "metadata": {
        "id": "DXoJXSJgRqJY"
      },
      "outputs": [],
      "source": [
        "def main():\n",
        "    length = 5\n",
        "    width = 3\n",
        "    area = calculate_area(length, width)\n",
        "    print(f\"The area is {area}\")"
      ]
    },
    {
      "cell_type": "code",
      "execution_count": null,
      "id": "IlBpk-DdRy6B",
      "metadata": {
        "id": "IlBpk-DdRy6B"
      },
      "outputs": [],
      "source": [
        "def calculate_area(length, width):\n",
        "    return length * width"
      ]
    },
    {
      "cell_type": "code",
      "execution_count": null,
      "id": "0kq7Pn-pRu3v",
      "metadata": {
        "colab": {
          "base_uri": "https://localhost:8080/"
        },
        "id": "0kq7Pn-pRu3v",
        "outputId": "ac8fcf7b-9779-4601-e60d-badeac74511a"
      },
      "outputs": [
        {
          "name": "stdout",
          "output_type": "stream",
          "text": [
            "The area is 15\n"
          ]
        }
      ],
      "source": [
        "main()"
      ]
    },
    {
      "cell_type": "code",
      "execution_count": null,
      "id": "h29_xpe1jvZr",
      "metadata": {
        "id": "h29_xpe1jvZr"
      },
      "outputs": [],
      "source": [
        "# Modular Programming Example\n",
        "\n",
        "# area_calculator.py\n",
        "def calculate_area(length, width):\n",
        "    return length * width\n",
        "\n",
        "\n"
      ]
    },
    {
      "cell_type": "code",
      "execution_count": null,
      "id": "g8rxNFEyj3BB",
      "metadata": {
        "colab": {
          "base_uri": "https://localhost:8080/",
          "height": 387
        },
        "id": "g8rxNFEyj3BB",
        "outputId": "88271298-dd6e-47b6-fef1-3fd21b06b624"
      },
      "outputs": [
        {
          "ename": "ModuleNotFoundError",
          "evalue": "No module named 'area_calculator'",
          "output_type": "error",
          "traceback": [
            "\u001b[0;31m---------------------------------------------------------------------------\u001b[0m",
            "\u001b[0;31mModuleNotFoundError\u001b[0m                       Traceback (most recent call last)",
            "\u001b[0;32m<ipython-input-9-ac39d6f644e1>\u001b[0m in \u001b[0;36m<cell line: 2>\u001b[0;34m()\u001b[0m\n\u001b[1;32m      1\u001b[0m \u001b[0;31m# main_program.py\u001b[0m\u001b[0;34m\u001b[0m\u001b[0;34m\u001b[0m\u001b[0m\n\u001b[0;32m----> 2\u001b[0;31m \u001b[0;32mimport\u001b[0m \u001b[0marea_calculator\u001b[0m\u001b[0;34m\u001b[0m\u001b[0;34m\u001b[0m\u001b[0m\n\u001b[0m\u001b[1;32m      3\u001b[0m \u001b[0;34m\u001b[0m\u001b[0m\n\u001b[1;32m      4\u001b[0m \u001b[0;32mdef\u001b[0m \u001b[0mmain\u001b[0m\u001b[0;34m(\u001b[0m\u001b[0;34m)\u001b[0m\u001b[0;34m:\u001b[0m\u001b[0;34m\u001b[0m\u001b[0;34m\u001b[0m\u001b[0m\n\u001b[1;32m      5\u001b[0m     \u001b[0mlength\u001b[0m \u001b[0;34m=\u001b[0m \u001b[0;36m5\u001b[0m\u001b[0;34m\u001b[0m\u001b[0;34m\u001b[0m\u001b[0m\n",
            "\u001b[0;31mModuleNotFoundError\u001b[0m: No module named 'area_calculator'",
            "",
            "\u001b[0;31m---------------------------------------------------------------------------\u001b[0;32m\nNOTE: If your import is failing due to a missing package, you can\nmanually install dependencies using either !pip or !apt.\n\nTo view examples of installing some common dependencies, click the\n\"Open Examples\" button below.\n\u001b[0;31m---------------------------------------------------------------------------\u001b[0m\n"
          ]
        }
      ],
      "source": [
        "# main_program.py\n",
        "import area_calculator\n",
        "\n",
        "def main():\n",
        "    length = 5\n",
        "    width = 3\n",
        "    area = area_calculator.calculate_area(length, width)\n",
        "    print(f\"The area is {area}\")\n",
        "\n",
        "main()"
      ]
    },
    {
      "cell_type": "markdown",
      "source": [
        "Some module"
      ],
      "metadata": {
        "id": "tmwshZhI4Uej"
      },
      "id": "tmwshZhI4Uej"
    },
    {
      "cell_type": "markdown",
      "id": "OJw9gYbrElhm",
      "metadata": {
        "id": "OJw9gYbrElhm"
      },
      "source": [
        "Time"
      ]
    },
    {
      "cell_type": "code",
      "execution_count": null,
      "id": "UAUQAYAjEC6E",
      "metadata": {
        "colab": {
          "base_uri": "https://localhost:8080/"
        },
        "id": "UAUQAYAjEC6E",
        "outputId": "ba7045f2-efa6-4521-8a98-6a1b3839fd9e"
      },
      "outputs": [
        {
          "name": "stdout",
          "output_type": "stream",
          "text": [
            "1721628724.9306073\n",
            "2024-07-22 06:12:04\n"
          ]
        }
      ],
      "source": [
        "import time\n",
        "\n",
        "# Get current time in seconds since the epoch\n",
        "current_time = time.time() #curent system time since(jann 1 to 1970)\n",
        "print(current_time)\n",
        "\n",
        "# # Wait for 2 seconds\n",
        "# time.sleep(2) # pause the execution\n",
        "\n",
        "# # Format time into a readable string # local time return as struct_time\n",
        "formatted_time = time.strftime(\"%Y-%m-%d %H:%M:%S\", time.localtime(current_time))\n",
        "print(formatted_time)"
      ]
    },
    {
      "cell_type": "markdown",
      "id": "pcLwFMlCEi63",
      "metadata": {
        "id": "pcLwFMlCEi63"
      },
      "source": [
        "DateTime"
      ]
    },
    {
      "cell_type": "code",
      "execution_count": null,
      "id": "raE8K5cCEgp9",
      "metadata": {
        "colab": {
          "base_uri": "https://localhost:8080/"
        },
        "id": "raE8K5cCEgp9",
        "outputId": "f7504221-2bce-4fa6-94f4-24d6f236f095"
      },
      "outputs": [
        {
          "output_type": "stream",
          "name": "stdout",
          "text": [
            "2024-07-31 06:35:37.385431\n",
            "2024-08-05 06:35:37.385431\n",
            "July 31, 2024 06:35:37\n"
          ]
        }
      ],
      "source": [
        "from datetime import datetime, timedelta\n",
        "\n",
        "# Get current date and time\n",
        "now = datetime.now()\n",
        "print(now)\n",
        "#datetime.timedalta return\n",
        "# Add 5 days to the current date\n",
        "future_date = now + timedelta(days=5)\n",
        "print(future_date)\n",
        "\n",
        "# Format datetime object\n",
        "formatted_date = now.strftime(\"%B %d, %Y %H:%M:%S\")\n",
        "print(formatted_date)"
      ]
    },
    {
      "cell_type": "markdown",
      "id": "1MJZ2FxuEzTW",
      "metadata": {
        "id": "1MJZ2FxuEzTW"
      },
      "source": [
        "Calendar"
      ]
    },
    {
      "cell_type": "code",
      "execution_count": null,
      "id": "4suejr5YEyZY",
      "metadata": {
        "colab": {
          "base_uri": "https://localhost:8080/"
        },
        "id": "4suejr5YEyZY",
        "outputId": "1e3a060e-649a-484a-d749-6cdd1f295be4"
      },
      "outputs": [
        {
          "name": "stdout",
          "output_type": "stream",
          "text": [
            "     July 2024\n",
            "Mo Tu We Th Fr Sa Su\n",
            " 1  2  3  4  5  6  7\n",
            " 8  9 10 11 12 13 14\n",
            "15 16 17 18 19 20 21\n",
            "22 23 24 25 26 27 28\n",
            "29 30 31\n",
            "\n",
            "True\n"
          ]
        }
      ],
      "source": [
        "import calendar\n",
        "\n",
        "# Print calendar for the current month\n",
        "print(calendar.month(datetime.now().year, datetime.now().month))\n",
        "\n",
        "# Check if a year is a leap year\n",
        "is_leap = calendar.isleap(2024)\n",
        "print(is_leap)"
      ]
    },
    {
      "cell_type": "markdown",
      "source": [
        "OS module"
      ],
      "metadata": {
        "id": "d27Noa-8v5gs"
      },
      "id": "d27Noa-8v5gs"
    },
    {
      "cell_type": "code",
      "source": [
        "import os\n",
        "\n",
        "# Define the file name\n",
        "file_name = 'sundarpichai.txt'\n",
        "\n",
        "# Create and write to a file\n",
        "with open(file_name, 'w') as file:\n",
        "    file.write(\"Hello, World!\\n\")\n",
        "    file.write(\"This is an example file.\\n\")\n",
        "print(f\"File '{file_name}' created and written to.\")\n",
        "\n",
        "# Read from the file\n",
        "with open(file_name, 'r') as file:\n",
        "    content = file.read()\n",
        "print(f\"Content of '{file_name}':\\n{content}\")\n",
        "\n",
        "# Check if the file exists\n",
        "if os.path.exists(file_name):\n",
        "    print(f\"The file '{file_name}' exists.\")\n",
        "else:\n",
        "    print(f\"The file '{file_name}' does not exist.\")\n",
        "\n",
        "# Delete the file\n",
        "os.remove(file_name)\n",
        "print(f\"File '{file_name}' deleted.\")\n",
        "\n",
        "# Verify the file has been deleted\n",
        "if os.path.exists(file_name):\n",
        "    print(f\"The file '{file_name}' still exists.\")\n",
        "else:\n",
        "    print(f\"The file '{file_name}' has been successfully deleted.\")\n"
      ],
      "metadata": {
        "colab": {
          "base_uri": "https://localhost:8080/"
        },
        "id": "pN2iyU57v4O_",
        "outputId": "04b0b922-a742-42de-9130-ddc89cb6be4f"
      },
      "id": "pN2iyU57v4O_",
      "execution_count": null,
      "outputs": [
        {
          "output_type": "stream",
          "name": "stdout",
          "text": [
            "File 'sundarpichai.txt' created and written to.\n",
            "Content of 'sundarpichai.txt':\n",
            "Hello, World!\n",
            "This is an example file.\n",
            "\n",
            "The file 'sundarpichai.txt' exists.\n",
            "File 'sundarpichai.txt' deleted.\n",
            "The file 'sundarpichai.txt' has been successfully deleted.\n"
          ]
        }
      ]
    },
    {
      "cell_type": "markdown",
      "id": "k3saiIAAFbBY",
      "metadata": {
        "id": "k3saiIAAFbBY"
      },
      "source": [
        "smtplib (for sending emails)for sending email. Pillow (PIL Fork) for image processing . Twiio is cloud communication platform that give API"
      ]
    },
    {
      "cell_type": "markdown",
      "source": [
        "**smtplib** for Sending Emails"
      ],
      "metadata": {
        "id": "4r5EOQnC5G1I"
      },
      "id": "4r5EOQnC5G1I"
    },
    {
      "cell_type": "markdown",
      "source": [
        "Enable Less Secure Apps: If you are using Gmail, you need to enable access for less secure apps. You can do this in your Google Account settings. Alternatively, you can create an App Password for added security.\n",
        "\n",
        "SMTP Server Information:\n",
        "\n",
        "For Gmail: smtp.gmail.com and port 587\n",
        "\n",
        "For Yahoo: smtp.mail.yahoo.com and port 587\n",
        "\n",
        "For Outlook: smtp-mail.outlook.com and port 587"
      ],
      "metadata": {
        "id": "AWNNo0ZX__Jn"
      },
      "id": "AWNNo0ZX__Jn"
    },
    {
      "cell_type": "code",
      "source": [
        "import smtplib\n",
        "from email.mime.multipart import MIMEMultipart\n",
        "from email.mime.text import MIMEText\n",
        "\n",
        "# Email configuration\n",
        "sender_email = \"namastenaman5@gmail.com\"\n",
        "receiver_email = \"216301031@gkv.ac.in\"\n",
        "password = \"Naman@123\"\n",
        "\n",
        "# Create message container\n",
        "msg = MIMEMultipart()\n",
        "msg['From'] = sender_email\n",
        "msg['To'] = receiver_email\n",
        "msg['Subject'] = \"Test Email\"\n",
        "\n",
        "# Email body\n",
        "body = \"This is a test email sent from Python.\"\n",
        "msg.attach(MIMEText(body, 'plain'))\n",
        "\n",
        "# Setup the server\n",
        "server = smtplib.SMTP('smtp.gmail.com', 587)\n",
        "server.starttls()\n",
        "\n",
        "# Login to the email account\n",
        "server.login(sender_email, password)\n",
        "\n",
        "# Send the email\n",
        "server.sendmail(sender_email, receiver_email, msg.as_string())\n",
        "\n",
        "# Close the server connection\n",
        "server.quit()\n",
        "\n",
        "print(\"Email sent successfully!\")\n"
      ],
      "metadata": {
        "id": "wwTg8zcj5Dra",
        "colab": {
          "base_uri": "https://localhost:8080/",
          "height": 373
        },
        "outputId": "20cb2920-91d4-43b8-daaf-b9be7e5c917c"
      },
      "id": "wwTg8zcj5Dra",
      "execution_count": null,
      "outputs": [
        {
          "output_type": "error",
          "ename": "SMTPAuthenticationError",
          "evalue": "(535, b'5.7.8 Username and Password not accepted. For more information, go to\\n5.7.8  https://support.google.com/mail/?p=BadCredentials 71dfb90a1353d-4f6c867b220sm1602652e0c.6 - gsmtp')",
          "traceback": [
            "\u001b[0;31m---------------------------------------------------------------------------\u001b[0m",
            "\u001b[0;31mSMTPAuthenticationError\u001b[0m                   Traceback (most recent call last)",
            "\u001b[0;32m<ipython-input-3-d5a7853d8f5f>\u001b[0m in \u001b[0;36m<cell line: 25>\u001b[0;34m()\u001b[0m\n\u001b[1;32m     23\u001b[0m \u001b[0;34m\u001b[0m\u001b[0m\n\u001b[1;32m     24\u001b[0m \u001b[0;31m# Login to the email account\u001b[0m\u001b[0;34m\u001b[0m\u001b[0;34m\u001b[0m\u001b[0m\n\u001b[0;32m---> 25\u001b[0;31m \u001b[0mserver\u001b[0m\u001b[0;34m.\u001b[0m\u001b[0mlogin\u001b[0m\u001b[0;34m(\u001b[0m\u001b[0msender_email\u001b[0m\u001b[0;34m,\u001b[0m \u001b[0mpassword\u001b[0m\u001b[0;34m)\u001b[0m\u001b[0;34m\u001b[0m\u001b[0;34m\u001b[0m\u001b[0m\n\u001b[0m\u001b[1;32m     26\u001b[0m \u001b[0;34m\u001b[0m\u001b[0m\n\u001b[1;32m     27\u001b[0m \u001b[0;31m# Send the email\u001b[0m\u001b[0;34m\u001b[0m\u001b[0;34m\u001b[0m\u001b[0m\n",
            "\u001b[0;32m/usr/lib/python3.10/smtplib.py\u001b[0m in \u001b[0;36mlogin\u001b[0;34m(self, user, password, initial_response_ok)\u001b[0m\n\u001b[1;32m    748\u001b[0m \u001b[0;34m\u001b[0m\u001b[0m\n\u001b[1;32m    749\u001b[0m         \u001b[0;31m# We could not login successfully.  Return result of last attempt.\u001b[0m\u001b[0;34m\u001b[0m\u001b[0;34m\u001b[0m\u001b[0m\n\u001b[0;32m--> 750\u001b[0;31m         \u001b[0;32mraise\u001b[0m \u001b[0mlast_exception\u001b[0m\u001b[0;34m\u001b[0m\u001b[0;34m\u001b[0m\u001b[0m\n\u001b[0m\u001b[1;32m    751\u001b[0m \u001b[0;34m\u001b[0m\u001b[0m\n\u001b[1;32m    752\u001b[0m     \u001b[0;32mdef\u001b[0m \u001b[0mstarttls\u001b[0m\u001b[0;34m(\u001b[0m\u001b[0mself\u001b[0m\u001b[0;34m,\u001b[0m \u001b[0mkeyfile\u001b[0m\u001b[0;34m=\u001b[0m\u001b[0;32mNone\u001b[0m\u001b[0;34m,\u001b[0m \u001b[0mcertfile\u001b[0m\u001b[0;34m=\u001b[0m\u001b[0;32mNone\u001b[0m\u001b[0;34m,\u001b[0m \u001b[0mcontext\u001b[0m\u001b[0;34m=\u001b[0m\u001b[0;32mNone\u001b[0m\u001b[0;34m)\u001b[0m\u001b[0;34m:\u001b[0m\u001b[0;34m\u001b[0m\u001b[0;34m\u001b[0m\u001b[0m\n",
            "\u001b[0;32m/usr/lib/python3.10/smtplib.py\u001b[0m in \u001b[0;36mlogin\u001b[0;34m(self, user, password, initial_response_ok)\u001b[0m\n\u001b[1;32m    737\u001b[0m             \u001b[0mmethod_name\u001b[0m \u001b[0;34m=\u001b[0m \u001b[0;34m'auth_'\u001b[0m \u001b[0;34m+\u001b[0m \u001b[0mauthmethod\u001b[0m\u001b[0;34m.\u001b[0m\u001b[0mlower\u001b[0m\u001b[0;34m(\u001b[0m\u001b[0;34m)\u001b[0m\u001b[0;34m.\u001b[0m\u001b[0mreplace\u001b[0m\u001b[0;34m(\u001b[0m\u001b[0;34m'-'\u001b[0m\u001b[0;34m,\u001b[0m \u001b[0;34m'_'\u001b[0m\u001b[0;34m)\u001b[0m\u001b[0;34m\u001b[0m\u001b[0;34m\u001b[0m\u001b[0m\n\u001b[1;32m    738\u001b[0m             \u001b[0;32mtry\u001b[0m\u001b[0;34m:\u001b[0m\u001b[0;34m\u001b[0m\u001b[0;34m\u001b[0m\u001b[0m\n\u001b[0;32m--> 739\u001b[0;31m                 (code, resp) = self.auth(\n\u001b[0m\u001b[1;32m    740\u001b[0m                     \u001b[0mauthmethod\u001b[0m\u001b[0;34m,\u001b[0m \u001b[0mgetattr\u001b[0m\u001b[0;34m(\u001b[0m\u001b[0mself\u001b[0m\u001b[0;34m,\u001b[0m \u001b[0mmethod_name\u001b[0m\u001b[0;34m)\u001b[0m\u001b[0;34m,\u001b[0m\u001b[0;34m\u001b[0m\u001b[0;34m\u001b[0m\u001b[0m\n\u001b[1;32m    741\u001b[0m                     initial_response_ok=initial_response_ok)\n",
            "\u001b[0;32m/usr/lib/python3.10/smtplib.py\u001b[0m in \u001b[0;36mauth\u001b[0;34m(self, mechanism, authobject, initial_response_ok)\u001b[0m\n\u001b[1;32m    660\u001b[0m         \u001b[0;32mif\u001b[0m \u001b[0mcode\u001b[0m \u001b[0;32min\u001b[0m \u001b[0;34m(\u001b[0m\u001b[0;36m235\u001b[0m\u001b[0;34m,\u001b[0m \u001b[0;36m503\u001b[0m\u001b[0;34m)\u001b[0m\u001b[0;34m:\u001b[0m\u001b[0;34m\u001b[0m\u001b[0;34m\u001b[0m\u001b[0m\n\u001b[1;32m    661\u001b[0m             \u001b[0;32mreturn\u001b[0m \u001b[0;34m(\u001b[0m\u001b[0mcode\u001b[0m\u001b[0;34m,\u001b[0m \u001b[0mresp\u001b[0m\u001b[0;34m)\u001b[0m\u001b[0;34m\u001b[0m\u001b[0;34m\u001b[0m\u001b[0m\n\u001b[0;32m--> 662\u001b[0;31m         \u001b[0;32mraise\u001b[0m \u001b[0mSMTPAuthenticationError\u001b[0m\u001b[0;34m(\u001b[0m\u001b[0mcode\u001b[0m\u001b[0;34m,\u001b[0m \u001b[0mresp\u001b[0m\u001b[0;34m)\u001b[0m\u001b[0;34m\u001b[0m\u001b[0;34m\u001b[0m\u001b[0m\n\u001b[0m\u001b[1;32m    663\u001b[0m \u001b[0;34m\u001b[0m\u001b[0m\n\u001b[1;32m    664\u001b[0m     \u001b[0;32mdef\u001b[0m \u001b[0mauth_cram_md5\u001b[0m\u001b[0;34m(\u001b[0m\u001b[0mself\u001b[0m\u001b[0;34m,\u001b[0m \u001b[0mchallenge\u001b[0m\u001b[0;34m=\u001b[0m\u001b[0;32mNone\u001b[0m\u001b[0;34m)\u001b[0m\u001b[0;34m:\u001b[0m\u001b[0;34m\u001b[0m\u001b[0;34m\u001b[0m\u001b[0m\n",
            "\u001b[0;31mSMTPAuthenticationError\u001b[0m: (535, b'5.7.8 Username and Password not accepted. For more information, go to\\n5.7.8  https://support.google.com/mail/?p=BadCredentials 71dfb90a1353d-4f6c867b220sm1602652e0c.6 - gsmtp')"
          ]
        }
      ]
    },
    {
      "cell_type": "markdown",
      "source": [
        "**Pillow** for Image Processing"
      ],
      "metadata": {
        "id": "oC3RDEtw5UC8"
      },
      "id": "oC3RDEtw5UC8"
    },
    {
      "cell_type": "code",
      "source": [
        "from PIL import Image, ImageFilter\n",
        "\n",
        "# Open an image file\n",
        "image = Image.open(\"WhatsApp Image 2024-02-06 at 20.35.49_675035c5.jpg\")\n",
        "\n",
        "# Apply a filter to the image\n",
        "blurred_image = image.filter(ImageFilter.BLUR)\n",
        "\n",
        "# Save the filtered image\n",
        "blurred_image.save(\"blurred_example.jpg\")\n",
        "\n",
        "print(\"Image processing completed and saved as 'blurred_example.jpg'.\")\n"
      ],
      "metadata": {
        "colab": {
          "base_uri": "https://localhost:8080/",
          "height": 332
        },
        "id": "Q7Ppg3sY5Vqu",
        "outputId": "73859db1-171b-4467-cdae-ae5bb7043f78"
      },
      "id": "Q7Ppg3sY5Vqu",
      "execution_count": null,
      "outputs": [
        {
          "output_type": "error",
          "ename": "TypeError",
          "evalue": "filter argument should be ImageFilter.Filter instance or class",
          "traceback": [
            "\u001b[0;31m---------------------------------------------------------------------------\u001b[0m",
            "\u001b[0;31mTypeError\u001b[0m                                 Traceback (most recent call last)",
            "\u001b[0;32m<ipython-input-4-2b130966b9f8>\u001b[0m in \u001b[0;36m<cell line: 7>\u001b[0;34m()\u001b[0m\n\u001b[1;32m      5\u001b[0m \u001b[0;34m\u001b[0m\u001b[0m\n\u001b[1;32m      6\u001b[0m \u001b[0;31m# Apply a filter to the image\u001b[0m\u001b[0;34m\u001b[0m\u001b[0;34m\u001b[0m\u001b[0m\n\u001b[0;32m----> 7\u001b[0;31m \u001b[0mblurred_image\u001b[0m \u001b[0;34m=\u001b[0m \u001b[0mimage\u001b[0m\u001b[0;34m.\u001b[0m\u001b[0mfilter\u001b[0m\u001b[0;34m(\u001b[0m\u001b[0mImage\u001b[0m\u001b[0;34m)\u001b[0m\u001b[0;34m\u001b[0m\u001b[0;34m\u001b[0m\u001b[0m\n\u001b[0m\u001b[1;32m      8\u001b[0m \u001b[0;34m\u001b[0m\u001b[0m\n\u001b[1;32m      9\u001b[0m \u001b[0;31m# Save the filtered image\u001b[0m\u001b[0;34m\u001b[0m\u001b[0;34m\u001b[0m\u001b[0m\n",
            "\u001b[0;32m/usr/local/lib/python3.10/dist-packages/PIL/Image.py\u001b[0m in \u001b[0;36mfilter\u001b[0;34m(self, filter)\u001b[0m\n\u001b[1;32m   1299\u001b[0m         \u001b[0;32mif\u001b[0m \u001b[0;32mnot\u001b[0m \u001b[0mhasattr\u001b[0m\u001b[0;34m(\u001b[0m\u001b[0mfilter\u001b[0m\u001b[0;34m,\u001b[0m \u001b[0;34m\"filter\"\u001b[0m\u001b[0;34m)\u001b[0m\u001b[0;34m:\u001b[0m\u001b[0;34m\u001b[0m\u001b[0;34m\u001b[0m\u001b[0m\n\u001b[1;32m   1300\u001b[0m             \u001b[0mmsg\u001b[0m \u001b[0;34m=\u001b[0m \u001b[0;34m\"filter argument should be ImageFilter.Filter instance or class\"\u001b[0m\u001b[0;34m\u001b[0m\u001b[0;34m\u001b[0m\u001b[0m\n\u001b[0;32m-> 1301\u001b[0;31m             \u001b[0;32mraise\u001b[0m \u001b[0mTypeError\u001b[0m\u001b[0;34m(\u001b[0m\u001b[0mmsg\u001b[0m\u001b[0;34m)\u001b[0m\u001b[0;34m\u001b[0m\u001b[0;34m\u001b[0m\u001b[0m\n\u001b[0m\u001b[1;32m   1302\u001b[0m \u001b[0;34m\u001b[0m\u001b[0m\n\u001b[1;32m   1303\u001b[0m         \u001b[0mmultiband\u001b[0m \u001b[0;34m=\u001b[0m \u001b[0misinstance\u001b[0m\u001b[0;34m(\u001b[0m\u001b[0mfilter\u001b[0m\u001b[0;34m,\u001b[0m \u001b[0mImageFilter\u001b[0m\u001b[0;34m.\u001b[0m\u001b[0mMultibandFilter\u001b[0m\u001b[0;34m)\u001b[0m\u001b[0;34m\u001b[0m\u001b[0;34m\u001b[0m\u001b[0m\n",
            "\u001b[0;31mTypeError\u001b[0m: filter argument should be ImageFilter.Filter instance or class"
          ]
        }
      ]
    },
    {
      "cell_type": "code",
      "source": [
        "from PIL import Image, ImageFilter\n",
        "\n",
        "# Open an image file\n",
        "image = Image.open(\"WhatsApp Image 2024-02-06 at 20.35.49_675035c5.jpg\")\n",
        "\n",
        "# Save the image to a different file without any filters\n",
        "image.save(\"new_image.jpg\")  # Change the filename here\n",
        "\n",
        "print(\"Image saved as 'new_image.jpg'.\")"
      ],
      "metadata": {
        "id": "1622IH1QoWNM",
        "outputId": "ca750f1a-d647-4d5e-ef9a-22e89b778c0c",
        "colab": {
          "base_uri": "https://localhost:8080/"
        }
      },
      "id": "1622IH1QoWNM",
      "execution_count": null,
      "outputs": [
        {
          "output_type": "stream",
          "name": "stdout",
          "text": [
            "Image saved as 'new_image.jpg'.\n"
          ]
        }
      ]
    },
    {
      "cell_type": "markdown",
      "source": [
        "**Twilio** for Sending Messages"
      ],
      "metadata": {
        "id": "ZOv0nREi57cP"
      },
      "id": "ZOv0nREi57cP"
    },
    {
      "cell_type": "markdown",
      "source": [
        "Twilio Account: You need to sign up for a Twilio account if you don't already have one. You can sign up at Twilio.\n",
        "\n",
        "Account SID and Auth Token: After signing up and logging in to your Twilio account, you'll find your Account SID and Auth Token on the Twilio Console Dashboard.\n",
        "\n",
        "Twilio Phone Number: You'll need a Twilio phone number to send messages. You can buy one from the Twilio Console. This number will be used as the from_ number in the code.\n",
        "\n",
        "Recipient Phone Number: This is the phone number to which you want to send the SMS.\n",
        "\n",
        "Twilio Python Library: Ensure you have the Twilio Python library installed. You can install it using pip if you haven't already."
      ],
      "metadata": {
        "id": "dCp7pxyG_lr_"
      },
      "id": "dCp7pxyG_lr_"
    },
    {
      "cell_type": "code",
      "source": [
        "from twilio.rest import Client\n",
        "\n",
        "# Twilio configuration\n",
        "account_sid = 'your_account_sid'\n",
        "auth_token = 'your_auth_token'\n",
        "twilio_phone_number = '+1234567890'\n",
        "recipient_phone_number = '+0987654321'\n",
        "\n",
        "# Create a client\n",
        "client = Client(account_sid, auth_token)\n",
        "\n",
        "# Send a message\n",
        "message = client.messages.create(\n",
        "    body=\"Hello from Twilio!\",\n",
        "    from_=twilio_phone_number,\n",
        "    to=recipient_phone_number\n",
        ")\n",
        "\n",
        "print(f\"Message sent with SID: {message.sid}\")\n"
      ],
      "metadata": {
        "id": "UjCTIX6B589O"
      },
      "id": "UjCTIX6B589O",
      "execution_count": null,
      "outputs": []
    },
    {
      "cell_type": "markdown",
      "source": [
        "\n",
        "Tkinter:\n",
        "\n",
        "Tkinter is a Python library for creating GUI applications. It provides a set of widgets and tools to build desktop applications with a native GUI look and feel. Tkinter is Python's de-facto standard GUI (Graphical User Interface) package.\n",
        "\n",
        "\n",
        "\n",
        "Widget:\n",
        "\n",
        "In programming, a widget is a graphical user interface (GUI) component that provides a specific functionality or displays information to the user. Widgets can be buttons, labels, text boxes, dropdown menus, sliders, and more. They are the building blocks of a GUI application, allowing users to interact with the program.\n",
        "\n",
        "\n",
        "Tkinter widgets include:\n",
        "\n",
        "- Buttons\n",
        "- Labels\n",
        "- Text boxes\n",
        "- Checkboxes\n",
        "- Radio buttons\n",
        "- Dropdown menus\n",
        "- Sliders\n",
        "- Frames\n",
        "- Canvas\n",
        "\n",
        "Tkinter allows you to:\n",
        "\n",
        "- Create windows and dialog boxes\n",
        "- Add widgets to windows\n",
        "- Configure widget properties (e.g., text, color, size)\n",
        "- Handle user events (e.g., button clicks, key presses)\n",
        "- Layout widgets using various geometry managers (pack, grid, place)\n",
        "\n",
        "Tkinter is easy to use, flexible, and suitable for rapid prototyping and development of GUI applications.\n",
        "\n",
        "Here's a simple Tkinter example:\n",
        "\n",
        "import tkinter as tk\n",
        "\n",
        "root = (link unavailable)()\n",
        "\n",
        "label = tk.Label(root, text=\"Hello, World!\")\n",
        "\n",
        "label.pack()\n",
        "\n",
        "root.mainloop()\n",
        "\n",
        " \"Hello, World!\"."
      ],
      "metadata": {
        "id": "KeoFbu7W9A2Y"
      },
      "id": "KeoFbu7W9A2Y"
    },
    {
      "cell_type": "markdown",
      "source": [
        "\n",
        "**Importing Tkinte**r\n",
        "\n",
        "\n",
        "import tkinter as tk\n",
        "\n",
        "\n",
        "**Creating a Window**\n",
        "\n",
        "\n",
        "root = (link unavailable)()\n",
        "root.title(\"My First Window\")\n",
        "root.geometry(\"300x200\")\n",
        "\n",
        "**Widgets**\n",
        "\n",
        "- Label: tk.Label(root, text=\"Hello, World!\")\n",
        "- Button: tk.Button(root, text=\"Click Me!\", command=lambda: print(\"Button clicked!\"))\n",
        "- Entry: tk.Entry(root)\n",
        "- Text: tk.Text(root, height=10, width=30)\n",
        "- Frame: tk.Frame(root, bg=\"red\")\n",
        "\n",
        "**Layout Management**\n",
        "\n",
        "- Pack: widget.pack()\n",
        "- Grid: widget.grid(row=0, column=0)\n",
        "- Place: widget.place(x=10, y=10)\n",
        "\n",
        "**Events and Bindings**\n",
        "\n",
        "- Button click: button.config(command=lambda: print(\"Button clicked!\"))\n",
        "- Key press: root.bind(\"<Key>\", lambda event: print(\"Key pressed!\"))\n",
        "- Mouse click: root.bind(\"<Button-1>\", lambda event: print(\"Mouse clicked!\"))\n",
        "\n",
        "**Running the Application**\n",
        "\n",
        "\n",
        "root.mainloop()\n",
        "\n",
        "\n",
        "This is a basic overview of Tkinter. You can create complex GUI applications using these building blocks."
      ],
      "metadata": {
        "id": "CC8VxD6l9jju"
      },
      "id": "CC8VxD6l9jju"
    },
    {
      "cell_type": "code",
      "source": [],
      "metadata": {
        "id": "BMa35IuH-V8h"
      },
      "id": "BMa35IuH-V8h",
      "execution_count": null,
      "outputs": []
    },
    {
      "cell_type": "markdown",
      "source": [
        "\n",
        "1. Creating a Window\n",
        "\n",
        "import tkinter as tk\n",
        "\n",
        "root = (link unavailable)()\n",
        "\n",
        "root.title(\"My First Window\")\n",
        "\n",
        "root.geometry(\"300x200\")\n",
        "\n",
        "root.mainloop()\n",
        "\n",
        "\n",
        "2. Label Widget\n",
        "\n",
        "import tkinter as tk\n",
        "\n",
        "root = (link unavailable)()\n",
        "\n",
        "root.title(\"Label Example\")\n",
        "\n",
        "label = tk.Label(root, text=\"Hello, World!\")\n",
        "label.pack()\n",
        "\n",
        "root.mainloop()\n",
        "\n",
        "\n",
        "3. Button Widget\n",
        "\n",
        "import tkinter as tk\n",
        "\n",
        "root = (link unavailable)()\n",
        "\n",
        "root.title(\"Button Example\")\n",
        "\n",
        "def button_clicked():\n",
        "    print(\"Button clicked!\")\n",
        "\n",
        "button = tk.Button(root, text=\"Click Me!\", command=button_clicked)\n",
        "\n",
        "button.pack()\n",
        "\n",
        "root.mainloop()\n",
        "\n",
        "\n",
        "4. Entry Widget\n",
        "\n",
        "import tkinter as tk\n",
        "\n",
        "root = (link unavailable)()\n",
        "\n",
        "root.title(\"Entry Example\")\n",
        "\n",
        "entry = tk.Entry(root)\n",
        "\n",
        "entry.pack()\n",
        "\n",
        "root.mainloop()\n",
        "\n",
        "\n",
        "5. Text Widget\n",
        "\n",
        "import tkinter as tk\n",
        "\n",
        "root = (link unavailable)()\n",
        "\n",
        "root.title(\"Text Example\")\n",
        "\n",
        "text = tk.Text(root, height=10, width=30)\n",
        "\n",
        "text.pack()\n",
        "\n",
        "root.mainloop()\n",
        "\n",
        "\n",
        "6. Frame Widget\n",
        "\n",
        "import tkinter as tk\n",
        "\n",
        "root = (link unavailable)()\n",
        "\n",
        "root.title(\"Frame Example\")\n",
        "\n",
        "frame = tk.Frame(root, bg=\"red\")\n",
        "\n",
        "frame.pack()\n",
        "\n",
        "root.mainloop()\n",
        "\n",
        "\n",
        "7. Layout Management - Pack\n",
        "\n",
        "import tkinter as tk\n",
        "\n",
        "root = (link unavailable)()\n",
        "\n",
        "root.title(\"Pack Example\")\n",
        "\n",
        "label = tk.Label(root, text=\"Hello, World!\")\n",
        "label.pack()\n",
        "\n",
        "button = tk.Button(root, text=\"Click Me!\")\n",
        "button.pack()\n",
        "\n",
        "root.mainloop()\n",
        "\n",
        "\n",
        "8. Layout Management - Grid\n",
        "\n",
        "import tkinter as tk\n",
        "\n",
        "root = (link unavailable)()\n",
        "\n",
        "root.title(\"Grid Example\")\n",
        "\n",
        "label = tk.Label(root, text=\"Hello, World!\")\n",
        "\n",
        "label.grid(row=0, column=0)\n",
        "\n",
        "button = tk.Button(root, text=\"Click Me!\")\n",
        "button.grid(row=1, column=1)\n",
        "\n",
        "root.mainloop()\n",
        "\n",
        "\n",
        "9. Layout Management - Place\n",
        "\n",
        "import tkinter as tk\n",
        "\n",
        "root = (link unavailable)()\n",
        "\n",
        "root.title(\"Place Example\")\n",
        "\n",
        "label = tk.Label(root, text=\"Hello, World!\")\n",
        "\n",
        "label.place(x=10, y=10)\n",
        "\n",
        "button = tk.Button(root, text=\"Click Me!\")\n",
        "\n",
        "button.place(x=50, y=50)\n",
        "\n",
        "root.mainloop()\n",
        "\n",
        "\n",
        "10. Events and Bindings - Button Click\n",
        "\n",
        "import tkinter as tk\n",
        "\n",
        "root = (link unavailable)()\n",
        "\n",
        "root.title(\"Button Click Example\")\n",
        "\n",
        "def button_clicked():\n",
        "    print(\"Button clicked!\")\n",
        "\n",
        "button = tk.Button(root, text=\"Click Me!\", command=button_clicked)\n",
        "\n",
        "button.pack()\n",
        "\n",
        "root.mainloop()"
      ],
      "metadata": {
        "id": "Q-8ehdYZ-WqC"
      },
      "id": "Q-8ehdYZ-WqC"
    },
    {
      "cell_type": "code",
      "execution_count": null,
      "id": "PRYiL44lKMXW",
      "metadata": {
        "colab": {
          "base_uri": "https://localhost:8080/",
          "height": 332
        },
        "id": "PRYiL44lKMXW",
        "outputId": "551f012d-957f-482c-f63c-f94412e4d417"
      },
      "outputs": [
        {
          "ename": "TclError",
          "evalue": "no display name and no $DISPLAY environment variable",
          "output_type": "error",
          "traceback": [
            "\u001b[0;31m---------------------------------------------------------------------------\u001b[0m",
            "\u001b[0;31mTclError\u001b[0m                                  Traceback (most recent call last)",
            "\u001b[0;32m<ipython-input-63-128ca078fa0d>\u001b[0m in \u001b[0;36m<cell line: 4>\u001b[0;34m()\u001b[0m\n\u001b[1;32m      2\u001b[0m \u001b[0;34m\u001b[0m\u001b[0m\n\u001b[1;32m      3\u001b[0m \u001b[0;31m# Create main window\u001b[0m\u001b[0;34m\u001b[0m\u001b[0;34m\u001b[0m\u001b[0m\n\u001b[0;32m----> 4\u001b[0;31m \u001b[0mwindow\u001b[0m \u001b[0;34m=\u001b[0m \u001b[0mtk\u001b[0m\u001b[0;34m.\u001b[0m\u001b[0mTk\u001b[0m\u001b[0;34m(\u001b[0m\u001b[0;34m)\u001b[0m\u001b[0;34m\u001b[0m\u001b[0;34m\u001b[0m\u001b[0m\n\u001b[0m\u001b[1;32m      5\u001b[0m \u001b[0mwindow\u001b[0m\u001b[0;34m.\u001b[0m\u001b[0mtitle\u001b[0m\u001b[0;34m(\u001b[0m\u001b[0;34m\"My Tkinter App\"\u001b[0m\u001b[0;34m)\u001b[0m\u001b[0;34m\u001b[0m\u001b[0;34m\u001b[0m\u001b[0m\n\u001b[1;32m      6\u001b[0m \u001b[0;34m\u001b[0m\u001b[0m\n",
            "\u001b[0;32m/usr/lib/python3.10/tkinter/__init__.py\u001b[0m in \u001b[0;36m__init__\u001b[0;34m(self, screenName, baseName, className, useTk, sync, use)\u001b[0m\n\u001b[1;32m   2297\u001b[0m                 \u001b[0mbaseName\u001b[0m \u001b[0;34m=\u001b[0m \u001b[0mbaseName\u001b[0m \u001b[0;34m+\u001b[0m \u001b[0mext\u001b[0m\u001b[0;34m\u001b[0m\u001b[0;34m\u001b[0m\u001b[0m\n\u001b[1;32m   2298\u001b[0m         \u001b[0minteractive\u001b[0m \u001b[0;34m=\u001b[0m \u001b[0;32mFalse\u001b[0m\u001b[0;34m\u001b[0m\u001b[0;34m\u001b[0m\u001b[0m\n\u001b[0;32m-> 2299\u001b[0;31m         \u001b[0mself\u001b[0m\u001b[0;34m.\u001b[0m\u001b[0mtk\u001b[0m \u001b[0;34m=\u001b[0m \u001b[0m_tkinter\u001b[0m\u001b[0;34m.\u001b[0m\u001b[0mcreate\u001b[0m\u001b[0;34m(\u001b[0m\u001b[0mscreenName\u001b[0m\u001b[0;34m,\u001b[0m \u001b[0mbaseName\u001b[0m\u001b[0;34m,\u001b[0m \u001b[0mclassName\u001b[0m\u001b[0;34m,\u001b[0m \u001b[0minteractive\u001b[0m\u001b[0;34m,\u001b[0m \u001b[0mwantobjects\u001b[0m\u001b[0;34m,\u001b[0m \u001b[0museTk\u001b[0m\u001b[0;34m,\u001b[0m \u001b[0msync\u001b[0m\u001b[0;34m,\u001b[0m \u001b[0muse\u001b[0m\u001b[0;34m)\u001b[0m\u001b[0;34m\u001b[0m\u001b[0;34m\u001b[0m\u001b[0m\n\u001b[0m\u001b[1;32m   2300\u001b[0m         \u001b[0;32mif\u001b[0m \u001b[0museTk\u001b[0m\u001b[0;34m:\u001b[0m\u001b[0;34m\u001b[0m\u001b[0;34m\u001b[0m\u001b[0m\n\u001b[1;32m   2301\u001b[0m             \u001b[0mself\u001b[0m\u001b[0;34m.\u001b[0m\u001b[0m_loadtk\u001b[0m\u001b[0;34m(\u001b[0m\u001b[0;34m)\u001b[0m\u001b[0;34m\u001b[0m\u001b[0;34m\u001b[0m\u001b[0m\n",
            "\u001b[0;31mTclError\u001b[0m: no display name and no $DISPLAY environment variable"
          ]
        }
      ],
      "source": [
        "import tkinter as tk\n",
        "\n",
        "# Create main window\n",
        "window = tk.Tk()\n",
        "window.title(\"My Tkinter App\")\n",
        "\n",
        "# Create a label\n",
        "label = tk.Label(window, text=\"Hello, Tkinter!\")\n",
        "label.pack()\n",
        "\n",
        "# Create a button\n",
        "def button_click():\n",
        "    print(\"Button clicked!\")\n",
        "\n",
        "button = tk.Button(window, text=\"Click Me\", command=button_click)\n",
        "button.pack()\n",
        "\n",
        "# Run the GUI\n",
        "window.mainloop()"
      ]
    },
    {
      "cell_type": "code",
      "execution_count": null,
      "id": "Lf4GUr3_HC_X",
      "metadata": {
        "colab": {
          "base_uri": "https://localhost:8080/"
        },
        "id": "Lf4GUr3_HC_X",
        "outputId": "f201555b-c2c1-45d3-89e0-7407b5f19815"
      },
      "outputs": [
        {
          "name": "stdout",
          "output_type": "stream",
          "text": [
            "Collecting mysql-connector-python\n",
            "  Downloading mysql_connector_python-9.0.0-cp310-cp310-manylinux_2_17_x86_64.whl (19.3 MB)\n",
            "\u001b[2K     \u001b[90m━━━━━━━━━━━━━━━━━━━━━━━━━━━━━━━━━━━━━━━━\u001b[0m \u001b[32m19.3/19.3 MB\u001b[0m \u001b[31m55.3 MB/s\u001b[0m eta \u001b[36m0:00:00\u001b[0m\n",
            "\u001b[?25hInstalling collected packages: mysql-connector-python\n",
            "Successfully installed mysql-connector-python-9.0.0\n"
          ]
        }
      ],
      "source": [
        "!pip install mysql-connector-python"
      ]
    },
    {
      "cell_type": "code",
      "execution_count": null,
      "id": "sETa6yBFHKMO",
      "metadata": {
        "colab": {
          "base_uri": "https://localhost:8080/"
        },
        "id": "sETa6yBFHKMO",
        "outputId": "0dddad1f-7f7d-4049-9954-d07a6c588ba8"
      },
      "outputs": [
        {
          "name": "stdout",
          "output_type": "stream",
          "text": [
            "<sqlite3.Cursor object at 0x7d8a64105f40>\n",
            "(3, 'Alice', 'Smith', '123 Main St', 'Anytown')\n",
            "(4, 'Bob', 'Johnson', None, 'Otherville')\n"
          ]
        }
      ],
      "source": [
        "import sqlite3\n",
        "\n",
        "# Connect to the database (creates a new file if it doesn't exist)\n",
        "conn = sqlite3.connect('my_database.db')\n",
        "cursor = conn.cursor()\n",
        "print(cursor)\n",
        "# Create a table\n",
        "cursor.execute('''CREATE TABLE persons2 (PersonID int, LastName varchar(255),FirstName varchar(255),Address varchar(255), City varchar(255) );''')\n",
        "\n",
        "# Insert data, providing values for all columns or using NULL for missing values\n",
        "cursor.execute(\"INSERT INTO persons2 VALUES (3, 'Alice', 'Smith', '123 Main St', 'Anytown')\")\n",
        "cursor.execute(\"INSERT INTO persons2 VALUES (4, 'Bob', 'Johnson', NULL, 'Otherville')\") # Use NULL for unknown address\n",
        "conn.commit()  # Save changes\n",
        "\n",
        "# Fetch data\n",
        "cursor.execute(\"SELECT * FROM persons2\")\n",
        "rows = cursor.fetchall()\n",
        "for row in rows:\n",
        "    print(row)\n",
        "\n",
        "# Close the connection\n",
        "conn.close()"
      ]
    },
    {
      "cell_type": "code",
      "execution_count": null,
      "id": "iYfiL4slIuvq",
      "metadata": {
        "colab": {
          "base_uri": "https://localhost:8080/"
        },
        "id": "iYfiL4slIuvq",
        "outputId": "f0b144fb-2191-4134-99e5-dcbff1df1172"
      },
      "outputs": [
        {
          "name": "stdout",
          "output_type": "stream",
          "text": [
            "('Alice', 'HR')\n",
            "('Bob', 'Engineering')\n",
            "('Alice', 'HR')\n",
            "('Bob', 'Engineering')\n"
          ]
        }
      ],
      "source": [
        "cursor.execute(\"SELECT name, department FROM employees;\")\n",
        "#SELECT * FROM employees;#SELECT * FROM employees WHERE department = 'Engineering';\n",
        "#SELECT * FROM employees ORDER BY name ASC;  -- Ascending order\n",
        "#SELECT * FROM employees LIMIT 5;\n",
        "#INSERT INTO employees (name, department) VALUES ('Charlie', 'Sales');\n",
        "#UPDATE employees SET department = 'Marketing' WHERE name = 'Bob';\n",
        "#DELETE FROM employees WHERE id = 1;\n",
        "#SELECT COUNT(*) FROM employees;\n",
        "#SELECT AVG(salary) FROM employees;  -- Assuming you have a 'salary' column\n",
        "#SELECT MAX(salary) FROM employees;\n",
        "rows = cursor.fetchall()\n",
        "for row in rows:\n",
        "    print(row)"
      ]
    }
  ],
  "metadata": {
    "colab": {
      "provenance": [],
      "include_colab_link": true
    },
    "kernelspec": {
      "display_name": "Python 3",
      "name": "python3"
    },
    "language_info": {
      "codemirror_mode": {
        "name": "ipython",
        "version": 3
      },
      "file_extension": ".py",
      "mimetype": "text/x-python",
      "name": "python",
      "nbconvert_exporter": "python",
      "pygments_lexer": "ipython3",
      "version": "3.8.5"
    }
  },
  "nbformat": 4,
  "nbformat_minor": 5
}